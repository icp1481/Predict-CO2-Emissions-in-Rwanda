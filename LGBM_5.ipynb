{
 "cells": [
  {
   "cell_type": "markdown",
   "metadata": {
    "id": "wFlnB05YpUEu"
   },
   "source": [
    "# Setting"
   ]
  },
  {
   "cell_type": "code",
   "execution_count": 529,
   "metadata": {
    "colab": {
     "base_uri": "https://localhost:8080/"
    },
    "executionInfo": {
     "elapsed": 2352,
     "status": "ok",
     "timestamp": 1692675875505,
     "user": {
      "displayName": "Lee Minjik",
      "userId": "03992121075759719709"
     },
     "user_tz": -540
    },
    "id": "Vu5PSjZzqfvw",
    "outputId": "f4f3d1a9-0987-4aa5-e29c-60471f13fbe7"
   },
   "outputs": [
    {
     "name": "stdout",
     "output_type": "stream",
     "text": [
      "Drive already mounted at /content/drive; to attempt to forcibly remount, call drive.mount(\"/content/drive\", force_remount=True).\n"
     ]
    }
   ],
   "source": [
    "from google.colab import drive\n",
    "drive.mount('/content/drive')"
   ]
  },
  {
   "cell_type": "code",
   "execution_count": 530,
   "metadata": {
    "executionInfo": {
     "elapsed": 15,
     "status": "ok",
     "timestamp": 1692675875505,
     "user": {
      "displayName": "Lee Minjik",
      "userId": "03992121075759719709"
     },
     "user_tz": -540
    },
    "id": "bM2GN73epQVv"
   },
   "outputs": [],
   "source": [
    "import pandas as pd\n",
    "import numpy as np\n",
    "\n",
    "from xgboost import XGBRegressor\n",
    "from lightgbm import LGBMRegressor\n",
    "from sklearn.ensemble import RandomForestRegressor\n",
    "\n",
    "from sklearn.metrics import mean_squared_error\n",
    "from sklearn.model_selection import KFold\n",
    "from sklearn.model_selection import cross_val_score\n",
    "from sklearn.preprocessing import LabelEncoder\n",
    "\n",
    "import matplotlib.pyplot as plt\n",
    "import seaborn as sns\n",
    "import plotly.graph_objects as go\n",
    "import plotly.express as px\n",
    "from plotly.subplots import make_subplots\n",
    "\n",
    "import warnings\n",
    "warnings.filterwarnings(action='ignore')\n",
    "\n",
    "\n",
    "FONT_COLOR = \"#545454\"\n",
    "BACKGROUND_COLOR = \"#FFFCFA\""
   ]
  },
  {
   "cell_type": "code",
   "execution_count": 531,
   "metadata": {
    "colab": {
     "base_uri": "https://localhost:8080/"
    },
    "executionInfo": {
     "elapsed": 1241,
     "status": "ok",
     "timestamp": 1692675876739,
     "user": {
      "displayName": "Lee Minjik",
      "userId": "03992121075759719709"
     },
     "user_tz": -540
    },
    "id": "h5loRfb5pdds",
    "outputId": "5b894900-784c-482a-f02f-7fd67fb56027"
   },
   "outputs": [
    {
     "data": {
      "text/plain": [
       "((79023, 76), (24353, 75), (24353, 2), (497, 3))"
      ]
     },
     "execution_count": 531,
     "metadata": {},
     "output_type": "execute_result"
    }
   ],
   "source": [
    "data_path = '/content/drive/MyDrive/DS/CO2/data/'\n",
    "\n",
    "train = pd.read_csv(data_path + 'train.csv')\n",
    "test = pd.read_csv(data_path + 'test.csv')\n",
    "submission = pd.read_csv(data_path + 'sample_submission.csv')\n",
    "country_df = pd.read_csv(data_path + 'country.csv')\n",
    "\n",
    "train.shape, test.shape, submission.shape, country_df.shape"
   ]
  },
  {
   "cell_type": "code",
   "execution_count": 532,
   "metadata": {
    "colab": {
     "base_uri": "https://localhost:8080/",
     "height": 0
    },
    "executionInfo": {
     "elapsed": 68,
     "status": "ok",
     "timestamp": 1692675876740,
     "user": {
      "displayName": "Lee Minjik",
      "userId": "03992121075759719709"
     },
     "user_tz": -540
    },
    "id": "Og44l37Cp7AH",
    "outputId": "df0cd10a-285d-42e3-e25d-7afad75a7dae"
   },
   "outputs": [
    {
     "data": {
      "text/html": [
       "\n",
       "  <div id=\"df-eb1e27ec-2c59-4c9c-9aea-e2846c1d4f63\" class=\"colab-df-container\">\n",
       "    <div>\n",
       "<style scoped>\n",
       "    .dataframe tbody tr th:only-of-type {\n",
       "        vertical-align: middle;\n",
       "    }\n",
       "\n",
       "    .dataframe tbody tr th {\n",
       "        vertical-align: top;\n",
       "    }\n",
       "\n",
       "    .dataframe thead th {\n",
       "        text-align: right;\n",
       "    }\n",
       "</style>\n",
       "<table border=\"1\" class=\"dataframe\">\n",
       "  <thead>\n",
       "    <tr style=\"text-align: right;\">\n",
       "      <th></th>\n",
       "      <th>ID_LAT_LON_YEAR_WEEK</th>\n",
       "      <th>latitude</th>\n",
       "      <th>longitude</th>\n",
       "      <th>year</th>\n",
       "      <th>week_no</th>\n",
       "      <th>SulphurDioxide_SO2_column_number_density</th>\n",
       "      <th>SulphurDioxide_SO2_column_number_density_amf</th>\n",
       "      <th>SulphurDioxide_SO2_slant_column_number_density</th>\n",
       "      <th>SulphurDioxide_cloud_fraction</th>\n",
       "      <th>SulphurDioxide_sensor_azimuth_angle</th>\n",
       "      <th>...</th>\n",
       "      <th>Cloud_cloud_top_height</th>\n",
       "      <th>Cloud_cloud_base_pressure</th>\n",
       "      <th>Cloud_cloud_base_height</th>\n",
       "      <th>Cloud_cloud_optical_depth</th>\n",
       "      <th>Cloud_surface_albedo</th>\n",
       "      <th>Cloud_sensor_azimuth_angle</th>\n",
       "      <th>Cloud_sensor_zenith_angle</th>\n",
       "      <th>Cloud_solar_azimuth_angle</th>\n",
       "      <th>Cloud_solar_zenith_angle</th>\n",
       "      <th>emission</th>\n",
       "    </tr>\n",
       "  </thead>\n",
       "  <tbody>\n",
       "    <tr>\n",
       "      <th>0</th>\n",
       "      <td>ID_-0.510_29.290_2019_00</td>\n",
       "      <td>-0.51</td>\n",
       "      <td>29.29</td>\n",
       "      <td>2019</td>\n",
       "      <td>0</td>\n",
       "      <td>-0.000108</td>\n",
       "      <td>0.603019</td>\n",
       "      <td>-0.000065</td>\n",
       "      <td>0.255668</td>\n",
       "      <td>-98.593887</td>\n",
       "      <td>...</td>\n",
       "      <td>3664.436218</td>\n",
       "      <td>61085.809570</td>\n",
       "      <td>2615.120483</td>\n",
       "      <td>15.568533</td>\n",
       "      <td>0.272292</td>\n",
       "      <td>-12.628986</td>\n",
       "      <td>35.632416</td>\n",
       "      <td>-138.786423</td>\n",
       "      <td>30.752140</td>\n",
       "      <td>3.750994</td>\n",
       "    </tr>\n",
       "    <tr>\n",
       "      <th>1</th>\n",
       "      <td>ID_-0.510_29.290_2019_01</td>\n",
       "      <td>-0.51</td>\n",
       "      <td>29.29</td>\n",
       "      <td>2019</td>\n",
       "      <td>1</td>\n",
       "      <td>0.000021</td>\n",
       "      <td>0.728214</td>\n",
       "      <td>0.000014</td>\n",
       "      <td>0.130988</td>\n",
       "      <td>16.592861</td>\n",
       "      <td>...</td>\n",
       "      <td>3651.190311</td>\n",
       "      <td>66969.478735</td>\n",
       "      <td>3174.572424</td>\n",
       "      <td>8.690601</td>\n",
       "      <td>0.256830</td>\n",
       "      <td>30.359375</td>\n",
       "      <td>39.557633</td>\n",
       "      <td>-145.183930</td>\n",
       "      <td>27.251779</td>\n",
       "      <td>4.025176</td>\n",
       "    </tr>\n",
       "    <tr>\n",
       "      <th>2</th>\n",
       "      <td>ID_-0.510_29.290_2019_02</td>\n",
       "      <td>-0.51</td>\n",
       "      <td>29.29</td>\n",
       "      <td>2019</td>\n",
       "      <td>2</td>\n",
       "      <td>0.000514</td>\n",
       "      <td>0.748199</td>\n",
       "      <td>0.000385</td>\n",
       "      <td>0.110018</td>\n",
       "      <td>72.795837</td>\n",
       "      <td>...</td>\n",
       "      <td>4216.986492</td>\n",
       "      <td>60068.894448</td>\n",
       "      <td>3516.282669</td>\n",
       "      <td>21.103410</td>\n",
       "      <td>0.251101</td>\n",
       "      <td>15.377883</td>\n",
       "      <td>30.401823</td>\n",
       "      <td>-142.519545</td>\n",
       "      <td>26.193296</td>\n",
       "      <td>4.231381</td>\n",
       "    </tr>\n",
       "    <tr>\n",
       "      <th>3</th>\n",
       "      <td>ID_-0.510_29.290_2019_03</td>\n",
       "      <td>-0.51</td>\n",
       "      <td>29.29</td>\n",
       "      <td>2019</td>\n",
       "      <td>3</td>\n",
       "      <td>NaN</td>\n",
       "      <td>NaN</td>\n",
       "      <td>NaN</td>\n",
       "      <td>NaN</td>\n",
       "      <td>NaN</td>\n",
       "      <td>...</td>\n",
       "      <td>5228.507736</td>\n",
       "      <td>51064.547339</td>\n",
       "      <td>4180.973322</td>\n",
       "      <td>15.386899</td>\n",
       "      <td>0.262043</td>\n",
       "      <td>-11.293399</td>\n",
       "      <td>24.380357</td>\n",
       "      <td>-132.665828</td>\n",
       "      <td>28.829155</td>\n",
       "      <td>4.305286</td>\n",
       "    </tr>\n",
       "    <tr>\n",
       "      <th>4</th>\n",
       "      <td>ID_-0.510_29.290_2019_04</td>\n",
       "      <td>-0.51</td>\n",
       "      <td>29.29</td>\n",
       "      <td>2019</td>\n",
       "      <td>4</td>\n",
       "      <td>-0.000079</td>\n",
       "      <td>0.676296</td>\n",
       "      <td>-0.000048</td>\n",
       "      <td>0.121164</td>\n",
       "      <td>4.121269</td>\n",
       "      <td>...</td>\n",
       "      <td>3980.598120</td>\n",
       "      <td>63751.125781</td>\n",
       "      <td>3355.710107</td>\n",
       "      <td>8.114694</td>\n",
       "      <td>0.235847</td>\n",
       "      <td>38.532263</td>\n",
       "      <td>37.392979</td>\n",
       "      <td>-141.509805</td>\n",
       "      <td>22.204612</td>\n",
       "      <td>4.347317</td>\n",
       "    </tr>\n",
       "  </tbody>\n",
       "</table>\n",
       "<p>5 rows × 76 columns</p>\n",
       "</div>\n",
       "    <div class=\"colab-df-buttons\">\n",
       "\n",
       "  <div class=\"colab-df-container\">\n",
       "    <button class=\"colab-df-convert\" onclick=\"convertToInteractive('df-eb1e27ec-2c59-4c9c-9aea-e2846c1d4f63')\"\n",
       "            title=\"Convert this dataframe to an interactive table.\"\n",
       "            style=\"display:none;\">\n",
       "\n",
       "  <svg xmlns=\"http://www.w3.org/2000/svg\" height=\"24px\" viewBox=\"0 -960 960 960\">\n",
       "    <path d=\"M120-120v-720h720v720H120Zm60-500h600v-160H180v160Zm220 220h160v-160H400v160Zm0 220h160v-160H400v160ZM180-400h160v-160H180v160Zm440 0h160v-160H620v160ZM180-180h160v-160H180v160Zm440 0h160v-160H620v160Z\"/>\n",
       "  </svg>\n",
       "    </button>\n",
       "\n",
       "  <style>\n",
       "    .colab-df-container {\n",
       "      display:flex;\n",
       "      gap: 12px;\n",
       "    }\n",
       "\n",
       "    .colab-df-convert {\n",
       "      background-color: #E8F0FE;\n",
       "      border: none;\n",
       "      border-radius: 50%;\n",
       "      cursor: pointer;\n",
       "      display: none;\n",
       "      fill: #1967D2;\n",
       "      height: 32px;\n",
       "      padding: 0 0 0 0;\n",
       "      width: 32px;\n",
       "    }\n",
       "\n",
       "    .colab-df-convert:hover {\n",
       "      background-color: #E2EBFA;\n",
       "      box-shadow: 0px 1px 2px rgba(60, 64, 67, 0.3), 0px 1px 3px 1px rgba(60, 64, 67, 0.15);\n",
       "      fill: #174EA6;\n",
       "    }\n",
       "\n",
       "    .colab-df-buttons div {\n",
       "      margin-bottom: 4px;\n",
       "    }\n",
       "\n",
       "    [theme=dark] .colab-df-convert {\n",
       "      background-color: #3B4455;\n",
       "      fill: #D2E3FC;\n",
       "    }\n",
       "\n",
       "    [theme=dark] .colab-df-convert:hover {\n",
       "      background-color: #434B5C;\n",
       "      box-shadow: 0px 1px 3px 1px rgba(0, 0, 0, 0.15);\n",
       "      filter: drop-shadow(0px 1px 2px rgba(0, 0, 0, 0.3));\n",
       "      fill: #FFFFFF;\n",
       "    }\n",
       "  </style>\n",
       "\n",
       "    <script>\n",
       "      const buttonEl =\n",
       "        document.querySelector('#df-eb1e27ec-2c59-4c9c-9aea-e2846c1d4f63 button.colab-df-convert');\n",
       "      buttonEl.style.display =\n",
       "        google.colab.kernel.accessAllowed ? 'block' : 'none';\n",
       "\n",
       "      async function convertToInteractive(key) {\n",
       "        const element = document.querySelector('#df-eb1e27ec-2c59-4c9c-9aea-e2846c1d4f63');\n",
       "        const dataTable =\n",
       "          await google.colab.kernel.invokeFunction('convertToInteractive',\n",
       "                                                    [key], {});\n",
       "        if (!dataTable) return;\n",
       "\n",
       "        const docLinkHtml = 'Like what you see? Visit the ' +\n",
       "          '<a target=\"_blank\" href=https://colab.research.google.com/notebooks/data_table.ipynb>data table notebook</a>'\n",
       "          + ' to learn more about interactive tables.';\n",
       "        element.innerHTML = '';\n",
       "        dataTable['output_type'] = 'display_data';\n",
       "        await google.colab.output.renderOutput(dataTable, element);\n",
       "        const docLink = document.createElement('div');\n",
       "        docLink.innerHTML = docLinkHtml;\n",
       "        element.appendChild(docLink);\n",
       "      }\n",
       "    </script>\n",
       "  </div>\n",
       "\n",
       "\n",
       "<div id=\"df-14121bd2-cd53-4137-a8a9-aa2b68734479\">\n",
       "  <button class=\"colab-df-quickchart\" onclick=\"quickchart('df-14121bd2-cd53-4137-a8a9-aa2b68734479')\"\n",
       "            title=\"Suggest charts.\"\n",
       "            style=\"display:none;\">\n",
       "\n",
       "<svg xmlns=\"http://www.w3.org/2000/svg\" height=\"24px\"viewBox=\"0 0 24 24\"\n",
       "     width=\"24px\">\n",
       "    <g>\n",
       "        <path d=\"M19 3H5c-1.1 0-2 .9-2 2v14c0 1.1.9 2 2 2h14c1.1 0 2-.9 2-2V5c0-1.1-.9-2-2-2zM9 17H7v-7h2v7zm4 0h-2V7h2v10zm4 0h-2v-4h2v4z\"/>\n",
       "    </g>\n",
       "</svg>\n",
       "  </button>\n",
       "\n",
       "<style>\n",
       "  .colab-df-quickchart {\n",
       "    background-color: #E8F0FE;\n",
       "    border: none;\n",
       "    border-radius: 50%;\n",
       "    cursor: pointer;\n",
       "    display: none;\n",
       "    fill: #1967D2;\n",
       "    height: 32px;\n",
       "    padding: 0 0 0 0;\n",
       "    width: 32px;\n",
       "  }\n",
       "\n",
       "  .colab-df-quickchart:hover {\n",
       "    background-color: #E2EBFA;\n",
       "    box-shadow: 0px 1px 2px rgba(60, 64, 67, 0.3), 0px 1px 3px 1px rgba(60, 64, 67, 0.15);\n",
       "    fill: #174EA6;\n",
       "  }\n",
       "\n",
       "  [theme=dark] .colab-df-quickchart {\n",
       "    background-color: #3B4455;\n",
       "    fill: #D2E3FC;\n",
       "  }\n",
       "\n",
       "  [theme=dark] .colab-df-quickchart:hover {\n",
       "    background-color: #434B5C;\n",
       "    box-shadow: 0px 1px 3px 1px rgba(0, 0, 0, 0.15);\n",
       "    filter: drop-shadow(0px 1px 2px rgba(0, 0, 0, 0.3));\n",
       "    fill: #FFFFFF;\n",
       "  }\n",
       "</style>\n",
       "\n",
       "  <script>\n",
       "    async function quickchart(key) {\n",
       "      const charts = await google.colab.kernel.invokeFunction(\n",
       "          'suggestCharts', [key], {});\n",
       "    }\n",
       "    (() => {\n",
       "      let quickchartButtonEl =\n",
       "        document.querySelector('#df-14121bd2-cd53-4137-a8a9-aa2b68734479 button');\n",
       "      quickchartButtonEl.style.display =\n",
       "        google.colab.kernel.accessAllowed ? 'block' : 'none';\n",
       "    })();\n",
       "  </script>\n",
       "</div>\n",
       "    </div>\n",
       "  </div>\n"
      ],
      "text/plain": [
       "       ID_LAT_LON_YEAR_WEEK  latitude  longitude  year  week_no  \\\n",
       "0  ID_-0.510_29.290_2019_00     -0.51      29.29  2019        0   \n",
       "1  ID_-0.510_29.290_2019_01     -0.51      29.29  2019        1   \n",
       "2  ID_-0.510_29.290_2019_02     -0.51      29.29  2019        2   \n",
       "3  ID_-0.510_29.290_2019_03     -0.51      29.29  2019        3   \n",
       "4  ID_-0.510_29.290_2019_04     -0.51      29.29  2019        4   \n",
       "\n",
       "   SulphurDioxide_SO2_column_number_density  \\\n",
       "0                                 -0.000108   \n",
       "1                                  0.000021   \n",
       "2                                  0.000514   \n",
       "3                                       NaN   \n",
       "4                                 -0.000079   \n",
       "\n",
       "   SulphurDioxide_SO2_column_number_density_amf  \\\n",
       "0                                      0.603019   \n",
       "1                                      0.728214   \n",
       "2                                      0.748199   \n",
       "3                                           NaN   \n",
       "4                                      0.676296   \n",
       "\n",
       "   SulphurDioxide_SO2_slant_column_number_density  \\\n",
       "0                                       -0.000065   \n",
       "1                                        0.000014   \n",
       "2                                        0.000385   \n",
       "3                                             NaN   \n",
       "4                                       -0.000048   \n",
       "\n",
       "   SulphurDioxide_cloud_fraction  SulphurDioxide_sensor_azimuth_angle  ...  \\\n",
       "0                       0.255668                           -98.593887  ...   \n",
       "1                       0.130988                            16.592861  ...   \n",
       "2                       0.110018                            72.795837  ...   \n",
       "3                            NaN                                  NaN  ...   \n",
       "4                       0.121164                             4.121269  ...   \n",
       "\n",
       "   Cloud_cloud_top_height  Cloud_cloud_base_pressure  Cloud_cloud_base_height  \\\n",
       "0             3664.436218               61085.809570              2615.120483   \n",
       "1             3651.190311               66969.478735              3174.572424   \n",
       "2             4216.986492               60068.894448              3516.282669   \n",
       "3             5228.507736               51064.547339              4180.973322   \n",
       "4             3980.598120               63751.125781              3355.710107   \n",
       "\n",
       "   Cloud_cloud_optical_depth  Cloud_surface_albedo  \\\n",
       "0                  15.568533              0.272292   \n",
       "1                   8.690601              0.256830   \n",
       "2                  21.103410              0.251101   \n",
       "3                  15.386899              0.262043   \n",
       "4                   8.114694              0.235847   \n",
       "\n",
       "   Cloud_sensor_azimuth_angle  Cloud_sensor_zenith_angle  \\\n",
       "0                  -12.628986                  35.632416   \n",
       "1                   30.359375                  39.557633   \n",
       "2                   15.377883                  30.401823   \n",
       "3                  -11.293399                  24.380357   \n",
       "4                   38.532263                  37.392979   \n",
       "\n",
       "   Cloud_solar_azimuth_angle  Cloud_solar_zenith_angle  emission  \n",
       "0                -138.786423                 30.752140  3.750994  \n",
       "1                -145.183930                 27.251779  4.025176  \n",
       "2                -142.519545                 26.193296  4.231381  \n",
       "3                -132.665828                 28.829155  4.305286  \n",
       "4                -141.509805                 22.204612  4.347317  \n",
       "\n",
       "[5 rows x 76 columns]"
      ]
     },
     "execution_count": 532,
     "metadata": {},
     "output_type": "execute_result"
    }
   ],
   "source": [
    "train.head()"
   ]
  },
  {
   "cell_type": "code",
   "execution_count": 533,
   "metadata": {
    "colab": {
     "base_uri": "https://localhost:8080/",
     "height": 0
    },
    "executionInfo": {
     "elapsed": 68,
     "status": "ok",
     "timestamp": 1692675876743,
     "user": {
      "displayName": "Lee Minjik",
      "userId": "03992121075759719709"
     },
     "user_tz": -540
    },
    "id": "TzA37-HoqV2E",
    "outputId": "9b775add-20b1-447d-a5b3-b620dc1ca661"
   },
   "outputs": [
    {
     "data": {
      "text/html": [
       "\n",
       "  <div id=\"df-5df2cbcc-5d5b-492a-bb68-c54a3a4f21c7\" class=\"colab-df-container\">\n",
       "    <div>\n",
       "<style scoped>\n",
       "    .dataframe tbody tr th:only-of-type {\n",
       "        vertical-align: middle;\n",
       "    }\n",
       "\n",
       "    .dataframe tbody tr th {\n",
       "        vertical-align: top;\n",
       "    }\n",
       "\n",
       "    .dataframe thead th {\n",
       "        text-align: right;\n",
       "    }\n",
       "</style>\n",
       "<table border=\"1\" class=\"dataframe\">\n",
       "  <thead>\n",
       "    <tr style=\"text-align: right;\">\n",
       "      <th></th>\n",
       "      <th>ID_LAT_LON_YEAR_WEEK</th>\n",
       "      <th>emission</th>\n",
       "    </tr>\n",
       "  </thead>\n",
       "  <tbody>\n",
       "    <tr>\n",
       "      <th>0</th>\n",
       "      <td>ID_-0.510_29.290_2022_00</td>\n",
       "      <td>81.94</td>\n",
       "    </tr>\n",
       "    <tr>\n",
       "      <th>1</th>\n",
       "      <td>ID_-0.510_29.290_2022_01</td>\n",
       "      <td>81.94</td>\n",
       "    </tr>\n",
       "    <tr>\n",
       "      <th>2</th>\n",
       "      <td>ID_-0.510_29.290_2022_02</td>\n",
       "      <td>81.94</td>\n",
       "    </tr>\n",
       "    <tr>\n",
       "      <th>3</th>\n",
       "      <td>ID_-0.510_29.290_2022_03</td>\n",
       "      <td>81.94</td>\n",
       "    </tr>\n",
       "    <tr>\n",
       "      <th>4</th>\n",
       "      <td>ID_-0.510_29.290_2022_04</td>\n",
       "      <td>81.94</td>\n",
       "    </tr>\n",
       "  </tbody>\n",
       "</table>\n",
       "</div>\n",
       "    <div class=\"colab-df-buttons\">\n",
       "\n",
       "  <div class=\"colab-df-container\">\n",
       "    <button class=\"colab-df-convert\" onclick=\"convertToInteractive('df-5df2cbcc-5d5b-492a-bb68-c54a3a4f21c7')\"\n",
       "            title=\"Convert this dataframe to an interactive table.\"\n",
       "            style=\"display:none;\">\n",
       "\n",
       "  <svg xmlns=\"http://www.w3.org/2000/svg\" height=\"24px\" viewBox=\"0 -960 960 960\">\n",
       "    <path d=\"M120-120v-720h720v720H120Zm60-500h600v-160H180v160Zm220 220h160v-160H400v160Zm0 220h160v-160H400v160ZM180-400h160v-160H180v160Zm440 0h160v-160H620v160ZM180-180h160v-160H180v160Zm440 0h160v-160H620v160Z\"/>\n",
       "  </svg>\n",
       "    </button>\n",
       "\n",
       "  <style>\n",
       "    .colab-df-container {\n",
       "      display:flex;\n",
       "      gap: 12px;\n",
       "    }\n",
       "\n",
       "    .colab-df-convert {\n",
       "      background-color: #E8F0FE;\n",
       "      border: none;\n",
       "      border-radius: 50%;\n",
       "      cursor: pointer;\n",
       "      display: none;\n",
       "      fill: #1967D2;\n",
       "      height: 32px;\n",
       "      padding: 0 0 0 0;\n",
       "      width: 32px;\n",
       "    }\n",
       "\n",
       "    .colab-df-convert:hover {\n",
       "      background-color: #E2EBFA;\n",
       "      box-shadow: 0px 1px 2px rgba(60, 64, 67, 0.3), 0px 1px 3px 1px rgba(60, 64, 67, 0.15);\n",
       "      fill: #174EA6;\n",
       "    }\n",
       "\n",
       "    .colab-df-buttons div {\n",
       "      margin-bottom: 4px;\n",
       "    }\n",
       "\n",
       "    [theme=dark] .colab-df-convert {\n",
       "      background-color: #3B4455;\n",
       "      fill: #D2E3FC;\n",
       "    }\n",
       "\n",
       "    [theme=dark] .colab-df-convert:hover {\n",
       "      background-color: #434B5C;\n",
       "      box-shadow: 0px 1px 3px 1px rgba(0, 0, 0, 0.15);\n",
       "      filter: drop-shadow(0px 1px 2px rgba(0, 0, 0, 0.3));\n",
       "      fill: #FFFFFF;\n",
       "    }\n",
       "  </style>\n",
       "\n",
       "    <script>\n",
       "      const buttonEl =\n",
       "        document.querySelector('#df-5df2cbcc-5d5b-492a-bb68-c54a3a4f21c7 button.colab-df-convert');\n",
       "      buttonEl.style.display =\n",
       "        google.colab.kernel.accessAllowed ? 'block' : 'none';\n",
       "\n",
       "      async function convertToInteractive(key) {\n",
       "        const element = document.querySelector('#df-5df2cbcc-5d5b-492a-bb68-c54a3a4f21c7');\n",
       "        const dataTable =\n",
       "          await google.colab.kernel.invokeFunction('convertToInteractive',\n",
       "                                                    [key], {});\n",
       "        if (!dataTable) return;\n",
       "\n",
       "        const docLinkHtml = 'Like what you see? Visit the ' +\n",
       "          '<a target=\"_blank\" href=https://colab.research.google.com/notebooks/data_table.ipynb>data table notebook</a>'\n",
       "          + ' to learn more about interactive tables.';\n",
       "        element.innerHTML = '';\n",
       "        dataTable['output_type'] = 'display_data';\n",
       "        await google.colab.output.renderOutput(dataTable, element);\n",
       "        const docLink = document.createElement('div');\n",
       "        docLink.innerHTML = docLinkHtml;\n",
       "        element.appendChild(docLink);\n",
       "      }\n",
       "    </script>\n",
       "  </div>\n",
       "\n",
       "\n",
       "<div id=\"df-2e7d644e-f5ff-4668-bb77-6845ce737970\">\n",
       "  <button class=\"colab-df-quickchart\" onclick=\"quickchart('df-2e7d644e-f5ff-4668-bb77-6845ce737970')\"\n",
       "            title=\"Suggest charts.\"\n",
       "            style=\"display:none;\">\n",
       "\n",
       "<svg xmlns=\"http://www.w3.org/2000/svg\" height=\"24px\"viewBox=\"0 0 24 24\"\n",
       "     width=\"24px\">\n",
       "    <g>\n",
       "        <path d=\"M19 3H5c-1.1 0-2 .9-2 2v14c0 1.1.9 2 2 2h14c1.1 0 2-.9 2-2V5c0-1.1-.9-2-2-2zM9 17H7v-7h2v7zm4 0h-2V7h2v10zm4 0h-2v-4h2v4z\"/>\n",
       "    </g>\n",
       "</svg>\n",
       "  </button>\n",
       "\n",
       "<style>\n",
       "  .colab-df-quickchart {\n",
       "    background-color: #E8F0FE;\n",
       "    border: none;\n",
       "    border-radius: 50%;\n",
       "    cursor: pointer;\n",
       "    display: none;\n",
       "    fill: #1967D2;\n",
       "    height: 32px;\n",
       "    padding: 0 0 0 0;\n",
       "    width: 32px;\n",
       "  }\n",
       "\n",
       "  .colab-df-quickchart:hover {\n",
       "    background-color: #E2EBFA;\n",
       "    box-shadow: 0px 1px 2px rgba(60, 64, 67, 0.3), 0px 1px 3px 1px rgba(60, 64, 67, 0.15);\n",
       "    fill: #174EA6;\n",
       "  }\n",
       "\n",
       "  [theme=dark] .colab-df-quickchart {\n",
       "    background-color: #3B4455;\n",
       "    fill: #D2E3FC;\n",
       "  }\n",
       "\n",
       "  [theme=dark] .colab-df-quickchart:hover {\n",
       "    background-color: #434B5C;\n",
       "    box-shadow: 0px 1px 3px 1px rgba(0, 0, 0, 0.15);\n",
       "    filter: drop-shadow(0px 1px 2px rgba(0, 0, 0, 0.3));\n",
       "    fill: #FFFFFF;\n",
       "  }\n",
       "</style>\n",
       "\n",
       "  <script>\n",
       "    async function quickchart(key) {\n",
       "      const charts = await google.colab.kernel.invokeFunction(\n",
       "          'suggestCharts', [key], {});\n",
       "    }\n",
       "    (() => {\n",
       "      let quickchartButtonEl =\n",
       "        document.querySelector('#df-2e7d644e-f5ff-4668-bb77-6845ce737970 button');\n",
       "      quickchartButtonEl.style.display =\n",
       "        google.colab.kernel.accessAllowed ? 'block' : 'none';\n",
       "    })();\n",
       "  </script>\n",
       "</div>\n",
       "    </div>\n",
       "  </div>\n"
      ],
      "text/plain": [
       "       ID_LAT_LON_YEAR_WEEK  emission\n",
       "0  ID_-0.510_29.290_2022_00     81.94\n",
       "1  ID_-0.510_29.290_2022_01     81.94\n",
       "2  ID_-0.510_29.290_2022_02     81.94\n",
       "3  ID_-0.510_29.290_2022_03     81.94\n",
       "4  ID_-0.510_29.290_2022_04     81.94"
      ]
     },
     "execution_count": 533,
     "metadata": {},
     "output_type": "execute_result"
    }
   ],
   "source": [
    "submission.head()"
   ]
  },
  {
   "cell_type": "code",
   "execution_count": 534,
   "metadata": {
    "colab": {
     "base_uri": "https://localhost:8080/",
     "height": 0
    },
    "executionInfo": {
     "elapsed": 66,
     "status": "ok",
     "timestamp": 1692675876745,
     "user": {
      "displayName": "Lee Minjik",
      "userId": "03992121075759719709"
     },
     "user_tz": -540
    },
    "id": "IspA2i7Iq-pi",
    "outputId": "3dc723c2-3867-4502-a504-f17bdcae1ce0"
   },
   "outputs": [
    {
     "data": {
      "text/html": [
       "\n",
       "  <div id=\"df-8bfdcf1b-9e78-4961-b110-b441eb611f07\" class=\"colab-df-container\">\n",
       "    <div>\n",
       "<style scoped>\n",
       "    .dataframe tbody tr th:only-of-type {\n",
       "        vertical-align: middle;\n",
       "    }\n",
       "\n",
       "    .dataframe tbody tr th {\n",
       "        vertical-align: top;\n",
       "    }\n",
       "\n",
       "    .dataframe thead th {\n",
       "        text-align: right;\n",
       "    }\n",
       "</style>\n",
       "<table border=\"1\" class=\"dataframe\">\n",
       "  <thead>\n",
       "    <tr style=\"text-align: right;\">\n",
       "      <th></th>\n",
       "      <th>ID_LAT_LON_YEAR_WEEK</th>\n",
       "      <th>latitude</th>\n",
       "      <th>longitude</th>\n",
       "      <th>year</th>\n",
       "      <th>week_no</th>\n",
       "      <th>emission</th>\n",
       "    </tr>\n",
       "  </thead>\n",
       "  <tbody>\n",
       "    <tr>\n",
       "      <th>0</th>\n",
       "      <td>ID_-0.510_29.290_2019_00</td>\n",
       "      <td>-0.510</td>\n",
       "      <td>29.290</td>\n",
       "      <td>2019</td>\n",
       "      <td>0</td>\n",
       "      <td>3.750994</td>\n",
       "    </tr>\n",
       "    <tr>\n",
       "      <th>1</th>\n",
       "      <td>ID_-0.510_29.290_2019_01</td>\n",
       "      <td>-0.510</td>\n",
       "      <td>29.290</td>\n",
       "      <td>2019</td>\n",
       "      <td>1</td>\n",
       "      <td>4.025176</td>\n",
       "    </tr>\n",
       "    <tr>\n",
       "      <th>2</th>\n",
       "      <td>ID_-0.510_29.290_2019_02</td>\n",
       "      <td>-0.510</td>\n",
       "      <td>29.290</td>\n",
       "      <td>2019</td>\n",
       "      <td>2</td>\n",
       "      <td>4.231381</td>\n",
       "    </tr>\n",
       "    <tr>\n",
       "      <th>3</th>\n",
       "      <td>ID_-0.510_29.290_2019_03</td>\n",
       "      <td>-0.510</td>\n",
       "      <td>29.290</td>\n",
       "      <td>2019</td>\n",
       "      <td>3</td>\n",
       "      <td>4.305286</td>\n",
       "    </tr>\n",
       "    <tr>\n",
       "      <th>4</th>\n",
       "      <td>ID_-0.510_29.290_2019_04</td>\n",
       "      <td>-0.510</td>\n",
       "      <td>29.290</td>\n",
       "      <td>2019</td>\n",
       "      <td>4</td>\n",
       "      <td>4.347317</td>\n",
       "    </tr>\n",
       "    <tr>\n",
       "      <th>...</th>\n",
       "      <td>...</td>\n",
       "      <td>...</td>\n",
       "      <td>...</td>\n",
       "      <td>...</td>\n",
       "      <td>...</td>\n",
       "      <td>...</td>\n",
       "    </tr>\n",
       "    <tr>\n",
       "      <th>103371</th>\n",
       "      <td>ID_-3.299_30.301_2022_44</td>\n",
       "      <td>-3.299</td>\n",
       "      <td>30.301</td>\n",
       "      <td>2022</td>\n",
       "      <td>44</td>\n",
       "      <td>NaN</td>\n",
       "    </tr>\n",
       "    <tr>\n",
       "      <th>103372</th>\n",
       "      <td>ID_-3.299_30.301_2022_45</td>\n",
       "      <td>-3.299</td>\n",
       "      <td>30.301</td>\n",
       "      <td>2022</td>\n",
       "      <td>45</td>\n",
       "      <td>NaN</td>\n",
       "    </tr>\n",
       "    <tr>\n",
       "      <th>103373</th>\n",
       "      <td>ID_-3.299_30.301_2022_46</td>\n",
       "      <td>-3.299</td>\n",
       "      <td>30.301</td>\n",
       "      <td>2022</td>\n",
       "      <td>46</td>\n",
       "      <td>NaN</td>\n",
       "    </tr>\n",
       "    <tr>\n",
       "      <th>103374</th>\n",
       "      <td>ID_-3.299_30.301_2022_47</td>\n",
       "      <td>-3.299</td>\n",
       "      <td>30.301</td>\n",
       "      <td>2022</td>\n",
       "      <td>47</td>\n",
       "      <td>NaN</td>\n",
       "    </tr>\n",
       "    <tr>\n",
       "      <th>103375</th>\n",
       "      <td>ID_-3.299_30.301_2022_48</td>\n",
       "      <td>-3.299</td>\n",
       "      <td>30.301</td>\n",
       "      <td>2022</td>\n",
       "      <td>48</td>\n",
       "      <td>NaN</td>\n",
       "    </tr>\n",
       "  </tbody>\n",
       "</table>\n",
       "<p>103376 rows × 6 columns</p>\n",
       "</div>\n",
       "    <div class=\"colab-df-buttons\">\n",
       "\n",
       "  <div class=\"colab-df-container\">\n",
       "    <button class=\"colab-df-convert\" onclick=\"convertToInteractive('df-8bfdcf1b-9e78-4961-b110-b441eb611f07')\"\n",
       "            title=\"Convert this dataframe to an interactive table.\"\n",
       "            style=\"display:none;\">\n",
       "\n",
       "  <svg xmlns=\"http://www.w3.org/2000/svg\" height=\"24px\" viewBox=\"0 -960 960 960\">\n",
       "    <path d=\"M120-120v-720h720v720H120Zm60-500h600v-160H180v160Zm220 220h160v-160H400v160Zm0 220h160v-160H400v160ZM180-400h160v-160H180v160Zm440 0h160v-160H620v160ZM180-180h160v-160H180v160Zm440 0h160v-160H620v160Z\"/>\n",
       "  </svg>\n",
       "    </button>\n",
       "\n",
       "  <style>\n",
       "    .colab-df-container {\n",
       "      display:flex;\n",
       "      gap: 12px;\n",
       "    }\n",
       "\n",
       "    .colab-df-convert {\n",
       "      background-color: #E8F0FE;\n",
       "      border: none;\n",
       "      border-radius: 50%;\n",
       "      cursor: pointer;\n",
       "      display: none;\n",
       "      fill: #1967D2;\n",
       "      height: 32px;\n",
       "      padding: 0 0 0 0;\n",
       "      width: 32px;\n",
       "    }\n",
       "\n",
       "    .colab-df-convert:hover {\n",
       "      background-color: #E2EBFA;\n",
       "      box-shadow: 0px 1px 2px rgba(60, 64, 67, 0.3), 0px 1px 3px 1px rgba(60, 64, 67, 0.15);\n",
       "      fill: #174EA6;\n",
       "    }\n",
       "\n",
       "    .colab-df-buttons div {\n",
       "      margin-bottom: 4px;\n",
       "    }\n",
       "\n",
       "    [theme=dark] .colab-df-convert {\n",
       "      background-color: #3B4455;\n",
       "      fill: #D2E3FC;\n",
       "    }\n",
       "\n",
       "    [theme=dark] .colab-df-convert:hover {\n",
       "      background-color: #434B5C;\n",
       "      box-shadow: 0px 1px 3px 1px rgba(0, 0, 0, 0.15);\n",
       "      filter: drop-shadow(0px 1px 2px rgba(0, 0, 0, 0.3));\n",
       "      fill: #FFFFFF;\n",
       "    }\n",
       "  </style>\n",
       "\n",
       "    <script>\n",
       "      const buttonEl =\n",
       "        document.querySelector('#df-8bfdcf1b-9e78-4961-b110-b441eb611f07 button.colab-df-convert');\n",
       "      buttonEl.style.display =\n",
       "        google.colab.kernel.accessAllowed ? 'block' : 'none';\n",
       "\n",
       "      async function convertToInteractive(key) {\n",
       "        const element = document.querySelector('#df-8bfdcf1b-9e78-4961-b110-b441eb611f07');\n",
       "        const dataTable =\n",
       "          await google.colab.kernel.invokeFunction('convertToInteractive',\n",
       "                                                    [key], {});\n",
       "        if (!dataTable) return;\n",
       "\n",
       "        const docLinkHtml = 'Like what you see? Visit the ' +\n",
       "          '<a target=\"_blank\" href=https://colab.research.google.com/notebooks/data_table.ipynb>data table notebook</a>'\n",
       "          + ' to learn more about interactive tables.';\n",
       "        element.innerHTML = '';\n",
       "        dataTable['output_type'] = 'display_data';\n",
       "        await google.colab.output.renderOutput(dataTable, element);\n",
       "        const docLink = document.createElement('div');\n",
       "        docLink.innerHTML = docLinkHtml;\n",
       "        element.appendChild(docLink);\n",
       "      }\n",
       "    </script>\n",
       "  </div>\n",
       "\n",
       "\n",
       "<div id=\"df-b1b42531-26aa-47b7-b565-0c5ce0a2c9c8\">\n",
       "  <button class=\"colab-df-quickchart\" onclick=\"quickchart('df-b1b42531-26aa-47b7-b565-0c5ce0a2c9c8')\"\n",
       "            title=\"Suggest charts.\"\n",
       "            style=\"display:none;\">\n",
       "\n",
       "<svg xmlns=\"http://www.w3.org/2000/svg\" height=\"24px\"viewBox=\"0 0 24 24\"\n",
       "     width=\"24px\">\n",
       "    <g>\n",
       "        <path d=\"M19 3H5c-1.1 0-2 .9-2 2v14c0 1.1.9 2 2 2h14c1.1 0 2-.9 2-2V5c0-1.1-.9-2-2-2zM9 17H7v-7h2v7zm4 0h-2V7h2v10zm4 0h-2v-4h2v4z\"/>\n",
       "    </g>\n",
       "</svg>\n",
       "  </button>\n",
       "\n",
       "<style>\n",
       "  .colab-df-quickchart {\n",
       "    background-color: #E8F0FE;\n",
       "    border: none;\n",
       "    border-radius: 50%;\n",
       "    cursor: pointer;\n",
       "    display: none;\n",
       "    fill: #1967D2;\n",
       "    height: 32px;\n",
       "    padding: 0 0 0 0;\n",
       "    width: 32px;\n",
       "  }\n",
       "\n",
       "  .colab-df-quickchart:hover {\n",
       "    background-color: #E2EBFA;\n",
       "    box-shadow: 0px 1px 2px rgba(60, 64, 67, 0.3), 0px 1px 3px 1px rgba(60, 64, 67, 0.15);\n",
       "    fill: #174EA6;\n",
       "  }\n",
       "\n",
       "  [theme=dark] .colab-df-quickchart {\n",
       "    background-color: #3B4455;\n",
       "    fill: #D2E3FC;\n",
       "  }\n",
       "\n",
       "  [theme=dark] .colab-df-quickchart:hover {\n",
       "    background-color: #434B5C;\n",
       "    box-shadow: 0px 1px 3px 1px rgba(0, 0, 0, 0.15);\n",
       "    filter: drop-shadow(0px 1px 2px rgba(0, 0, 0, 0.3));\n",
       "    fill: #FFFFFF;\n",
       "  }\n",
       "</style>\n",
       "\n",
       "  <script>\n",
       "    async function quickchart(key) {\n",
       "      const charts = await google.colab.kernel.invokeFunction(\n",
       "          'suggestCharts', [key], {});\n",
       "    }\n",
       "    (() => {\n",
       "      let quickchartButtonEl =\n",
       "        document.querySelector('#df-b1b42531-26aa-47b7-b565-0c5ce0a2c9c8 button');\n",
       "      quickchartButtonEl.style.display =\n",
       "        google.colab.kernel.accessAllowed ? 'block' : 'none';\n",
       "    })();\n",
       "  </script>\n",
       "</div>\n",
       "    </div>\n",
       "  </div>\n"
      ],
      "text/plain": [
       "            ID_LAT_LON_YEAR_WEEK  latitude  longitude  year  week_no  emission\n",
       "0       ID_-0.510_29.290_2019_00    -0.510     29.290  2019        0  3.750994\n",
       "1       ID_-0.510_29.290_2019_01    -0.510     29.290  2019        1  4.025176\n",
       "2       ID_-0.510_29.290_2019_02    -0.510     29.290  2019        2  4.231381\n",
       "3       ID_-0.510_29.290_2019_03    -0.510     29.290  2019        3  4.305286\n",
       "4       ID_-0.510_29.290_2019_04    -0.510     29.290  2019        4  4.347317\n",
       "...                          ...       ...        ...   ...      ...       ...\n",
       "103371  ID_-3.299_30.301_2022_44    -3.299     30.301  2022       44       NaN\n",
       "103372  ID_-3.299_30.301_2022_45    -3.299     30.301  2022       45       NaN\n",
       "103373  ID_-3.299_30.301_2022_46    -3.299     30.301  2022       46       NaN\n",
       "103374  ID_-3.299_30.301_2022_47    -3.299     30.301  2022       47       NaN\n",
       "103375  ID_-3.299_30.301_2022_48    -3.299     30.301  2022       48       NaN\n",
       "\n",
       "[103376 rows x 6 columns]"
      ]
     },
     "execution_count": 534,
     "metadata": {},
     "output_type": "execute_result"
    }
   ],
   "source": [
    "all = pd.concat([train, test]).reset_index(drop=True)\n",
    "\n",
    "fts = ['ID_LAT_LON_YEAR_WEEK', 'latitude', 'longitude', 'year', 'week_no', 'emission']\n",
    "all = all[fts]\n",
    "\n",
    "all"
   ]
  },
  {
   "cell_type": "markdown",
   "metadata": {
    "id": "bTdXvdNvH2zQ"
   },
   "source": [
    "# EDA"
   ]
  },
  {
   "cell_type": "markdown",
   "metadata": {
    "id": "arPcz0BlICji"
   },
   "source": [
    "## emission"
   ]
  },
  {
   "cell_type": "code",
   "execution_count": 535,
   "metadata": {
    "colab": {
     "base_uri": "https://localhost:8080/"
    },
    "executionInfo": {
     "elapsed": 64,
     "status": "ok",
     "timestamp": 1692675876746,
     "user": {
      "displayName": "Lee Minjik",
      "userId": "03992121075759719709"
     },
     "user_tz": -540
    },
    "id": "dMC3BpMdfUi1",
    "outputId": "187433a1-cdea-4e6c-e5f1-3561602192be"
   },
   "outputs": [
    {
     "data": {
      "text/plain": [
       "count    79023.000000\n",
       "mean        81.940552\n",
       "std        144.299648\n",
       "min          0.000000\n",
       "25%          9.797995\n",
       "50%         45.593445\n",
       "75%        109.549595\n",
       "max       3167.768000\n",
       "Name: emission, dtype: float64"
      ]
     },
     "execution_count": 535,
     "metadata": {},
     "output_type": "execute_result"
    }
   ],
   "source": [
    "train.emission.describe()"
   ]
  },
  {
   "cell_type": "code",
   "execution_count": 536,
   "metadata": {
    "colab": {
     "base_uri": "https://localhost:8080/"
    },
    "executionInfo": {
     "elapsed": 64,
     "status": "ok",
     "timestamp": 1692675876747,
     "user": {
      "displayName": "Lee Minjik",
      "userId": "03992121075759719709"
     },
     "user_tz": -540
    },
    "id": "hoNsI-q_4eEn",
    "outputId": "4d13d658-3623-490c-a8d6-a655bad839e8"
   },
   "outputs": [
    {
     "data": {
      "text/plain": [
       "count     497.000000\n",
       "mean       81.940552\n",
       "std       137.357720\n",
       "min         0.000000\n",
       "25%        10.900797\n",
       "50%        46.700873\n",
       "75%       113.135679\n",
       "max      2233.431628\n",
       "Name: emission, dtype: float64"
      ]
     },
     "execution_count": 536,
     "metadata": {},
     "output_type": "execute_result"
    }
   ],
   "source": [
    "df = train.groupby(['latitude', 'longitude']).emission.mean().sort_values().reset_index()\n",
    "df.emission.describe()"
   ]
  },
  {
   "cell_type": "code",
   "execution_count": 537,
   "metadata": {
    "colab": {
     "base_uri": "https://localhost:8080/",
     "height": 423
    },
    "executionInfo": {
     "elapsed": 63,
     "status": "ok",
     "timestamp": 1692675876749,
     "user": {
      "displayName": "Lee Minjik",
      "userId": "03992121075759719709"
     },
     "user_tz": -540
    },
    "id": "9Os-hp6tsxSn",
    "outputId": "7fa49b92-dc09-45c9-ae5f-5fd32e12059e"
   },
   "outputs": [
    {
     "data": {
      "text/html": [
       "\n",
       "  <div id=\"df-1ad30562-4e1f-4068-8fcf-fc817982a2ed\" class=\"colab-df-container\">\n",
       "    <div>\n",
       "<style scoped>\n",
       "    .dataframe tbody tr th:only-of-type {\n",
       "        vertical-align: middle;\n",
       "    }\n",
       "\n",
       "    .dataframe tbody tr th {\n",
       "        vertical-align: top;\n",
       "    }\n",
       "\n",
       "    .dataframe thead th {\n",
       "        text-align: right;\n",
       "    }\n",
       "</style>\n",
       "<table border=\"1\" class=\"dataframe\">\n",
       "  <thead>\n",
       "    <tr style=\"text-align: right;\">\n",
       "      <th></th>\n",
       "      <th>latitude</th>\n",
       "      <th>longitude</th>\n",
       "      <th>emission</th>\n",
       "    </tr>\n",
       "  </thead>\n",
       "  <tbody>\n",
       "    <tr>\n",
       "      <th>0</th>\n",
       "      <td>-1.682</td>\n",
       "      <td>29.218</td>\n",
       "      <td>0.000000</td>\n",
       "    </tr>\n",
       "    <tr>\n",
       "      <th>1</th>\n",
       "      <td>-2.859</td>\n",
       "      <td>29.041</td>\n",
       "      <td>0.000000</td>\n",
       "    </tr>\n",
       "    <tr>\n",
       "      <th>2</th>\n",
       "      <td>-1.833</td>\n",
       "      <td>28.467</td>\n",
       "      <td>0.000000</td>\n",
       "    </tr>\n",
       "    <tr>\n",
       "      <th>3</th>\n",
       "      <td>-2.841</td>\n",
       "      <td>29.159</td>\n",
       "      <td>0.000000</td>\n",
       "    </tr>\n",
       "    <tr>\n",
       "      <th>4</th>\n",
       "      <td>-1.974</td>\n",
       "      <td>28.526</td>\n",
       "      <td>0.000000</td>\n",
       "    </tr>\n",
       "    <tr>\n",
       "      <th>...</th>\n",
       "      <td>...</td>\n",
       "      <td>...</td>\n",
       "      <td>...</td>\n",
       "    </tr>\n",
       "    <tr>\n",
       "      <th>492</th>\n",
       "      <td>-1.342</td>\n",
       "      <td>31.358</td>\n",
       "      <td>409.606870</td>\n",
       "    </tr>\n",
       "    <tr>\n",
       "      <th>493</th>\n",
       "      <td>-0.956</td>\n",
       "      <td>30.744</td>\n",
       "      <td>455.398039</td>\n",
       "    </tr>\n",
       "    <tr>\n",
       "      <th>494</th>\n",
       "      <td>-1.346</td>\n",
       "      <td>31.254</td>\n",
       "      <td>475.289138</td>\n",
       "    </tr>\n",
       "    <tr>\n",
       "      <th>495</th>\n",
       "      <td>-2.079</td>\n",
       "      <td>29.321</td>\n",
       "      <td>1221.886518</td>\n",
       "    </tr>\n",
       "    <tr>\n",
       "      <th>496</th>\n",
       "      <td>-2.378</td>\n",
       "      <td>29.222</td>\n",
       "      <td>2233.431628</td>\n",
       "    </tr>\n",
       "  </tbody>\n",
       "</table>\n",
       "<p>497 rows × 3 columns</p>\n",
       "</div>\n",
       "    <div class=\"colab-df-buttons\">\n",
       "\n",
       "  <div class=\"colab-df-container\">\n",
       "    <button class=\"colab-df-convert\" onclick=\"convertToInteractive('df-1ad30562-4e1f-4068-8fcf-fc817982a2ed')\"\n",
       "            title=\"Convert this dataframe to an interactive table.\"\n",
       "            style=\"display:none;\">\n",
       "\n",
       "  <svg xmlns=\"http://www.w3.org/2000/svg\" height=\"24px\" viewBox=\"0 -960 960 960\">\n",
       "    <path d=\"M120-120v-720h720v720H120Zm60-500h600v-160H180v160Zm220 220h160v-160H400v160Zm0 220h160v-160H400v160ZM180-400h160v-160H180v160Zm440 0h160v-160H620v160ZM180-180h160v-160H180v160Zm440 0h160v-160H620v160Z\"/>\n",
       "  </svg>\n",
       "    </button>\n",
       "\n",
       "  <style>\n",
       "    .colab-df-container {\n",
       "      display:flex;\n",
       "      gap: 12px;\n",
       "    }\n",
       "\n",
       "    .colab-df-convert {\n",
       "      background-color: #E8F0FE;\n",
       "      border: none;\n",
       "      border-radius: 50%;\n",
       "      cursor: pointer;\n",
       "      display: none;\n",
       "      fill: #1967D2;\n",
       "      height: 32px;\n",
       "      padding: 0 0 0 0;\n",
       "      width: 32px;\n",
       "    }\n",
       "\n",
       "    .colab-df-convert:hover {\n",
       "      background-color: #E2EBFA;\n",
       "      box-shadow: 0px 1px 2px rgba(60, 64, 67, 0.3), 0px 1px 3px 1px rgba(60, 64, 67, 0.15);\n",
       "      fill: #174EA6;\n",
       "    }\n",
       "\n",
       "    .colab-df-buttons div {\n",
       "      margin-bottom: 4px;\n",
       "    }\n",
       "\n",
       "    [theme=dark] .colab-df-convert {\n",
       "      background-color: #3B4455;\n",
       "      fill: #D2E3FC;\n",
       "    }\n",
       "\n",
       "    [theme=dark] .colab-df-convert:hover {\n",
       "      background-color: #434B5C;\n",
       "      box-shadow: 0px 1px 3px 1px rgba(0, 0, 0, 0.15);\n",
       "      filter: drop-shadow(0px 1px 2px rgba(0, 0, 0, 0.3));\n",
       "      fill: #FFFFFF;\n",
       "    }\n",
       "  </style>\n",
       "\n",
       "    <script>\n",
       "      const buttonEl =\n",
       "        document.querySelector('#df-1ad30562-4e1f-4068-8fcf-fc817982a2ed button.colab-df-convert');\n",
       "      buttonEl.style.display =\n",
       "        google.colab.kernel.accessAllowed ? 'block' : 'none';\n",
       "\n",
       "      async function convertToInteractive(key) {\n",
       "        const element = document.querySelector('#df-1ad30562-4e1f-4068-8fcf-fc817982a2ed');\n",
       "        const dataTable =\n",
       "          await google.colab.kernel.invokeFunction('convertToInteractive',\n",
       "                                                    [key], {});\n",
       "        if (!dataTable) return;\n",
       "\n",
       "        const docLinkHtml = 'Like what you see? Visit the ' +\n",
       "          '<a target=\"_blank\" href=https://colab.research.google.com/notebooks/data_table.ipynb>data table notebook</a>'\n",
       "          + ' to learn more about interactive tables.';\n",
       "        element.innerHTML = '';\n",
       "        dataTable['output_type'] = 'display_data';\n",
       "        await google.colab.output.renderOutput(dataTable, element);\n",
       "        const docLink = document.createElement('div');\n",
       "        docLink.innerHTML = docLinkHtml;\n",
       "        element.appendChild(docLink);\n",
       "      }\n",
       "    </script>\n",
       "  </div>\n",
       "\n",
       "\n",
       "<div id=\"df-9f8af26f-054a-4325-92fb-a4083f818a78\">\n",
       "  <button class=\"colab-df-quickchart\" onclick=\"quickchart('df-9f8af26f-054a-4325-92fb-a4083f818a78')\"\n",
       "            title=\"Suggest charts.\"\n",
       "            style=\"display:none;\">\n",
       "\n",
       "<svg xmlns=\"http://www.w3.org/2000/svg\" height=\"24px\"viewBox=\"0 0 24 24\"\n",
       "     width=\"24px\">\n",
       "    <g>\n",
       "        <path d=\"M19 3H5c-1.1 0-2 .9-2 2v14c0 1.1.9 2 2 2h14c1.1 0 2-.9 2-2V5c0-1.1-.9-2-2-2zM9 17H7v-7h2v7zm4 0h-2V7h2v10zm4 0h-2v-4h2v4z\"/>\n",
       "    </g>\n",
       "</svg>\n",
       "  </button>\n",
       "\n",
       "<style>\n",
       "  .colab-df-quickchart {\n",
       "    background-color: #E8F0FE;\n",
       "    border: none;\n",
       "    border-radius: 50%;\n",
       "    cursor: pointer;\n",
       "    display: none;\n",
       "    fill: #1967D2;\n",
       "    height: 32px;\n",
       "    padding: 0 0 0 0;\n",
       "    width: 32px;\n",
       "  }\n",
       "\n",
       "  .colab-df-quickchart:hover {\n",
       "    background-color: #E2EBFA;\n",
       "    box-shadow: 0px 1px 2px rgba(60, 64, 67, 0.3), 0px 1px 3px 1px rgba(60, 64, 67, 0.15);\n",
       "    fill: #174EA6;\n",
       "  }\n",
       "\n",
       "  [theme=dark] .colab-df-quickchart {\n",
       "    background-color: #3B4455;\n",
       "    fill: #D2E3FC;\n",
       "  }\n",
       "\n",
       "  [theme=dark] .colab-df-quickchart:hover {\n",
       "    background-color: #434B5C;\n",
       "    box-shadow: 0px 1px 3px 1px rgba(0, 0, 0, 0.15);\n",
       "    filter: drop-shadow(0px 1px 2px rgba(0, 0, 0, 0.3));\n",
       "    fill: #FFFFFF;\n",
       "  }\n",
       "</style>\n",
       "\n",
       "  <script>\n",
       "    async function quickchart(key) {\n",
       "      const charts = await google.colab.kernel.invokeFunction(\n",
       "          'suggestCharts', [key], {});\n",
       "    }\n",
       "    (() => {\n",
       "      let quickchartButtonEl =\n",
       "        document.querySelector('#df-9f8af26f-054a-4325-92fb-a4083f818a78 button');\n",
       "      quickchartButtonEl.style.display =\n",
       "        google.colab.kernel.accessAllowed ? 'block' : 'none';\n",
       "    })();\n",
       "  </script>\n",
       "</div>\n",
       "    </div>\n",
       "  </div>\n"
      ],
      "text/plain": [
       "     latitude  longitude     emission\n",
       "0      -1.682     29.218     0.000000\n",
       "1      -2.859     29.041     0.000000\n",
       "2      -1.833     28.467     0.000000\n",
       "3      -2.841     29.159     0.000000\n",
       "4      -1.974     28.526     0.000000\n",
       "..        ...        ...          ...\n",
       "492    -1.342     31.358   409.606870\n",
       "493    -0.956     30.744   455.398039\n",
       "494    -1.346     31.254   475.289138\n",
       "495    -2.079     29.321  1221.886518\n",
       "496    -2.378     29.222  2233.431628\n",
       "\n",
       "[497 rows x 3 columns]"
      ]
     },
     "execution_count": 537,
     "metadata": {},
     "output_type": "execute_result"
    }
   ],
   "source": [
    "df"
   ]
  },
  {
   "cell_type": "code",
   "execution_count": 538,
   "metadata": {
    "colab": {
     "base_uri": "https://localhost:8080/",
     "height": 707
    },
    "executionInfo": {
     "elapsed": 62,
     "status": "ok",
     "timestamp": 1692675876750,
     "user": {
      "displayName": "Lee Minjik",
      "userId": "03992121075759719709"
     },
     "user_tz": -540
    },
    "id": "YrVx9mVt42VI",
    "outputId": "533838ac-2bb6-4137-9e74-3303cbe7f0a2"
   },
   "outputs": [
    {
     "data": {
      "text/html": [
       "\n",
       "  <div id=\"df-eb9e96d4-7685-4365-af45-6fd77e20ef15\" class=\"colab-df-container\">\n",
       "    <div>\n",
       "<style scoped>\n",
       "    .dataframe tbody tr th:only-of-type {\n",
       "        vertical-align: middle;\n",
       "    }\n",
       "\n",
       "    .dataframe tbody tr th {\n",
       "        vertical-align: top;\n",
       "    }\n",
       "\n",
       "    .dataframe thead th {\n",
       "        text-align: right;\n",
       "    }\n",
       "</style>\n",
       "<table border=\"1\" class=\"dataframe\">\n",
       "  <thead>\n",
       "    <tr style=\"text-align: right;\">\n",
       "      <th></th>\n",
       "      <th>latitude</th>\n",
       "      <th>longitude</th>\n",
       "      <th>emission</th>\n",
       "    </tr>\n",
       "  </thead>\n",
       "  <tbody>\n",
       "    <tr>\n",
       "      <th>0</th>\n",
       "      <td>-1.682</td>\n",
       "      <td>29.218</td>\n",
       "      <td>0.000000</td>\n",
       "    </tr>\n",
       "    <tr>\n",
       "      <th>1</th>\n",
       "      <td>-2.859</td>\n",
       "      <td>29.041</td>\n",
       "      <td>0.000000</td>\n",
       "    </tr>\n",
       "    <tr>\n",
       "      <th>2</th>\n",
       "      <td>-1.833</td>\n",
       "      <td>28.467</td>\n",
       "      <td>0.000000</td>\n",
       "    </tr>\n",
       "    <tr>\n",
       "      <th>3</th>\n",
       "      <td>-2.841</td>\n",
       "      <td>29.159</td>\n",
       "      <td>0.000000</td>\n",
       "    </tr>\n",
       "    <tr>\n",
       "      <th>4</th>\n",
       "      <td>-1.974</td>\n",
       "      <td>28.526</td>\n",
       "      <td>0.000000</td>\n",
       "    </tr>\n",
       "    <tr>\n",
       "      <th>5</th>\n",
       "      <td>-1.730</td>\n",
       "      <td>28.470</td>\n",
       "      <td>0.000000</td>\n",
       "    </tr>\n",
       "    <tr>\n",
       "      <th>6</th>\n",
       "      <td>-1.712</td>\n",
       "      <td>28.688</td>\n",
       "      <td>0.000000</td>\n",
       "    </tr>\n",
       "    <tr>\n",
       "      <th>7</th>\n",
       "      <td>-1.696</td>\n",
       "      <td>28.304</td>\n",
       "      <td>0.000000</td>\n",
       "    </tr>\n",
       "    <tr>\n",
       "      <th>8</th>\n",
       "      <td>-2.817</td>\n",
       "      <td>29.283</td>\n",
       "      <td>0.000000</td>\n",
       "    </tr>\n",
       "    <tr>\n",
       "      <th>9</th>\n",
       "      <td>-1.839</td>\n",
       "      <td>28.761</td>\n",
       "      <td>0.000000</td>\n",
       "    </tr>\n",
       "    <tr>\n",
       "      <th>10</th>\n",
       "      <td>-2.496</td>\n",
       "      <td>28.504</td>\n",
       "      <td>0.000000</td>\n",
       "    </tr>\n",
       "    <tr>\n",
       "      <th>11</th>\n",
       "      <td>-2.898</td>\n",
       "      <td>29.002</td>\n",
       "      <td>0.000000</td>\n",
       "    </tr>\n",
       "    <tr>\n",
       "      <th>12</th>\n",
       "      <td>-1.532</td>\n",
       "      <td>28.568</td>\n",
       "      <td>0.000000</td>\n",
       "    </tr>\n",
       "    <tr>\n",
       "      <th>13</th>\n",
       "      <td>-1.505</td>\n",
       "      <td>30.995</td>\n",
       "      <td>0.000000</td>\n",
       "    </tr>\n",
       "    <tr>\n",
       "      <th>14</th>\n",
       "      <td>-1.328</td>\n",
       "      <td>28.872</td>\n",
       "      <td>0.000000</td>\n",
       "    </tr>\n",
       "    <tr>\n",
       "      <th>15</th>\n",
       "      <td>-0.766</td>\n",
       "      <td>29.534</td>\n",
       "      <td>0.004999</td>\n",
       "    </tr>\n",
       "    <tr>\n",
       "      <th>16</th>\n",
       "      <td>-2.652</td>\n",
       "      <td>29.148</td>\n",
       "      <td>0.005272</td>\n",
       "    </tr>\n",
       "    <tr>\n",
       "      <th>17</th>\n",
       "      <td>-2.986</td>\n",
       "      <td>29.114</td>\n",
       "      <td>0.062376</td>\n",
       "    </tr>\n",
       "    <tr>\n",
       "      <th>18</th>\n",
       "      <td>-1.223</td>\n",
       "      <td>29.377</td>\n",
       "      <td>0.069294</td>\n",
       "    </tr>\n",
       "    <tr>\n",
       "      <th>19</th>\n",
       "      <td>-1.335</td>\n",
       "      <td>29.465</td>\n",
       "      <td>0.078274</td>\n",
       "    </tr>\n",
       "    <tr>\n",
       "      <th>20</th>\n",
       "      <td>-0.598</td>\n",
       "      <td>29.102</td>\n",
       "      <td>0.090357</td>\n",
       "    </tr>\n",
       "  </tbody>\n",
       "</table>\n",
       "</div>\n",
       "    <div class=\"colab-df-buttons\">\n",
       "\n",
       "  <div class=\"colab-df-container\">\n",
       "    <button class=\"colab-df-convert\" onclick=\"convertToInteractive('df-eb9e96d4-7685-4365-af45-6fd77e20ef15')\"\n",
       "            title=\"Convert this dataframe to an interactive table.\"\n",
       "            style=\"display:none;\">\n",
       "\n",
       "  <svg xmlns=\"http://www.w3.org/2000/svg\" height=\"24px\" viewBox=\"0 -960 960 960\">\n",
       "    <path d=\"M120-120v-720h720v720H120Zm60-500h600v-160H180v160Zm220 220h160v-160H400v160Zm0 220h160v-160H400v160ZM180-400h160v-160H180v160Zm440 0h160v-160H620v160ZM180-180h160v-160H180v160Zm440 0h160v-160H620v160Z\"/>\n",
       "  </svg>\n",
       "    </button>\n",
       "\n",
       "  <style>\n",
       "    .colab-df-container {\n",
       "      display:flex;\n",
       "      gap: 12px;\n",
       "    }\n",
       "\n",
       "    .colab-df-convert {\n",
       "      background-color: #E8F0FE;\n",
       "      border: none;\n",
       "      border-radius: 50%;\n",
       "      cursor: pointer;\n",
       "      display: none;\n",
       "      fill: #1967D2;\n",
       "      height: 32px;\n",
       "      padding: 0 0 0 0;\n",
       "      width: 32px;\n",
       "    }\n",
       "\n",
       "    .colab-df-convert:hover {\n",
       "      background-color: #E2EBFA;\n",
       "      box-shadow: 0px 1px 2px rgba(60, 64, 67, 0.3), 0px 1px 3px 1px rgba(60, 64, 67, 0.15);\n",
       "      fill: #174EA6;\n",
       "    }\n",
       "\n",
       "    .colab-df-buttons div {\n",
       "      margin-bottom: 4px;\n",
       "    }\n",
       "\n",
       "    [theme=dark] .colab-df-convert {\n",
       "      background-color: #3B4455;\n",
       "      fill: #D2E3FC;\n",
       "    }\n",
       "\n",
       "    [theme=dark] .colab-df-convert:hover {\n",
       "      background-color: #434B5C;\n",
       "      box-shadow: 0px 1px 3px 1px rgba(0, 0, 0, 0.15);\n",
       "      filter: drop-shadow(0px 1px 2px rgba(0, 0, 0, 0.3));\n",
       "      fill: #FFFFFF;\n",
       "    }\n",
       "  </style>\n",
       "\n",
       "    <script>\n",
       "      const buttonEl =\n",
       "        document.querySelector('#df-eb9e96d4-7685-4365-af45-6fd77e20ef15 button.colab-df-convert');\n",
       "      buttonEl.style.display =\n",
       "        google.colab.kernel.accessAllowed ? 'block' : 'none';\n",
       "\n",
       "      async function convertToInteractive(key) {\n",
       "        const element = document.querySelector('#df-eb9e96d4-7685-4365-af45-6fd77e20ef15');\n",
       "        const dataTable =\n",
       "          await google.colab.kernel.invokeFunction('convertToInteractive',\n",
       "                                                    [key], {});\n",
       "        if (!dataTable) return;\n",
       "\n",
       "        const docLinkHtml = 'Like what you see? Visit the ' +\n",
       "          '<a target=\"_blank\" href=https://colab.research.google.com/notebooks/data_table.ipynb>data table notebook</a>'\n",
       "          + ' to learn more about interactive tables.';\n",
       "        element.innerHTML = '';\n",
       "        dataTable['output_type'] = 'display_data';\n",
       "        await google.colab.output.renderOutput(dataTable, element);\n",
       "        const docLink = document.createElement('div');\n",
       "        docLink.innerHTML = docLinkHtml;\n",
       "        element.appendChild(docLink);\n",
       "      }\n",
       "    </script>\n",
       "  </div>\n",
       "\n",
       "\n",
       "<div id=\"df-2e1f7036-f60d-4cd0-acbd-859948b3335d\">\n",
       "  <button class=\"colab-df-quickchart\" onclick=\"quickchart('df-2e1f7036-f60d-4cd0-acbd-859948b3335d')\"\n",
       "            title=\"Suggest charts.\"\n",
       "            style=\"display:none;\">\n",
       "\n",
       "<svg xmlns=\"http://www.w3.org/2000/svg\" height=\"24px\"viewBox=\"0 0 24 24\"\n",
       "     width=\"24px\">\n",
       "    <g>\n",
       "        <path d=\"M19 3H5c-1.1 0-2 .9-2 2v14c0 1.1.9 2 2 2h14c1.1 0 2-.9 2-2V5c0-1.1-.9-2-2-2zM9 17H7v-7h2v7zm4 0h-2V7h2v10zm4 0h-2v-4h2v4z\"/>\n",
       "    </g>\n",
       "</svg>\n",
       "  </button>\n",
       "\n",
       "<style>\n",
       "  .colab-df-quickchart {\n",
       "    background-color: #E8F0FE;\n",
       "    border: none;\n",
       "    border-radius: 50%;\n",
       "    cursor: pointer;\n",
       "    display: none;\n",
       "    fill: #1967D2;\n",
       "    height: 32px;\n",
       "    padding: 0 0 0 0;\n",
       "    width: 32px;\n",
       "  }\n",
       "\n",
       "  .colab-df-quickchart:hover {\n",
       "    background-color: #E2EBFA;\n",
       "    box-shadow: 0px 1px 2px rgba(60, 64, 67, 0.3), 0px 1px 3px 1px rgba(60, 64, 67, 0.15);\n",
       "    fill: #174EA6;\n",
       "  }\n",
       "\n",
       "  [theme=dark] .colab-df-quickchart {\n",
       "    background-color: #3B4455;\n",
       "    fill: #D2E3FC;\n",
       "  }\n",
       "\n",
       "  [theme=dark] .colab-df-quickchart:hover {\n",
       "    background-color: #434B5C;\n",
       "    box-shadow: 0px 1px 3px 1px rgba(0, 0, 0, 0.15);\n",
       "    filter: drop-shadow(0px 1px 2px rgba(0, 0, 0, 0.3));\n",
       "    fill: #FFFFFF;\n",
       "  }\n",
       "</style>\n",
       "\n",
       "  <script>\n",
       "    async function quickchart(key) {\n",
       "      const charts = await google.colab.kernel.invokeFunction(\n",
       "          'suggestCharts', [key], {});\n",
       "    }\n",
       "    (() => {\n",
       "      let quickchartButtonEl =\n",
       "        document.querySelector('#df-2e1f7036-f60d-4cd0-acbd-859948b3335d button');\n",
       "      quickchartButtonEl.style.display =\n",
       "        google.colab.kernel.accessAllowed ? 'block' : 'none';\n",
       "    })();\n",
       "  </script>\n",
       "</div>\n",
       "    </div>\n",
       "  </div>\n"
      ],
      "text/plain": [
       "    latitude  longitude  emission\n",
       "0     -1.682     29.218  0.000000\n",
       "1     -2.859     29.041  0.000000\n",
       "2     -1.833     28.467  0.000000\n",
       "3     -2.841     29.159  0.000000\n",
       "4     -1.974     28.526  0.000000\n",
       "5     -1.730     28.470  0.000000\n",
       "6     -1.712     28.688  0.000000\n",
       "7     -1.696     28.304  0.000000\n",
       "8     -2.817     29.283  0.000000\n",
       "9     -1.839     28.761  0.000000\n",
       "10    -2.496     28.504  0.000000\n",
       "11    -2.898     29.002  0.000000\n",
       "12    -1.532     28.568  0.000000\n",
       "13    -1.505     30.995  0.000000\n",
       "14    -1.328     28.872  0.000000\n",
       "15    -0.766     29.534  0.004999\n",
       "16    -2.652     29.148  0.005272\n",
       "17    -2.986     29.114  0.062376\n",
       "18    -1.223     29.377  0.069294\n",
       "19    -1.335     29.465  0.078274\n",
       "20    -0.598     29.102  0.090357"
      ]
     },
     "execution_count": 538,
     "metadata": {},
     "output_type": "execute_result"
    }
   ],
   "source": [
    "df[df.emission<0.1]"
   ]
  },
  {
   "cell_type": "code",
   "execution_count": 539,
   "metadata": {
    "colab": {
     "base_uri": "https://localhost:8080/",
     "height": 582
    },
    "executionInfo": {
     "elapsed": 62,
     "status": "ok",
     "timestamp": 1692675876751,
     "user": {
      "displayName": "Lee Minjik",
      "userId": "03992121075759719709"
     },
     "user_tz": -540
    },
    "id": "dUQRiMp4MlsF",
    "outputId": "9d2c46a2-8885-4fe4-f460-59478a1a87bd"
   },
   "outputs": [
    {
     "data": {
      "text/html": [
       "\n",
       "  <div id=\"df-ad960464-62d2-477a-ad38-6408eaaf8b95\" class=\"colab-df-container\">\n",
       "    <div>\n",
       "<style scoped>\n",
       "    .dataframe tbody tr th:only-of-type {\n",
       "        vertical-align: middle;\n",
       "    }\n",
       "\n",
       "    .dataframe tbody tr th {\n",
       "        vertical-align: top;\n",
       "    }\n",
       "\n",
       "    .dataframe thead th {\n",
       "        text-align: right;\n",
       "    }\n",
       "</style>\n",
       "<table border=\"1\" class=\"dataframe\">\n",
       "  <thead>\n",
       "    <tr style=\"text-align: right;\">\n",
       "      <th></th>\n",
       "      <th>latitude</th>\n",
       "      <th>longitude</th>\n",
       "      <th>emission</th>\n",
       "    </tr>\n",
       "  </thead>\n",
       "  <tbody>\n",
       "    <tr>\n",
       "      <th>480</th>\n",
       "      <td>-1.048</td>\n",
       "      <td>30.252</td>\n",
       "      <td>302.324454</td>\n",
       "    </tr>\n",
       "    <tr>\n",
       "      <th>481</th>\n",
       "      <td>-2.300</td>\n",
       "      <td>29.200</td>\n",
       "      <td>305.690542</td>\n",
       "    </tr>\n",
       "    <tr>\n",
       "      <th>482</th>\n",
       "      <td>-2.376</td>\n",
       "      <td>29.924</td>\n",
       "      <td>308.460022</td>\n",
       "    </tr>\n",
       "    <tr>\n",
       "      <th>483</th>\n",
       "      <td>-1.641</td>\n",
       "      <td>31.259</td>\n",
       "      <td>308.698319</td>\n",
       "    </tr>\n",
       "    <tr>\n",
       "      <th>484</th>\n",
       "      <td>-1.486</td>\n",
       "      <td>29.614</td>\n",
       "      <td>312.098334</td>\n",
       "    </tr>\n",
       "    <tr>\n",
       "      <th>485</th>\n",
       "      <td>-1.187</td>\n",
       "      <td>31.113</td>\n",
       "      <td>318.536348</td>\n",
       "    </tr>\n",
       "    <tr>\n",
       "      <th>486</th>\n",
       "      <td>-1.115</td>\n",
       "      <td>30.085</td>\n",
       "      <td>321.410481</td>\n",
       "    </tr>\n",
       "    <tr>\n",
       "      <th>487</th>\n",
       "      <td>-1.889</td>\n",
       "      <td>29.611</td>\n",
       "      <td>324.808862</td>\n",
       "    </tr>\n",
       "    <tr>\n",
       "      <th>488</th>\n",
       "      <td>-2.293</td>\n",
       "      <td>29.507</td>\n",
       "      <td>336.199968</td>\n",
       "    </tr>\n",
       "    <tr>\n",
       "      <th>489</th>\n",
       "      <td>-1.847</td>\n",
       "      <td>30.953</td>\n",
       "      <td>347.017595</td>\n",
       "    </tr>\n",
       "    <tr>\n",
       "      <th>490</th>\n",
       "      <td>-2.599</td>\n",
       "      <td>29.801</td>\n",
       "      <td>353.031771</td>\n",
       "    </tr>\n",
       "    <tr>\n",
       "      <th>491</th>\n",
       "      <td>-2.441</td>\n",
       "      <td>28.959</td>\n",
       "      <td>395.499449</td>\n",
       "    </tr>\n",
       "    <tr>\n",
       "      <th>492</th>\n",
       "      <td>-1.342</td>\n",
       "      <td>31.358</td>\n",
       "      <td>409.606870</td>\n",
       "    </tr>\n",
       "    <tr>\n",
       "      <th>493</th>\n",
       "      <td>-0.956</td>\n",
       "      <td>30.744</td>\n",
       "      <td>455.398039</td>\n",
       "    </tr>\n",
       "    <tr>\n",
       "      <th>494</th>\n",
       "      <td>-1.346</td>\n",
       "      <td>31.254</td>\n",
       "      <td>475.289138</td>\n",
       "    </tr>\n",
       "    <tr>\n",
       "      <th>495</th>\n",
       "      <td>-2.079</td>\n",
       "      <td>29.321</td>\n",
       "      <td>1221.886518</td>\n",
       "    </tr>\n",
       "    <tr>\n",
       "      <th>496</th>\n",
       "      <td>-2.378</td>\n",
       "      <td>29.222</td>\n",
       "      <td>2233.431628</td>\n",
       "    </tr>\n",
       "  </tbody>\n",
       "</table>\n",
       "</div>\n",
       "    <div class=\"colab-df-buttons\">\n",
       "\n",
       "  <div class=\"colab-df-container\">\n",
       "    <button class=\"colab-df-convert\" onclick=\"convertToInteractive('df-ad960464-62d2-477a-ad38-6408eaaf8b95')\"\n",
       "            title=\"Convert this dataframe to an interactive table.\"\n",
       "            style=\"display:none;\">\n",
       "\n",
       "  <svg xmlns=\"http://www.w3.org/2000/svg\" height=\"24px\" viewBox=\"0 -960 960 960\">\n",
       "    <path d=\"M120-120v-720h720v720H120Zm60-500h600v-160H180v160Zm220 220h160v-160H400v160Zm0 220h160v-160H400v160ZM180-400h160v-160H180v160Zm440 0h160v-160H620v160ZM180-180h160v-160H180v160Zm440 0h160v-160H620v160Z\"/>\n",
       "  </svg>\n",
       "    </button>\n",
       "\n",
       "  <style>\n",
       "    .colab-df-container {\n",
       "      display:flex;\n",
       "      gap: 12px;\n",
       "    }\n",
       "\n",
       "    .colab-df-convert {\n",
       "      background-color: #E8F0FE;\n",
       "      border: none;\n",
       "      border-radius: 50%;\n",
       "      cursor: pointer;\n",
       "      display: none;\n",
       "      fill: #1967D2;\n",
       "      height: 32px;\n",
       "      padding: 0 0 0 0;\n",
       "      width: 32px;\n",
       "    }\n",
       "\n",
       "    .colab-df-convert:hover {\n",
       "      background-color: #E2EBFA;\n",
       "      box-shadow: 0px 1px 2px rgba(60, 64, 67, 0.3), 0px 1px 3px 1px rgba(60, 64, 67, 0.15);\n",
       "      fill: #174EA6;\n",
       "    }\n",
       "\n",
       "    .colab-df-buttons div {\n",
       "      margin-bottom: 4px;\n",
       "    }\n",
       "\n",
       "    [theme=dark] .colab-df-convert {\n",
       "      background-color: #3B4455;\n",
       "      fill: #D2E3FC;\n",
       "    }\n",
       "\n",
       "    [theme=dark] .colab-df-convert:hover {\n",
       "      background-color: #434B5C;\n",
       "      box-shadow: 0px 1px 3px 1px rgba(0, 0, 0, 0.15);\n",
       "      filter: drop-shadow(0px 1px 2px rgba(0, 0, 0, 0.3));\n",
       "      fill: #FFFFFF;\n",
       "    }\n",
       "  </style>\n",
       "\n",
       "    <script>\n",
       "      const buttonEl =\n",
       "        document.querySelector('#df-ad960464-62d2-477a-ad38-6408eaaf8b95 button.colab-df-convert');\n",
       "      buttonEl.style.display =\n",
       "        google.colab.kernel.accessAllowed ? 'block' : 'none';\n",
       "\n",
       "      async function convertToInteractive(key) {\n",
       "        const element = document.querySelector('#df-ad960464-62d2-477a-ad38-6408eaaf8b95');\n",
       "        const dataTable =\n",
       "          await google.colab.kernel.invokeFunction('convertToInteractive',\n",
       "                                                    [key], {});\n",
       "        if (!dataTable) return;\n",
       "\n",
       "        const docLinkHtml = 'Like what you see? Visit the ' +\n",
       "          '<a target=\"_blank\" href=https://colab.research.google.com/notebooks/data_table.ipynb>data table notebook</a>'\n",
       "          + ' to learn more about interactive tables.';\n",
       "        element.innerHTML = '';\n",
       "        dataTable['output_type'] = 'display_data';\n",
       "        await google.colab.output.renderOutput(dataTable, element);\n",
       "        const docLink = document.createElement('div');\n",
       "        docLink.innerHTML = docLinkHtml;\n",
       "        element.appendChild(docLink);\n",
       "      }\n",
       "    </script>\n",
       "  </div>\n",
       "\n",
       "\n",
       "<div id=\"df-54678a36-7656-4885-bf90-547b93e688dd\">\n",
       "  <button class=\"colab-df-quickchart\" onclick=\"quickchart('df-54678a36-7656-4885-bf90-547b93e688dd')\"\n",
       "            title=\"Suggest charts.\"\n",
       "            style=\"display:none;\">\n",
       "\n",
       "<svg xmlns=\"http://www.w3.org/2000/svg\" height=\"24px\"viewBox=\"0 0 24 24\"\n",
       "     width=\"24px\">\n",
       "    <g>\n",
       "        <path d=\"M19 3H5c-1.1 0-2 .9-2 2v14c0 1.1.9 2 2 2h14c1.1 0 2-.9 2-2V5c0-1.1-.9-2-2-2zM9 17H7v-7h2v7zm4 0h-2V7h2v10zm4 0h-2v-4h2v4z\"/>\n",
       "    </g>\n",
       "</svg>\n",
       "  </button>\n",
       "\n",
       "<style>\n",
       "  .colab-df-quickchart {\n",
       "    background-color: #E8F0FE;\n",
       "    border: none;\n",
       "    border-radius: 50%;\n",
       "    cursor: pointer;\n",
       "    display: none;\n",
       "    fill: #1967D2;\n",
       "    height: 32px;\n",
       "    padding: 0 0 0 0;\n",
       "    width: 32px;\n",
       "  }\n",
       "\n",
       "  .colab-df-quickchart:hover {\n",
       "    background-color: #E2EBFA;\n",
       "    box-shadow: 0px 1px 2px rgba(60, 64, 67, 0.3), 0px 1px 3px 1px rgba(60, 64, 67, 0.15);\n",
       "    fill: #174EA6;\n",
       "  }\n",
       "\n",
       "  [theme=dark] .colab-df-quickchart {\n",
       "    background-color: #3B4455;\n",
       "    fill: #D2E3FC;\n",
       "  }\n",
       "\n",
       "  [theme=dark] .colab-df-quickchart:hover {\n",
       "    background-color: #434B5C;\n",
       "    box-shadow: 0px 1px 3px 1px rgba(0, 0, 0, 0.15);\n",
       "    filter: drop-shadow(0px 1px 2px rgba(0, 0, 0, 0.3));\n",
       "    fill: #FFFFFF;\n",
       "  }\n",
       "</style>\n",
       "\n",
       "  <script>\n",
       "    async function quickchart(key) {\n",
       "      const charts = await google.colab.kernel.invokeFunction(\n",
       "          'suggestCharts', [key], {});\n",
       "    }\n",
       "    (() => {\n",
       "      let quickchartButtonEl =\n",
       "        document.querySelector('#df-54678a36-7656-4885-bf90-547b93e688dd button');\n",
       "      quickchartButtonEl.style.display =\n",
       "        google.colab.kernel.accessAllowed ? 'block' : 'none';\n",
       "    })();\n",
       "  </script>\n",
       "</div>\n",
       "    </div>\n",
       "  </div>\n"
      ],
      "text/plain": [
       "     latitude  longitude     emission\n",
       "480    -1.048     30.252   302.324454\n",
       "481    -2.300     29.200   305.690542\n",
       "482    -2.376     29.924   308.460022\n",
       "483    -1.641     31.259   308.698319\n",
       "484    -1.486     29.614   312.098334\n",
       "485    -1.187     31.113   318.536348\n",
       "486    -1.115     30.085   321.410481\n",
       "487    -1.889     29.611   324.808862\n",
       "488    -2.293     29.507   336.199968\n",
       "489    -1.847     30.953   347.017595\n",
       "490    -2.599     29.801   353.031771\n",
       "491    -2.441     28.959   395.499449\n",
       "492    -1.342     31.358   409.606870\n",
       "493    -0.956     30.744   455.398039\n",
       "494    -1.346     31.254   475.289138\n",
       "495    -2.079     29.321  1221.886518\n",
       "496    -2.378     29.222  2233.431628"
      ]
     },
     "execution_count": 539,
     "metadata": {},
     "output_type": "execute_result"
    }
   ],
   "source": [
    "df[df.emission>300]"
   ]
  },
  {
   "cell_type": "code",
   "execution_count": 540,
   "metadata": {
    "colab": {
     "base_uri": "https://localhost:8080/"
    },
    "executionInfo": {
     "elapsed": 744,
     "status": "ok",
     "timestamp": 1692675877435,
     "user": {
      "displayName": "Lee Minjik",
      "userId": "03992121075759719709"
     },
     "user_tz": -540
    },
    "id": "AfYm-lUZritR",
    "outputId": "d51ff262-3a8c-4374-8c7e-9a2ad67a0179"
   },
   "outputs": [
    {
     "data": {
      "text/plain": [
       "((15, 3), (5, 3))"
      ]
     },
     "execution_count": 540,
     "metadata": {},
     "output_type": "execute_result"
    }
   ],
   "source": [
    "ems0_df = df[df.emission==0]\n",
    "ems400_df = df[df.emission>=400]\n",
    "\n",
    "ems0_df.shape, ems400_df.shape"
   ]
  },
  {
   "cell_type": "code",
   "execution_count": 541,
   "metadata": {
    "colab": {
     "base_uri": "https://localhost:8080/",
     "height": 545
    },
    "executionInfo": {
     "elapsed": 36,
     "status": "ok",
     "timestamp": 1692675877436,
     "user": {
      "displayName": "Lee Minjik",
      "userId": "03992121075759719709"
     },
     "user_tz": -540
    },
    "id": "4Zzar2FQAroR",
    "outputId": "f40cd642-bc5b-4313-e960-a08a083a00cb"
   },
   "outputs": [
    {
     "data": {
      "image/png": "[encoded data removed]",
      "text/plain": [
       "<Figure size 800x600 with 1 Axes>"
      ]
     },
     "metadata": {},
     "output_type": "display_data"
    }
   ],
   "source": [
    "plt.figure(figsize=(8,6))\n",
    "plt.title('CO2 emission boxplot')\n",
    "sns.boxplot(df.emission)\n",
    "plt.show()"
   ]
  },
  {
   "cell_type": "code",
   "execution_count": 542,
   "metadata": {
    "executionInfo": {
     "elapsed": 31,
     "status": "ok",
     "timestamp": 1692675877437,
     "user": {
      "displayName": "Lee Minjik",
      "userId": "03992121075759719709"
     },
     "user_tz": -540
    },
    "id": "JxBf2Lv81luy"
   },
   "outputs": [],
   "source": [
    "# fig = go.Figure(go.Histogram(\n",
    "#     x=train.emission,\n",
    "#     marker_color='seagreen'))\n",
    "\n",
    "# fig.update_layout(\n",
    "#     title_text=\"CO2 Emission Distributions\",\n",
    "#     template='plotly_dark')\n",
    "\n",
    "# fig.show()"
   ]
  },
  {
   "cell_type": "code",
   "execution_count": 543,
   "metadata": {
    "executionInfo": {
     "elapsed": 31,
     "status": "ok",
     "timestamp": 1692675877438,
     "user": {
      "displayName": "Lee Minjik",
      "userId": "03992121075759719709"
     },
     "user_tz": -540
    },
    "id": "O6CQnxr04S9i"
   },
   "outputs": [],
   "source": [
    "# fig = go.Figure(go.Histogram(\n",
    "#     x=np.log(train.emission),\n",
    "#     marker_color='seagreen'))\n",
    "\n",
    "# fig.update_layout(\n",
    "#     title_text=\"CO2 Emission Distributions\",\n",
    "#     template='plotly_dark')\n",
    "\n",
    "# fig.show()"
   ]
  },
  {
   "cell_type": "markdown",
   "metadata": {
    "id": "rWGRVx_ewvV8"
   },
   "source": [
    "## latitude & longitude"
   ]
  },
  {
   "cell_type": "code",
   "execution_count": 544,
   "metadata": {
    "colab": {
     "base_uri": "https://localhost:8080/",
     "height": 0
    },
    "executionInfo": {
     "elapsed": 31,
     "status": "ok",
     "timestamp": 1692675877440,
     "user": {
      "displayName": "Lee Minjik",
      "userId": "03992121075759719709"
     },
     "user_tz": -540
    },
    "id": "xPJeO8cAw5or",
    "outputId": "3be5c140-5b58-4f65-e917-c7b3b9e292af"
   },
   "outputs": [
    {
     "data": {
      "image/png": "[encoded data removed]",
      "text/plain": [
       "<Figure size 600x600 with 1 Axes>"
      ]
     },
     "metadata": {},
     "output_type": "display_data"
    }
   ],
   "source": [
    "plt.figure(figsize=(6,6))\n",
    "plt.title(\"497 Locations\")\n",
    "plt.scatter(train.longitude, train.latitude, s=5)\n",
    "plt.xlabel('longitude')\n",
    "plt.ylabel('latitude')\n",
    "plt.show()"
   ]
  },
  {
   "cell_type": "code",
   "execution_count": 545,
   "metadata": {
    "colab": {
     "base_uri": "https://localhost:8080/",
     "height": 0
    },
    "executionInfo": {
     "elapsed": 471,
     "status": "ok",
     "timestamp": 1692675877884,
     "user": {
      "displayName": "Lee Minjik",
      "userId": "03992121075759719709"
     },
     "user_tz": -540
    },
    "id": "inOYT7tgy9ko",
    "outputId": "669a7c24-4a52-4ae2-8005-8a92c6394fa7"
   },
   "outputs": [
    {
     "data": {
      "text/html": [
       "<html>\n",
       "<head><meta charset=\"utf-8\" /></head>\n",
       "<body>\n",
       "    <div>            <script src=\"https://cdnjs.cloudflare.com/ajax/libs/mathjax/2.7.5/MathJax.js?config=TeX-AMS-MML_SVG\"></script><script type=\"text/javascript\">if (window.MathJax && window.MathJax.Hub && window.MathJax.Hub.Config) {window.MathJax.Hub.Config({SVG: {font: \"STIX-Web\"}});}</script>                <script type=\"text/javascript\">window.PlotlyConfig = {MathJaxConfig: 'local'};</script>\n",
       "        <script charset=\"utf-8\" src=\"https://cdn.plot.ly/plotly-2.24.1.min.js\"></script>                <div id=\"5ed52538-b8d7-4845-aa66-906929f1c9b1\" class=\"plotly-graph-div\" style=\"height:600px; width:800px;\"></div>            <script type=\"text/javascript\">                                    window.PLOTLYENV=window.PLOTLYENV || {};                                    if (document.getElementById(\"5ed52538-b8d7-4845-aa66-906929f1c9b1\")) {                    Plotly.newPlot(                        \"5ed52538-b8d7-4845-aa66-906929f1c9b1\",                        [{\"hovertemplate\":\"\\u003cb\\u003e%{hovertext}\\u003c\\u002fb\\u003e\\u003cbr\\u003e\\u003cbr\\u003ecountry=Congo\\u003cbr\\u003elatitude=%{lat}\\u003cbr\\u003elongitude=%{lon}\\u003cextra\\u003e\\u003c\\u002fextra\\u003e\",\"hovertext\":[\"Congo\",\"Congo\",\"Congo\",\"Congo\",\"Congo\",\"Congo\",\"Congo\",\"Congo\",\"Congo\",\"Congo\",\"Congo\",\"Congo\",\"Congo\",\"Congo\",\"Congo\",\"Congo\",\"Congo\",\"Congo\",\"Congo\",\"Congo\",\"Congo\",\"Congo\",\"Congo\",\"Congo\",\"Congo\",\"Congo\",\"Congo\",\"Congo\",\"Congo\",\"Congo\",\"Congo\",\"Congo\",\"Congo\",\"Congo\",\"Congo\",\"Congo\",\"Congo\",\"Congo\",\"Congo\",\"Congo\",\"Congo\",\"Congo\",\"Congo\",\"Congo\",\"Congo\",\"Congo\",\"Congo\",\"Congo\",\"Congo\",\"Congo\",\"Congo\",\"Congo\",\"Congo\",\"Congo\",\"Congo\",\"Congo\",\"Congo\",\"Congo\",\"Congo\",\"Congo\",\"Congo\",\"Congo\",\"Congo\",\"Congo\",\"Congo\",\"Congo\",\"Congo\",\"Congo\",\"Congo\",\"Congo\",\"Congo\",\"Congo\",\"Congo\",\"Congo\",\"Congo\",\"Congo\",\"Congo\",\"Congo\",\"Congo\",\"Congo\",\"Congo\",\"Congo\",\"Congo\",\"Congo\",\"Congo\",\"Congo\",\"Congo\",\"Congo\",\"Congo\",\"Congo\",\"Congo\",\"Congo\",\"Congo\",\"Congo\",\"Congo\",\"Congo\",\"Congo\",\"Congo\",\"Congo\",\"Congo\",\"Congo\",\"Congo\",\"Congo\",\"Congo\",\"Congo\",\"Congo\",\"Congo\",\"Congo\",\"Congo\",\"Congo\",\"Congo\",\"Congo\",\"Congo\",\"Congo\",\"Congo\",\"Congo\",\"Congo\",\"Congo\",\"Congo\",\"Congo\",\"Congo\",\"Congo\",\"Congo\"],\"lat\":[-0.51,-0.528,-0.547,-0.598,-0.677,-0.726,-0.766,-0.785,-0.798,-0.799,-0.801,-0.869,-0.905,-0.915,-0.933,-0.938,-0.964,-1.003,-1.024,-1.036,-1.043,-1.062,-1.07,-1.076,-1.085,-1.163,-1.17,-1.185,-1.223,-1.252,-1.267,-1.289,-1.292,-1.303,-1.328,-1.335,-1.342,-1.348,-1.364,-1.366,-1.384,-1.45,-1.486,-1.516,-1.532,-1.533,-1.536,-1.583,-1.613,-1.682,-1.69,-1.696,-1.712,-1.73,-1.753,-1.77,-1.799,-1.833,-1.839,-1.847,-1.877,-1.882,-1.902,-1.903,-1.926,-1.929,-1.944,-1.951,-1.961,-1.974,-2.018,-2.049,-2.059,-2.073,-2.08,-2.096,-2.123,-2.171,-2.179,-2.248,-2.255,-2.256,-2.282,-2.317,-2.329,-2.339,-2.385,-2.422,-2.427,-2.443,-2.447,-2.451,-2.489,-2.496,-2.539,-2.589,-2.61,-2.649,-2.676,-2.689,-2.693,-2.761,-2.77,-2.783,-2.794,-2.82,-2.839,-2.841,-2.842,-2.846,-2.853,-2.858,-2.859,-2.86,-2.883,-2.898,-2.972,-2.986,-3.028,-3.032,-3.047,-3.054,-3.161],\"legendgroup\":\"Congo\",\"lon\":[29.29,29.472,29.653,29.102,29.623,29.374,29.534,29.115,29.402,29.201,29.499,29.231,29.495,28.985,29.267,29.262,29.436,29.497,28.976,28.964,29.057,28.838,29.33,28.724,29.215,29.537,29.33,28.915,29.377,28.848,29.233,28.911,29.408,28.997,28.872,29.465,29.258,29.552,29.036,29.434,28.916,29.35,29.314,28.984,28.568,28.467,28.364,28.517,28.487,29.218,28.51,28.304,28.688,28.47,28.547,29.13,28.601,28.467,28.761,28.753,28.523,28.718,28.398,28.297,28.474,28.771,28.556,28.649,28.939,28.526,28.882,29.151,28.741,28.627,28.62,28.404,28.977,28.629,29.121,28.652,28.645,28.744,29.018,28.883,28.671,28.461,28.715,28.778,28.673,28.657,28.353,28.249,28.811,28.504,28.461,28.311,28.79,28.651,28.724,28.811,28.607,28.439,28.93,28.817,28.306,28.38,28.861,28.659,28.958,28.454,28.547,28.642,29.041,28.74,29.017,29.002,28.228,29.114,28.872,29.168,28.753,29.046,28.839],\"marker\":{\"color\":\"blue\"},\"mode\":\"markers\",\"name\":\"Congo\",\"showlegend\":true,\"subplot\":\"mapbox\",\"type\":\"scattermapbox\"},{\"hovertemplate\":\"\\u003cb\\u003e%{hovertext}\\u003c\\u002fb\\u003e\\u003cbr\\u003e\\u003cbr\\u003ecountry=Uganda\\u003cbr\\u003elatitude=%{lat}\\u003cbr\\u003elongitude=%{lon}\\u003cextra\\u003e\\u003c\\u002fextra\\u003e\",\"hovertext\":[\"Uganda\",\"Uganda\",\"Uganda\",\"Uganda\",\"Uganda\",\"Uganda\",\"Uganda\",\"Uganda\",\"Uganda\",\"Uganda\",\"Uganda\",\"Uganda\",\"Uganda\",\"Uganda\",\"Uganda\",\"Uganda\",\"Uganda\",\"Uganda\",\"Uganda\",\"Uganda\",\"Uganda\",\"Uganda\",\"Uganda\",\"Uganda\",\"Uganda\",\"Uganda\",\"Uganda\",\"Uganda\",\"Uganda\",\"Uganda\",\"Uganda\",\"Uganda\",\"Uganda\",\"Uganda\",\"Uganda\",\"Uganda\",\"Uganda\",\"Uganda\",\"Uganda\",\"Uganda\",\"Uganda\",\"Uganda\",\"Uganda\",\"Uganda\",\"Uganda\",\"Uganda\",\"Uganda\",\"Uganda\",\"Uganda\",\"Uganda\",\"Uganda\",\"Uganda\",\"Uganda\",\"Uganda\",\"Uganda\",\"Uganda\",\"Uganda\",\"Uganda\",\"Uganda\",\"Uganda\",\"Uganda\",\"Uganda\",\"Uganda\",\"Uganda\",\"Uganda\",\"Uganda\",\"Uganda\",\"Uganda\",\"Uganda\"],\"lat\":[-0.569,-0.604,-0.615,-0.627,-0.637,-0.653,-0.659,-0.667,-0.702,-0.72,-0.727,-0.787,-0.793,-0.806,-0.829,-0.837,-0.843,-0.853,-0.855,-0.859,-0.866,-0.871,-0.905,-0.925,-0.935,-0.942,-0.95,-0.956,-0.963,-0.964,-0.965,-0.972,-0.972,-0.978,-0.986,-0.989,-0.997,-0.997,-1.0,-1.014,-1.041,-1.045,-1.048,-1.066,-1.067,-1.07,-1.074,-1.084,-1.097,-1.105,-1.115,-1.116,-1.117,-1.118,-1.13,-1.168,-1.223,-1.244,-1.258,-1.274,-1.289,-1.299,-1.315,-1.331,-1.339,-1.342,-1.371,-1.383,-1.4],\"legendgroup\":\"Uganda\",\"lon\":[30.031,29.896,30.885,29.773,30.763,30.447,30.341,30.433,29.798,30.48,30.573,30.513,30.607,31.494,30.471,29.863,30.657,30.647,30.145,30.441,30.734,30.029,29.995,29.875,29.765,30.258,31.45,30.744,30.237,29.636,29.735,29.628,30.628,29.722,30.214,30.411,30.403,30.603,29.8,29.786,29.859,30.455,30.252,29.734,29.833,30.03,29.826,29.616,29.903,29.995,30.085,29.684,29.883,30.282,30.07,30.232,29.877,29.856,30.042,29.926,29.711,29.601,29.785,29.669,29.961,30.158,29.629,29.917,30.0],\"marker\":{\"color\":\"orange\"},\"mode\":\"markers\",\"name\":\"Uganda\",\"showlegend\":true,\"subplot\":\"mapbox\",\"type\":\"scattermapbox\"},{\"hovertemplate\":\"\\u003cb\\u003e%{hovertext}\\u003c\\u002fb\\u003e\\u003cbr\\u003e\\u003cbr\\u003ecountry=Tanzania\\u003cbr\\u003elatitude=%{lat}\\u003cbr\\u003elongitude=%{lon}\\u003cextra\\u003e\\u003c\\u002fextra\\u003e\",\"hovertext\":[\"Tanzania\",\"Tanzania\",\"Tanzania\",\"Tanzania\",\"Tanzania\",\"Tanzania\",\"Tanzania\",\"Tanzania\",\"Tanzania\",\"Tanzania\",\"Tanzania\",\"Tanzania\",\"Tanzania\",\"Tanzania\",\"Tanzania\",\"Tanzania\",\"Tanzania\",\"Tanzania\",\"Tanzania\",\"Tanzania\",\"Tanzania\",\"Tanzania\",\"Tanzania\",\"Tanzania\",\"Tanzania\",\"Tanzania\",\"Tanzania\",\"Tanzania\",\"Tanzania\",\"Tanzania\",\"Tanzania\",\"Tanzania\",\"Tanzania\",\"Tanzania\",\"Tanzania\",\"Tanzania\",\"Tanzania\",\"Tanzania\",\"Tanzania\",\"Tanzania\",\"Tanzania\",\"Tanzania\",\"Tanzania\",\"Tanzania\",\"Tanzania\",\"Tanzania\",\"Tanzania\",\"Tanzania\",\"Tanzania\",\"Tanzania\",\"Tanzania\",\"Tanzania\",\"Tanzania\",\"Tanzania\",\"Tanzania\",\"Tanzania\",\"Tanzania\",\"Tanzania\",\"Tanzania\",\"Tanzania\",\"Tanzania\",\"Tanzania\",\"Tanzania\",\"Tanzania\",\"Tanzania\",\"Tanzania\",\"Tanzania\",\"Tanzania\",\"Tanzania\",\"Tanzania\",\"Tanzania\",\"Tanzania\",\"Tanzania\",\"Tanzania\",\"Tanzania\",\"Tanzania\",\"Tanzania\",\"Tanzania\",\"Tanzania\",\"Tanzania\",\"Tanzania\"],\"lat\":[-1.004,-1.052,-1.065,-1.068,-1.068,-1.092,-1.129,-1.139,-1.143,-1.167,-1.171,-1.173,-1.176,-1.176,-1.176,-1.187,-1.2,-1.203,-1.207,-1.214,-1.225,-1.231,-1.242,-1.327,-1.342,-1.346,-1.355,-1.368,-1.408,-1.41,-1.412,-1.416,-1.429,-1.444,-1.505,-1.528,-1.529,-1.53,-1.534,-1.555,-1.581,-1.639,-1.641,-1.667,-1.683,-1.695,-1.7,-1.764,-1.77,-1.783,-1.802,-1.804,-1.82,-1.839,-1.847,-1.851,-1.858,-1.861,-1.899,-1.932,-1.938,-1.961,-1.968,-1.978,-1.981,-2.015,-2.016,-2.123,-2.166,-2.183,-2.204,-2.319,-2.353,-2.656,-2.719,-2.726,-2.766,-2.772,-2.812,-2.834,-2.879],\"legendgroup\":\"Tanzania\",\"lon\":[31.396,30.948,31.035,31.332,31.532,31.108,31.371,30.561,30.957,30.633,31.329,30.727,30.624,31.324,31.524,31.113,31.0,31.397,30.693,30.786,30.975,30.969,30.658,30.973,31.358,31.254,30.645,30.932,31.292,31.39,31.188,31.284,30.971,30.856,30.995,31.372,30.971,30.87,31.466,30.945,30.819,31.061,31.259,30.933,31.217,31.405,30.9,31.436,31.03,31.117,31.198,31.196,31.28,30.961,30.953,30.949,31.442,30.939,31.201,31.068,31.362,31.339,30.932,31.122,31.219,30.985,31.184,31.277,31.234,30.917,30.996,31.181,30.847,30.944,30.981,30.474,30.734,30.928,30.488,30.466,30.621],\"marker\":{\"color\":\"magenta\"},\"mode\":\"markers\",\"name\":\"Tanzania\",\"showlegend\":true,\"subplot\":\"mapbox\",\"type\":\"scattermapbox\"},{\"hovertemplate\":\"\\u003cb\\u003e%{hovertext}\\u003c\\u002fb\\u003e\\u003cbr\\u003e\\u003cbr\\u003ecountry=Rwanda\\u003cbr\\u003elatitude=%{lat}\\u003cbr\\u003elongitude=%{lon}\\u003cextra\\u003e\\u003c\\u002fextra\\u003e\",\"hovertext\":[\"Rwanda\",\"Rwanda\",\"Rwanda\",\"Rwanda\",\"Rwanda\",\"Rwanda\",\"Rwanda\",\"Rwanda\",\"Rwanda\",\"Rwanda\",\"Rwanda\",\"Rwanda\",\"Rwanda\",\"Rwanda\",\"Rwanda\",\"Rwanda\",\"Rwanda\",\"Rwanda\",\"Rwanda\",\"Rwanda\",\"Rwanda\",\"Rwanda\",\"Rwanda\",\"Rwanda\",\"Rwanda\",\"Rwanda\",\"Rwanda\",\"Rwanda\",\"Rwanda\",\"Rwanda\",\"Rwanda\",\"Rwanda\",\"Rwanda\",\"Rwanda\",\"Rwanda\",\"Rwanda\",\"Rwanda\",\"Rwanda\",\"Rwanda\",\"Rwanda\",\"Rwanda\",\"Rwanda\",\"Rwanda\",\"Rwanda\",\"Rwanda\",\"Rwanda\",\"Rwanda\",\"Rwanda\",\"Rwanda\",\"Rwanda\",\"Rwanda\",\"Rwanda\",\"Rwanda\",\"Rwanda\",\"Rwanda\",\"Rwanda\",\"Rwanda\",\"Rwanda\",\"Rwanda\",\"Rwanda\",\"Rwanda\",\"Rwanda\",\"Rwanda\",\"Rwanda\",\"Rwanda\",\"Rwanda\",\"Rwanda\",\"Rwanda\",\"Rwanda\",\"Rwanda\",\"Rwanda\",\"Rwanda\",\"Rwanda\",\"Rwanda\",\"Rwanda\",\"Rwanda\",\"Rwanda\",\"Rwanda\",\"Rwanda\",\"Rwanda\",\"Rwanda\",\"Rwanda\",\"Rwanda\",\"Rwanda\",\"Rwanda\",\"Rwanda\",\"Rwanda\",\"Rwanda\",\"Rwanda\",\"Rwanda\",\"Rwanda\",\"Rwanda\",\"Rwanda\",\"Rwanda\",\"Rwanda\",\"Rwanda\",\"Rwanda\",\"Rwanda\",\"Rwanda\",\"Rwanda\",\"Rwanda\",\"Rwanda\",\"Rwanda\",\"Rwanda\",\"Rwanda\",\"Rwanda\",\"Rwanda\",\"Rwanda\",\"Rwanda\",\"Rwanda\",\"Rwanda\",\"Rwanda\",\"Rwanda\",\"Rwanda\",\"Rwanda\",\"Rwanda\",\"Rwanda\",\"Rwanda\",\"Rwanda\",\"Rwanda\",\"Rwanda\",\"Rwanda\",\"Rwanda\",\"Rwanda\",\"Rwanda\",\"Rwanda\",\"Rwanda\",\"Rwanda\",\"Rwanda\",\"Rwanda\",\"Rwanda\",\"Rwanda\",\"Rwanda\",\"Rwanda\",\"Rwanda\",\"Rwanda\",\"Rwanda\",\"Rwanda\",\"Rwanda\",\"Rwanda\",\"Rwanda\",\"Rwanda\",\"Rwanda\",\"Rwanda\",\"Rwanda\",\"Rwanda\",\"Rwanda\",\"Rwanda\",\"Rwanda\",\"Rwanda\",\"Rwanda\",\"Rwanda\",\"Rwanda\",\"Rwanda\",\"Rwanda\",\"Rwanda\",\"Rwanda\",\"Rwanda\",\"Rwanda\"],\"lat\":[-1.196,-1.211,-1.226,-1.231,-1.279,-1.283,-1.307,-1.319,-1.355,-1.36,-1.398,-1.399,-1.413,-1.427,-1.429,-1.482,-1.486,-1.49,-1.49,-1.492,-1.497,-1.51,-1.51,-1.514,-1.523,-1.526,-1.528,-1.533,-1.534,-1.593,-1.596,-1.597,-1.606,-1.609,-1.615,-1.617,-1.621,-1.649,-1.659,-1.664,-1.683,-1.696,-1.718,-1.729,-1.737,-1.743,-1.792,-1.797,-1.802,-1.807,-1.808,-1.844,-1.845,-1.846,-1.852,-1.868,-1.871,-1.877,-1.88,-1.882,-1.889,-1.9,-1.906,-1.911,-1.911,-1.92,-1.922,-1.923,-1.933,-1.945,-1.959,-1.99,-2.032,-2.041,-2.049,-2.049,-2.051,-2.053,-2.055,-2.056,-2.058,-2.065,-2.07,-2.079,-2.082,-2.082,-2.091,-2.102,-2.119,-2.125,-2.133,-2.136,-2.153,-2.154,-2.162,-2.176,-2.177,-2.179,-2.18,-2.185,-2.185,-2.194,-2.235,-2.237,-2.254,-2.257,-2.26,-2.262,-2.267,-2.269,-2.271,-2.272,-2.278,-2.28,-2.291,-2.293,-2.3,-2.301,-2.302,-2.311,-2.313,-2.329,-2.33,-2.335,-2.341,-2.342,-2.362,-2.365,-2.376,-2.378,-2.399,-2.407,-2.431,-2.432,-2.44,-2.441,-2.479,-2.491,-2.517,-2.521,-2.522,-2.548,-2.555,-2.561,-2.583,-2.588,-2.595,-2.599,-2.602,-2.623,-2.638,-2.64,-2.656,-2.697,-2.7,-2.712,-2.734,-2.74,-2.757],\"legendgroup\":\"Rwanda\",\"lon\":[30.404,30.389,30.274,30.269,30.521,30.417,30.393,30.281,30.245,30.34,29.702,29.601,30.287,30.073,30.171,30.618,29.614,30.31,30.51,30.308,30.603,29.89,30.19,29.686,30.677,29.874,29.972,29.967,30.366,30.207,29.404,29.603,30.294,29.391,30.285,30.683,30.479,29.351,29.641,30.336,29.617,30.704,30.382,30.471,30.063,29.457,30.408,30.303,29.798,30.093,29.892,30.356,29.355,29.554,29.948,29.832,29.729,30.623,30.72,30.018,29.611,29.5,29.694,29.389,30.189,29.68,29.178,29.777,30.367,29.155,30.341,30.41,29.168,30.559,29.551,30.751,29.949,30.647,30.845,30.544,30.642,30.235,29.23,29.321,29.218,30.418,30.709,29.898,29.281,30.375,30.467,30.264,29.947,29.946,30.138,29.324,30.223,30.621,29.62,29.515,30.515,29.506,30.765,30.763,30.446,30.243,30.84,30.838,29.933,30.231,29.929,29.128,29.722,29.92,29.609,29.507,29.2,29.899,29.198,29.489,29.787,30.071,29.57,29.665,29.059,29.458,30.638,30.535,29.924,29.222,29.901,29.393,29.269,29.568,29.06,28.959,29.421,29.309,29.883,29.179,29.078,29.752,29.145,29.839,29.617,29.912,28.905,29.801,29.898,28.977,29.562,29.46,29.744,29.403,29.5,29.488,29.766,29.66,29.543],\"marker\":{\"color\":\"red\"},\"mode\":\"markers\",\"name\":\"Rwanda\",\"showlegend\":true,\"subplot\":\"mapbox\",\"type\":\"scattermapbox\"},{\"hovertemplate\":\"\\u003cb\\u003e%{hovertext}\\u003c\\u002fb\\u003e\\u003cbr\\u003e\\u003cbr\\u003ecountry=Burundi\\u003cbr\\u003elatitude=%{lat}\\u003cbr\\u003elongitude=%{lon}\\u003cextra\\u003e\\u003c\\u002fextra\\u003e\",\"hovertext\":[\"Burundi\",\"Burundi\",\"Burundi\",\"Burundi\",\"Burundi\",\"Burundi\",\"Burundi\",\"Burundi\",\"Burundi\",\"Burundi\",\"Burundi\",\"Burundi\",\"Burundi\",\"Burundi\",\"Burundi\",\"Burundi\",\"Burundi\",\"Burundi\",\"Burundi\",\"Burundi\",\"Burundi\",\"Burundi\",\"Burundi\",\"Burundi\",\"Burundi\",\"Burundi\",\"Burundi\",\"Burundi\",\"Burundi\",\"Burundi\",\"Burundi\",\"Burundi\",\"Burundi\",\"Burundi\",\"Burundi\",\"Burundi\",\"Burundi\",\"Burundi\",\"Burundi\",\"Burundi\",\"Burundi\",\"Burundi\",\"Burundi\",\"Burundi\",\"Burundi\",\"Burundi\",\"Burundi\",\"Burundi\",\"Burundi\",\"Burundi\",\"Burundi\",\"Burundi\",\"Burundi\",\"Burundi\",\"Burundi\",\"Burundi\",\"Burundi\",\"Burundi\",\"Burundi\",\"Burundi\",\"Burundi\",\"Burundi\",\"Burundi\",\"Burundi\",\"Burundi\"],\"lat\":[-2.386,-2.404,-2.436,-2.466,-2.484,-2.571,-2.643,-2.652,-2.655,-2.662,-2.673,-2.696,-2.71,-2.719,-2.721,-2.751,-2.752,-2.763,-2.764,-2.771,-2.815,-2.817,-2.817,-2.818,-2.819,-2.821,-2.828,-2.836,-2.836,-2.841,-2.851,-2.855,-2.859,-2.896,-2.899,-2.9,-2.902,-2.922,-2.924,-2.929,-2.931,-2.935,-2.939,-2.944,-2.946,-2.955,-2.958,-2.959,-2.97,-2.979,-2.985,-2.999,-3.016,-3.016,-3.023,-3.025,-3.095,-3.099,-3.133,-3.136,-3.138,-3.153,-3.174,-3.287,-3.299],\"legendgroup\":\"Burundi\",\"lon\":[30.314,30.496,30.464,30.334,30.116,30.029,29.257,29.148,30.245,30.138,29.327,29.304,30.19,30.281,29.979,29.249,30.048,30.337,29.136,30.029,30.285,29.283,29.783,29.582,29.981,29.479,29.872,30.064,30.364,29.159,30.249,29.145,29.441,29.404,29.601,29.3,30.398,29.178,29.976,29.771,29.569,29.565,30.461,29.356,30.454,30.245,29.442,30.641,30.03,30.021,30.415,30.701,30.384,30.584,30.177,30.275,29.505,29.601,29.467,30.364,30.662,30.347,29.926,29.713,30.301],\"marker\":{\"color\":\"green\"},\"mode\":\"markers\",\"name\":\"Burundi\",\"showlegend\":true,\"subplot\":\"mapbox\",\"type\":\"scattermapbox\"}],                        {\"template\":{\"data\":{\"histogram2dcontour\":[{\"type\":\"histogram2dcontour\",\"colorbar\":{\"outlinewidth\":0,\"ticks\":\"\"},\"colorscale\":[[0.0,\"#0d0887\"],[0.1111111111111111,\"#46039f\"],[0.2222222222222222,\"#7201a8\"],[0.3333333333333333,\"#9c179e\"],[0.4444444444444444,\"#bd3786\"],[0.5555555555555556,\"#d8576b\"],[0.6666666666666666,\"#ed7953\"],[0.7777777777777778,\"#fb9f3a\"],[0.8888888888888888,\"#fdca26\"],[1.0,\"#f0f921\"]]}],\"choropleth\":[{\"type\":\"choropleth\",\"colorbar\":{\"outlinewidth\":0,\"ticks\":\"\"}}],\"histogram2d\":[{\"type\":\"histogram2d\",\"colorbar\":{\"outlinewidth\":0,\"ticks\":\"\"},\"colorscale\":[[0.0,\"#0d0887\"],[0.1111111111111111,\"#46039f\"],[0.2222222222222222,\"#7201a8\"],[0.3333333333333333,\"#9c179e\"],[0.4444444444444444,\"#bd3786\"],[0.5555555555555556,\"#d8576b\"],[0.6666666666666666,\"#ed7953\"],[0.7777777777777778,\"#fb9f3a\"],[0.8888888888888888,\"#fdca26\"],[1.0,\"#f0f921\"]]}],\"heatmap\":[{\"type\":\"heatmap\",\"colorbar\":{\"outlinewidth\":0,\"ticks\":\"\"},\"colorscale\":[[0.0,\"#0d0887\"],[0.1111111111111111,\"#46039f\"],[0.2222222222222222,\"#7201a8\"],[0.3333333333333333,\"#9c179e\"],[0.4444444444444444,\"#bd3786\"],[0.5555555555555556,\"#d8576b\"],[0.6666666666666666,\"#ed7953\"],[0.7777777777777778,\"#fb9f3a\"],[0.8888888888888888,\"#fdca26\"],[1.0,\"#f0f921\"]]}],\"heatmapgl\":[{\"type\":\"heatmapgl\",\"colorbar\":{\"outlinewidth\":0,\"ticks\":\"\"},\"colorscale\":[[0.0,\"#0d0887\"],[0.1111111111111111,\"#46039f\"],[0.2222222222222222,\"#7201a8\"],[0.3333333333333333,\"#9c179e\"],[0.4444444444444444,\"#bd3786\"],[0.5555555555555556,\"#d8576b\"],[0.6666666666666666,\"#ed7953\"],[0.7777777777777778,\"#fb9f3a\"],[0.8888888888888888,\"#fdca26\"],[1.0,\"#f0f921\"]]}],\"contourcarpet\":[{\"type\":\"contourcarpet\",\"colorbar\":{\"outlinewidth\":0,\"ticks\":\"\"}}],\"contour\":[{\"type\":\"contour\",\"colorbar\":{\"outlinewidth\":0,\"ticks\":\"\"},\"colorscale\":[[0.0,\"#0d0887\"],[0.1111111111111111,\"#46039f\"],[0.2222222222222222,\"#7201a8\"],[0.3333333333333333,\"#9c179e\"],[0.4444444444444444,\"#bd3786\"],[0.5555555555555556,\"#d8576b\"],[0.6666666666666666,\"#ed7953\"],[0.7777777777777778,\"#fb9f3a\"],[0.8888888888888888,\"#fdca26\"],[1.0,\"#f0f921\"]]}],\"surface\":[{\"type\":\"surface\",\"colorbar\":{\"outlinewidth\":0,\"ticks\":\"\"},\"colorscale\":[[0.0,\"#0d0887\"],[0.1111111111111111,\"#46039f\"],[0.2222222222222222,\"#7201a8\"],[0.3333333333333333,\"#9c179e\"],[0.4444444444444444,\"#bd3786\"],[0.5555555555555556,\"#d8576b\"],[0.6666666666666666,\"#ed7953\"],[0.7777777777777778,\"#fb9f3a\"],[0.8888888888888888,\"#fdca26\"],[1.0,\"#f0f921\"]]}],\"mesh3d\":[{\"type\":\"mesh3d\",\"colorbar\":{\"outlinewidth\":0,\"ticks\":\"\"}}],\"scatter\":[{\"fillpattern\":{\"fillmode\":\"overlay\",\"size\":10,\"solidity\":0.2},\"type\":\"scatter\"}],\"parcoords\":[{\"type\":\"parcoords\",\"line\":{\"colorbar\":{\"outlinewidth\":0,\"ticks\":\"\"}}}],\"scatterpolargl\":[{\"type\":\"scatterpolargl\",\"marker\":{\"colorbar\":{\"outlinewidth\":0,\"ticks\":\"\"}}}],\"bar\":[{\"error_x\":{\"color\":\"#2a3f5f\"},\"error_y\":{\"color\":\"#2a3f5f\"},\"marker\":{\"line\":{\"color\":\"#E5ECF6\",\"width\":0.5},\"pattern\":{\"fillmode\":\"overlay\",\"size\":10,\"solidity\":0.2}},\"type\":\"bar\"}],\"scattergeo\":[{\"type\":\"scattergeo\",\"marker\":{\"colorbar\":{\"outlinewidth\":0,\"ticks\":\"\"}}}],\"scatterpolar\":[{\"type\":\"scatterpolar\",\"marker\":{\"colorbar\":{\"outlinewidth\":0,\"ticks\":\"\"}}}],\"histogram\":[{\"marker\":{\"pattern\":{\"fillmode\":\"overlay\",\"size\":10,\"solidity\":0.2}},\"type\":\"histogram\"}],\"scattergl\":[{\"type\":\"scattergl\",\"marker\":{\"colorbar\":{\"outlinewidth\":0,\"ticks\":\"\"}}}],\"scatter3d\":[{\"type\":\"scatter3d\",\"line\":{\"colorbar\":{\"outlinewidth\":0,\"ticks\":\"\"}},\"marker\":{\"colorbar\":{\"outlinewidth\":0,\"ticks\":\"\"}}}],\"scattermapbox\":[{\"type\":\"scattermapbox\",\"marker\":{\"colorbar\":{\"outlinewidth\":0,\"ticks\":\"\"}}}],\"scatterternary\":[{\"type\":\"scatterternary\",\"marker\":{\"colorbar\":{\"outlinewidth\":0,\"ticks\":\"\"}}}],\"scattercarpet\":[{\"type\":\"scattercarpet\",\"marker\":{\"colorbar\":{\"outlinewidth\":0,\"ticks\":\"\"}}}],\"carpet\":[{\"aaxis\":{\"endlinecolor\":\"#2a3f5f\",\"gridcolor\":\"white\",\"linecolor\":\"white\",\"minorgridcolor\":\"white\",\"startlinecolor\":\"#2a3f5f\"},\"baxis\":{\"endlinecolor\":\"#2a3f5f\",\"gridcolor\":\"white\",\"linecolor\":\"white\",\"minorgridcolor\":\"white\",\"startlinecolor\":\"#2a3f5f\"},\"type\":\"carpet\"}],\"table\":[{\"cells\":{\"fill\":{\"color\":\"#EBF0F8\"},\"line\":{\"color\":\"white\"}},\"header\":{\"fill\":{\"color\":\"#C8D4E3\"},\"line\":{\"color\":\"white\"}},\"type\":\"table\"}],\"barpolar\":[{\"marker\":{\"line\":{\"color\":\"#E5ECF6\",\"width\":0.5},\"pattern\":{\"fillmode\":\"overlay\",\"size\":10,\"solidity\":0.2}},\"type\":\"barpolar\"}],\"pie\":[{\"automargin\":true,\"type\":\"pie\"}]},\"layout\":{\"autotypenumbers\":\"strict\",\"colorway\":[\"#636efa\",\"#EF553B\",\"#00cc96\",\"#ab63fa\",\"#FFA15A\",\"#19d3f3\",\"#FF6692\",\"#B6E880\",\"#FF97FF\",\"#FECB52\"],\"font\":{\"color\":\"#2a3f5f\"},\"hovermode\":\"closest\",\"hoverlabel\":{\"align\":\"left\"},\"paper_bgcolor\":\"white\",\"plot_bgcolor\":\"#E5ECF6\",\"polar\":{\"bgcolor\":\"#E5ECF6\",\"angularaxis\":{\"gridcolor\":\"white\",\"linecolor\":\"white\",\"ticks\":\"\"},\"radialaxis\":{\"gridcolor\":\"white\",\"linecolor\":\"white\",\"ticks\":\"\"}},\"ternary\":{\"bgcolor\":\"#E5ECF6\",\"aaxis\":{\"gridcolor\":\"white\",\"linecolor\":\"white\",\"ticks\":\"\"},\"baxis\":{\"gridcolor\":\"white\",\"linecolor\":\"white\",\"ticks\":\"\"},\"caxis\":{\"gridcolor\":\"white\",\"linecolor\":\"white\",\"ticks\":\"\"}},\"coloraxis\":{\"colorbar\":{\"outlinewidth\":0,\"ticks\":\"\"}},\"colorscale\":{\"sequential\":[[0.0,\"#0d0887\"],[0.1111111111111111,\"#46039f\"],[0.2222222222222222,\"#7201a8\"],[0.3333333333333333,\"#9c179e\"],[0.4444444444444444,\"#bd3786\"],[0.5555555555555556,\"#d8576b\"],[0.6666666666666666,\"#ed7953\"],[0.7777777777777778,\"#fb9f3a\"],[0.8888888888888888,\"#fdca26\"],[1.0,\"#f0f921\"]],\"sequentialminus\":[[0.0,\"#0d0887\"],[0.1111111111111111,\"#46039f\"],[0.2222222222222222,\"#7201a8\"],[0.3333333333333333,\"#9c179e\"],[0.4444444444444444,\"#bd3786\"],[0.5555555555555556,\"#d8576b\"],[0.6666666666666666,\"#ed7953\"],[0.7777777777777778,\"#fb9f3a\"],[0.8888888888888888,\"#fdca26\"],[1.0,\"#f0f921\"]],\"diverging\":[[0,\"#8e0152\"],[0.1,\"#c51b7d\"],[0.2,\"#de77ae\"],[0.3,\"#f1b6da\"],[0.4,\"#fde0ef\"],[0.5,\"#f7f7f7\"],[0.6,\"#e6f5d0\"],[0.7,\"#b8e186\"],[0.8,\"#7fbc41\"],[0.9,\"#4d9221\"],[1,\"#276419\"]]},\"xaxis\":{\"gridcolor\":\"white\",\"linecolor\":\"white\",\"ticks\":\"\",\"title\":{\"standoff\":15},\"zerolinecolor\":\"white\",\"automargin\":true,\"zerolinewidth\":2},\"yaxis\":{\"gridcolor\":\"white\",\"linecolor\":\"white\",\"ticks\":\"\",\"title\":{\"standoff\":15},\"zerolinecolor\":\"white\",\"automargin\":true,\"zerolinewidth\":2},\"scene\":{\"xaxis\":{\"backgroundcolor\":\"#E5ECF6\",\"gridcolor\":\"white\",\"linecolor\":\"white\",\"showbackground\":true,\"ticks\":\"\",\"zerolinecolor\":\"white\",\"gridwidth\":2},\"yaxis\":{\"backgroundcolor\":\"#E5ECF6\",\"gridcolor\":\"white\",\"linecolor\":\"white\",\"showbackground\":true,\"ticks\":\"\",\"zerolinecolor\":\"white\",\"gridwidth\":2},\"zaxis\":{\"backgroundcolor\":\"#E5ECF6\",\"gridcolor\":\"white\",\"linecolor\":\"white\",\"showbackground\":true,\"ticks\":\"\",\"zerolinecolor\":\"white\",\"gridwidth\":2}},\"shapedefaults\":{\"line\":{\"color\":\"#2a3f5f\"}},\"annotationdefaults\":{\"arrowcolor\":\"#2a3f5f\",\"arrowhead\":0,\"arrowwidth\":1},\"geo\":{\"bgcolor\":\"white\",\"landcolor\":\"#E5ECF6\",\"subunitcolor\":\"white\",\"showland\":true,\"showlakes\":true,\"lakecolor\":\"white\"},\"title\":{\"x\":0.05},\"mapbox\":{\"style\":\"light\"}}},\"mapbox\":{\"domain\":{\"x\":[0.0,1.0],\"y\":[0.0,1.0]},\"center\":{\"lat\":-1.891072434607646,\"lon\":29.88015492957746},\"zoom\":7,\"style\":\"open-street-map\"},\"legend\":{\"title\":{\"text\":\"country\"},\"tracegroupgap\":0},\"title\":{\"text\":\"CO\\u2082 Emissions by Country\",\"font\":{\"size\":18}},\"margin\":{\"r\":0,\"t\":50,\"l\":0,\"b\":0},\"font\":{\"color\":\"#545454\"},\"width\":800,\"height\":600,\"plot_bgcolor\":\"#FFFCFA\",\"paper_bgcolor\":\"#FFFCFA\"},                        {\"responsive\": true}                    ).then(function(){\n",
       "                            \n",
       "var gd = document.getElementById('5ed52538-b8d7-4845-aa66-906929f1c9b1');\n",
       "var x = new MutationObserver(function (mutations, observer) {{\n",
       "        var display = window.getComputedStyle(gd).display;\n",
       "        if (!display || display === 'none') {{\n",
       "            console.log([gd, 'removed!']);\n",
       "            Plotly.purge(gd);\n",
       "            observer.disconnect();\n",
       "        }}\n",
       "}});\n",
       "\n",
       "// Listen for the removal of the full notebook cells\n",
       "var notebookContainer = gd.closest('#notebook-container');\n",
       "if (notebookContainer) {{\n",
       "    x.observe(notebookContainer, {childList: true});\n",
       "}}\n",
       "\n",
       "// Listen for the clearing of the current output cell\n",
       "var outputEl = gd.closest('.output');\n",
       "if (outputEl) {{\n",
       "    x.observe(outputEl, {childList: true});\n",
       "}}\n",
       "\n",
       "                        })                };                            </script>        </div>\n",
       "</body>\n",
       "</html>"
      ]
     },
     "metadata": {},
     "output_type": "display_data"
    }
   ],
   "source": [
    "marker_df = country_df.copy()\n",
    "\n",
    "fig = px.scatter_mapbox(marker_df,\n",
    "    lat=\"latitude\",\n",
    "    lon=\"longitude\",\n",
    "    color=\"country\",\n",
    "    color_discrete_map={\n",
    "        'Rwanda': 'red',\n",
    "        'Uganda': 'orange',\n",
    "        'Tanzania': 'magenta',\n",
    "        'Burundi': 'green',\n",
    "        'Congo': 'blue'},\n",
    "    hover_name=\"country\",\n",
    "    zoom=7,\n",
    "    title=\"CO\\u2082 Emissions by Country\")\n",
    "\n",
    "fig.update_layout(\n",
    "    mapbox_style = \"open-street-map\",\n",
    "    margin=dict(r=0, t=50, l=0, b=0),\n",
    "    font_color=FONT_COLOR,\n",
    "    title_font_size=18,\n",
    "    mapbox_center={\"lat\": marker_df[\"latitude\"].mean(), \"lon\": marker_df[\"longitude\"].mean()},\n",
    "    width=800,\n",
    "    height=600,\n",
    "    plot_bgcolor=BACKGROUND_COLOR,\n",
    "    paper_bgcolor=BACKGROUND_COLOR\n",
    ")\n",
    "fig.show()"
   ]
  },
  {
   "cell_type": "code",
   "execution_count": 546,
   "metadata": {
    "colab": {
     "base_uri": "https://localhost:8080/",
     "height": 0
    },
    "executionInfo": {
     "elapsed": 15,
     "status": "ok",
     "timestamp": 1692675877885,
     "user": {
      "displayName": "Lee Minjik",
      "userId": "03992121075759719709"
     },
     "user_tz": -540
    },
    "id": "g4bJTpBu3UtN",
    "outputId": "b10e5516-a3fe-4f84-a3fe-a15d808a3075"
   },
   "outputs": [
    {
     "data": {
      "text/html": [
       "<html>\n",
       "<head><meta charset=\"utf-8\" /></head>\n",
       "<body>\n",
       "    <div>            <script src=\"https://cdnjs.cloudflare.com/ajax/libs/mathjax/2.7.5/MathJax.js?config=TeX-AMS-MML_SVG\"></script><script type=\"text/javascript\">if (window.MathJax && window.MathJax.Hub && window.MathJax.Hub.Config) {window.MathJax.Hub.Config({SVG: {font: \"STIX-Web\"}});}</script>                <script type=\"text/javascript\">window.PlotlyConfig = {MathJaxConfig: 'local'};</script>\n",
       "        <script charset=\"utf-8\" src=\"https://cdn.plot.ly/plotly-2.24.1.min.js\"></script>                <div id=\"4b8a554f-f787-43e1-9ca0-837377731c2b\" class=\"plotly-graph-div\" style=\"height:600px; width:800px;\"></div>            <script type=\"text/javascript\">                                    window.PLOTLYENV=window.PLOTLYENV || {};                                    if (document.getElementById(\"4b8a554f-f787-43e1-9ca0-837377731c2b\")) {                    Plotly.newPlot(                        \"4b8a554f-f787-43e1-9ca0-837377731c2b\",                        [{\"hovertemplate\":\"emission=%{marker.color}\\u003cbr\\u003elatitude=%{lat}\\u003cbr\\u003elongitude=%{lon}\\u003cextra\\u003e\\u003c\\u002fextra\\u003e\",\"lat\":[-3.299,-3.287,-3.174,-3.161,-3.153,-3.138,-3.136,-3.133,-3.099,-3.095,-3.054,-3.047,-3.032,-3.028,-3.025,-3.023,-3.016,-3.016,-2.999,-2.986,-2.985,-2.979,-2.972,-2.97,-2.959,-2.958,-2.955,-2.946,-2.944,-2.939,-2.935,-2.931,-2.929,-2.924,-2.922,-2.902,-2.9,-2.899,-2.898,-2.896,-2.883,-2.879,-2.86,-2.859,-2.859,-2.858,-2.855,-2.853,-2.851,-2.846,-2.842,-2.841,-2.841,-2.839,-2.836,-2.836,-2.834,-2.828,-2.821,-2.82,-2.819,-2.818,-2.817,-2.817,-2.815,-2.812,-2.794,-2.783,-2.772,-2.771,-2.77,-2.766,-2.764,-2.763,-2.761,-2.757,-2.752,-2.751,-2.74,-2.734,-2.726,-2.721,-2.719,-2.719,-2.712,-2.71,-2.7,-2.697,-2.696,-2.693,-2.689,-2.676,-2.673,-2.662,-2.656,-2.656,-2.655,-2.652,-2.649,-2.643,-2.64,-2.638,-2.623,-2.61,-2.602,-2.599,-2.595,-2.589,-2.588,-2.583,-2.571,-2.561,-2.555,-2.548,-2.539,-2.522,-2.521,-2.517,-2.496,-2.491,-2.489,-2.484,-2.479,-2.466,-2.451,-2.447,-2.443,-2.441,-2.44,-2.436,-2.432,-2.431,-2.427,-2.422,-2.407,-2.404,-2.399,-2.386,-2.385,-2.378,-2.376,-2.365,-2.362,-2.353,-2.342,-2.341,-2.339,-2.335,-2.33,-2.329,-2.329,-2.319,-2.317,-2.313,-2.311,-2.302,-2.301,-2.3,-2.293,-2.291,-2.282,-2.28,-2.278,-2.272,-2.271,-2.269,-2.267,-2.262,-2.26,-2.257,-2.256,-2.255,-2.254,-2.248,-2.237,-2.235,-2.204,-2.194,-2.185,-2.185,-2.183,-2.18,-2.179,-2.179,-2.177,-2.176,-2.171,-2.166,-2.162,-2.154,-2.153,-2.136,-2.133,-2.125,-2.123,-2.123,-2.119,-2.102,-2.096,-2.091,-2.082,-2.082,-2.08,-2.079,-2.073,-2.07,-2.065,-2.059,-2.058,-2.056,-2.055,-2.053,-2.051,-2.049,-2.049,-2.049,-2.041,-2.032,-2.018,-2.016,-2.015,-1.99,-1.981,-1.978,-1.974,-1.968,-1.961,-1.961,-1.959,-1.951,-1.945,-1.944,-1.938,-1.933,-1.932,-1.929,-1.926,-1.923,-1.922,-1.92,-1.911,-1.911,-1.906,-1.903,-1.902,-1.9,-1.899,-1.889,-1.882,-1.882,-1.88,-1.877,-1.877,-1.871,-1.868,-1.861,-1.858,-1.852,-1.851,-1.847,-1.847,-1.846,-1.845,-1.844,-1.839,-1.839,-1.833,-1.82,-1.808,-1.807,-1.804,-1.802,-1.802,-1.799,-1.797,-1.792,-1.783,-1.77,-1.77,-1.764,-1.753,-1.743,-1.737,-1.73,-1.729,-1.718,-1.712,-1.7,-1.696,-1.696,-1.695,-1.69,-1.683,-1.683,-1.682,-1.667,-1.664,-1.659,-1.649,-1.641,-1.639,-1.621,-1.617,-1.615,-1.613,-1.609,-1.606,-1.597,-1.596,-1.593,-1.583,-1.581,-1.555,-1.536,-1.534,-1.534,-1.533,-1.533,-1.532,-1.53,-1.529,-1.528,-1.528,-1.526,-1.523,-1.516,-1.514,-1.51,-1.51,-1.505,-1.497,-1.492,-1.49,-1.49,-1.486,-1.486,-1.482,-1.45,-1.444,-1.429,-1.429,-1.427,-1.416,-1.413,-1.412,-1.41,-1.408,-1.4,-1.399,-1.398,-1.384,-1.383,-1.371,-1.368,-1.366,-1.364,-1.36,-1.355,-1.355,-1.348,-1.346,-1.342,-1.342,-1.342,-1.339,-1.335,-1.331,-1.328,-1.327,-1.319,-1.315,-1.307,-1.303,-1.299,-1.292,-1.289,-1.289,-1.283,-1.279,-1.274,-1.267,-1.258,-1.252,-1.244,-1.242,-1.231,-1.231,-1.226,-1.225,-1.223,-1.223,-1.214,-1.211,-1.207,-1.203,-1.2,-1.196,-1.187,-1.185,-1.176,-1.176,-1.176,-1.173,-1.171,-1.17,-1.168,-1.167,-1.163,-1.143,-1.139,-1.13,-1.129,-1.118,-1.117,-1.116,-1.115,-1.105,-1.097,-1.092,-1.085,-1.084,-1.076,-1.074,-1.07,-1.07,-1.068,-1.068,-1.067,-1.066,-1.065,-1.062,-1.052,-1.048,-1.045,-1.043,-1.041,-1.036,-1.024,-1.014,-1.004,-1.003,-1.0,-0.997,-0.997,-0.989,-0.986,-0.978,-0.972,-0.972,-0.965,-0.964,-0.964,-0.963,-0.956,-0.95,-0.942,-0.938,-0.935,-0.933,-0.925,-0.915,-0.905,-0.905,-0.871,-0.869,-0.866,-0.859,-0.855,-0.853,-0.843,-0.837,-0.829,-0.806,-0.801,-0.799,-0.798,-0.793,-0.787,-0.785,-0.766,-0.727,-0.726,-0.72,-0.702,-0.677,-0.667,-0.659,-0.653,-0.637,-0.627,-0.615,-0.604,-0.598,-0.569,-0.547,-0.528,-0.51],\"legendgroup\":\"\",\"lon\":[30.301,29.713,29.926,28.839,30.347,30.662,30.364,29.467,29.601,29.505,29.046,28.753,29.168,28.872,30.275,30.177,30.384,30.584,30.701,29.114,30.415,30.021,28.228,30.03,30.641,29.442,30.245,30.454,29.356,30.461,29.565,29.569,29.771,29.976,29.178,30.398,29.3,29.601,29.002,29.404,29.017,30.621,28.74,29.041,29.441,28.642,29.145,28.547,30.249,28.454,28.958,28.659,29.159,28.861,30.064,30.364,30.466,29.872,29.479,28.38,29.981,29.582,29.283,29.783,30.285,30.488,28.306,28.817,30.928,30.029,28.93,30.734,29.136,30.337,28.439,29.543,30.048,29.249,29.66,29.766,30.474,29.979,30.281,30.981,29.488,30.19,29.5,29.403,29.304,28.607,28.811,28.724,29.327,30.138,29.744,30.944,30.245,29.148,28.651,29.257,29.46,29.562,28.977,28.79,29.898,29.801,28.905,28.311,29.912,29.617,30.029,29.839,29.145,29.752,28.461,29.078,29.179,29.883,28.504,29.309,28.811,30.116,29.421,30.334,28.249,28.353,28.657,28.959,29.06,30.464,29.568,29.269,28.673,28.778,29.393,30.496,29.901,30.314,28.715,29.222,29.924,30.535,30.638,30.847,29.458,29.059,28.461,29.665,29.57,28.671,30.071,31.181,28.883,29.787,29.489,29.198,29.899,29.2,29.507,29.609,29.018,29.92,29.722,29.128,29.929,30.231,29.933,30.838,30.84,30.243,28.744,28.645,30.446,28.652,30.763,30.765,30.996,29.506,29.515,30.515,30.917,29.62,29.121,30.621,30.223,29.324,28.629,31.234,30.138,29.946,29.947,30.264,30.467,30.375,28.977,31.277,29.281,29.898,28.404,30.709,29.218,30.418,28.62,29.321,28.627,29.23,30.235,28.741,30.642,30.544,30.845,30.647,29.949,29.151,29.551,30.751,30.559,29.168,28.882,31.184,30.985,30.41,31.219,31.122,28.526,30.932,28.939,31.339,30.341,28.649,29.155,28.556,31.362,30.367,31.068,28.771,28.474,29.777,29.178,29.68,29.389,30.189,29.694,28.297,28.398,29.5,31.201,29.611,28.718,30.018,30.72,28.523,30.623,29.729,29.832,30.939,31.442,29.948,30.949,28.753,30.953,29.554,29.355,30.356,28.761,30.961,28.467,31.28,29.892,30.093,31.196,29.798,31.198,28.601,30.303,30.408,31.117,29.13,31.03,31.436,28.547,29.457,30.063,28.47,30.471,30.382,28.688,30.9,28.304,30.704,31.405,28.51,29.617,31.217,29.218,30.933,30.336,29.641,29.351,31.259,31.061,30.479,30.683,30.285,28.487,29.391,30.294,29.603,29.404,30.207,28.517,30.819,30.945,28.364,30.366,31.466,28.467,29.967,28.568,30.87,30.971,29.972,31.372,29.874,30.677,28.984,29.686,29.89,30.19,30.995,30.603,30.308,30.31,30.51,29.314,29.614,30.618,29.35,30.856,30.171,30.971,30.073,31.284,30.287,31.188,31.39,31.292,30.0,29.601,29.702,28.916,29.917,29.629,30.932,29.434,29.036,30.34,30.245,30.645,29.552,31.254,29.258,30.158,31.358,29.961,29.465,29.669,28.872,30.973,30.281,29.785,30.393,28.997,29.601,29.408,28.911,29.711,30.417,30.521,29.926,29.233,30.042,28.848,29.856,30.658,30.269,30.969,30.274,30.975,29.377,29.877,30.786,30.389,30.693,31.397,31.0,30.404,31.113,28.915,30.624,31.324,31.524,30.727,31.329,29.33,30.232,30.633,29.537,30.957,30.561,30.07,31.371,30.282,29.883,29.684,30.085,29.995,29.903,31.108,29.215,29.616,28.724,29.826,29.33,30.03,31.332,31.532,29.833,29.734,31.035,28.838,30.948,30.252,30.455,29.057,29.859,28.964,28.976,29.786,31.396,29.497,29.8,30.403,30.603,30.411,30.214,29.722,29.628,30.628,29.735,29.436,29.636,30.237,30.744,31.45,30.258,29.262,29.765,29.267,29.875,28.985,29.495,29.995,30.029,29.231,30.734,30.441,30.145,30.647,30.657,29.863,30.471,31.494,29.499,29.201,29.402,30.607,30.513,29.115,29.534,30.573,29.374,30.48,29.798,29.623,30.433,30.341,30.447,30.763,29.773,30.885,29.896,29.102,30.031,29.653,29.472,29.29],\"marker\":{\"color\":[27.633301496855342,42.07768410691824,44.83233963522013,0.1258088698427673,14.5025916918239,23.924258842767294,16.047049204402516,117.93883411320756,77.96395347798743,4.409909146540881,63.029156930817614,0.12513020886163523,19.397358150943397,47.461872452830185,42.39749001886792,57.606633364779874,14.762471257861636,5.769100128301886,26.21837059119497,0.06237565457861636,247.56497,48.71949599371069,2.4673512503144654,7.269472139622642,3.028461237735849,85.03373686792453,133.94738333962263,22.592063949685535,18.283733927672955,10.900797174842767,78.65978681761005,92.75177562893082,39.86538089308176,80.88647010062893,57.20032612578617,16.06383539937107,11.986507949685533,123.63072114465407,0.0,17.984559676100627,30.52283010062893,140.53735965408805,177.73175050314467,0.0,33.05867405660377,1.9139445408805031,44.20326052201258,12.577920594339624,54.67548829559748,1.277589723018868,90.34265336477986,44.27908232704403,0.0,2.467124748427673,44.17292628301887,44.20885312578616,36.09110866666667,53.015754415094335,125.13981542138366,21.846918814465408,33.85511008805032,28.438051440251574,0.0,26.188220270440254,37.27187263522013,43.50869208805032,1.8891989970440253,0.9378707284905661,36.832919113207545,154.6812783207547,42.58723672955975,0.5124638889308176,58.91227478616353,78.67071452830189,3.265116683018868,71.82819062264151,25.803200540880507,2.3494947012578615,76.16030940880503,108.9278871509434,8.979628248427673,36.98562389308176,80.9438672264151,155.5739374465409,46.70087278616352,21.231814440251572,115.1866522201258,27.047957616352203,49.76230538993711,26.963349735849057,1.8840695528301887,23.332058880503144,171.2601294654088,33.72348898113208,105.20380664150942,43.82769641509434,38.63697986163522,0.005271640394968554,34.62948947798742,100.726265,131.2514603899371,176.80842842767296,0.8306080622012579,28.5220180754717,120.85137945911949,353.0317706918239,106.46406367295596,1.0630041072327046,109.66262434591195,124.35637820125785,42.65687272955975,121.26929601257862,3.7196161880503142,97.28770288050315,3.6268602449056604,34.32172272955975,170.38723560377358,107.48120049056604,0.0,153.92453868553457,37.64808665408805,65.8945375345912,215.0589611698113,12.434328239622642,2.6364754666037737,1.3138002750943396,58.499613987421384,395.499449245283,151.2945196163522,77.04471579874215,67.31774867924528,26.14397568553459,32.509142163522014,5.648203982389937,2.1757947033962264,63.07496120125786,77.78993382389937,0.29521893664150944,1.2313063350314466,2233.431628301887,308.46002226415095,62.80700989937107,78.58818498742139,246.83398540880503,58.150297584905665,130.70003789308177,15.120054323899371,180.155329836478,168.06489373584904,25.00390222327044,52.381994962264145,45.191256679245285,38.82288891194969,82.34652252201258,106.22831324528302,253.58799635220126,171.80815376100628,305.69054182389937,336.1999679245283,100.32109594968553,36.37758294339623,128.52525791194967,93.95330462264151,63.06981834591195,175.792953918239,127.0922657610063,98.85865196226415,25.170744619496855,62.69139249685534,102.25732281761007,2.36658793081761,1.782257235220126,72.0772556918239,22.745013276729562,19.766895235849056,64.77063754716981,38.15036159748428,102.23388471069183,181.01316549685535,61.57806504402515,59.878098377358484,121.5993724716981,7.428584625157233,50.946895,94.29611627044025,176.1391051509434,5.4151208188679245,4.218118973584906,112.54979233962264,201.35000637735848,153.4626626100629,113.21588372955975,100.5984105283019,110.6690594716981,64.54633138993711,8.357713832704404,105.73676201257862,62.720767798742145,0.4505398436163522,48.8342987672956,11.908086581761006,27.10660981761006,2.024221148427673,1221.8865180503144,0.9546092789308177,1.8084441312578619,91.95710299371069,1.108995796226415,55.68658840880504,141.42980079874215,14.504714421383648,178.12873044654089,120.9277406100629,0.18375175345911948,111.16238623899372,57.40040564150943,100.86976487421384,14.541344256603773,1.9167707716352202,27.775116880503145,254.29438496855346,108.64877979245281,0.27267547628930816,232.72111620125787,0.0,59.53882777987422,11.005112792452831,5.3641890308176094,181.9410179874214,1.9771118513836476,200.2061113836478,6.620552098113206,0.23099023849056605,40.87169586792453,2.613961666037736,10.18174630062893,1.4629577935220126,127.85238203773585,31.013014477987422,106.54779572955975,78.70464558490566,158.79465588679247,84.85309897484277,6.38773508490566,1.4952157983018868,225.22063389937108,48.37886774213836,324.8088618867925,28.746046647798742,135.90885014465408,17.452324821383648,0.6896067185534591,0.3081829241069182,187.79105010691825,221.58225333333334,30.184433722012578,2.7381273176100627,109.27592444025156,31.6753992327044,1.023459226163522,347.01759459119495,152.66360011949683,59.02675240880503,103.38993852201257,0.0,50.09689049056603,0.0,11.425106594339622,110.06243605660377,159.40277435849055,182.2087484591195,110.90878833333333,7.401104696226414,18.951994757861637,54.88447657861635,58.66448771069182,1.5450942675471697,149.3753956163522,2.9976327358490567,4.901624699371069,24.679687018867924,177.55165033962265,93.2936536163522,0.0,171.60241517610064,240.27527656603772,0.0,53.82589901886793,0.0,0.5638024192452831,0.7969778494339622,0.38134598314465407,240.95197308176103,8.369066112578617,0.0,188.74961672955976,109.72324935849056,233.08743163522013,153.197896245283,308.6983191823899,168.82407623270439,204.37279751572328,262.5381602515723,128.46739433333332,1.3537693860377358,11.603943466666667,43.751757918238994,111.42585891823899,45.24701615723271,171.519026918239,0.4702944101257862,117.58201664779875,32.53285318867924,1.3630058972955974,147.8939291572327,7.470541486792453,1.3584995556603774,163.18132946540882,0.0,51.595922402515725,151.40088230188678,118.18206983647798,40.4984384591195,136.24713821383648,56.663080471698116,1.2231325827672956,282.131716163522,181.74910557232704,237.11538534591196,0.0,23.481535471698113,8.239754482389937,113.15988881132077,26.820447357232702,18.38253258490566,312.0983339622641,44.2026715345912,18.207827213836477,0.10747392783647798,113.68166358490566,42.20339331446541,67.24696372327044,86.92546165408804,143.62221351572327,109.77954090566038,4.286147705031446,27.49009796855346,113.13567881761006,105.96303350314466,181.85958981761007,6.128868217610063,171.09428780503146,266.51178496855346,64.6260326981132,37.90095893081761,2.493035324528302,72.1927403081761,123.07487198742137,63.35175070440252,71.37690848427673,475.28913817610066,31.463488503144653,125.79520841509435,409.60687012578614,61.75663395597484,0.07827440917610062,114.81183690566037,0.0,72.68930047798743,205.7241537106918,230.85139113207546,131.74660659748426,0.8853532194339623,11.082561432704402,0.6653886506289308,25.51992779874214,215.1102103144654,0.1564049035471698,187.35817333333333,109.86781773584906,21.554998465408804,159.50443070440252,0.826464202264151,208.24085213836477,2.908186851509434,79.09315858490567,101.71313193081761,88.76972472327044,203.8318764465409,0.06929399897484277,136.68037712578615,164.22815148427674,146.79429272955974,19.161056039622643,283.15174031446537,145.04589311320754,146.14072602515722,318.5363482389937,11.625122521383648,60.09853694968554,22.596867028301887,14.561755110062894,91.16785695597484,2.9327345729559746,0.6565545362264151,90.77174544025156,2.8041127396226417,21.081065342767296,11.182129905660377,40.64191224528302,50.790667,248.8425610691824,20.848460496855346,55.51082883018868,11.643424188679246,321.41048088050314,14.228246716981133,47.0549480754717,7.029551145283018,7.250028063522012,82.7610648427673,0.5598184222012579,45.61291923899371,32.50426728301887,33.067963452830185,29.369751446540878,261.9044730188679,109.24569308805032,33.94041228301887,254.92778371069184,9.808842059748429,212.71164735849055,302.32445377358493,165.4160164716981,11.821721342767296,220.80027408805032,5.819346432075472,33.4119776918239,58.89513167295597,9.43638375408805,22.727212679245284,44.09996434591195,33.42606262264151,53.25648137735849,35.203193006289304,6.49353060754717,28.048558050314465,70.14475824528301,62.152732767295596,35.72739608805031,12.833737394968553,130.82848848427673,27.334323911949685,455.39803918239,2.254928128301887,78.55162686163523,33.77297893081761,25.59122864779874,3.402698990566038,74.18221535220125,0.43082276433962263,2.9430480540880506,64.1406489937107,30.48510759119497,2.065243137735849,28.61934302515723,48.84886542138365,112.83668156603774,53.84387240251572,114.84335849056605,92.6613484528302,0.776777784591195,4.994960347169811,0.18376298402515723,19.479066022012578,0.7090287649685535,132.0311610691824,3.763056188679245,32.69726483647799,0.0049986696220125785,110.09007547798743,0.22505667748427674,143.46754537735848,92.52607362893082,1.007284395408805,98.45785139622642,23.257809371069182,34.294110113207545,48.892861874213835,110.24998359119498,85.07215054716981,71.2547964654088,0.09035659368553459,116.18776279874214,0.589953892327044,4.183500052830189,4.27296596100629],\"coloraxis\":\"coloraxis\",\"size\":[27.633301496855342,42.07768410691824,44.83233963522013,0.1258088698427673,14.5025916918239,23.924258842767294,16.047049204402516,117.93883411320756,77.96395347798743,4.409909146540881,63.029156930817614,0.12513020886163523,19.397358150943397,47.461872452830185,42.39749001886792,57.606633364779874,14.762471257861636,5.769100128301886,26.21837059119497,0.06237565457861636,247.56497,48.71949599371069,2.4673512503144654,7.269472139622642,3.028461237735849,85.03373686792453,133.94738333962263,22.592063949685535,18.283733927672955,10.900797174842767,78.65978681761005,92.75177562893082,39.86538089308176,80.88647010062893,57.20032612578617,16.06383539937107,11.986507949685533,123.63072114465407,0.0,17.984559676100627,30.52283010062893,140.53735965408805,177.73175050314467,0.0,33.05867405660377,1.9139445408805031,44.20326052201258,12.577920594339624,54.67548829559748,1.277589723018868,90.34265336477986,44.27908232704403,0.0,2.467124748427673,44.17292628301887,44.20885312578616,36.09110866666667,53.015754415094335,125.13981542138366,21.846918814465408,33.85511008805032,28.438051440251574,0.0,26.188220270440254,37.27187263522013,43.50869208805032,1.8891989970440253,0.9378707284905661,36.832919113207545,154.6812783207547,42.58723672955975,0.5124638889308176,58.91227478616353,78.67071452830189,3.265116683018868,71.82819062264151,25.803200540880507,2.3494947012578615,76.16030940880503,108.9278871509434,8.979628248427673,36.98562389308176,80.9438672264151,155.5739374465409,46.70087278616352,21.231814440251572,115.1866522201258,27.047957616352203,49.76230538993711,26.963349735849057,1.8840695528301887,23.332058880503144,171.2601294654088,33.72348898113208,105.20380664150942,43.82769641509434,38.63697986163522,0.005271640394968554,34.62948947798742,100.726265,131.2514603899371,176.80842842767296,0.8306080622012579,28.5220180754717,120.85137945911949,353.0317706918239,106.46406367295596,1.0630041072327046,109.66262434591195,124.35637820125785,42.65687272955975,121.26929601257862,3.7196161880503142,97.28770288050315,3.6268602449056604,34.32172272955975,170.38723560377358,107.48120049056604,0.0,153.92453868553457,37.64808665408805,65.8945375345912,215.0589611698113,12.434328239622642,2.6364754666037737,1.3138002750943396,58.499613987421384,395.499449245283,151.2945196163522,77.04471579874215,67.31774867924528,26.14397568553459,32.509142163522014,5.648203982389937,2.1757947033962264,63.07496120125786,77.78993382389937,0.29521893664150944,1.2313063350314466,2233.431628301887,308.46002226415095,62.80700989937107,78.58818498742139,246.83398540880503,58.150297584905665,130.70003789308177,15.120054323899371,180.155329836478,168.06489373584904,25.00390222327044,52.381994962264145,45.191256679245285,38.82288891194969,82.34652252201258,106.22831324528302,253.58799635220126,171.80815376100628,305.69054182389937,336.1999679245283,100.32109594968553,36.37758294339623,128.52525791194967,93.95330462264151,63.06981834591195,175.792953918239,127.0922657610063,98.85865196226415,25.170744619496855,62.69139249685534,102.25732281761007,2.36658793081761,1.782257235220126,72.0772556918239,22.745013276729562,19.766895235849056,64.77063754716981,38.15036159748428,102.23388471069183,181.01316549685535,61.57806504402515,59.878098377358484,121.5993724716981,7.428584625157233,50.946895,94.29611627044025,176.1391051509434,5.4151208188679245,4.218118973584906,112.54979233962264,201.35000637735848,153.4626626100629,113.21588372955975,100.5984105283019,110.6690594716981,64.54633138993711,8.357713832704404,105.73676201257862,62.720767798742145,0.4505398436163522,48.8342987672956,11.908086581761006,27.10660981761006,2.024221148427673,1221.8865180503144,0.9546092789308177,1.8084441312578619,91.95710299371069,1.108995796226415,55.68658840880504,141.42980079874215,14.504714421383648,178.12873044654089,120.9277406100629,0.18375175345911948,111.16238623899372,57.40040564150943,100.86976487421384,14.541344256603773,1.9167707716352202,27.775116880503145,254.29438496855346,108.64877979245281,0.27267547628930816,232.72111620125787,0.0,59.53882777987422,11.005112792452831,5.3641890308176094,181.9410179874214,1.9771118513836476,200.2061113836478,6.620552098113206,0.23099023849056605,40.87169586792453,2.613961666037736,10.18174630062893,1.4629577935220126,127.85238203773585,31.013014477987422,106.54779572955975,78.70464558490566,158.79465588679247,84.85309897484277,6.38773508490566,1.4952157983018868,225.22063389937108,48.37886774213836,324.8088618867925,28.746046647798742,135.90885014465408,17.452324821383648,0.6896067185534591,0.3081829241069182,187.79105010691825,221.58225333333334,30.184433722012578,2.7381273176100627,109.27592444025156,31.6753992327044,1.023459226163522,347.01759459119495,152.66360011949683,59.02675240880503,103.38993852201257,0.0,50.09689049056603,0.0,11.425106594339622,110.06243605660377,159.40277435849055,182.2087484591195,110.90878833333333,7.401104696226414,18.951994757861637,54.88447657861635,58.66448771069182,1.5450942675471697,149.3753956163522,2.9976327358490567,4.901624699371069,24.679687018867924,177.55165033962265,93.2936536163522,0.0,171.60241517610064,240.27527656603772,0.0,53.82589901886793,0.0,0.5638024192452831,0.7969778494339622,0.38134598314465407,240.95197308176103,8.369066112578617,0.0,188.74961672955976,109.72324935849056,233.08743163522013,153.197896245283,308.6983191823899,168.82407623270439,204.37279751572328,262.5381602515723,128.46739433333332,1.3537693860377358,11.603943466666667,43.751757918238994,111.42585891823899,45.24701615723271,171.519026918239,0.4702944101257862,117.58201664779875,32.53285318867924,1.3630058972955974,147.8939291572327,7.470541486792453,1.3584995556603774,163.18132946540882,0.0,51.595922402515725,151.40088230188678,118.18206983647798,40.4984384591195,136.24713821383648,56.663080471698116,1.2231325827672956,282.131716163522,181.74910557232704,237.11538534591196,0.0,23.481535471698113,8.239754482389937,113.15988881132077,26.820447357232702,18.38253258490566,312.0983339622641,44.2026715345912,18.207827213836477,0.10747392783647798,113.68166358490566,42.20339331446541,67.24696372327044,86.92546165408804,143.62221351572327,109.77954090566038,4.286147705031446,27.49009796855346,113.13567881761006,105.96303350314466,181.85958981761007,6.128868217610063,171.09428780503146,266.51178496855346,64.6260326981132,37.90095893081761,2.493035324528302,72.1927403081761,123.07487198742137,63.35175070440252,71.37690848427673,475.28913817610066,31.463488503144653,125.79520841509435,409.60687012578614,61.75663395597484,0.07827440917610062,114.81183690566037,0.0,72.68930047798743,205.7241537106918,230.85139113207546,131.74660659748426,0.8853532194339623,11.082561432704402,0.6653886506289308,25.51992779874214,215.1102103144654,0.1564049035471698,187.35817333333333,109.86781773584906,21.554998465408804,159.50443070440252,0.826464202264151,208.24085213836477,2.908186851509434,79.09315858490567,101.71313193081761,88.76972472327044,203.8318764465409,0.06929399897484277,136.68037712578615,164.22815148427674,146.79429272955974,19.161056039622643,283.15174031446537,145.04589311320754,146.14072602515722,318.5363482389937,11.625122521383648,60.09853694968554,22.596867028301887,14.561755110062894,91.16785695597484,2.9327345729559746,0.6565545362264151,90.77174544025156,2.8041127396226417,21.081065342767296,11.182129905660377,40.64191224528302,50.790667,248.8425610691824,20.848460496855346,55.51082883018868,11.643424188679246,321.41048088050314,14.228246716981133,47.0549480754717,7.029551145283018,7.250028063522012,82.7610648427673,0.5598184222012579,45.61291923899371,32.50426728301887,33.067963452830185,29.369751446540878,261.9044730188679,109.24569308805032,33.94041228301887,254.92778371069184,9.808842059748429,212.71164735849055,302.32445377358493,165.4160164716981,11.821721342767296,220.80027408805032,5.819346432075472,33.4119776918239,58.89513167295597,9.43638375408805,22.727212679245284,44.09996434591195,33.42606262264151,53.25648137735849,35.203193006289304,6.49353060754717,28.048558050314465,70.14475824528301,62.152732767295596,35.72739608805031,12.833737394968553,130.82848848427673,27.334323911949685,455.39803918239,2.254928128301887,78.55162686163523,33.77297893081761,25.59122864779874,3.402698990566038,74.18221535220125,0.43082276433962263,2.9430480540880506,64.1406489937107,30.48510759119497,2.065243137735849,28.61934302515723,48.84886542138365,112.83668156603774,53.84387240251572,114.84335849056605,92.6613484528302,0.776777784591195,4.994960347169811,0.18376298402515723,19.479066022012578,0.7090287649685535,132.0311610691824,3.763056188679245,32.69726483647799,0.0049986696220125785,110.09007547798743,0.22505667748427674,143.46754537735848,92.52607362893082,1.007284395408805,98.45785139622642,23.257809371069182,34.294110113207545,48.892861874213835,110.24998359119498,85.07215054716981,71.2547964654088,0.09035659368553459,116.18776279874214,0.589953892327044,4.183500052830189,4.27296596100629],\"sizemode\":\"area\",\"sizeref\":5.583579070754718},\"mode\":\"markers\",\"name\":\"\",\"showlegend\":false,\"subplot\":\"mapbox\",\"type\":\"scattermapbox\"}],                        {\"template\":{\"data\":{\"histogram2dcontour\":[{\"type\":\"histogram2dcontour\",\"colorbar\":{\"outlinewidth\":0,\"ticks\":\"\"},\"colorscale\":[[0.0,\"#0d0887\"],[0.1111111111111111,\"#46039f\"],[0.2222222222222222,\"#7201a8\"],[0.3333333333333333,\"#9c179e\"],[0.4444444444444444,\"#bd3786\"],[0.5555555555555556,\"#d8576b\"],[0.6666666666666666,\"#ed7953\"],[0.7777777777777778,\"#fb9f3a\"],[0.8888888888888888,\"#fdca26\"],[1.0,\"#f0f921\"]]}],\"choropleth\":[{\"type\":\"choropleth\",\"colorbar\":{\"outlinewidth\":0,\"ticks\":\"\"}}],\"histogram2d\":[{\"type\":\"histogram2d\",\"colorbar\":{\"outlinewidth\":0,\"ticks\":\"\"},\"colorscale\":[[0.0,\"#0d0887\"],[0.1111111111111111,\"#46039f\"],[0.2222222222222222,\"#7201a8\"],[0.3333333333333333,\"#9c179e\"],[0.4444444444444444,\"#bd3786\"],[0.5555555555555556,\"#d8576b\"],[0.6666666666666666,\"#ed7953\"],[0.7777777777777778,\"#fb9f3a\"],[0.8888888888888888,\"#fdca26\"],[1.0,\"#f0f921\"]]}],\"heatmap\":[{\"type\":\"heatmap\",\"colorbar\":{\"outlinewidth\":0,\"ticks\":\"\"},\"colorscale\":[[0.0,\"#0d0887\"],[0.1111111111111111,\"#46039f\"],[0.2222222222222222,\"#7201a8\"],[0.3333333333333333,\"#9c179e\"],[0.4444444444444444,\"#bd3786\"],[0.5555555555555556,\"#d8576b\"],[0.6666666666666666,\"#ed7953\"],[0.7777777777777778,\"#fb9f3a\"],[0.8888888888888888,\"#fdca26\"],[1.0,\"#f0f921\"]]}],\"heatmapgl\":[{\"type\":\"heatmapgl\",\"colorbar\":{\"outlinewidth\":0,\"ticks\":\"\"},\"colorscale\":[[0.0,\"#0d0887\"],[0.1111111111111111,\"#46039f\"],[0.2222222222222222,\"#7201a8\"],[0.3333333333333333,\"#9c179e\"],[0.4444444444444444,\"#bd3786\"],[0.5555555555555556,\"#d8576b\"],[0.6666666666666666,\"#ed7953\"],[0.7777777777777778,\"#fb9f3a\"],[0.8888888888888888,\"#fdca26\"],[1.0,\"#f0f921\"]]}],\"contourcarpet\":[{\"type\":\"contourcarpet\",\"colorbar\":{\"outlinewidth\":0,\"ticks\":\"\"}}],\"contour\":[{\"type\":\"contour\",\"colorbar\":{\"outlinewidth\":0,\"ticks\":\"\"},\"colorscale\":[[0.0,\"#0d0887\"],[0.1111111111111111,\"#46039f\"],[0.2222222222222222,\"#7201a8\"],[0.3333333333333333,\"#9c179e\"],[0.4444444444444444,\"#bd3786\"],[0.5555555555555556,\"#d8576b\"],[0.6666666666666666,\"#ed7953\"],[0.7777777777777778,\"#fb9f3a\"],[0.8888888888888888,\"#fdca26\"],[1.0,\"#f0f921\"]]}],\"surface\":[{\"type\":\"surface\",\"colorbar\":{\"outlinewidth\":0,\"ticks\":\"\"},\"colorscale\":[[0.0,\"#0d0887\"],[0.1111111111111111,\"#46039f\"],[0.2222222222222222,\"#7201a8\"],[0.3333333333333333,\"#9c179e\"],[0.4444444444444444,\"#bd3786\"],[0.5555555555555556,\"#d8576b\"],[0.6666666666666666,\"#ed7953\"],[0.7777777777777778,\"#fb9f3a\"],[0.8888888888888888,\"#fdca26\"],[1.0,\"#f0f921\"]]}],\"mesh3d\":[{\"type\":\"mesh3d\",\"colorbar\":{\"outlinewidth\":0,\"ticks\":\"\"}}],\"scatter\":[{\"fillpattern\":{\"fillmode\":\"overlay\",\"size\":10,\"solidity\":0.2},\"type\":\"scatter\"}],\"parcoords\":[{\"type\":\"parcoords\",\"line\":{\"colorbar\":{\"outlinewidth\":0,\"ticks\":\"\"}}}],\"scatterpolargl\":[{\"type\":\"scatterpolargl\",\"marker\":{\"colorbar\":{\"outlinewidth\":0,\"ticks\":\"\"}}}],\"bar\":[{\"error_x\":{\"color\":\"#2a3f5f\"},\"error_y\":{\"color\":\"#2a3f5f\"},\"marker\":{\"line\":{\"color\":\"#E5ECF6\",\"width\":0.5},\"pattern\":{\"fillmode\":\"overlay\",\"size\":10,\"solidity\":0.2}},\"type\":\"bar\"}],\"scattergeo\":[{\"type\":\"scattergeo\",\"marker\":{\"colorbar\":{\"outlinewidth\":0,\"ticks\":\"\"}}}],\"scatterpolar\":[{\"type\":\"scatterpolar\",\"marker\":{\"colorbar\":{\"outlinewidth\":0,\"ticks\":\"\"}}}],\"histogram\":[{\"marker\":{\"pattern\":{\"fillmode\":\"overlay\",\"size\":10,\"solidity\":0.2}},\"type\":\"histogram\"}],\"scattergl\":[{\"type\":\"scattergl\",\"marker\":{\"colorbar\":{\"outlinewidth\":0,\"ticks\":\"\"}}}],\"scatter3d\":[{\"type\":\"scatter3d\",\"line\":{\"colorbar\":{\"outlinewidth\":0,\"ticks\":\"\"}},\"marker\":{\"colorbar\":{\"outlinewidth\":0,\"ticks\":\"\"}}}],\"scattermapbox\":[{\"type\":\"scattermapbox\",\"marker\":{\"colorbar\":{\"outlinewidth\":0,\"ticks\":\"\"}}}],\"scatterternary\":[{\"type\":\"scatterternary\",\"marker\":{\"colorbar\":{\"outlinewidth\":0,\"ticks\":\"\"}}}],\"scattercarpet\":[{\"type\":\"scattercarpet\",\"marker\":{\"colorbar\":{\"outlinewidth\":0,\"ticks\":\"\"}}}],\"carpet\":[{\"aaxis\":{\"endlinecolor\":\"#2a3f5f\",\"gridcolor\":\"white\",\"linecolor\":\"white\",\"minorgridcolor\":\"white\",\"startlinecolor\":\"#2a3f5f\"},\"baxis\":{\"endlinecolor\":\"#2a3f5f\",\"gridcolor\":\"white\",\"linecolor\":\"white\",\"minorgridcolor\":\"white\",\"startlinecolor\":\"#2a3f5f\"},\"type\":\"carpet\"}],\"table\":[{\"cells\":{\"fill\":{\"color\":\"#EBF0F8\"},\"line\":{\"color\":\"white\"}},\"header\":{\"fill\":{\"color\":\"#C8D4E3\"},\"line\":{\"color\":\"white\"}},\"type\":\"table\"}],\"barpolar\":[{\"marker\":{\"line\":{\"color\":\"#E5ECF6\",\"width\":0.5},\"pattern\":{\"fillmode\":\"overlay\",\"size\":10,\"solidity\":0.2}},\"type\":\"barpolar\"}],\"pie\":[{\"automargin\":true,\"type\":\"pie\"}]},\"layout\":{\"autotypenumbers\":\"strict\",\"colorway\":[\"#636efa\",\"#EF553B\",\"#00cc96\",\"#ab63fa\",\"#FFA15A\",\"#19d3f3\",\"#FF6692\",\"#B6E880\",\"#FF97FF\",\"#FECB52\"],\"font\":{\"color\":\"#2a3f5f\"},\"hovermode\":\"closest\",\"hoverlabel\":{\"align\":\"left\"},\"paper_bgcolor\":\"white\",\"plot_bgcolor\":\"#E5ECF6\",\"polar\":{\"bgcolor\":\"#E5ECF6\",\"angularaxis\":{\"gridcolor\":\"white\",\"linecolor\":\"white\",\"ticks\":\"\"},\"radialaxis\":{\"gridcolor\":\"white\",\"linecolor\":\"white\",\"ticks\":\"\"}},\"ternary\":{\"bgcolor\":\"#E5ECF6\",\"aaxis\":{\"gridcolor\":\"white\",\"linecolor\":\"white\",\"ticks\":\"\"},\"baxis\":{\"gridcolor\":\"white\",\"linecolor\":\"white\",\"ticks\":\"\"},\"caxis\":{\"gridcolor\":\"white\",\"linecolor\":\"white\",\"ticks\":\"\"}},\"coloraxis\":{\"colorbar\":{\"outlinewidth\":0,\"ticks\":\"\"}},\"colorscale\":{\"sequential\":[[0.0,\"#0d0887\"],[0.1111111111111111,\"#46039f\"],[0.2222222222222222,\"#7201a8\"],[0.3333333333333333,\"#9c179e\"],[0.4444444444444444,\"#bd3786\"],[0.5555555555555556,\"#d8576b\"],[0.6666666666666666,\"#ed7953\"],[0.7777777777777778,\"#fb9f3a\"],[0.8888888888888888,\"#fdca26\"],[1.0,\"#f0f921\"]],\"sequentialminus\":[[0.0,\"#0d0887\"],[0.1111111111111111,\"#46039f\"],[0.2222222222222222,\"#7201a8\"],[0.3333333333333333,\"#9c179e\"],[0.4444444444444444,\"#bd3786\"],[0.5555555555555556,\"#d8576b\"],[0.6666666666666666,\"#ed7953\"],[0.7777777777777778,\"#fb9f3a\"],[0.8888888888888888,\"#fdca26\"],[1.0,\"#f0f921\"]],\"diverging\":[[0,\"#8e0152\"],[0.1,\"#c51b7d\"],[0.2,\"#de77ae\"],[0.3,\"#f1b6da\"],[0.4,\"#fde0ef\"],[0.5,\"#f7f7f7\"],[0.6,\"#e6f5d0\"],[0.7,\"#b8e186\"],[0.8,\"#7fbc41\"],[0.9,\"#4d9221\"],[1,\"#276419\"]]},\"xaxis\":{\"gridcolor\":\"white\",\"linecolor\":\"white\",\"ticks\":\"\",\"title\":{\"standoff\":15},\"zerolinecolor\":\"white\",\"automargin\":true,\"zerolinewidth\":2},\"yaxis\":{\"gridcolor\":\"white\",\"linecolor\":\"white\",\"ticks\":\"\",\"title\":{\"standoff\":15},\"zerolinecolor\":\"white\",\"automargin\":true,\"zerolinewidth\":2},\"scene\":{\"xaxis\":{\"backgroundcolor\":\"#E5ECF6\",\"gridcolor\":\"white\",\"linecolor\":\"white\",\"showbackground\":true,\"ticks\":\"\",\"zerolinecolor\":\"white\",\"gridwidth\":2},\"yaxis\":{\"backgroundcolor\":\"#E5ECF6\",\"gridcolor\":\"white\",\"linecolor\":\"white\",\"showbackground\":true,\"ticks\":\"\",\"zerolinecolor\":\"white\",\"gridwidth\":2},\"zaxis\":{\"backgroundcolor\":\"#E5ECF6\",\"gridcolor\":\"white\",\"linecolor\":\"white\",\"showbackground\":true,\"ticks\":\"\",\"zerolinecolor\":\"white\",\"gridwidth\":2}},\"shapedefaults\":{\"line\":{\"color\":\"#2a3f5f\"}},\"annotationdefaults\":{\"arrowcolor\":\"#2a3f5f\",\"arrowhead\":0,\"arrowwidth\":1},\"geo\":{\"bgcolor\":\"white\",\"landcolor\":\"#E5ECF6\",\"subunitcolor\":\"white\",\"showland\":true,\"showlakes\":true,\"lakecolor\":\"white\"},\"title\":{\"x\":0.05},\"mapbox\":{\"style\":\"light\"}}},\"mapbox\":{\"domain\":{\"x\":[0.0,1.0],\"y\":[0.0,1.0]},\"center\":{\"lat\":-1.8910724346076457,\"lon\":29.880154929577465},\"zoom\":7,\"style\":\"open-street-map\"},\"coloraxis\":{\"colorbar\":{\"title\":{\"text\":\"emission\"}},\"colorscale\":[[0.0,\"#440154\"],[0.1111111111111111,\"#482878\"],[0.2222222222222222,\"#3e4989\"],[0.3333333333333333,\"#31688e\"],[0.4444444444444444,\"#26828e\"],[0.5555555555555556,\"#1f9e89\"],[0.6666666666666666,\"#35b779\"],[0.7777777777777778,\"#6ece58\"],[0.8888888888888888,\"#b5de2b\"],[1.0,\"#fde725\"]]},\"legend\":{\"tracegroupgap\":0,\"itemsizing\":\"constant\"},\"title\":{\"text\":\"CO\\u2082 Emissions in Rwanda Area\"},\"height\":600,\"width\":800,\"margin\":{\"r\":0,\"t\":50,\"l\":0,\"b\":0},\"plot_bgcolor\":\"#FFFCFA\",\"paper_bgcolor\":\"#FFFCFA\"},                        {\"responsive\": true}                    ).then(function(){\n",
       "                            \n",
       "var gd = document.getElementById('4b8a554f-f787-43e1-9ca0-837377731c2b');\n",
       "var x = new MutationObserver(function (mutations, observer) {{\n",
       "        var display = window.getComputedStyle(gd).display;\n",
       "        if (!display || display === 'none') {{\n",
       "            console.log([gd, 'removed!']);\n",
       "            Plotly.purge(gd);\n",
       "            observer.disconnect();\n",
       "        }}\n",
       "}});\n",
       "\n",
       "// Listen for the removal of the full notebook cells\n",
       "var notebookContainer = gd.closest('#notebook-container');\n",
       "if (notebookContainer) {{\n",
       "    x.observe(notebookContainer, {childList: true});\n",
       "}}\n",
       "\n",
       "// Listen for the clearing of the current output cell\n",
       "var outputEl = gd.closest('.output');\n",
       "if (outputEl) {{\n",
       "    x.observe(outputEl, {childList: true});\n",
       "}}\n",
       "\n",
       "                        })                };                            </script>        </div>\n",
       "</body>\n",
       "</html>"
      ]
     },
     "metadata": {},
     "output_type": "display_data"
    }
   ],
   "source": [
    "emission_df = train.groupby(['latitude', 'longitude']).emission.mean().reset_index()\n",
    "\n",
    "fig = px.scatter_mapbox(emission_df,\n",
    "    lat=\"latitude\",\n",
    "    lon=\"longitude\",\n",
    "    color=\"emission\",\n",
    "    size=\"emission\",\n",
    "    color_continuous_scale='Viridis',\n",
    "    size_max=20,\n",
    "    zoom=7,\n",
    "    width=800,\n",
    "    height=600,\n",
    "    title=\"CO\\u2082 Emissions in Rwanda Area\"\n",
    ")\n",
    "\n",
    "fig.update_layout(\n",
    "    mapbox_style=\"open-street-map\",\n",
    "    margin=dict(r=0, t=50, l=0, b=0),\n",
    "    # font_color=FONT_COLOR,\n",
    "    # title_font_size=18,\n",
    "    plot_bgcolor=BACKGROUND_COLOR,\n",
    "    paper_bgcolor=BACKGROUND_COLOR,\n",
    ")\n",
    "fig.show()"
   ]
  },
  {
   "cell_type": "code",
   "execution_count": 547,
   "metadata": {
    "colab": {
     "base_uri": "https://localhost:8080/",
     "height": 0,
     "output_embedded_package_id": "1Vu2NSaV9zwi8ST5s3OnyoyYYOTPTIJdN"
    },
    "executionInfo": {
     "elapsed": 1355,
     "status": "ok",
     "timestamp": 1692675879229,
     "user": {
      "displayName": "Lee Minjik",
      "userId": "03992121075759719709"
     },
     "user_tz": -540
    },
    "id": "3pj3-hRGgoA6",
    "outputId": "7b774802-e4e7-41a5-acc8-6e94220ebbb2"
   },
   "outputs": [
    {
     "data": {
      "text/plain": [
       "Output hidden; open in https://colab.research.google.com to view."
      ]
     },
     "metadata": {},
     "output_type": "display_data"
    }
   ],
   "source": [
    "fig = px.scatter_mapbox(\n",
    "    train, lat='latitude', lon='longitude',\n",
    "    size='emission',\n",
    "    color='emission',\n",
    "    color_continuous_scale='Viridis',\n",
    "    animation_frame = 'week_no',\n",
    "    zoom=7)\n",
    "\n",
    "fig.update_layout(\n",
    "    title='CO2 Emission by Week',\n",
    "    mapbox_style = \"open-street-map\",\n",
    "    width=800,\n",
    "    height=600)\n",
    "\n",
    "fig.show()"
   ]
  },
  {
   "cell_type": "code",
   "execution_count": 548,
   "metadata": {
    "executionInfo": {
     "elapsed": 35,
     "status": "ok",
     "timestamp": 1692675879230,
     "user": {
      "displayName": "Lee Minjik",
      "userId": "03992121075759719709"
     },
     "user_tz": -540
    },
    "id": "EKvCSJl_qtqU"
   },
   "outputs": [],
   "source": [
    "# marker_df = ems0_df.copy()\n",
    "\n",
    "# fig = px.scatter_mapbox(marker_df,\n",
    "#     lat=\"latitude\",\n",
    "#     lon=\"longitude\",\n",
    "#     hover_name=\"emission\",\n",
    "#     zoom=7,\n",
    "#     title=\"Emission-Zero\")\n",
    "\n",
    "# fig.add_scattermapbox(\n",
    "#     lat=ems0_df.latitude,\n",
    "#     lon=ems0_df.longitude,\n",
    "#     name=\"Emission 0\",\n",
    "#     marker=dict(color=\"Blue\", size=8, symbol=\"circle\", opacity=0.75),\n",
    "# )\n",
    "\n",
    "# fig.add_scattermapbox(\n",
    "#     lat=ems400_df.latitude,\n",
    "#     lon=ems400_df.longitude,\n",
    "#     name=\"Emission Top 5\",\n",
    "#     marker=dict(color=\"Red\", size=10, symbol=\"circle\", opacity=0.75),\n",
    "# )\n",
    "\n",
    "# # fig.add_scattermapbox(\n",
    "# #     lat=-1.519167,\n",
    "# #     lon=29.254167,,\n",
    "# #     name=\"Emission Top 5\",\n",
    "# #     marker=dict(color=\"Red\", size=10, symbol=\"circle\", opacity=0.75),\n",
    "# # )\n",
    "\n",
    "# fig.update_layout(\n",
    "#     mapbox_style = \"open-street-map\",\n",
    "#     margin=dict(r=0, t=50, l=0, b=0),\n",
    "#     font_color=FONT_COLOR,\n",
    "#     title_font_size=18,\n",
    "#     mapbox_center={\"lat\": marker_df[\"latitude\"].mean(), \"lon\": marker_df[\"longitude\"].mean()},\n",
    "#     width=800,\n",
    "#     height=600,\n",
    "#     plot_bgcolor=BACKGROUND_COLOR,\n",
    "#     paper_bgcolor=BACKGROUND_COLOR\n",
    "# )\n",
    "# fig.show()"
   ]
  },
  {
   "cell_type": "code",
   "execution_count": 549,
   "metadata": {
    "executionInfo": {
     "elapsed": 34,
     "status": "ok",
     "timestamp": 1692675879232,
     "user": {
      "displayName": "Lee Minjik",
      "userId": "03992121075759719709"
     },
     "user_tz": -540
    },
    "id": "ej-l-85x9NUP"
   },
   "outputs": [],
   "source": [
    "#  ems_0 = emission_df[emission_df.emission==0]\n",
    "\n",
    "# fig = px.scatter_mapbox(ems_0,\n",
    "#     lat='latitude',\n",
    "#     lon='longitude',\n",
    "#     hover_name='emission',\n",
    "#     marker=dict(color='Blue', size=10, symbol=\"circle\", opacity=0.75),\n",
    "#     zoom=7)\n",
    "\n",
    "# fig.add_scattermapbox(\n",
    "#     lat=zero_emission.Latitude,\n",
    "#     lon=zero_emission.Longitude,\n",
    "#     name=\"Zero-Emission\",\n",
    "#     marker=dict(color=\"#E04C5F\", size=15, symbol=\"circle\", opacity=0.75),\n",
    "# )\n",
    "\n",
    "# # fig = px.scatter_mapbox(ems_0,\n",
    "# #     lat='latitude',\n",
    "# #     lon='longitude',\n",
    "# #     hover_name=\"some_column_name\")\n",
    "# # #    name=\"Emission_0\",\n",
    "# #     marker=dict(color='Blue', size=10, symbol=\"circle\", opacity=0.75),\n",
    "# # )\n",
    "\n",
    "# # fig = px.scatter_mapbox(ems_0,\n",
    "# #     lat=\"latitude\",\n",
    "# #     lon=\"longitude\",\n",
    "# #     color='Blue',\n",
    "# #     size=10,\n",
    "# #     color_continuous_scale='Viridis',\n",
    "# #     size_max=20,\n",
    "# #     zoom=7,\n",
    "# #     width=800,\n",
    "# #     height=600,\n",
    "# #     title=\"CO\\u2082 Emissions Zero\"\n",
    "# # )\n",
    "\n",
    "# fig.update_layout(\n",
    "#     mapbox_style=\"open-street-map\",\n",
    "#     margin=dict(r=0, t=90, l=0, b=0),\n",
    "#     font_color=FONT_COLOR,\n",
    "#     title_font_size=18,\n",
    "#     legend=dict(yanchor=\"bottom\", xanchor=\"right\", y=1, x=1, orientation=\"h\"),\n",
    "#     plot_bgcolor=BACKGROUND_COLOR,\n",
    "#     paper_bgcolor=BACKGROUND_COLOR,\n",
    "# )\n",
    "# fig.show()"
   ]
  },
  {
   "cell_type": "markdown",
   "metadata": {
    "id": "C-lLcyxR75n0"
   },
   "source": [
    "## year & week_no"
   ]
  },
  {
   "cell_type": "code",
   "execution_count": 550,
   "metadata": {
    "executionInfo": {
     "elapsed": 34,
     "status": "ok",
     "timestamp": 1692675879233,
     "user": {
      "displayName": "Lee Minjik",
      "userId": "03992121075759719709"
     },
     "user_tz": -540
    },
    "id": "L4yd6sBGHkyG"
   },
   "outputs": [],
   "source": [
    "def graph_emission_by_time(df, time):\n",
    "    fig = go.Figure()\n",
    "\n",
    "    ems = df.groupby(['year', time]).emission.mean()\n",
    "    years = [2019, 2020, 2021]\n",
    "    colors = ['Green', 'Red', 'Yellow']\n",
    "\n",
    "    for year, color in zip(years, colors):\n",
    "        fig.add_trace(go.Scatter(\n",
    "            x=ems.loc[year].index.astype('str'),\n",
    "            y=ems.loc[year],\n",
    "            mode='lines',\n",
    "            name=f'CO2 Emission in {year}',\n",
    "            line=dict(color=color)))\n",
    "\n",
    "    fig.update_layout(\n",
    "        title_text='Average CO2 Emissions across Year',\n",
    "        template='plotly_dark')\n",
    "\n",
    "    fig.show()"
   ]
  },
  {
   "cell_type": "code",
   "execution_count": 551,
   "metadata": {
    "colab": {
     "base_uri": "https://localhost:8080/",
     "height": 0
    },
    "executionInfo": {
     "elapsed": 33,
     "status": "ok",
     "timestamp": 1692675879234,
     "user": {
      "displayName": "Lee Minjik",
      "userId": "03992121075759719709"
     },
     "user_tz": -540
    },
    "id": "v5vobJCPLbBF",
    "outputId": "5bdfa02c-d51c-4c2f-e79e-6c49ccaaca8c"
   },
   "outputs": [
    {
     "data": {
      "text/html": [
       "<html>\n",
       "<head><meta charset=\"utf-8\" /></head>\n",
       "<body>\n",
       "    <div>            <script src=\"https://cdnjs.cloudflare.com/ajax/libs/mathjax/2.7.5/MathJax.js?config=TeX-AMS-MML_SVG\"></script><script type=\"text/javascript\">if (window.MathJax && window.MathJax.Hub && window.MathJax.Hub.Config) {window.MathJax.Hub.Config({SVG: {font: \"STIX-Web\"}});}</script>                <script type=\"text/javascript\">window.PlotlyConfig = {MathJaxConfig: 'local'};</script>\n",
       "        <script charset=\"utf-8\" src=\"https://cdn.plot.ly/plotly-2.24.1.min.js\"></script>                <div id=\"17b3183e-4c7f-46e5-86f4-0c9fb8b11fd9\" class=\"plotly-graph-div\" style=\"height:525px; width:100%;\"></div>            <script type=\"text/javascript\">                                    window.PLOTLYENV=window.PLOTLYENV || {};                                    if (document.getElementById(\"17b3183e-4c7f-46e5-86f4-0c9fb8b11fd9\")) {                    Plotly.newPlot(                        \"17b3183e-4c7f-46e5-86f4-0c9fb8b11fd9\",                        [{\"marker\":{\"color\":\"seagreen\"},\"name\":\"Year\",\"text\":[26341.0,26341.0,26341.0,24353.0],\"x\":[2019,2020,2021,2022],\"y\":[26341,26341,26341,24353],\"type\":\"bar\",\"xaxis\":\"x\",\"yaxis\":\"y\"},{\"marker\":{\"color\":\"#378025\"},\"name\":\"Week Number\",\"text\":[1988.0,1988.0,1988.0,1988.0,1988.0,1988.0,1988.0,1988.0,1988.0,1988.0,1988.0,1988.0,1988.0,1988.0,1988.0,1988.0,1988.0,1988.0,1988.0,1988.0,1988.0,1988.0,1988.0,1988.0,1988.0,1988.0,1988.0,1988.0,1988.0,1988.0,1988.0,1988.0,1988.0,1988.0,1988.0,1988.0,1988.0,1988.0,1988.0,1988.0,1988.0,1988.0,1988.0,1988.0,1988.0,1988.0,1988.0,1988.0,1988.0,1491.0,1491.0,1491.0,1491.0],\"x\":[0,37,27,28,29,30,31,32,33,34,35,36,38,25,39,40,41,42,43,44,45,46,47,48,1,26,24,12,2,3,4,5,6,7,8,9,10,23,11,13,14,15,16,17,18,19,20,21,22,49,50,51,52],\"y\":[1988,1988,1988,1988,1988,1988,1988,1988,1988,1988,1988,1988,1988,1988,1988,1988,1988,1988,1988,1988,1988,1988,1988,1988,1988,1988,1988,1988,1988,1988,1988,1988,1988,1988,1988,1988,1988,1988,1988,1988,1988,1988,1988,1988,1988,1988,1988,1988,1988,1491,1491,1491,1491],\"type\":\"bar\",\"xaxis\":\"x2\",\"yaxis\":\"y2\"}],                        {\"template\":{\"data\":{\"barpolar\":[{\"marker\":{\"line\":{\"color\":\"rgb(17,17,17)\",\"width\":0.5},\"pattern\":{\"fillmode\":\"overlay\",\"size\":10,\"solidity\":0.2}},\"type\":\"barpolar\"}],\"bar\":[{\"error_x\":{\"color\":\"#f2f5fa\"},\"error_y\":{\"color\":\"#f2f5fa\"},\"marker\":{\"line\":{\"color\":\"rgb(17,17,17)\",\"width\":0.5},\"pattern\":{\"fillmode\":\"overlay\",\"size\":10,\"solidity\":0.2}},\"type\":\"bar\"}],\"carpet\":[{\"aaxis\":{\"endlinecolor\":\"#A2B1C6\",\"gridcolor\":\"#506784\",\"linecolor\":\"#506784\",\"minorgridcolor\":\"#506784\",\"startlinecolor\":\"#A2B1C6\"},\"baxis\":{\"endlinecolor\":\"#A2B1C6\",\"gridcolor\":\"#506784\",\"linecolor\":\"#506784\",\"minorgridcolor\":\"#506784\",\"startlinecolor\":\"#A2B1C6\"},\"type\":\"carpet\"}],\"choropleth\":[{\"colorbar\":{\"outlinewidth\":0,\"ticks\":\"\"},\"type\":\"choropleth\"}],\"contourcarpet\":[{\"colorbar\":{\"outlinewidth\":0,\"ticks\":\"\"},\"type\":\"contourcarpet\"}],\"contour\":[{\"colorbar\":{\"outlinewidth\":0,\"ticks\":\"\"},\"colorscale\":[[0.0,\"#0d0887\"],[0.1111111111111111,\"#46039f\"],[0.2222222222222222,\"#7201a8\"],[0.3333333333333333,\"#9c179e\"],[0.4444444444444444,\"#bd3786\"],[0.5555555555555556,\"#d8576b\"],[0.6666666666666666,\"#ed7953\"],[0.7777777777777778,\"#fb9f3a\"],[0.8888888888888888,\"#fdca26\"],[1.0,\"#f0f921\"]],\"type\":\"contour\"}],\"heatmapgl\":[{\"colorbar\":{\"outlinewidth\":0,\"ticks\":\"\"},\"colorscale\":[[0.0,\"#0d0887\"],[0.1111111111111111,\"#46039f\"],[0.2222222222222222,\"#7201a8\"],[0.3333333333333333,\"#9c179e\"],[0.4444444444444444,\"#bd3786\"],[0.5555555555555556,\"#d8576b\"],[0.6666666666666666,\"#ed7953\"],[0.7777777777777778,\"#fb9f3a\"],[0.8888888888888888,\"#fdca26\"],[1.0,\"#f0f921\"]],\"type\":\"heatmapgl\"}],\"heatmap\":[{\"colorbar\":{\"outlinewidth\":0,\"ticks\":\"\"},\"colorscale\":[[0.0,\"#0d0887\"],[0.1111111111111111,\"#46039f\"],[0.2222222222222222,\"#7201a8\"],[0.3333333333333333,\"#9c179e\"],[0.4444444444444444,\"#bd3786\"],[0.5555555555555556,\"#d8576b\"],[0.6666666666666666,\"#ed7953\"],[0.7777777777777778,\"#fb9f3a\"],[0.8888888888888888,\"#fdca26\"],[1.0,\"#f0f921\"]],\"type\":\"heatmap\"}],\"histogram2dcontour\":[{\"colorbar\":{\"outlinewidth\":0,\"ticks\":\"\"},\"colorscale\":[[0.0,\"#0d0887\"],[0.1111111111111111,\"#46039f\"],[0.2222222222222222,\"#7201a8\"],[0.3333333333333333,\"#9c179e\"],[0.4444444444444444,\"#bd3786\"],[0.5555555555555556,\"#d8576b\"],[0.6666666666666666,\"#ed7953\"],[0.7777777777777778,\"#fb9f3a\"],[0.8888888888888888,\"#fdca26\"],[1.0,\"#f0f921\"]],\"type\":\"histogram2dcontour\"}],\"histogram2d\":[{\"colorbar\":{\"outlinewidth\":0,\"ticks\":\"\"},\"colorscale\":[[0.0,\"#0d0887\"],[0.1111111111111111,\"#46039f\"],[0.2222222222222222,\"#7201a8\"],[0.3333333333333333,\"#9c179e\"],[0.4444444444444444,\"#bd3786\"],[0.5555555555555556,\"#d8576b\"],[0.6666666666666666,\"#ed7953\"],[0.7777777777777778,\"#fb9f3a\"],[0.8888888888888888,\"#fdca26\"],[1.0,\"#f0f921\"]],\"type\":\"histogram2d\"}],\"histogram\":[{\"marker\":{\"pattern\":{\"fillmode\":\"overlay\",\"size\":10,\"solidity\":0.2}},\"type\":\"histogram\"}],\"mesh3d\":[{\"colorbar\":{\"outlinewidth\":0,\"ticks\":\"\"},\"type\":\"mesh3d\"}],\"parcoords\":[{\"line\":{\"colorbar\":{\"outlinewidth\":0,\"ticks\":\"\"}},\"type\":\"parcoords\"}],\"pie\":[{\"automargin\":true,\"type\":\"pie\"}],\"scatter3d\":[{\"line\":{\"colorbar\":{\"outlinewidth\":0,\"ticks\":\"\"}},\"marker\":{\"colorbar\":{\"outlinewidth\":0,\"ticks\":\"\"}},\"type\":\"scatter3d\"}],\"scattercarpet\":[{\"marker\":{\"colorbar\":{\"outlinewidth\":0,\"ticks\":\"\"}},\"type\":\"scattercarpet\"}],\"scattergeo\":[{\"marker\":{\"colorbar\":{\"outlinewidth\":0,\"ticks\":\"\"}},\"type\":\"scattergeo\"}],\"scattergl\":[{\"marker\":{\"line\":{\"color\":\"#283442\"}},\"type\":\"scattergl\"}],\"scattermapbox\":[{\"marker\":{\"colorbar\":{\"outlinewidth\":0,\"ticks\":\"\"}},\"type\":\"scattermapbox\"}],\"scatterpolargl\":[{\"marker\":{\"colorbar\":{\"outlinewidth\":0,\"ticks\":\"\"}},\"type\":\"scatterpolargl\"}],\"scatterpolar\":[{\"marker\":{\"colorbar\":{\"outlinewidth\":0,\"ticks\":\"\"}},\"type\":\"scatterpolar\"}],\"scatter\":[{\"marker\":{\"line\":{\"color\":\"#283442\"}},\"type\":\"scatter\"}],\"scatterternary\":[{\"marker\":{\"colorbar\":{\"outlinewidth\":0,\"ticks\":\"\"}},\"type\":\"scatterternary\"}],\"surface\":[{\"colorbar\":{\"outlinewidth\":0,\"ticks\":\"\"},\"colorscale\":[[0.0,\"#0d0887\"],[0.1111111111111111,\"#46039f\"],[0.2222222222222222,\"#7201a8\"],[0.3333333333333333,\"#9c179e\"],[0.4444444444444444,\"#bd3786\"],[0.5555555555555556,\"#d8576b\"],[0.6666666666666666,\"#ed7953\"],[0.7777777777777778,\"#fb9f3a\"],[0.8888888888888888,\"#fdca26\"],[1.0,\"#f0f921\"]],\"type\":\"surface\"}],\"table\":[{\"cells\":{\"fill\":{\"color\":\"#506784\"},\"line\":{\"color\":\"rgb(17,17,17)\"}},\"header\":{\"fill\":{\"color\":\"#2a3f5f\"},\"line\":{\"color\":\"rgb(17,17,17)\"}},\"type\":\"table\"}]},\"layout\":{\"annotationdefaults\":{\"arrowcolor\":\"#f2f5fa\",\"arrowhead\":0,\"arrowwidth\":1},\"autotypenumbers\":\"strict\",\"coloraxis\":{\"colorbar\":{\"outlinewidth\":0,\"ticks\":\"\"}},\"colorscale\":{\"diverging\":[[0,\"#8e0152\"],[0.1,\"#c51b7d\"],[0.2,\"#de77ae\"],[0.3,\"#f1b6da\"],[0.4,\"#fde0ef\"],[0.5,\"#f7f7f7\"],[0.6,\"#e6f5d0\"],[0.7,\"#b8e186\"],[0.8,\"#7fbc41\"],[0.9,\"#4d9221\"],[1,\"#276419\"]],\"sequential\":[[0.0,\"#0d0887\"],[0.1111111111111111,\"#46039f\"],[0.2222222222222222,\"#7201a8\"],[0.3333333333333333,\"#9c179e\"],[0.4444444444444444,\"#bd3786\"],[0.5555555555555556,\"#d8576b\"],[0.6666666666666666,\"#ed7953\"],[0.7777777777777778,\"#fb9f3a\"],[0.8888888888888888,\"#fdca26\"],[1.0,\"#f0f921\"]],\"sequentialminus\":[[0.0,\"#0d0887\"],[0.1111111111111111,\"#46039f\"],[0.2222222222222222,\"#7201a8\"],[0.3333333333333333,\"#9c179e\"],[0.4444444444444444,\"#bd3786\"],[0.5555555555555556,\"#d8576b\"],[0.6666666666666666,\"#ed7953\"],[0.7777777777777778,\"#fb9f3a\"],[0.8888888888888888,\"#fdca26\"],[1.0,\"#f0f921\"]]},\"colorway\":[\"#636efa\",\"#EF553B\",\"#00cc96\",\"#ab63fa\",\"#FFA15A\",\"#19d3f3\",\"#FF6692\",\"#B6E880\",\"#FF97FF\",\"#FECB52\"],\"font\":{\"color\":\"#f2f5fa\"},\"geo\":{\"bgcolor\":\"rgb(17,17,17)\",\"lakecolor\":\"rgb(17,17,17)\",\"landcolor\":\"rgb(17,17,17)\",\"showlakes\":true,\"showland\":true,\"subunitcolor\":\"#506784\"},\"hoverlabel\":{\"align\":\"left\"},\"hovermode\":\"closest\",\"mapbox\":{\"style\":\"dark\"},\"paper_bgcolor\":\"rgb(17,17,17)\",\"plot_bgcolor\":\"rgb(17,17,17)\",\"polar\":{\"angularaxis\":{\"gridcolor\":\"#506784\",\"linecolor\":\"#506784\",\"ticks\":\"\"},\"bgcolor\":\"rgb(17,17,17)\",\"radialaxis\":{\"gridcolor\":\"#506784\",\"linecolor\":\"#506784\",\"ticks\":\"\"}},\"scene\":{\"xaxis\":{\"backgroundcolor\":\"rgb(17,17,17)\",\"gridcolor\":\"#506784\",\"gridwidth\":2,\"linecolor\":\"#506784\",\"showbackground\":true,\"ticks\":\"\",\"zerolinecolor\":\"#C8D4E3\"},\"yaxis\":{\"backgroundcolor\":\"rgb(17,17,17)\",\"gridcolor\":\"#506784\",\"gridwidth\":2,\"linecolor\":\"#506784\",\"showbackground\":true,\"ticks\":\"\",\"zerolinecolor\":\"#C8D4E3\"},\"zaxis\":{\"backgroundcolor\":\"rgb(17,17,17)\",\"gridcolor\":\"#506784\",\"gridwidth\":2,\"linecolor\":\"#506784\",\"showbackground\":true,\"ticks\":\"\",\"zerolinecolor\":\"#C8D4E3\"}},\"shapedefaults\":{\"line\":{\"color\":\"#f2f5fa\"}},\"sliderdefaults\":{\"bgcolor\":\"#C8D4E3\",\"bordercolor\":\"rgb(17,17,17)\",\"borderwidth\":1,\"tickwidth\":0},\"ternary\":{\"aaxis\":{\"gridcolor\":\"#506784\",\"linecolor\":\"#506784\",\"ticks\":\"\"},\"baxis\":{\"gridcolor\":\"#506784\",\"linecolor\":\"#506784\",\"ticks\":\"\"},\"bgcolor\":\"rgb(17,17,17)\",\"caxis\":{\"gridcolor\":\"#506784\",\"linecolor\":\"#506784\",\"ticks\":\"\"}},\"title\":{\"x\":0.05},\"updatemenudefaults\":{\"bgcolor\":\"#506784\",\"borderwidth\":0},\"xaxis\":{\"automargin\":true,\"gridcolor\":\"#283442\",\"linecolor\":\"#506784\",\"ticks\":\"\",\"title\":{\"standoff\":15},\"zerolinecolor\":\"#283442\",\"zerolinewidth\":2},\"yaxis\":{\"automargin\":true,\"gridcolor\":\"#283442\",\"linecolor\":\"#506784\",\"ticks\":\"\",\"title\":{\"standoff\":15},\"zerolinecolor\":\"#283442\",\"zerolinewidth\":2}}},\"xaxis\":{\"anchor\":\"y\",\"domain\":[0.0,0.45]},\"yaxis\":{\"anchor\":\"x\",\"domain\":[0.0,1.0]},\"xaxis2\":{\"anchor\":\"y2\",\"domain\":[0.55,1.0]},\"yaxis2\":{\"anchor\":\"x2\",\"domain\":[0.0,1.0]},\"title\":{\"text\":\"Counts of Year and Week Number\"}},                        {\"responsive\": true}                    ).then(function(){\n",
       "                            \n",
       "var gd = document.getElementById('17b3183e-4c7f-46e5-86f4-0c9fb8b11fd9');\n",
       "var x = new MutationObserver(function (mutations, observer) {{\n",
       "        var display = window.getComputedStyle(gd).display;\n",
       "        if (!display || display === 'none') {{\n",
       "            console.log([gd, 'removed!']);\n",
       "            Plotly.purge(gd);\n",
       "            observer.disconnect();\n",
       "        }}\n",
       "}});\n",
       "\n",
       "// Listen for the removal of the full notebook cells\n",
       "var notebookContainer = gd.closest('#notebook-container');\n",
       "if (notebookContainer) {{\n",
       "    x.observe(notebookContainer, {childList: true});\n",
       "}}\n",
       "\n",
       "// Listen for the clearing of the current output cell\n",
       "var outputEl = gd.closest('.output');\n",
       "if (outputEl) {{\n",
       "    x.observe(outputEl, {childList: true});\n",
       "}}\n",
       "\n",
       "                        })                };                            </script>        </div>\n",
       "</body>\n",
       "</html>"
      ]
     },
     "metadata": {},
     "output_type": "display_data"
    }
   ],
   "source": [
    "fig = make_subplots(rows=1, cols=2)\n",
    "\n",
    "year_cnt = all.year.value_counts()\n",
    "week_cnt = all.week_no.value_counts()\n",
    "\n",
    "fig.add_trace(go.Bar(\n",
    "    x=year_cnt.index,\n",
    "    y=year_cnt.values,\n",
    "    text=year_cnt.values,\n",
    "    name='Year',\n",
    "    marker_color='seagreen'),\n",
    "    row=1, col=1)\n",
    "\n",
    "fig.add_trace(go.Bar(\n",
    "    x=week_cnt.index,\n",
    "    y=week_cnt.values,\n",
    "    text=week_cnt.values,\n",
    "    name='Week Number',\n",
    "    marker_color='#378025'),\n",
    "    row=1, col=2)\n",
    "\n",
    "fig.update_layout(\n",
    "    title='Counts of Year and Week Number',\n",
    "    template='plotly_dark')\n",
    "\n",
    "fig.show()"
   ]
  },
  {
   "cell_type": "code",
   "execution_count": 552,
   "metadata": {
    "colab": {
     "base_uri": "https://localhost:8080/",
     "height": 0
    },
    "executionInfo": {
     "elapsed": 33,
     "status": "ok",
     "timestamp": 1692675879236,
     "user": {
      "displayName": "Lee Minjik",
      "userId": "03992121075759719709"
     },
     "user_tz": -540
    },
    "id": "9zaf8lbTKtUf",
    "outputId": "99fea10e-f115-4526-f69c-e49f6d64bace"
   },
   "outputs": [
    {
     "data": {
      "image/png": "[encoded data removed]",
      "text/plain": [
       "<Figure size 600x400 with 1 Axes>"
      ]
     },
     "metadata": {},
     "output_type": "display_data"
    }
   ],
   "source": [
    "from matplotlib.ticker import MaxNLocator\n",
    "\n",
    "plt.figure(figsize=(6, 4))\n",
    "plt.title('Emission over Year')\n",
    "sns.lineplot(x='year', y='emission', data=train, errorbar=None)\n",
    "plt.gca().xaxis.set_major_locator(MaxNLocator(integer=True))\n",
    "plt.show()"
   ]
  },
  {
   "cell_type": "code",
   "execution_count": 553,
   "metadata": {
    "colab": {
     "base_uri": "https://localhost:8080/",
     "height": 0
    },
    "executionInfo": {
     "elapsed": 934,
     "status": "ok",
     "timestamp": 1692675880140,
     "user": {
      "displayName": "Lee Minjik",
      "userId": "03992121075759719709"
     },
     "user_tz": -540
    },
    "id": "pG6FbQ0MI4M-",
    "outputId": "92561fba-90ec-49b4-b1ef-a9c80891ef1f"
   },
   "outputs": [
    {
     "data": {
      "image/png": "[encoded data removed]",
      "text/plain": [
       "<Figure size 1000x500 with 1 Axes>"
      ]
     },
     "metadata": {},
     "output_type": "display_data"
    }
   ],
   "source": [
    "plt.figure(figsize=(10,5))\n",
    "plt.title('Emission over Week')\n",
    "sns.lineplot(x='week_no', y='emission', data=train, errorbar=None)\n",
    "plt.show()"
   ]
  },
  {
   "cell_type": "code",
   "execution_count": 554,
   "metadata": {
    "colab": {
     "base_uri": "https://localhost:8080/",
     "height": 0
    },
    "executionInfo": {
     "elapsed": 126,
     "status": "ok",
     "timestamp": 1692675880141,
     "user": {
      "displayName": "Lee Minjik",
      "userId": "03992121075759719709"
     },
     "user_tz": -540
    },
    "id": "2R_Df7h_fjAx",
    "outputId": "75faddcf-c0c2-4563-c120-ebaaccbae6a6"
   },
   "outputs": [
    {
     "data": {
      "image/png": "[encoded data removed]",
      "text/plain": [
       "<Figure size 1000x500 with 1 Axes>"
      ]
     },
     "metadata": {},
     "output_type": "display_data"
    }
   ],
   "source": [
    "year_week = pd.to_datetime((train.year * 100 + train.week_no).astype('str') + '0', format='%Y%W%w')\n",
    "\n",
    "plt.figure(figsize=(10,5))\n",
    "plt.title('Emission over Time')\n",
    "sns.lineplot(x=year_week, y='emission', data=train, errorbar=None)\n",
    "\n",
    "plt.show()"
   ]
  },
  {
   "cell_type": "code",
   "execution_count": 555,
   "metadata": {
    "colab": {
     "base_uri": "https://localhost:8080/",
     "height": 0
    },
    "executionInfo": {
     "elapsed": 123,
     "status": "ok",
     "timestamp": 1692675880142,
     "user": {
      "displayName": "Lee Minjik",
      "userId": "03992121075759719709"
     },
     "user_tz": -540
    },
    "id": "PIWd68UTZ-xw",
    "outputId": "0aae690e-7c86-41f4-a800-bf37c624bf78"
   },
   "outputs": [
    {
     "data": {
      "text/html": [
       "<html>\n",
       "<head><meta charset=\"utf-8\" /></head>\n",
       "<body>\n",
       "    <div>            <script src=\"https://cdnjs.cloudflare.com/ajax/libs/mathjax/2.7.5/MathJax.js?config=TeX-AMS-MML_SVG\"></script><script type=\"text/javascript\">if (window.MathJax && window.MathJax.Hub && window.MathJax.Hub.Config) {window.MathJax.Hub.Config({SVG: {font: \"STIX-Web\"}});}</script>                <script type=\"text/javascript\">window.PlotlyConfig = {MathJaxConfig: 'local'};</script>\n",
       "        <script charset=\"utf-8\" src=\"https://cdn.plot.ly/plotly-2.24.1.min.js\"></script>                <div id=\"64d1c85d-cc77-4e7b-a12a-961ab2e6d918\" class=\"plotly-graph-div\" style=\"height:525px; width:100%;\"></div>            <script type=\"text/javascript\">                                    window.PLOTLYENV=window.PLOTLYENV || {};                                    if (document.getElementById(\"64d1c85d-cc77-4e7b-a12a-961ab2e6d918\")) {                    Plotly.newPlot(                        \"64d1c85d-cc77-4e7b-a12a-961ab2e6d918\",                        [{\"line\":{\"color\":\"Green\"},\"mode\":\"lines\",\"name\":\"CO2 Emission in 2019\",\"x\":[\"0\",\"1\",\"2\",\"3\",\"4\",\"5\",\"6\",\"7\",\"8\",\"9\",\"10\",\"11\",\"12\",\"13\",\"14\",\"15\",\"16\",\"17\",\"18\",\"19\",\"20\",\"21\",\"22\",\"23\",\"24\",\"25\",\"26\",\"27\",\"28\",\"29\",\"30\",\"31\",\"32\",\"33\",\"34\",\"35\",\"36\",\"37\",\"38\",\"39\",\"40\",\"41\",\"42\",\"43\",\"44\",\"45\",\"46\",\"47\",\"48\",\"49\",\"50\",\"51\",\"52\"],\"y\":[76.73914907833078,82.37635036944971,86.00882336778893,87.90396444562354,89.5950946247485,88.91222053517103,88.94622501816882,87.61086127834608,88.45282518918853,85.50675657375453,84.63514531326358,83.7511862522984,84.60216801935613,77.11638949526157,124.44262445889638,115.83630192584025,112.92359151699397,89.0602159338994,86.73934578690705,86.7107056202676,84.95077617307042,78.37395243415956,78.87157397250303,78.89011644526379,79.37955522951509,79.24175466743058,80.27449446271088,78.96304124130585,78.69511443363743,78.53652513100121,78.00448231792254,80.10702317980564,80.36289500672032,79.91918192082656,79.85809645842193,82.31608957196157,82.20495084415433,82.24442544124548,82.75727669649899,78.9447810808652,106.62088749072133,107.26442909557747,113.37138830104507,122.71616890600302,86.2383669816167,87.31807298092816,88.21831769816498,88.7969877154008,85.63762244652114,84.61127747101409,85.64519271536841,78.11821883272233,79.2087934670191],\"type\":\"scatter\"},{\"line\":{\"color\":\"Red\"},\"mode\":\"lines\",\"name\":\"CO2 Emission in 2020\",\"x\":[\"0\",\"1\",\"2\",\"3\",\"4\",\"5\",\"6\",\"7\",\"8\",\"9\",\"10\",\"11\",\"12\",\"13\",\"14\",\"15\",\"16\",\"17\",\"18\",\"19\",\"20\",\"21\",\"22\",\"23\",\"24\",\"25\",\"26\",\"27\",\"28\",\"29\",\"30\",\"31\",\"32\",\"33\",\"34\",\"35\",\"36\",\"37\",\"38\",\"39\",\"40\",\"41\",\"42\",\"43\",\"44\",\"45\",\"46\",\"47\",\"48\",\"49\",\"50\",\"51\",\"52\"],\"y\":[78.88656593982635,85.33436591489135,87.16131071227343,86.70495781102414,86.5628598579686,86.60396637588148,86.44335725365855,85.76346584504829,86.0512226066841,83.82055379820966,78.45328327458752,67.65642047837525,56.860039041943665,96.56824065050101,86.59470828954808,88.46714624698913,88.05185921061125,49.79879694395694,55.94179809937424,58.64534499986761,56.835315119530584,56.18607988212676,49.20118221017445,64.59789516559155,66.07780323308049,66.1404001587008,65.41299157098874,67.80709388615634,68.34538736534908,68.92135027183099,61.961883552896985,69.09486839358712,70.36600353446761,70.1693965668678,72.37998298616499,79.45513965235693,75.80565633472516,75.5305630921328,76.6571104333837,77.12796763348692,99.15609063421489,104.52861847794749,105.09580601961368,108.47883259494589,74.4357164227857,74.68533099681751,75.21211006493039,76.83611961030763,74.6037325416491,75.1908783028998,76.85942785227223,72.15591108830986,71.89953512633038],\"type\":\"scatter\"},{\"line\":{\"color\":\"Yellow\"},\"mode\":\"lines\",\"name\":\"CO2 Emission in 2021\",\"x\":[\"0\",\"1\",\"2\",\"3\",\"4\",\"5\",\"6\",\"7\",\"8\",\"9\",\"10\",\"11\",\"12\",\"13\",\"14\",\"15\",\"16\",\"17\",\"18\",\"19\",\"20\",\"21\",\"22\",\"23\",\"24\",\"25\",\"26\",\"27\",\"28\",\"29\",\"30\",\"31\",\"32\",\"33\",\"34\",\"35\",\"36\",\"37\",\"38\",\"39\",\"40\",\"41\",\"42\",\"43\",\"44\",\"45\",\"46\",\"47\",\"48\",\"49\",\"50\",\"51\",\"52\"],\"y\":[60.63829437257948,74.94660321817423,76.01395827281146,75.94419104019316,77.90995869512334,81.3403330958165,79.56399983527666,79.53530389801308,80.30620394906137,71.89894802705031,79.00247516514185,79.22939284884708,78.53006865480543,78.05061901580744,120.02121972212032,117.85419136236298,112.96741469021549,73.65495336096377,77.80534560981087,74.31752122832536,76.11891274030785,77.49981169362717,79.10483771966379,76.3690698579497,75.96379195947425,75.27161534317023,74.3450855050493,72.23250507880081,71.49599013457888,69.78908128337082,71.24559539170221,76.1465176821839,74.67997371922435,74.64816609029981,75.7264250148813,75.83047121282978,80.08946281467304,82.1814865874346,83.11559173322938,103.09174712117465,104.98506852905372,108.90508654821791,112.73974936964386,114.43963620091469,82.7594089731157,83.49071380379476,83.53642643872234,84.81945759156278,83.61688076625815,82.93855468942677,82.78830100247646,79.70497125877364,77.23209683868772],\"type\":\"scatter\"}],                        {\"template\":{\"data\":{\"barpolar\":[{\"marker\":{\"line\":{\"color\":\"rgb(17,17,17)\",\"width\":0.5},\"pattern\":{\"fillmode\":\"overlay\",\"size\":10,\"solidity\":0.2}},\"type\":\"barpolar\"}],\"bar\":[{\"error_x\":{\"color\":\"#f2f5fa\"},\"error_y\":{\"color\":\"#f2f5fa\"},\"marker\":{\"line\":{\"color\":\"rgb(17,17,17)\",\"width\":0.5},\"pattern\":{\"fillmode\":\"overlay\",\"size\":10,\"solidity\":0.2}},\"type\":\"bar\"}],\"carpet\":[{\"aaxis\":{\"endlinecolor\":\"#A2B1C6\",\"gridcolor\":\"#506784\",\"linecolor\":\"#506784\",\"minorgridcolor\":\"#506784\",\"startlinecolor\":\"#A2B1C6\"},\"baxis\":{\"endlinecolor\":\"#A2B1C6\",\"gridcolor\":\"#506784\",\"linecolor\":\"#506784\",\"minorgridcolor\":\"#506784\",\"startlinecolor\":\"#A2B1C6\"},\"type\":\"carpet\"}],\"choropleth\":[{\"colorbar\":{\"outlinewidth\":0,\"ticks\":\"\"},\"type\":\"choropleth\"}],\"contourcarpet\":[{\"colorbar\":{\"outlinewidth\":0,\"ticks\":\"\"},\"type\":\"contourcarpet\"}],\"contour\":[{\"colorbar\":{\"outlinewidth\":0,\"ticks\":\"\"},\"colorscale\":[[0.0,\"#0d0887\"],[0.1111111111111111,\"#46039f\"],[0.2222222222222222,\"#7201a8\"],[0.3333333333333333,\"#9c179e\"],[0.4444444444444444,\"#bd3786\"],[0.5555555555555556,\"#d8576b\"],[0.6666666666666666,\"#ed7953\"],[0.7777777777777778,\"#fb9f3a\"],[0.8888888888888888,\"#fdca26\"],[1.0,\"#f0f921\"]],\"type\":\"contour\"}],\"heatmapgl\":[{\"colorbar\":{\"outlinewidth\":0,\"ticks\":\"\"},\"colorscale\":[[0.0,\"#0d0887\"],[0.1111111111111111,\"#46039f\"],[0.2222222222222222,\"#7201a8\"],[0.3333333333333333,\"#9c179e\"],[0.4444444444444444,\"#bd3786\"],[0.5555555555555556,\"#d8576b\"],[0.6666666666666666,\"#ed7953\"],[0.7777777777777778,\"#fb9f3a\"],[0.8888888888888888,\"#fdca26\"],[1.0,\"#f0f921\"]],\"type\":\"heatmapgl\"}],\"heatmap\":[{\"colorbar\":{\"outlinewidth\":0,\"ticks\":\"\"},\"colorscale\":[[0.0,\"#0d0887\"],[0.1111111111111111,\"#46039f\"],[0.2222222222222222,\"#7201a8\"],[0.3333333333333333,\"#9c179e\"],[0.4444444444444444,\"#bd3786\"],[0.5555555555555556,\"#d8576b\"],[0.6666666666666666,\"#ed7953\"],[0.7777777777777778,\"#fb9f3a\"],[0.8888888888888888,\"#fdca26\"],[1.0,\"#f0f921\"]],\"type\":\"heatmap\"}],\"histogram2dcontour\":[{\"colorbar\":{\"outlinewidth\":0,\"ticks\":\"\"},\"colorscale\":[[0.0,\"#0d0887\"],[0.1111111111111111,\"#46039f\"],[0.2222222222222222,\"#7201a8\"],[0.3333333333333333,\"#9c179e\"],[0.4444444444444444,\"#bd3786\"],[0.5555555555555556,\"#d8576b\"],[0.6666666666666666,\"#ed7953\"],[0.7777777777777778,\"#fb9f3a\"],[0.8888888888888888,\"#fdca26\"],[1.0,\"#f0f921\"]],\"type\":\"histogram2dcontour\"}],\"histogram2d\":[{\"colorbar\":{\"outlinewidth\":0,\"ticks\":\"\"},\"colorscale\":[[0.0,\"#0d0887\"],[0.1111111111111111,\"#46039f\"],[0.2222222222222222,\"#7201a8\"],[0.3333333333333333,\"#9c179e\"],[0.4444444444444444,\"#bd3786\"],[0.5555555555555556,\"#d8576b\"],[0.6666666666666666,\"#ed7953\"],[0.7777777777777778,\"#fb9f3a\"],[0.8888888888888888,\"#fdca26\"],[1.0,\"#f0f921\"]],\"type\":\"histogram2d\"}],\"histogram\":[{\"marker\":{\"pattern\":{\"fillmode\":\"overlay\",\"size\":10,\"solidity\":0.2}},\"type\":\"histogram\"}],\"mesh3d\":[{\"colorbar\":{\"outlinewidth\":0,\"ticks\":\"\"},\"type\":\"mesh3d\"}],\"parcoords\":[{\"line\":{\"colorbar\":{\"outlinewidth\":0,\"ticks\":\"\"}},\"type\":\"parcoords\"}],\"pie\":[{\"automargin\":true,\"type\":\"pie\"}],\"scatter3d\":[{\"line\":{\"colorbar\":{\"outlinewidth\":0,\"ticks\":\"\"}},\"marker\":{\"colorbar\":{\"outlinewidth\":0,\"ticks\":\"\"}},\"type\":\"scatter3d\"}],\"scattercarpet\":[{\"marker\":{\"colorbar\":{\"outlinewidth\":0,\"ticks\":\"\"}},\"type\":\"scattercarpet\"}],\"scattergeo\":[{\"marker\":{\"colorbar\":{\"outlinewidth\":0,\"ticks\":\"\"}},\"type\":\"scattergeo\"}],\"scattergl\":[{\"marker\":{\"line\":{\"color\":\"#283442\"}},\"type\":\"scattergl\"}],\"scattermapbox\":[{\"marker\":{\"colorbar\":{\"outlinewidth\":0,\"ticks\":\"\"}},\"type\":\"scattermapbox\"}],\"scatterpolargl\":[{\"marker\":{\"colorbar\":{\"outlinewidth\":0,\"ticks\":\"\"}},\"type\":\"scatterpolargl\"}],\"scatterpolar\":[{\"marker\":{\"colorbar\":{\"outlinewidth\":0,\"ticks\":\"\"}},\"type\":\"scatterpolar\"}],\"scatter\":[{\"marker\":{\"line\":{\"color\":\"#283442\"}},\"type\":\"scatter\"}],\"scatterternary\":[{\"marker\":{\"colorbar\":{\"outlinewidth\":0,\"ticks\":\"\"}},\"type\":\"scatterternary\"}],\"surface\":[{\"colorbar\":{\"outlinewidth\":0,\"ticks\":\"\"},\"colorscale\":[[0.0,\"#0d0887\"],[0.1111111111111111,\"#46039f\"],[0.2222222222222222,\"#7201a8\"],[0.3333333333333333,\"#9c179e\"],[0.4444444444444444,\"#bd3786\"],[0.5555555555555556,\"#d8576b\"],[0.6666666666666666,\"#ed7953\"],[0.7777777777777778,\"#fb9f3a\"],[0.8888888888888888,\"#fdca26\"],[1.0,\"#f0f921\"]],\"type\":\"surface\"}],\"table\":[{\"cells\":{\"fill\":{\"color\":\"#506784\"},\"line\":{\"color\":\"rgb(17,17,17)\"}},\"header\":{\"fill\":{\"color\":\"#2a3f5f\"},\"line\":{\"color\":\"rgb(17,17,17)\"}},\"type\":\"table\"}]},\"layout\":{\"annotationdefaults\":{\"arrowcolor\":\"#f2f5fa\",\"arrowhead\":0,\"arrowwidth\":1},\"autotypenumbers\":\"strict\",\"coloraxis\":{\"colorbar\":{\"outlinewidth\":0,\"ticks\":\"\"}},\"colorscale\":{\"diverging\":[[0,\"#8e0152\"],[0.1,\"#c51b7d\"],[0.2,\"#de77ae\"],[0.3,\"#f1b6da\"],[0.4,\"#fde0ef\"],[0.5,\"#f7f7f7\"],[0.6,\"#e6f5d0\"],[0.7,\"#b8e186\"],[0.8,\"#7fbc41\"],[0.9,\"#4d9221\"],[1,\"#276419\"]],\"sequential\":[[0.0,\"#0d0887\"],[0.1111111111111111,\"#46039f\"],[0.2222222222222222,\"#7201a8\"],[0.3333333333333333,\"#9c179e\"],[0.4444444444444444,\"#bd3786\"],[0.5555555555555556,\"#d8576b\"],[0.6666666666666666,\"#ed7953\"],[0.7777777777777778,\"#fb9f3a\"],[0.8888888888888888,\"#fdca26\"],[1.0,\"#f0f921\"]],\"sequentialminus\":[[0.0,\"#0d0887\"],[0.1111111111111111,\"#46039f\"],[0.2222222222222222,\"#7201a8\"],[0.3333333333333333,\"#9c179e\"],[0.4444444444444444,\"#bd3786\"],[0.5555555555555556,\"#d8576b\"],[0.6666666666666666,\"#ed7953\"],[0.7777777777777778,\"#fb9f3a\"],[0.8888888888888888,\"#fdca26\"],[1.0,\"#f0f921\"]]},\"colorway\":[\"#636efa\",\"#EF553B\",\"#00cc96\",\"#ab63fa\",\"#FFA15A\",\"#19d3f3\",\"#FF6692\",\"#B6E880\",\"#FF97FF\",\"#FECB52\"],\"font\":{\"color\":\"#f2f5fa\"},\"geo\":{\"bgcolor\":\"rgb(17,17,17)\",\"lakecolor\":\"rgb(17,17,17)\",\"landcolor\":\"rgb(17,17,17)\",\"showlakes\":true,\"showland\":true,\"subunitcolor\":\"#506784\"},\"hoverlabel\":{\"align\":\"left\"},\"hovermode\":\"closest\",\"mapbox\":{\"style\":\"dark\"},\"paper_bgcolor\":\"rgb(17,17,17)\",\"plot_bgcolor\":\"rgb(17,17,17)\",\"polar\":{\"angularaxis\":{\"gridcolor\":\"#506784\",\"linecolor\":\"#506784\",\"ticks\":\"\"},\"bgcolor\":\"rgb(17,17,17)\",\"radialaxis\":{\"gridcolor\":\"#506784\",\"linecolor\":\"#506784\",\"ticks\":\"\"}},\"scene\":{\"xaxis\":{\"backgroundcolor\":\"rgb(17,17,17)\",\"gridcolor\":\"#506784\",\"gridwidth\":2,\"linecolor\":\"#506784\",\"showbackground\":true,\"ticks\":\"\",\"zerolinecolor\":\"#C8D4E3\"},\"yaxis\":{\"backgroundcolor\":\"rgb(17,17,17)\",\"gridcolor\":\"#506784\",\"gridwidth\":2,\"linecolor\":\"#506784\",\"showbackground\":true,\"ticks\":\"\",\"zerolinecolor\":\"#C8D4E3\"},\"zaxis\":{\"backgroundcolor\":\"rgb(17,17,17)\",\"gridcolor\":\"#506784\",\"gridwidth\":2,\"linecolor\":\"#506784\",\"showbackground\":true,\"ticks\":\"\",\"zerolinecolor\":\"#C8D4E3\"}},\"shapedefaults\":{\"line\":{\"color\":\"#f2f5fa\"}},\"sliderdefaults\":{\"bgcolor\":\"#C8D4E3\",\"bordercolor\":\"rgb(17,17,17)\",\"borderwidth\":1,\"tickwidth\":0},\"ternary\":{\"aaxis\":{\"gridcolor\":\"#506784\",\"linecolor\":\"#506784\",\"ticks\":\"\"},\"baxis\":{\"gridcolor\":\"#506784\",\"linecolor\":\"#506784\",\"ticks\":\"\"},\"bgcolor\":\"rgb(17,17,17)\",\"caxis\":{\"gridcolor\":\"#506784\",\"linecolor\":\"#506784\",\"ticks\":\"\"}},\"title\":{\"x\":0.05},\"updatemenudefaults\":{\"bgcolor\":\"#506784\",\"borderwidth\":0},\"xaxis\":{\"automargin\":true,\"gridcolor\":\"#283442\",\"linecolor\":\"#506784\",\"ticks\":\"\",\"title\":{\"standoff\":15},\"zerolinecolor\":\"#283442\",\"zerolinewidth\":2},\"yaxis\":{\"automargin\":true,\"gridcolor\":\"#283442\",\"linecolor\":\"#506784\",\"ticks\":\"\",\"title\":{\"standoff\":15},\"zerolinecolor\":\"#283442\",\"zerolinewidth\":2}}},\"title\":{\"text\":\"Average CO2 Emissions across Year\"}},                        {\"responsive\": true}                    ).then(function(){\n",
       "                            \n",
       "var gd = document.getElementById('64d1c85d-cc77-4e7b-a12a-961ab2e6d918');\n",
       "var x = new MutationObserver(function (mutations, observer) {{\n",
       "        var display = window.getComputedStyle(gd).display;\n",
       "        if (!display || display === 'none') {{\n",
       "            console.log([gd, 'removed!']);\n",
       "            Plotly.purge(gd);\n",
       "            observer.disconnect();\n",
       "        }}\n",
       "}});\n",
       "\n",
       "// Listen for the removal of the full notebook cells\n",
       "var notebookContainer = gd.closest('#notebook-container');\n",
       "if (notebookContainer) {{\n",
       "    x.observe(notebookContainer, {childList: true});\n",
       "}}\n",
       "\n",
       "// Listen for the clearing of the current output cell\n",
       "var outputEl = gd.closest('.output');\n",
       "if (outputEl) {{\n",
       "    x.observe(outputEl, {childList: true});\n",
       "}}\n",
       "\n",
       "                        })                };                            </script>        </div>\n",
       "</body>\n",
       "</html>"
      ]
     },
     "metadata": {},
     "output_type": "display_data"
    }
   ],
   "source": [
    "graph_emission_by_time(train, train.week_no)"
   ]
  },
  {
   "cell_type": "code",
   "execution_count": 556,
   "metadata": {
    "executionInfo": {
     "elapsed": 122,
     "status": "ok",
     "timestamp": 1692675880144,
     "user": {
      "displayName": "Lee Minjik",
      "userId": "03992121075759719709"
     },
     "user_tz": -540
    },
    "id": "LS6Ddm418YJi"
   },
   "outputs": [],
   "source": [
    "# plt.figure(figsize=(10, 5))\n",
    "# plt.title('Time series for every location')\n",
    "\n",
    "# unique_locations = train[['latitude', 'longitude']].drop_duplicates()\n",
    "# for _, ll in unique_locations.iterrows():\n",
    "#     val = train[(train.latitude==ll.latitude) & (train.longitude==ll.longitude)].emission\n",
    "#     sns.lineplot(x=range(len(val)), y=val)\n",
    "# for week in [0, 53, 106, 159]:\n",
    "#     plt.axvline(week, color='k', linestyle='--')\n",
    "\n",
    "# plt.xlabel('week')\n",
    "# plt.ylabel('emission')\n",
    "# plt.show()"
   ]
  },
  {
   "cell_type": "code",
   "execution_count": 557,
   "metadata": {
    "executionInfo": {
     "elapsed": 126,
     "status": "ok",
     "timestamp": 1692675880149,
     "user": {
      "displayName": "Lee Minjik",
      "userId": "03992121075759719709"
     },
     "user_tz": -540
    },
    "id": "6uxTvmWShqYe"
   },
   "outputs": [],
   "source": [
    "# plt.figure(figsize=(10, 5))\n",
    "# plt.title('Time series for every location')\n",
    "\n",
    "# excluded = [\n",
    "#     {'latitude': -2.378, 'longitude': 29.222},\n",
    "#     {'latitude': -2.079, 'longitude': 29.321}\n",
    "# ]\n",
    "\n",
    "# unique_locations = train[['latitude', 'longitude']].drop_duplicates()\n",
    "# for _, ll in unique_locations.iterrows():\n",
    "#     if {'latitude': ll.latitude, 'longitude': ll.longitude} not in excluded:\n",
    "#         val = train[(train.latitude==ll.latitude) & (train.longitude==ll.longitude)].emission\n",
    "#         sns.lineplot(x=range(len(val)), y=val)\n",
    "# for week in [0, 53, 106, 159]:\n",
    "#     plt.axvline(week, color='k', linestyle='--')\n",
    "\n",
    "# plt.xlabel('week')\n",
    "# plt.ylabel('emission')\n",
    "# plt.show()"
   ]
  },
  {
   "cell_type": "markdown",
   "metadata": {
    "id": "uf7Wh7TiEbae"
   },
   "source": [
    "# Features"
   ]
  },
  {
   "cell_type": "markdown",
   "metadata": {
    "id": "45u08hvT-Z2b"
   },
   "source": [
    "## month, weekth"
   ]
  },
  {
   "cell_type": "code",
   "execution_count": 558,
   "metadata": {
    "executionInfo": {
     "elapsed": 127,
     "status": "ok",
     "timestamp": 1692675880151,
     "user": {
      "displayName": "Lee Minjik",
      "userId": "03992121075759719709"
     },
     "user_tz": -540
    },
    "id": "nOA0bYdH-yU8"
   },
   "outputs": [],
   "source": [
    "# all['month'] = pd.to_datetime((all.year * 100 + all.week_no).astype('str') + '0', format='%Y%W%w').dt.month\n",
    "# all.loc[all.week_no==52, 'month'] = 12"
   ]
  },
  {
   "cell_type": "code",
   "execution_count": 559,
   "metadata": {
    "executionInfo": {
     "elapsed": 128,
     "status": "ok",
     "timestamp": 1692675880153,
     "user": {
      "displayName": "Lee Minjik",
      "userId": "03992121075759719709"
     },
     "user_tz": -540
    },
    "id": "j1YZL1ZN_23g"
   },
   "outputs": [],
   "source": [
    "all['weekth'] = (all.year-2019) * 53 + all.week_no"
   ]
  },
  {
   "cell_type": "markdown",
   "metadata": {
    "id": "09ozPXp-KVhf"
   },
   "source": [
    "## country"
   ]
  },
  {
   "cell_type": "code",
   "execution_count": 560,
   "metadata": {
    "colab": {
     "base_uri": "https://localhost:8080/",
     "height": 423
    },
    "executionInfo": {
     "elapsed": 168,
     "status": "ok",
     "timestamp": 1692675880194,
     "user": {
      "displayName": "Lee Minjik",
      "userId": "03992121075759719709"
     },
     "user_tz": -540
    },
    "id": "Dh-hTS-lKYc6",
    "outputId": "2efbcc6d-0445-4d22-9365-fba45eaa0970"
   },
   "outputs": [
    {
     "data": {
      "text/html": [
       "\n",
       "  <div id=\"df-eaf03fef-f1a6-455c-9f24-03341f8c5b4e\" class=\"colab-df-container\">\n",
       "    <div>\n",
       "<style scoped>\n",
       "    .dataframe tbody tr th:only-of-type {\n",
       "        vertical-align: middle;\n",
       "    }\n",
       "\n",
       "    .dataframe tbody tr th {\n",
       "        vertical-align: top;\n",
       "    }\n",
       "\n",
       "    .dataframe thead th {\n",
       "        text-align: right;\n",
       "    }\n",
       "</style>\n",
       "<table border=\"1\" class=\"dataframe\">\n",
       "  <thead>\n",
       "    <tr style=\"text-align: right;\">\n",
       "      <th></th>\n",
       "      <th>ID_LAT_LON_YEAR_WEEK</th>\n",
       "      <th>latitude</th>\n",
       "      <th>longitude</th>\n",
       "      <th>year</th>\n",
       "      <th>week_no</th>\n",
       "      <th>emission</th>\n",
       "      <th>weekth</th>\n",
       "      <th>country</th>\n",
       "    </tr>\n",
       "  </thead>\n",
       "  <tbody>\n",
       "    <tr>\n",
       "      <th>0</th>\n",
       "      <td>ID_-0.510_29.290_2019_00</td>\n",
       "      <td>-0.510</td>\n",
       "      <td>29.290</td>\n",
       "      <td>2019</td>\n",
       "      <td>0</td>\n",
       "      <td>3.750994</td>\n",
       "      <td>0</td>\n",
       "      <td>Congo</td>\n",
       "    </tr>\n",
       "    <tr>\n",
       "      <th>1</th>\n",
       "      <td>ID_-0.510_29.290_2019_01</td>\n",
       "      <td>-0.510</td>\n",
       "      <td>29.290</td>\n",
       "      <td>2019</td>\n",
       "      <td>1</td>\n",
       "      <td>4.025176</td>\n",
       "      <td>1</td>\n",
       "      <td>Congo</td>\n",
       "    </tr>\n",
       "    <tr>\n",
       "      <th>2</th>\n",
       "      <td>ID_-0.510_29.290_2019_02</td>\n",
       "      <td>-0.510</td>\n",
       "      <td>29.290</td>\n",
       "      <td>2019</td>\n",
       "      <td>2</td>\n",
       "      <td>4.231381</td>\n",
       "      <td>2</td>\n",
       "      <td>Congo</td>\n",
       "    </tr>\n",
       "    <tr>\n",
       "      <th>3</th>\n",
       "      <td>ID_-0.510_29.290_2019_03</td>\n",
       "      <td>-0.510</td>\n",
       "      <td>29.290</td>\n",
       "      <td>2019</td>\n",
       "      <td>3</td>\n",
       "      <td>4.305286</td>\n",
       "      <td>3</td>\n",
       "      <td>Congo</td>\n",
       "    </tr>\n",
       "    <tr>\n",
       "      <th>4</th>\n",
       "      <td>ID_-0.510_29.290_2019_04</td>\n",
       "      <td>-0.510</td>\n",
       "      <td>29.290</td>\n",
       "      <td>2019</td>\n",
       "      <td>4</td>\n",
       "      <td>4.347317</td>\n",
       "      <td>4</td>\n",
       "      <td>Congo</td>\n",
       "    </tr>\n",
       "    <tr>\n",
       "      <th>...</th>\n",
       "      <td>...</td>\n",
       "      <td>...</td>\n",
       "      <td>...</td>\n",
       "      <td>...</td>\n",
       "      <td>...</td>\n",
       "      <td>...</td>\n",
       "      <td>...</td>\n",
       "      <td>...</td>\n",
       "    </tr>\n",
       "    <tr>\n",
       "      <th>103371</th>\n",
       "      <td>ID_-3.299_30.301_2022_44</td>\n",
       "      <td>-3.299</td>\n",
       "      <td>30.301</td>\n",
       "      <td>2022</td>\n",
       "      <td>44</td>\n",
       "      <td>NaN</td>\n",
       "      <td>203</td>\n",
       "      <td>Burundi</td>\n",
       "    </tr>\n",
       "    <tr>\n",
       "      <th>103372</th>\n",
       "      <td>ID_-3.299_30.301_2022_45</td>\n",
       "      <td>-3.299</td>\n",
       "      <td>30.301</td>\n",
       "      <td>2022</td>\n",
       "      <td>45</td>\n",
       "      <td>NaN</td>\n",
       "      <td>204</td>\n",
       "      <td>Burundi</td>\n",
       "    </tr>\n",
       "    <tr>\n",
       "      <th>103373</th>\n",
       "      <td>ID_-3.299_30.301_2022_46</td>\n",
       "      <td>-3.299</td>\n",
       "      <td>30.301</td>\n",
       "      <td>2022</td>\n",
       "      <td>46</td>\n",
       "      <td>NaN</td>\n",
       "      <td>205</td>\n",
       "      <td>Burundi</td>\n",
       "    </tr>\n",
       "    <tr>\n",
       "      <th>103374</th>\n",
       "      <td>ID_-3.299_30.301_2022_47</td>\n",
       "      <td>-3.299</td>\n",
       "      <td>30.301</td>\n",
       "      <td>2022</td>\n",
       "      <td>47</td>\n",
       "      <td>NaN</td>\n",
       "      <td>206</td>\n",
       "      <td>Burundi</td>\n",
       "    </tr>\n",
       "    <tr>\n",
       "      <th>103375</th>\n",
       "      <td>ID_-3.299_30.301_2022_48</td>\n",
       "      <td>-3.299</td>\n",
       "      <td>30.301</td>\n",
       "      <td>2022</td>\n",
       "      <td>48</td>\n",
       "      <td>NaN</td>\n",
       "      <td>207</td>\n",
       "      <td>Burundi</td>\n",
       "    </tr>\n",
       "  </tbody>\n",
       "</table>\n",
       "<p>103376 rows × 8 columns</p>\n",
       "</div>\n",
       "    <div class=\"colab-df-buttons\">\n",
       "\n",
       "  <div class=\"colab-df-container\">\n",
       "    <button class=\"colab-df-convert\" onclick=\"convertToInteractive('df-eaf03fef-f1a6-455c-9f24-03341f8c5b4e')\"\n",
       "            title=\"Convert this dataframe to an interactive table.\"\n",
       "            style=\"display:none;\">\n",
       "\n",
       "  <svg xmlns=\"http://www.w3.org/2000/svg\" height=\"24px\" viewBox=\"0 -960 960 960\">\n",
       "    <path d=\"M120-120v-720h720v720H120Zm60-500h600v-160H180v160Zm220 220h160v-160H400v160Zm0 220h160v-160H400v160ZM180-400h160v-160H180v160Zm440 0h160v-160H620v160ZM180-180h160v-160H180v160Zm440 0h160v-160H620v160Z\"/>\n",
       "  </svg>\n",
       "    </button>\n",
       "\n",
       "  <style>\n",
       "    .colab-df-container {\n",
       "      display:flex;\n",
       "      gap: 12px;\n",
       "    }\n",
       "\n",
       "    .colab-df-convert {\n",
       "      background-color: #E8F0FE;\n",
       "      border: none;\n",
       "      border-radius: 50%;\n",
       "      cursor: pointer;\n",
       "      display: none;\n",
       "      fill: #1967D2;\n",
       "      height: 32px;\n",
       "      padding: 0 0 0 0;\n",
       "      width: 32px;\n",
       "    }\n",
       "\n",
       "    .colab-df-convert:hover {\n",
       "      background-color: #E2EBFA;\n",
       "      box-shadow: 0px 1px 2px rgba(60, 64, 67, 0.3), 0px 1px 3px 1px rgba(60, 64, 67, 0.15);\n",
       "      fill: #174EA6;\n",
       "    }\n",
       "\n",
       "    .colab-df-buttons div {\n",
       "      margin-bottom: 4px;\n",
       "    }\n",
       "\n",
       "    [theme=dark] .colab-df-convert {\n",
       "      background-color: #3B4455;\n",
       "      fill: #D2E3FC;\n",
       "    }\n",
       "\n",
       "    [theme=dark] .colab-df-convert:hover {\n",
       "      background-color: #434B5C;\n",
       "      box-shadow: 0px 1px 3px 1px rgba(0, 0, 0, 0.15);\n",
       "      filter: drop-shadow(0px 1px 2px rgba(0, 0, 0, 0.3));\n",
       "      fill: #FFFFFF;\n",
       "    }\n",
       "  </style>\n",
       "\n",
       "    <script>\n",
       "      const buttonEl =\n",
       "        document.querySelector('#df-eaf03fef-f1a6-455c-9f24-03341f8c5b4e button.colab-df-convert');\n",
       "      buttonEl.style.display =\n",
       "        google.colab.kernel.accessAllowed ? 'block' : 'none';\n",
       "\n",
       "      async function convertToInteractive(key) {\n",
       "        const element = document.querySelector('#df-eaf03fef-f1a6-455c-9f24-03341f8c5b4e');\n",
       "        const dataTable =\n",
       "          await google.colab.kernel.invokeFunction('convertToInteractive',\n",
       "                                                    [key], {});\n",
       "        if (!dataTable) return;\n",
       "\n",
       "        const docLinkHtml = 'Like what you see? Visit the ' +\n",
       "          '<a target=\"_blank\" href=https://colab.research.google.com/notebooks/data_table.ipynb>data table notebook</a>'\n",
       "          + ' to learn more about interactive tables.';\n",
       "        element.innerHTML = '';\n",
       "        dataTable['output_type'] = 'display_data';\n",
       "        await google.colab.output.renderOutput(dataTable, element);\n",
       "        const docLink = document.createElement('div');\n",
       "        docLink.innerHTML = docLinkHtml;\n",
       "        element.appendChild(docLink);\n",
       "      }\n",
       "    </script>\n",
       "  </div>\n",
       "\n",
       "\n",
       "<div id=\"df-3c7d0c82-8150-435a-a639-f0835e9ef3ff\">\n",
       "  <button class=\"colab-df-quickchart\" onclick=\"quickchart('df-3c7d0c82-8150-435a-a639-f0835e9ef3ff')\"\n",
       "            title=\"Suggest charts.\"\n",
       "            style=\"display:none;\">\n",
       "\n",
       "<svg xmlns=\"http://www.w3.org/2000/svg\" height=\"24px\"viewBox=\"0 0 24 24\"\n",
       "     width=\"24px\">\n",
       "    <g>\n",
       "        <path d=\"M19 3H5c-1.1 0-2 .9-2 2v14c0 1.1.9 2 2 2h14c1.1 0 2-.9 2-2V5c0-1.1-.9-2-2-2zM9 17H7v-7h2v7zm4 0h-2V7h2v10zm4 0h-2v-4h2v4z\"/>\n",
       "    </g>\n",
       "</svg>\n",
       "  </button>\n",
       "\n",
       "<style>\n",
       "  .colab-df-quickchart {\n",
       "    background-color: #E8F0FE;\n",
       "    border: none;\n",
       "    border-radius: 50%;\n",
       "    cursor: pointer;\n",
       "    display: none;\n",
       "    fill: #1967D2;\n",
       "    height: 32px;\n",
       "    padding: 0 0 0 0;\n",
       "    width: 32px;\n",
       "  }\n",
       "\n",
       "  .colab-df-quickchart:hover {\n",
       "    background-color: #E2EBFA;\n",
       "    box-shadow: 0px 1px 2px rgba(60, 64, 67, 0.3), 0px 1px 3px 1px rgba(60, 64, 67, 0.15);\n",
       "    fill: #174EA6;\n",
       "  }\n",
       "\n",
       "  [theme=dark] .colab-df-quickchart {\n",
       "    background-color: #3B4455;\n",
       "    fill: #D2E3FC;\n",
       "  }\n",
       "\n",
       "  [theme=dark] .colab-df-quickchart:hover {\n",
       "    background-color: #434B5C;\n",
       "    box-shadow: 0px 1px 3px 1px rgba(0, 0, 0, 0.15);\n",
       "    filter: drop-shadow(0px 1px 2px rgba(0, 0, 0, 0.3));\n",
       "    fill: #FFFFFF;\n",
       "  }\n",
       "</style>\n",
       "\n",
       "  <script>\n",
       "    async function quickchart(key) {\n",
       "      const charts = await google.colab.kernel.invokeFunction(\n",
       "          'suggestCharts', [key], {});\n",
       "    }\n",
       "    (() => {\n",
       "      let quickchartButtonEl =\n",
       "        document.querySelector('#df-3c7d0c82-8150-435a-a639-f0835e9ef3ff button');\n",
       "      quickchartButtonEl.style.display =\n",
       "        google.colab.kernel.accessAllowed ? 'block' : 'none';\n",
       "    })();\n",
       "  </script>\n",
       "</div>\n",
       "    </div>\n",
       "  </div>\n"
      ],
      "text/plain": [
       "            ID_LAT_LON_YEAR_WEEK  latitude  longitude  year  week_no  \\\n",
       "0       ID_-0.510_29.290_2019_00    -0.510     29.290  2019        0   \n",
       "1       ID_-0.510_29.290_2019_01    -0.510     29.290  2019        1   \n",
       "2       ID_-0.510_29.290_2019_02    -0.510     29.290  2019        2   \n",
       "3       ID_-0.510_29.290_2019_03    -0.510     29.290  2019        3   \n",
       "4       ID_-0.510_29.290_2019_04    -0.510     29.290  2019        4   \n",
       "...                          ...       ...        ...   ...      ...   \n",
       "103371  ID_-3.299_30.301_2022_44    -3.299     30.301  2022       44   \n",
       "103372  ID_-3.299_30.301_2022_45    -3.299     30.301  2022       45   \n",
       "103373  ID_-3.299_30.301_2022_46    -3.299     30.301  2022       46   \n",
       "103374  ID_-3.299_30.301_2022_47    -3.299     30.301  2022       47   \n",
       "103375  ID_-3.299_30.301_2022_48    -3.299     30.301  2022       48   \n",
       "\n",
       "        emission  weekth  country  \n",
       "0       3.750994       0    Congo  \n",
       "1       4.025176       1    Congo  \n",
       "2       4.231381       2    Congo  \n",
       "3       4.305286       3    Congo  \n",
       "4       4.347317       4    Congo  \n",
       "...          ...     ...      ...  \n",
       "103371       NaN     203  Burundi  \n",
       "103372       NaN     204  Burundi  \n",
       "103373       NaN     205  Burundi  \n",
       "103374       NaN     206  Burundi  \n",
       "103375       NaN     207  Burundi  \n",
       "\n",
       "[103376 rows x 8 columns]"
      ]
     },
     "execution_count": 560,
     "metadata": {},
     "output_type": "execute_result"
    }
   ],
   "source": [
    "all = all.merge(country_df, on=['latitude', 'longitude'], how='left')\n",
    "all.country = all.country.astype('category')\n",
    "all"
   ]
  },
  {
   "cell_type": "code",
   "execution_count": 561,
   "metadata": {
    "colab": {
     "base_uri": "https://localhost:8080/"
    },
    "executionInfo": {
     "elapsed": 166,
     "status": "ok",
     "timestamp": 1692675880195,
     "user": {
      "displayName": "Lee Minjik",
      "userId": "03992121075759719709"
     },
     "user_tz": -540
    },
    "id": "qUJa_u1rvRc9",
    "outputId": "b4bde94b-a375-4d4d-9bc6-dcc9e95feb0a"
   },
   "outputs": [
    {
     "data": {
      "text/plain": [
       "country\n",
       "Burundi      65\n",
       "Congo       123\n",
       "Rwanda      159\n",
       "Tanzania     81\n",
       "Uganda       69\n",
       "dtype: int64"
      ]
     },
     "execution_count": 561,
     "metadata": {},
     "output_type": "execute_result"
    }
   ],
   "source": [
    "all.groupby('country')['latitude', 'longitude'].apply(lambda x: x.drop_duplicates().shape[0])"
   ]
  },
  {
   "cell_type": "code",
   "execution_count": 562,
   "metadata": {
    "colab": {
     "base_uri": "https://localhost:8080/"
    },
    "executionInfo": {
     "elapsed": 157,
     "status": "ok",
     "timestamp": 1692675880196,
     "user": {
      "displayName": "Lee Minjik",
      "userId": "03992121075759719709"
     },
     "user_tz": -540
    },
    "id": "n128PYM9zy29",
    "outputId": "a4599d8f-e749-4950-f904-76ed17ec5e18"
   },
   "outputs": [
    {
     "data": {
      "text/plain": [
       "country\n",
       "Burundi      50.027305\n",
       "Congo        14.882282\n",
       "Rwanda      139.004677\n",
       "Tanzania     88.485920\n",
       "Uganda       92.363124\n",
       "Name: emission, dtype: float64"
      ]
     },
     "execution_count": 562,
     "metadata": {},
     "output_type": "execute_result"
    }
   ],
   "source": [
    "all.groupby('country').emission.mean()"
   ]
  },
  {
   "cell_type": "markdown",
   "metadata": {
    "id": "dg2NZplG4C-_"
   },
   "source": [
    "## loc_group"
   ]
  },
  {
   "cell_type": "code",
   "execution_count": 563,
   "metadata": {
    "executionInfo": {
     "elapsed": 154,
     "status": "ok",
     "timestamp": 1692675880197,
     "user": {
      "displayName": "Lee Minjik",
      "userId": "03992121075759719709"
     },
     "user_tz": -540
    },
    "id": "IaQRy3s-4LPl"
   },
   "outputs": [],
   "source": [
    "all['loc_group'] = 'Normal'\n",
    "\n",
    "all.loc[(all.latitude==-2.079) & (all.longitude==29.321), 'loc_group'] = 'Power'\n",
    "all.loc[(all.latitude==-2.378) & (all.longitude==29.222), 'loc_group'] = 'Coffee'"
   ]
  },
  {
   "cell_type": "code",
   "execution_count": 564,
   "metadata": {
    "colab": {
     "base_uri": "https://localhost:8080/",
     "height": 0
    },
    "executionInfo": {
     "elapsed": 155,
     "status": "ok",
     "timestamp": 1692675880198,
     "user": {
      "displayName": "Lee Minjik",
      "userId": "03992121075759719709"
     },
     "user_tz": -540
    },
    "id": "gqJz0DIi8V54",
    "outputId": "c087b2e4-7719-4be1-b73a-4ee687777811"
   },
   "outputs": [
    {
     "data": {
      "text/html": [
       "\n",
       "  <div id=\"df-f48d2ec0-59c5-4e36-8c2a-ba103257c09f\" class=\"colab-df-container\">\n",
       "    <div>\n",
       "<style scoped>\n",
       "    .dataframe tbody tr th:only-of-type {\n",
       "        vertical-align: middle;\n",
       "    }\n",
       "\n",
       "    .dataframe tbody tr th {\n",
       "        vertical-align: top;\n",
       "    }\n",
       "\n",
       "    .dataframe thead th {\n",
       "        text-align: right;\n",
       "    }\n",
       "</style>\n",
       "<table border=\"1\" class=\"dataframe\">\n",
       "  <thead>\n",
       "    <tr style=\"text-align: right;\">\n",
       "      <th></th>\n",
       "      <th>ID_LAT_LON_YEAR_WEEK</th>\n",
       "      <th>latitude</th>\n",
       "      <th>longitude</th>\n",
       "      <th>year</th>\n",
       "      <th>week_no</th>\n",
       "      <th>emission</th>\n",
       "      <th>weekth</th>\n",
       "      <th>country</th>\n",
       "      <th>loc_group</th>\n",
       "    </tr>\n",
       "  </thead>\n",
       "  <tbody>\n",
       "    <tr>\n",
       "      <th>20511</th>\n",
       "      <td>ID_-1.328_28.872_2019_00</td>\n",
       "      <td>-1.328</td>\n",
       "      <td>28.872</td>\n",
       "      <td>2019</td>\n",
       "      <td>0</td>\n",
       "      <td>0.0</td>\n",
       "      <td>0</td>\n",
       "      <td>Congo</td>\n",
       "      <td>EMS_0</td>\n",
       "    </tr>\n",
       "    <tr>\n",
       "      <th>20512</th>\n",
       "      <td>ID_-1.328_28.872_2019_01</td>\n",
       "      <td>-1.328</td>\n",
       "      <td>28.872</td>\n",
       "      <td>2019</td>\n",
       "      <td>1</td>\n",
       "      <td>0.0</td>\n",
       "      <td>1</td>\n",
       "      <td>Congo</td>\n",
       "      <td>EMS_0</td>\n",
       "    </tr>\n",
       "    <tr>\n",
       "      <th>20513</th>\n",
       "      <td>ID_-1.328_28.872_2019_02</td>\n",
       "      <td>-1.328</td>\n",
       "      <td>28.872</td>\n",
       "      <td>2019</td>\n",
       "      <td>2</td>\n",
       "      <td>0.0</td>\n",
       "      <td>2</td>\n",
       "      <td>Congo</td>\n",
       "      <td>EMS_0</td>\n",
       "    </tr>\n",
       "    <tr>\n",
       "      <th>20514</th>\n",
       "      <td>ID_-1.328_28.872_2019_03</td>\n",
       "      <td>-1.328</td>\n",
       "      <td>28.872</td>\n",
       "      <td>2019</td>\n",
       "      <td>3</td>\n",
       "      <td>0.0</td>\n",
       "      <td>3</td>\n",
       "      <td>Congo</td>\n",
       "      <td>EMS_0</td>\n",
       "    </tr>\n",
       "    <tr>\n",
       "      <th>20515</th>\n",
       "      <td>ID_-1.328_28.872_2019_04</td>\n",
       "      <td>-1.328</td>\n",
       "      <td>28.872</td>\n",
       "      <td>2019</td>\n",
       "      <td>4</td>\n",
       "      <td>0.0</td>\n",
       "      <td>4</td>\n",
       "      <td>Congo</td>\n",
       "      <td>EMS_0</td>\n",
       "    </tr>\n",
       "    <tr>\n",
       "      <th>...</th>\n",
       "      <td>...</td>\n",
       "      <td>...</td>\n",
       "      <td>...</td>\n",
       "      <td>...</td>\n",
       "      <td>...</td>\n",
       "      <td>...</td>\n",
       "      <td>...</td>\n",
       "      <td>...</td>\n",
       "      <td>...</td>\n",
       "    </tr>\n",
       "    <tr>\n",
       "      <th>101509</th>\n",
       "      <td>ID_-2.898_29.002_2022_44</td>\n",
       "      <td>-2.898</td>\n",
       "      <td>29.002</td>\n",
       "      <td>2022</td>\n",
       "      <td>44</td>\n",
       "      <td>NaN</td>\n",
       "      <td>203</td>\n",
       "      <td>Congo</td>\n",
       "      <td>EMS_0</td>\n",
       "    </tr>\n",
       "    <tr>\n",
       "      <th>101510</th>\n",
       "      <td>ID_-2.898_29.002_2022_45</td>\n",
       "      <td>-2.898</td>\n",
       "      <td>29.002</td>\n",
       "      <td>2022</td>\n",
       "      <td>45</td>\n",
       "      <td>NaN</td>\n",
       "      <td>204</td>\n",
       "      <td>Congo</td>\n",
       "      <td>EMS_0</td>\n",
       "    </tr>\n",
       "    <tr>\n",
       "      <th>101511</th>\n",
       "      <td>ID_-2.898_29.002_2022_46</td>\n",
       "      <td>-2.898</td>\n",
       "      <td>29.002</td>\n",
       "      <td>2022</td>\n",
       "      <td>46</td>\n",
       "      <td>NaN</td>\n",
       "      <td>205</td>\n",
       "      <td>Congo</td>\n",
       "      <td>EMS_0</td>\n",
       "    </tr>\n",
       "    <tr>\n",
       "      <th>101512</th>\n",
       "      <td>ID_-2.898_29.002_2022_47</td>\n",
       "      <td>-2.898</td>\n",
       "      <td>29.002</td>\n",
       "      <td>2022</td>\n",
       "      <td>47</td>\n",
       "      <td>NaN</td>\n",
       "      <td>206</td>\n",
       "      <td>Congo</td>\n",
       "      <td>EMS_0</td>\n",
       "    </tr>\n",
       "    <tr>\n",
       "      <th>101513</th>\n",
       "      <td>ID_-2.898_29.002_2022_48</td>\n",
       "      <td>-2.898</td>\n",
       "      <td>29.002</td>\n",
       "      <td>2022</td>\n",
       "      <td>48</td>\n",
       "      <td>NaN</td>\n",
       "      <td>207</td>\n",
       "      <td>Congo</td>\n",
       "      <td>EMS_0</td>\n",
       "    </tr>\n",
       "  </tbody>\n",
       "</table>\n",
       "<p>3120 rows × 9 columns</p>\n",
       "</div>\n",
       "    <div class=\"colab-df-buttons\">\n",
       "\n",
       "  <div class=\"colab-df-container\">\n",
       "    <button class=\"colab-df-convert\" onclick=\"convertToInteractive('df-f48d2ec0-59c5-4e36-8c2a-ba103257c09f')\"\n",
       "            title=\"Convert this dataframe to an interactive table.\"\n",
       "            style=\"display:none;\">\n",
       "\n",
       "  <svg xmlns=\"http://www.w3.org/2000/svg\" height=\"24px\" viewBox=\"0 -960 960 960\">\n",
       "    <path d=\"M120-120v-720h720v720H120Zm60-500h600v-160H180v160Zm220 220h160v-160H400v160Zm0 220h160v-160H400v160ZM180-400h160v-160H180v160Zm440 0h160v-160H620v160ZM180-180h160v-160H180v160Zm440 0h160v-160H620v160Z\"/>\n",
       "  </svg>\n",
       "    </button>\n",
       "\n",
       "  <style>\n",
       "    .colab-df-container {\n",
       "      display:flex;\n",
       "      gap: 12px;\n",
       "    }\n",
       "\n",
       "    .colab-df-convert {\n",
       "      background-color: #E8F0FE;\n",
       "      border: none;\n",
       "      border-radius: 50%;\n",
       "      cursor: pointer;\n",
       "      display: none;\n",
       "      fill: #1967D2;\n",
       "      height: 32px;\n",
       "      padding: 0 0 0 0;\n",
       "      width: 32px;\n",
       "    }\n",
       "\n",
       "    .colab-df-convert:hover {\n",
       "      background-color: #E2EBFA;\n",
       "      box-shadow: 0px 1px 2px rgba(60, 64, 67, 0.3), 0px 1px 3px 1px rgba(60, 64, 67, 0.15);\n",
       "      fill: #174EA6;\n",
       "    }\n",
       "\n",
       "    .colab-df-buttons div {\n",
       "      margin-bottom: 4px;\n",
       "    }\n",
       "\n",
       "    [theme=dark] .colab-df-convert {\n",
       "      background-color: #3B4455;\n",
       "      fill: #D2E3FC;\n",
       "    }\n",
       "\n",
       "    [theme=dark] .colab-df-convert:hover {\n",
       "      background-color: #434B5C;\n",
       "      box-shadow: 0px 1px 3px 1px rgba(0, 0, 0, 0.15);\n",
       "      filter: drop-shadow(0px 1px 2px rgba(0, 0, 0, 0.3));\n",
       "      fill: #FFFFFF;\n",
       "    }\n",
       "  </style>\n",
       "\n",
       "    <script>\n",
       "      const buttonEl =\n",
       "        document.querySelector('#df-f48d2ec0-59c5-4e36-8c2a-ba103257c09f button.colab-df-convert');\n",
       "      buttonEl.style.display =\n",
       "        google.colab.kernel.accessAllowed ? 'block' : 'none';\n",
       "\n",
       "      async function convertToInteractive(key) {\n",
       "        const element = document.querySelector('#df-f48d2ec0-59c5-4e36-8c2a-ba103257c09f');\n",
       "        const dataTable =\n",
       "          await google.colab.kernel.invokeFunction('convertToInteractive',\n",
       "                                                    [key], {});\n",
       "        if (!dataTable) return;\n",
       "\n",
       "        const docLinkHtml = 'Like what you see? Visit the ' +\n",
       "          '<a target=\"_blank\" href=https://colab.research.google.com/notebooks/data_table.ipynb>data table notebook</a>'\n",
       "          + ' to learn more about interactive tables.';\n",
       "        element.innerHTML = '';\n",
       "        dataTable['output_type'] = 'display_data';\n",
       "        await google.colab.output.renderOutput(dataTable, element);\n",
       "        const docLink = document.createElement('div');\n",
       "        docLink.innerHTML = docLinkHtml;\n",
       "        element.appendChild(docLink);\n",
       "      }\n",
       "    </script>\n",
       "  </div>\n",
       "\n",
       "\n",
       "<div id=\"df-822daaf3-e17c-4553-a669-c6130109b444\">\n",
       "  <button class=\"colab-df-quickchart\" onclick=\"quickchart('df-822daaf3-e17c-4553-a669-c6130109b444')\"\n",
       "            title=\"Suggest charts.\"\n",
       "            style=\"display:none;\">\n",
       "\n",
       "<svg xmlns=\"http://www.w3.org/2000/svg\" height=\"24px\"viewBox=\"0 0 24 24\"\n",
       "     width=\"24px\">\n",
       "    <g>\n",
       "        <path d=\"M19 3H5c-1.1 0-2 .9-2 2v14c0 1.1.9 2 2 2h14c1.1 0 2-.9 2-2V5c0-1.1-.9-2-2-2zM9 17H7v-7h2v7zm4 0h-2V7h2v10zm4 0h-2v-4h2v4z\"/>\n",
       "    </g>\n",
       "</svg>\n",
       "  </button>\n",
       "\n",
       "<style>\n",
       "  .colab-df-quickchart {\n",
       "    background-color: #E8F0FE;\n",
       "    border: none;\n",
       "    border-radius: 50%;\n",
       "    cursor: pointer;\n",
       "    display: none;\n",
       "    fill: #1967D2;\n",
       "    height: 32px;\n",
       "    padding: 0 0 0 0;\n",
       "    width: 32px;\n",
       "  }\n",
       "\n",
       "  .colab-df-quickchart:hover {\n",
       "    background-color: #E2EBFA;\n",
       "    box-shadow: 0px 1px 2px rgba(60, 64, 67, 0.3), 0px 1px 3px 1px rgba(60, 64, 67, 0.15);\n",
       "    fill: #174EA6;\n",
       "  }\n",
       "\n",
       "  [theme=dark] .colab-df-quickchart {\n",
       "    background-color: #3B4455;\n",
       "    fill: #D2E3FC;\n",
       "  }\n",
       "\n",
       "  [theme=dark] .colab-df-quickchart:hover {\n",
       "    background-color: #434B5C;\n",
       "    box-shadow: 0px 1px 3px 1px rgba(0, 0, 0, 0.15);\n",
       "    filter: drop-shadow(0px 1px 2px rgba(0, 0, 0, 0.3));\n",
       "    fill: #FFFFFF;\n",
       "  }\n",
       "</style>\n",
       "\n",
       "  <script>\n",
       "    async function quickchart(key) {\n",
       "      const charts = await google.colab.kernel.invokeFunction(\n",
       "          'suggestCharts', [key], {});\n",
       "    }\n",
       "    (() => {\n",
       "      let quickchartButtonEl =\n",
       "        document.querySelector('#df-822daaf3-e17c-4553-a669-c6130109b444 button');\n",
       "      quickchartButtonEl.style.display =\n",
       "        google.colab.kernel.accessAllowed ? 'block' : 'none';\n",
       "    })();\n",
       "  </script>\n",
       "</div>\n",
       "    </div>\n",
       "  </div>\n"
      ],
      "text/plain": [
       "            ID_LAT_LON_YEAR_WEEK  latitude  longitude  year  week_no  \\\n",
       "20511   ID_-1.328_28.872_2019_00    -1.328     28.872  2019        0   \n",
       "20512   ID_-1.328_28.872_2019_01    -1.328     28.872  2019        1   \n",
       "20513   ID_-1.328_28.872_2019_02    -1.328     28.872  2019        2   \n",
       "20514   ID_-1.328_28.872_2019_03    -1.328     28.872  2019        3   \n",
       "20515   ID_-1.328_28.872_2019_04    -1.328     28.872  2019        4   \n",
       "...                          ...       ...        ...   ...      ...   \n",
       "101509  ID_-2.898_29.002_2022_44    -2.898     29.002  2022       44   \n",
       "101510  ID_-2.898_29.002_2022_45    -2.898     29.002  2022       45   \n",
       "101511  ID_-2.898_29.002_2022_46    -2.898     29.002  2022       46   \n",
       "101512  ID_-2.898_29.002_2022_47    -2.898     29.002  2022       47   \n",
       "101513  ID_-2.898_29.002_2022_48    -2.898     29.002  2022       48   \n",
       "\n",
       "        emission  weekth country loc_group  \n",
       "20511        0.0       0   Congo     EMS_0  \n",
       "20512        0.0       1   Congo     EMS_0  \n",
       "20513        0.0       2   Congo     EMS_0  \n",
       "20514        0.0       3   Congo     EMS_0  \n",
       "20515        0.0       4   Congo     EMS_0  \n",
       "...          ...     ...     ...       ...  \n",
       "101509       NaN     203   Congo     EMS_0  \n",
       "101510       NaN     204   Congo     EMS_0  \n",
       "101511       NaN     205   Congo     EMS_0  \n",
       "101512       NaN     206   Congo     EMS_0  \n",
       "101513       NaN     207   Congo     EMS_0  \n",
       "\n",
       "[3120 rows x 9 columns]"
      ]
     },
     "execution_count": 564,
     "metadata": {},
     "output_type": "execute_result"
    }
   ],
   "source": [
    "mask = all.latitude.isin(ems0_df.latitude) & all.longitude.isin(ems0_df.longitude)\n",
    "all.loc[mask, 'loc_group'] = 'EMS_0'\n",
    "\n",
    "all[all.loc_group=='EMS_0']"
   ]
  },
  {
   "cell_type": "markdown",
   "metadata": {
    "id": "-pC-p8t7mWj7"
   },
   "source": [
    "## emission"
   ]
  },
  {
   "cell_type": "code",
   "execution_count": 565,
   "metadata": {
    "colab": {
     "base_uri": "https://localhost:8080/",
     "height": 0
    },
    "executionInfo": {
     "elapsed": 153,
     "status": "ok",
     "timestamp": 1692675880200,
     "user": {
      "displayName": "Lee Minjik",
      "userId": "03992121075759719709"
     },
     "user_tz": -540
    },
    "id": "rKecKIS4Px10",
    "outputId": "84dc8554-cb35-4c6d-9901-95e4d1053a57"
   },
   "outputs": [
    {
     "data": {
      "text/html": [
       "\n",
       "  <div id=\"df-44f36d7e-0974-488c-940a-3f74dc6b5781\" class=\"colab-df-container\">\n",
       "    <div>\n",
       "<style scoped>\n",
       "    .dataframe tbody tr th:only-of-type {\n",
       "        vertical-align: middle;\n",
       "    }\n",
       "\n",
       "    .dataframe tbody tr th {\n",
       "        vertical-align: top;\n",
       "    }\n",
       "\n",
       "    .dataframe thead th {\n",
       "        text-align: right;\n",
       "    }\n",
       "</style>\n",
       "<table border=\"1\" class=\"dataframe\">\n",
       "  <thead>\n",
       "    <tr style=\"text-align: right;\">\n",
       "      <th></th>\n",
       "      <th>latitude</th>\n",
       "      <th>longitude</th>\n",
       "      <th>loc_avg_all</th>\n",
       "    </tr>\n",
       "  </thead>\n",
       "  <tbody>\n",
       "    <tr>\n",
       "      <th>0</th>\n",
       "      <td>-3.299</td>\n",
       "      <td>30.301</td>\n",
       "      <td>27.633301</td>\n",
       "    </tr>\n",
       "    <tr>\n",
       "      <th>1</th>\n",
       "      <td>-3.287</td>\n",
       "      <td>29.713</td>\n",
       "      <td>42.077684</td>\n",
       "    </tr>\n",
       "    <tr>\n",
       "      <th>2</th>\n",
       "      <td>-3.174</td>\n",
       "      <td>29.926</td>\n",
       "      <td>44.832340</td>\n",
       "    </tr>\n",
       "    <tr>\n",
       "      <th>3</th>\n",
       "      <td>-3.161</td>\n",
       "      <td>28.839</td>\n",
       "      <td>0.125809</td>\n",
       "    </tr>\n",
       "    <tr>\n",
       "      <th>4</th>\n",
       "      <td>-3.153</td>\n",
       "      <td>30.347</td>\n",
       "      <td>14.502592</td>\n",
       "    </tr>\n",
       "    <tr>\n",
       "      <th>...</th>\n",
       "      <td>...</td>\n",
       "      <td>...</td>\n",
       "      <td>...</td>\n",
       "    </tr>\n",
       "    <tr>\n",
       "      <th>492</th>\n",
       "      <td>-0.598</td>\n",
       "      <td>29.102</td>\n",
       "      <td>0.090357</td>\n",
       "    </tr>\n",
       "    <tr>\n",
       "      <th>493</th>\n",
       "      <td>-0.569</td>\n",
       "      <td>30.031</td>\n",
       "      <td>116.187763</td>\n",
       "    </tr>\n",
       "    <tr>\n",
       "      <th>494</th>\n",
       "      <td>-0.547</td>\n",
       "      <td>29.653</td>\n",
       "      <td>0.589954</td>\n",
       "    </tr>\n",
       "    <tr>\n",
       "      <th>495</th>\n",
       "      <td>-0.528</td>\n",
       "      <td>29.472</td>\n",
       "      <td>4.183500</td>\n",
       "    </tr>\n",
       "    <tr>\n",
       "      <th>496</th>\n",
       "      <td>-0.510</td>\n",
       "      <td>29.290</td>\n",
       "      <td>4.272966</td>\n",
       "    </tr>\n",
       "  </tbody>\n",
       "</table>\n",
       "<p>497 rows × 3 columns</p>\n",
       "</div>\n",
       "    <div class=\"colab-df-buttons\">\n",
       "\n",
       "  <div class=\"colab-df-container\">\n",
       "    <button class=\"colab-df-convert\" onclick=\"convertToInteractive('df-44f36d7e-0974-488c-940a-3f74dc6b5781')\"\n",
       "            title=\"Convert this dataframe to an interactive table.\"\n",
       "            style=\"display:none;\">\n",
       "\n",
       "  <svg xmlns=\"http://www.w3.org/2000/svg\" height=\"24px\" viewBox=\"0 -960 960 960\">\n",
       "    <path d=\"M120-120v-720h720v720H120Zm60-500h600v-160H180v160Zm220 220h160v-160H400v160Zm0 220h160v-160H400v160ZM180-400h160v-160H180v160Zm440 0h160v-160H620v160ZM180-180h160v-160H180v160Zm440 0h160v-160H620v160Z\"/>\n",
       "  </svg>\n",
       "    </button>\n",
       "\n",
       "  <style>\n",
       "    .colab-df-container {\n",
       "      display:flex;\n",
       "      gap: 12px;\n",
       "    }\n",
       "\n",
       "    .colab-df-convert {\n",
       "      background-color: #E8F0FE;\n",
       "      border: none;\n",
       "      border-radius: 50%;\n",
       "      cursor: pointer;\n",
       "      display: none;\n",
       "      fill: #1967D2;\n",
       "      height: 32px;\n",
       "      padding: 0 0 0 0;\n",
       "      width: 32px;\n",
       "    }\n",
       "\n",
       "    .colab-df-convert:hover {\n",
       "      background-color: #E2EBFA;\n",
       "      box-shadow: 0px 1px 2px rgba(60, 64, 67, 0.3), 0px 1px 3px 1px rgba(60, 64, 67, 0.15);\n",
       "      fill: #174EA6;\n",
       "    }\n",
       "\n",
       "    .colab-df-buttons div {\n",
       "      margin-bottom: 4px;\n",
       "    }\n",
       "\n",
       "    [theme=dark] .colab-df-convert {\n",
       "      background-color: #3B4455;\n",
       "      fill: #D2E3FC;\n",
       "    }\n",
       "\n",
       "    [theme=dark] .colab-df-convert:hover {\n",
       "      background-color: #434B5C;\n",
       "      box-shadow: 0px 1px 3px 1px rgba(0, 0, 0, 0.15);\n",
       "      filter: drop-shadow(0px 1px 2px rgba(0, 0, 0, 0.3));\n",
       "      fill: #FFFFFF;\n",
       "    }\n",
       "  </style>\n",
       "\n",
       "    <script>\n",
       "      const buttonEl =\n",
       "        document.querySelector('#df-44f36d7e-0974-488c-940a-3f74dc6b5781 button.colab-df-convert');\n",
       "      buttonEl.style.display =\n",
       "        google.colab.kernel.accessAllowed ? 'block' : 'none';\n",
       "\n",
       "      async function convertToInteractive(key) {\n",
       "        const element = document.querySelector('#df-44f36d7e-0974-488c-940a-3f74dc6b5781');\n",
       "        const dataTable =\n",
       "          await google.colab.kernel.invokeFunction('convertToInteractive',\n",
       "                                                    [key], {});\n",
       "        if (!dataTable) return;\n",
       "\n",
       "        const docLinkHtml = 'Like what you see? Visit the ' +\n",
       "          '<a target=\"_blank\" href=https://colab.research.google.com/notebooks/data_table.ipynb>data table notebook</a>'\n",
       "          + ' to learn more about interactive tables.';\n",
       "        element.innerHTML = '';\n",
       "        dataTable['output_type'] = 'display_data';\n",
       "        await google.colab.output.renderOutput(dataTable, element);\n",
       "        const docLink = document.createElement('div');\n",
       "        docLink.innerHTML = docLinkHtml;\n",
       "        element.appendChild(docLink);\n",
       "      }\n",
       "    </script>\n",
       "  </div>\n",
       "\n",
       "\n",
       "<div id=\"df-2a958783-8f12-4bf2-b26f-a384e9617611\">\n",
       "  <button class=\"colab-df-quickchart\" onclick=\"quickchart('df-2a958783-8f12-4bf2-b26f-a384e9617611')\"\n",
       "            title=\"Suggest charts.\"\n",
       "            style=\"display:none;\">\n",
       "\n",
       "<svg xmlns=\"http://www.w3.org/2000/svg\" height=\"24px\"viewBox=\"0 0 24 24\"\n",
       "     width=\"24px\">\n",
       "    <g>\n",
       "        <path d=\"M19 3H5c-1.1 0-2 .9-2 2v14c0 1.1.9 2 2 2h14c1.1 0 2-.9 2-2V5c0-1.1-.9-2-2-2zM9 17H7v-7h2v7zm4 0h-2V7h2v10zm4 0h-2v-4h2v4z\"/>\n",
       "    </g>\n",
       "</svg>\n",
       "  </button>\n",
       "\n",
       "<style>\n",
       "  .colab-df-quickchart {\n",
       "    background-color: #E8F0FE;\n",
       "    border: none;\n",
       "    border-radius: 50%;\n",
       "    cursor: pointer;\n",
       "    display: none;\n",
       "    fill: #1967D2;\n",
       "    height: 32px;\n",
       "    padding: 0 0 0 0;\n",
       "    width: 32px;\n",
       "  }\n",
       "\n",
       "  .colab-df-quickchart:hover {\n",
       "    background-color: #E2EBFA;\n",
       "    box-shadow: 0px 1px 2px rgba(60, 64, 67, 0.3), 0px 1px 3px 1px rgba(60, 64, 67, 0.15);\n",
       "    fill: #174EA6;\n",
       "  }\n",
       "\n",
       "  [theme=dark] .colab-df-quickchart {\n",
       "    background-color: #3B4455;\n",
       "    fill: #D2E3FC;\n",
       "  }\n",
       "\n",
       "  [theme=dark] .colab-df-quickchart:hover {\n",
       "    background-color: #434B5C;\n",
       "    box-shadow: 0px 1px 3px 1px rgba(0, 0, 0, 0.15);\n",
       "    filter: drop-shadow(0px 1px 2px rgba(0, 0, 0, 0.3));\n",
       "    fill: #FFFFFF;\n",
       "  }\n",
       "</style>\n",
       "\n",
       "  <script>\n",
       "    async function quickchart(key) {\n",
       "      const charts = await google.colab.kernel.invokeFunction(\n",
       "          'suggestCharts', [key], {});\n",
       "    }\n",
       "    (() => {\n",
       "      let quickchartButtonEl =\n",
       "        document.querySelector('#df-2a958783-8f12-4bf2-b26f-a384e9617611 button');\n",
       "      quickchartButtonEl.style.display =\n",
       "        google.colab.kernel.accessAllowed ? 'block' : 'none';\n",
       "    })();\n",
       "  </script>\n",
       "</div>\n",
       "    </div>\n",
       "  </div>\n"
      ],
      "text/plain": [
       "     latitude  longitude  loc_avg_all\n",
       "0      -3.299     30.301    27.633301\n",
       "1      -3.287     29.713    42.077684\n",
       "2      -3.174     29.926    44.832340\n",
       "3      -3.161     28.839     0.125809\n",
       "4      -3.153     30.347    14.502592\n",
       "..        ...        ...          ...\n",
       "492    -0.598     29.102     0.090357\n",
       "493    -0.569     30.031   116.187763\n",
       "494    -0.547     29.653     0.589954\n",
       "495    -0.528     29.472     4.183500\n",
       "496    -0.510     29.290     4.272966\n",
       "\n",
       "[497 rows x 3 columns]"
      ]
     },
     "execution_count": 565,
     "metadata": {},
     "output_type": "execute_result"
    }
   ],
   "source": [
    "df = train.groupby(['latitude', 'longitude'])['emission'].mean().reset_index()\n",
    "df.columns = ['latitude', 'longitude', 'loc_avg_all']\n",
    "all = pd.merge(all, df, on=['latitude', 'longitude'], how='left')\n",
    "\n",
    "df\n",
    "#all"
   ]
  },
  {
   "cell_type": "code",
   "execution_count": 566,
   "metadata": {
    "colab": {
     "base_uri": "https://localhost:8080/",
     "height": 0
    },
    "executionInfo": {
     "elapsed": 151,
     "status": "ok",
     "timestamp": 1692675880201,
     "user": {
      "displayName": "Lee Minjik",
      "userId": "03992121075759719709"
     },
     "user_tz": -540
    },
    "id": "4TsRLOaTmnQI",
    "outputId": "a301434e-160b-4d33-dfcf-b497284aff66"
   },
   "outputs": [
    {
     "data": {
      "text/html": [
       "\n",
       "  <div id=\"df-22c896fa-ba45-43e3-97de-0f2bed7a1c3f\" class=\"colab-df-container\">\n",
       "    <div>\n",
       "<style scoped>\n",
       "    .dataframe tbody tr th:only-of-type {\n",
       "        vertical-align: middle;\n",
       "    }\n",
       "\n",
       "    .dataframe tbody tr th {\n",
       "        vertical-align: top;\n",
       "    }\n",
       "\n",
       "    .dataframe thead th {\n",
       "        text-align: right;\n",
       "    }\n",
       "</style>\n",
       "<table border=\"1\" class=\"dataframe\">\n",
       "  <thead>\n",
       "    <tr style=\"text-align: right;\">\n",
       "      <th></th>\n",
       "      <th>latitude</th>\n",
       "      <th>longitude</th>\n",
       "      <th>week_no</th>\n",
       "      <th>loc_max_week</th>\n",
       "    </tr>\n",
       "  </thead>\n",
       "  <tbody>\n",
       "    <tr>\n",
       "      <th>0</th>\n",
       "      <td>-3.299</td>\n",
       "      <td>30.301</td>\n",
       "      <td>0</td>\n",
       "      <td>26.789497</td>\n",
       "    </tr>\n",
       "    <tr>\n",
       "      <th>1</th>\n",
       "      <td>-3.299</td>\n",
       "      <td>30.301</td>\n",
       "      <td>1</td>\n",
       "      <td>29.035374</td>\n",
       "    </tr>\n",
       "    <tr>\n",
       "      <th>2</th>\n",
       "      <td>-3.299</td>\n",
       "      <td>30.301</td>\n",
       "      <td>2</td>\n",
       "      <td>29.652285</td>\n",
       "    </tr>\n",
       "    <tr>\n",
       "      <th>3</th>\n",
       "      <td>-3.299</td>\n",
       "      <td>30.301</td>\n",
       "      <td>3</td>\n",
       "      <td>29.950650</td>\n",
       "    </tr>\n",
       "    <tr>\n",
       "      <th>4</th>\n",
       "      <td>-3.299</td>\n",
       "      <td>30.301</td>\n",
       "      <td>4</td>\n",
       "      <td>30.572742</td>\n",
       "    </tr>\n",
       "    <tr>\n",
       "      <th>...</th>\n",
       "      <td>...</td>\n",
       "      <td>...</td>\n",
       "      <td>...</td>\n",
       "      <td>...</td>\n",
       "    </tr>\n",
       "    <tr>\n",
       "      <th>26336</th>\n",
       "      <td>-0.510</td>\n",
       "      <td>29.290</td>\n",
       "      <td>48</td>\n",
       "      <td>4.736880</td>\n",
       "    </tr>\n",
       "    <tr>\n",
       "      <th>26337</th>\n",
       "      <td>-0.510</td>\n",
       "      <td>29.290</td>\n",
       "      <td>49</td>\n",
       "      <td>4.687898</td>\n",
       "    </tr>\n",
       "    <tr>\n",
       "      <th>26338</th>\n",
       "      <td>-0.510</td>\n",
       "      <td>29.290</td>\n",
       "      <td>50</td>\n",
       "      <td>4.607418</td>\n",
       "    </tr>\n",
       "    <tr>\n",
       "      <th>26339</th>\n",
       "      <td>-0.510</td>\n",
       "      <td>29.290</td>\n",
       "      <td>51</td>\n",
       "      <td>4.470275</td>\n",
       "    </tr>\n",
       "    <tr>\n",
       "      <th>26340</th>\n",
       "      <td>-0.510</td>\n",
       "      <td>29.290</td>\n",
       "      <td>52</td>\n",
       "      <td>4.269510</td>\n",
       "    </tr>\n",
       "  </tbody>\n",
       "</table>\n",
       "<p>26341 rows × 4 columns</p>\n",
       "</div>\n",
       "    <div class=\"colab-df-buttons\">\n",
       "\n",
       "  <div class=\"colab-df-container\">\n",
       "    <button class=\"colab-df-convert\" onclick=\"convertToInteractive('df-22c896fa-ba45-43e3-97de-0f2bed7a1c3f')\"\n",
       "            title=\"Convert this dataframe to an interactive table.\"\n",
       "            style=\"display:none;\">\n",
       "\n",
       "  <svg xmlns=\"http://www.w3.org/2000/svg\" height=\"24px\" viewBox=\"0 -960 960 960\">\n",
       "    <path d=\"M120-120v-720h720v720H120Zm60-500h600v-160H180v160Zm220 220h160v-160H400v160Zm0 220h160v-160H400v160ZM180-400h160v-160H180v160Zm440 0h160v-160H620v160ZM180-180h160v-160H180v160Zm440 0h160v-160H620v160Z\"/>\n",
       "  </svg>\n",
       "    </button>\n",
       "\n",
       "  <style>\n",
       "    .colab-df-container {\n",
       "      display:flex;\n",
       "      gap: 12px;\n",
       "    }\n",
       "\n",
       "    .colab-df-convert {\n",
       "      background-color: #E8F0FE;\n",
       "      border: none;\n",
       "      border-radius: 50%;\n",
       "      cursor: pointer;\n",
       "      display: none;\n",
       "      fill: #1967D2;\n",
       "      height: 32px;\n",
       "      padding: 0 0 0 0;\n",
       "      width: 32px;\n",
       "    }\n",
       "\n",
       "    .colab-df-convert:hover {\n",
       "      background-color: #E2EBFA;\n",
       "      box-shadow: 0px 1px 2px rgba(60, 64, 67, 0.3), 0px 1px 3px 1px rgba(60, 64, 67, 0.15);\n",
       "      fill: #174EA6;\n",
       "    }\n",
       "\n",
       "    .colab-df-buttons div {\n",
       "      margin-bottom: 4px;\n",
       "    }\n",
       "\n",
       "    [theme=dark] .colab-df-convert {\n",
       "      background-color: #3B4455;\n",
       "      fill: #D2E3FC;\n",
       "    }\n",
       "\n",
       "    [theme=dark] .colab-df-convert:hover {\n",
       "      background-color: #434B5C;\n",
       "      box-shadow: 0px 1px 3px 1px rgba(0, 0, 0, 0.15);\n",
       "      filter: drop-shadow(0px 1px 2px rgba(0, 0, 0, 0.3));\n",
       "      fill: #FFFFFF;\n",
       "    }\n",
       "  </style>\n",
       "\n",
       "    <script>\n",
       "      const buttonEl =\n",
       "        document.querySelector('#df-22c896fa-ba45-43e3-97de-0f2bed7a1c3f button.colab-df-convert');\n",
       "      buttonEl.style.display =\n",
       "        google.colab.kernel.accessAllowed ? 'block' : 'none';\n",
       "\n",
       "      async function convertToInteractive(key) {\n",
       "        const element = document.querySelector('#df-22c896fa-ba45-43e3-97de-0f2bed7a1c3f');\n",
       "        const dataTable =\n",
       "          await google.colab.kernel.invokeFunction('convertToInteractive',\n",
       "                                                    [key], {});\n",
       "        if (!dataTable) return;\n",
       "\n",
       "        const docLinkHtml = 'Like what you see? Visit the ' +\n",
       "          '<a target=\"_blank\" href=https://colab.research.google.com/notebooks/data_table.ipynb>data table notebook</a>'\n",
       "          + ' to learn more about interactive tables.';\n",
       "        element.innerHTML = '';\n",
       "        dataTable['output_type'] = 'display_data';\n",
       "        await google.colab.output.renderOutput(dataTable, element);\n",
       "        const docLink = document.createElement('div');\n",
       "        docLink.innerHTML = docLinkHtml;\n",
       "        element.appendChild(docLink);\n",
       "      }\n",
       "    </script>\n",
       "  </div>\n",
       "\n",
       "\n",
       "<div id=\"df-2aa5fcf9-2b89-40de-8e1f-40d8bcd71f10\">\n",
       "  <button class=\"colab-df-quickchart\" onclick=\"quickchart('df-2aa5fcf9-2b89-40de-8e1f-40d8bcd71f10')\"\n",
       "            title=\"Suggest charts.\"\n",
       "            style=\"display:none;\">\n",
       "\n",
       "<svg xmlns=\"http://www.w3.org/2000/svg\" height=\"24px\"viewBox=\"0 0 24 24\"\n",
       "     width=\"24px\">\n",
       "    <g>\n",
       "        <path d=\"M19 3H5c-1.1 0-2 .9-2 2v14c0 1.1.9 2 2 2h14c1.1 0 2-.9 2-2V5c0-1.1-.9-2-2-2zM9 17H7v-7h2v7zm4 0h-2V7h2v10zm4 0h-2v-4h2v4z\"/>\n",
       "    </g>\n",
       "</svg>\n",
       "  </button>\n",
       "\n",
       "<style>\n",
       "  .colab-df-quickchart {\n",
       "    background-color: #E8F0FE;\n",
       "    border: none;\n",
       "    border-radius: 50%;\n",
       "    cursor: pointer;\n",
       "    display: none;\n",
       "    fill: #1967D2;\n",
       "    height: 32px;\n",
       "    padding: 0 0 0 0;\n",
       "    width: 32px;\n",
       "  }\n",
       "\n",
       "  .colab-df-quickchart:hover {\n",
       "    background-color: #E2EBFA;\n",
       "    box-shadow: 0px 1px 2px rgba(60, 64, 67, 0.3), 0px 1px 3px 1px rgba(60, 64, 67, 0.15);\n",
       "    fill: #174EA6;\n",
       "  }\n",
       "\n",
       "  [theme=dark] .colab-df-quickchart {\n",
       "    background-color: #3B4455;\n",
       "    fill: #D2E3FC;\n",
       "  }\n",
       "\n",
       "  [theme=dark] .colab-df-quickchart:hover {\n",
       "    background-color: #434B5C;\n",
       "    box-shadow: 0px 1px 3px 1px rgba(0, 0, 0, 0.15);\n",
       "    filter: drop-shadow(0px 1px 2px rgba(0, 0, 0, 0.3));\n",
       "    fill: #FFFFFF;\n",
       "  }\n",
       "</style>\n",
       "\n",
       "  <script>\n",
       "    async function quickchart(key) {\n",
       "      const charts = await google.colab.kernel.invokeFunction(\n",
       "          'suggestCharts', [key], {});\n",
       "    }\n",
       "    (() => {\n",
       "      let quickchartButtonEl =\n",
       "        document.querySelector('#df-2aa5fcf9-2b89-40de-8e1f-40d8bcd71f10 button');\n",
       "      quickchartButtonEl.style.display =\n",
       "        google.colab.kernel.accessAllowed ? 'block' : 'none';\n",
       "    })();\n",
       "  </script>\n",
       "</div>\n",
       "    </div>\n",
       "  </div>\n"
      ],
      "text/plain": [
       "       latitude  longitude  week_no  loc_max_week\n",
       "0        -3.299     30.301        0     26.789497\n",
       "1        -3.299     30.301        1     29.035374\n",
       "2        -3.299     30.301        2     29.652285\n",
       "3        -3.299     30.301        3     29.950650\n",
       "4        -3.299     30.301        4     30.572742\n",
       "...         ...        ...      ...           ...\n",
       "26336    -0.510     29.290       48      4.736880\n",
       "26337    -0.510     29.290       49      4.687898\n",
       "26338    -0.510     29.290       50      4.607418\n",
       "26339    -0.510     29.290       51      4.470275\n",
       "26340    -0.510     29.290       52      4.269510\n",
       "\n",
       "[26341 rows x 4 columns]"
      ]
     },
     "execution_count": 566,
     "metadata": {},
     "output_type": "execute_result"
    }
   ],
   "source": [
    "df = train.groupby(['latitude', 'longitude', 'week_no'])['emission'].max().reset_index()\n",
    "df.columns = ['latitude', 'longitude', 'week_no', 'loc_max_week']\n",
    "all = pd.merge(all, df, on=['latitude', 'longitude', 'week_no'], how='left')\n",
    "\n",
    "df\n",
    "#all"
   ]
  },
  {
   "cell_type": "code",
   "execution_count": 567,
   "metadata": {
    "executionInfo": {
     "elapsed": 148,
     "status": "ok",
     "timestamp": 1692675880203,
     "user": {
      "displayName": "Lee Minjik",
      "userId": "03992121075759719709"
     },
     "user_tz": -540
    },
    "id": "Vr7ZML49afxl"
   },
   "outputs": [],
   "source": [
    "# all['loc_prv'] = all.groupby('year')['loc_cur'].shift()\n",
    "# all['loc_nxt'] = all.groupby('year')['loc_cur'].shift(-1)\n",
    "# all['loc_max'] = all[['loc_cur', 'loc_prv', 'loc_nxt']].max(axis=1)\n",
    "\n",
    "# all"
   ]
  },
  {
   "cell_type": "markdown",
   "metadata": {
    "id": "r9le6UFLWwrF"
   },
   "source": [
    "## Covid"
   ]
  },
  {
   "cell_type": "code",
   "execution_count": 568,
   "metadata": {
    "executionInfo": {
     "elapsed": 148,
     "status": "ok",
     "timestamp": 1692675880204,
     "user": {
      "displayName": "Lee Minjik",
      "userId": "03992121075759719709"
     },
     "user_tz": -540
    },
    "id": "EVJcp1Hqdiy5"
   },
   "outputs": [],
   "source": [
    "# df = train.pivot_table(index='week_no', columns='year', values='emission', aggfunc='mean')\n",
    "# df.columns = ['yr{}'.format(col % 100) for col in df.columns]\n",
    "# df"
   ]
  },
  {
   "cell_type": "code",
   "execution_count": 569,
   "metadata": {
    "executionInfo": {
     "elapsed": 149,
     "status": "ok",
     "timestamp": 1692675880205,
     "user": {
      "displayName": "Lee Minjik",
      "userId": "03992121075759719709"
     },
     "user_tz": -540
    },
    "id": "8CBLMIw0d1Zr"
   },
   "outputs": [],
   "source": [
    "# df['cmp19-20'] = (df.yr19 - df.yr20) / df.yr19 * 100\n",
    "# df['cmp20-21'] = (df.yr20 - df.yr21) / df.yr20 * 100\n",
    "# df['cmp19-21'] = (df.yr19 - df.yr21) / df.yr19 * 100\n",
    "\n",
    "# df"
   ]
  },
  {
   "cell_type": "code",
   "execution_count": 570,
   "metadata": {
    "executionInfo": {
     "elapsed": 149,
     "status": "ok",
     "timestamp": 1692675880206,
     "user": {
      "displayName": "Lee Minjik",
      "userId": "03992121075759719709"
     },
     "user_tz": -540
    },
    "id": "FDmn_7SHW1b6"
   },
   "outputs": [],
   "source": [
    "# all['is_covid'] = 0\n",
    "# all.loc[(all.year==2020) & (all.week_no>=10), 'is_covid'] = 1\n",
    "# all.loc[(all.year==2021) & (all.week_no<=20), 'is_covid'] = 1"
   ]
  },
  {
   "cell_type": "markdown",
   "metadata": {
    "id": "SLFnY2i-uVub"
   },
   "source": [
    "# EDA"
   ]
  },
  {
   "cell_type": "markdown",
   "metadata": {
    "id": "xahdH9Eh-mPP"
   },
   "source": [
    " ## Normal (480 Locations)"
   ]
  },
  {
   "cell_type": "code",
   "execution_count": 571,
   "metadata": {
    "executionInfo": {
     "elapsed": 150,
     "status": "ok",
     "timestamp": 1692675880207,
     "user": {
      "displayName": "Lee Minjik",
      "userId": "03992121075759719709"
     },
     "user_tz": -540
    },
    "id": "40X9bArN3ZYf"
   },
   "outputs": [],
   "source": [
    "all_n = all[all.loc_group=='Normal']"
   ]
  },
  {
   "cell_type": "code",
   "execution_count": 572,
   "metadata": {
    "colab": {
     "base_uri": "https://localhost:8080/",
     "height": 633
    },
    "executionInfo": {
     "elapsed": 876,
     "status": "ok",
     "timestamp": 1692675880934,
     "user": {
      "displayName": "Lee Minjik",
      "userId": "03992121075759719709"
     },
     "user_tz": -540
    },
    "id": "h54Fjbs4ypE5",
    "outputId": "1862df7d-3dd8-44ca-ce8d-f12b97713732"
   },
   "outputs": [
    {
     "data": {
      "text/plain": [
       "<Axes: >"
      ]
     },
     "execution_count": 572,
     "metadata": {},
     "output_type": "execute_result"
    },
    {
     "data": {
      "image/png": "[encoded data removed]",
      "text/plain": [
       "<Figure size 900x600 with 2 Axes>"
      ]
     },
     "metadata": {},
     "output_type": "display_data"
    }
   ],
   "source": [
    "plt.figure(figsize=(9,6))\n",
    "corr = all_n.corr()\n",
    "sns.heatmap(corr, vmax=1, vmin=-1, center=0, annot=True, cmap='coolwarm')"
   ]
  },
  {
   "cell_type": "code",
   "execution_count": 573,
   "metadata": {
    "colab": {
     "base_uri": "https://localhost:8080/",
     "height": 545
    },
    "executionInfo": {
     "elapsed": 62,
     "status": "ok",
     "timestamp": 1692675880936,
     "user": {
      "displayName": "Lee Minjik",
      "userId": "03992121075759719709"
     },
     "user_tz": -540
    },
    "id": "duvsxPklE79u",
    "outputId": "95daadb3-5db2-4c81-beba-e70b30814b27"
   },
   "outputs": [
    {
     "data": {
      "image/png": "[encoded data removed]",
      "text/plain": [
       "<Figure size 800x600 with 1 Axes>"
      ]
     },
     "metadata": {},
     "output_type": "display_data"
    }
   ],
   "source": [
    "df = all_n.groupby(['latitude', 'longitude']).emission.mean().reset_index()\n",
    "\n",
    "plt.figure(figsize=(8,6))\n",
    "plt.title('CO2 emission by location')\n",
    "sns.boxplot(df.emission)\n",
    "plt.show()"
   ]
  },
  {
   "cell_type": "code",
   "execution_count": 574,
   "metadata": {
    "colab": {
     "base_uri": "https://localhost:8080/",
     "height": 542
    },
    "executionInfo": {
     "elapsed": 60,
     "status": "ok",
     "timestamp": 1692675880938,
     "user": {
      "displayName": "Lee Minjik",
      "userId": "03992121075759719709"
     },
     "user_tz": -540
    },
    "id": "pkizoD9BcqK6",
    "outputId": "6e0c0c1e-9e64-4eef-f46e-15d1cf07f727"
   },
   "outputs": [
    {
     "data": {
      "text/html": [
       "<html>\n",
       "<head><meta charset=\"utf-8\" /></head>\n",
       "<body>\n",
       "    <div>            <script src=\"https://cdnjs.cloudflare.com/ajax/libs/mathjax/2.7.5/MathJax.js?config=TeX-AMS-MML_SVG\"></script><script type=\"text/javascript\">if (window.MathJax && window.MathJax.Hub && window.MathJax.Hub.Config) {window.MathJax.Hub.Config({SVG: {font: \"STIX-Web\"}});}</script>                <script type=\"text/javascript\">window.PlotlyConfig = {MathJaxConfig: 'local'};</script>\n",
       "        <script charset=\"utf-8\" src=\"https://cdn.plot.ly/plotly-2.24.1.min.js\"></script>                <div id=\"5e2367b6-dfa3-425e-9e6a-3a3340f17a41\" class=\"plotly-graph-div\" style=\"height:525px; width:100%;\"></div>            <script type=\"text/javascript\">                                    window.PLOTLYENV=window.PLOTLYENV || {};                                    if (document.getElementById(\"5e2367b6-dfa3-425e-9e6a-3a3340f17a41\")) {                    Plotly.newPlot(                        \"5e2367b6-dfa3-425e-9e6a-3a3340f17a41\",                        [{\"line\":{\"color\":\"Green\"},\"mode\":\"lines\",\"name\":\"CO2 Emission in 2019\",\"x\":[\"0\",\"1\",\"2\",\"3\",\"4\",\"5\",\"6\",\"7\",\"8\",\"9\",\"10\",\"11\",\"12\",\"13\",\"14\",\"15\",\"16\",\"17\",\"18\",\"19\",\"20\",\"21\",\"22\",\"23\",\"24\",\"25\",\"26\",\"27\",\"28\",\"29\",\"30\",\"31\",\"32\",\"33\",\"34\",\"35\",\"36\",\"37\",\"38\",\"39\",\"40\",\"41\",\"42\",\"43\",\"44\",\"45\",\"46\",\"47\",\"48\",\"49\",\"50\",\"51\",\"52\"],\"y\":[69.589719774855,74.8184784033677,78.07654940373145,79.88809485307272,81.65874547604167,80.831989804125,81.06584882089562,79.62480969862082,80.47046191463896,81.698679619075,80.89013150144166,80.1057043070673,80.87242563670834,73.66909433155209,121.74330324181561,113.15486616071375,110.05663350822083,85.52710558155833,83.05333782519332,82.93883894431876,81.19154376670001,74.70014845786937,75.0938190298625,75.14602256936686,75.50807489389375,75.38598139523542,76.31162072493187,75.09989428526875,74.84855411149542,74.68289170855749,74.17884552501563,76.23694100075708,76.47784330904166,76.11603023885583,76.05361404132438,78.4513638901352,78.39311160321813,78.54981155062292,78.92500143366667,75.2760194733125,103.00667954768437,103.80993950104583,110.08977330337375,119.70719238809062,82.80196727054896,83.82918171150271,84.62403811664167,85.06493040532125,82.3323209498354,81.4256491731125,82.31803349903771,75.12623679138125,76.18347219397604],\"type\":\"scatter\"},{\"line\":{\"color\":\"Red\"},\"mode\":\"lines\",\"name\":\"CO2 Emission in 2020\",\"x\":[\"0\",\"1\",\"2\",\"3\",\"4\",\"5\",\"6\",\"7\",\"8\",\"9\",\"10\",\"11\",\"12\",\"13\",\"14\",\"15\",\"16\",\"17\",\"18\",\"19\",\"20\",\"21\",\"22\",\"23\",\"24\",\"25\",\"26\",\"27\",\"28\",\"29\",\"30\",\"31\",\"32\",\"33\",\"34\",\"35\",\"36\",\"37\",\"38\",\"39\",\"40\",\"41\",\"42\",\"43\",\"44\",\"45\",\"46\",\"47\",\"48\",\"49\",\"50\",\"51\",\"52\"],\"y\":[72.05392265019522,78.10012845771043,79.74431275833312,79.14689735849791,78.71388093627166,79.02643101836063,78.62429094805897,77.88016546872707,78.20931986567082,80.15220257856292,74.79258759889584,63.69967570365104,52.83257667467917,94.5477010485396,84.45653420813625,86.38141340573667,85.79336687015375,47.00135758572208,52.80741803206042,55.38675242694625,53.418672321680624,52.66183341961875,45.84767887178479,60.77488395270625,62.36511928508541,62.37121106015479,61.70182793912792,63.99799846129104,64.4875761887052,65.08393455229167,58.260776095395414,65.28517123252666,66.70616553464667,66.37100061194437,68.67272405025832,75.46733959837792,71.99204845491334,71.71731220164584,72.94550267789938,73.36250857050625,95.68399384417667,101.14282225737479,101.71169248280833,105.2404437493502,70.75654937942605,70.90010271962146,71.42243096306333,72.98714072150604,71.01167715249917,71.67759940946083,73.3066565470402,68.75768502268751,68.76810526622126],\"type\":\"scatter\"},{\"line\":{\"color\":\"Yellow\"},\"mode\":\"lines\",\"name\":\"CO2 Emission in 2021\",\"x\":[\"0\",\"1\",\"2\",\"3\",\"4\",\"5\",\"6\",\"7\",\"8\",\"9\",\"10\",\"11\",\"12\",\"13\",\"14\",\"15\",\"16\",\"17\",\"18\",\"19\",\"20\",\"21\",\"22\",\"23\",\"24\",\"25\",\"26\",\"27\",\"28\",\"29\",\"30\",\"31\",\"32\",\"33\",\"34\",\"35\",\"36\",\"37\",\"38\",\"39\",\"40\",\"41\",\"42\",\"43\",\"44\",\"45\",\"46\",\"47\",\"48\",\"49\",\"50\",\"51\",\"52\"],\"y\":[54.09199125660834,67.58334124881792,68.55345096164021,68.27954822286667,70.17184952390896,73.68970385129334,71.81802628777605,71.97425549440104,72.44480825559063,64.354310144675,75.1234407439073,75.42876913724375,74.75769441966312,74.20322585595063,117.40440146227874,115.00792557728,110.05816739799396,70.31864952166458,74.16998857932501,70.62601114682853,72.30787660819375,73.69405981610979,75.16959530556854,72.28529810291874,71.78000792470563,71.17942463657417,70.2944934500198,68.175160883675,67.62638947267854,65.77157124549021,67.41914993682501,72.01884893342792,70.70873133011354,70.69344072266458,71.92227923415834,71.95320298495083,76.26995753935938,78.33674673740624,79.48999810711459,99.53061329004959,101.69613720612438,105.61592182180063,109.49860688898542,111.19618664969708,79.04227741591355,79.69902762601251,79.76751956259376,80.90171827709729,79.86215064756313,79.22896548051062,79.22147353798083,76.16035044918854,73.93407401839126],\"type\":\"scatter\"}],                        {\"template\":{\"data\":{\"barpolar\":[{\"marker\":{\"line\":{\"color\":\"rgb(17,17,17)\",\"width\":0.5},\"pattern\":{\"fillmode\":\"overlay\",\"size\":10,\"solidity\":0.2}},\"type\":\"barpolar\"}],\"bar\":[{\"error_x\":{\"color\":\"#f2f5fa\"},\"error_y\":{\"color\":\"#f2f5fa\"},\"marker\":{\"line\":{\"color\":\"rgb(17,17,17)\",\"width\":0.5},\"pattern\":{\"fillmode\":\"overlay\",\"size\":10,\"solidity\":0.2}},\"type\":\"bar\"}],\"carpet\":[{\"aaxis\":{\"endlinecolor\":\"#A2B1C6\",\"gridcolor\":\"#506784\",\"linecolor\":\"#506784\",\"minorgridcolor\":\"#506784\",\"startlinecolor\":\"#A2B1C6\"},\"baxis\":{\"endlinecolor\":\"#A2B1C6\",\"gridcolor\":\"#506784\",\"linecolor\":\"#506784\",\"minorgridcolor\":\"#506784\",\"startlinecolor\":\"#A2B1C6\"},\"type\":\"carpet\"}],\"choropleth\":[{\"colorbar\":{\"outlinewidth\":0,\"ticks\":\"\"},\"type\":\"choropleth\"}],\"contourcarpet\":[{\"colorbar\":{\"outlinewidth\":0,\"ticks\":\"\"},\"type\":\"contourcarpet\"}],\"contour\":[{\"colorbar\":{\"outlinewidth\":0,\"ticks\":\"\"},\"colorscale\":[[0.0,\"#0d0887\"],[0.1111111111111111,\"#46039f\"],[0.2222222222222222,\"#7201a8\"],[0.3333333333333333,\"#9c179e\"],[0.4444444444444444,\"#bd3786\"],[0.5555555555555556,\"#d8576b\"],[0.6666666666666666,\"#ed7953\"],[0.7777777777777778,\"#fb9f3a\"],[0.8888888888888888,\"#fdca26\"],[1.0,\"#f0f921\"]],\"type\":\"contour\"}],\"heatmapgl\":[{\"colorbar\":{\"outlinewidth\":0,\"ticks\":\"\"},\"colorscale\":[[0.0,\"#0d0887\"],[0.1111111111111111,\"#46039f\"],[0.2222222222222222,\"#7201a8\"],[0.3333333333333333,\"#9c179e\"],[0.4444444444444444,\"#bd3786\"],[0.5555555555555556,\"#d8576b\"],[0.6666666666666666,\"#ed7953\"],[0.7777777777777778,\"#fb9f3a\"],[0.8888888888888888,\"#fdca26\"],[1.0,\"#f0f921\"]],\"type\":\"heatmapgl\"}],\"heatmap\":[{\"colorbar\":{\"outlinewidth\":0,\"ticks\":\"\"},\"colorscale\":[[0.0,\"#0d0887\"],[0.1111111111111111,\"#46039f\"],[0.2222222222222222,\"#7201a8\"],[0.3333333333333333,\"#9c179e\"],[0.4444444444444444,\"#bd3786\"],[0.5555555555555556,\"#d8576b\"],[0.6666666666666666,\"#ed7953\"],[0.7777777777777778,\"#fb9f3a\"],[0.8888888888888888,\"#fdca26\"],[1.0,\"#f0f921\"]],\"type\":\"heatmap\"}],\"histogram2dcontour\":[{\"colorbar\":{\"outlinewidth\":0,\"ticks\":\"\"},\"colorscale\":[[0.0,\"#0d0887\"],[0.1111111111111111,\"#46039f\"],[0.2222222222222222,\"#7201a8\"],[0.3333333333333333,\"#9c179e\"],[0.4444444444444444,\"#bd3786\"],[0.5555555555555556,\"#d8576b\"],[0.6666666666666666,\"#ed7953\"],[0.7777777777777778,\"#fb9f3a\"],[0.8888888888888888,\"#fdca26\"],[1.0,\"#f0f921\"]],\"type\":\"histogram2dcontour\"}],\"histogram2d\":[{\"colorbar\":{\"outlinewidth\":0,\"ticks\":\"\"},\"colorscale\":[[0.0,\"#0d0887\"],[0.1111111111111111,\"#46039f\"],[0.2222222222222222,\"#7201a8\"],[0.3333333333333333,\"#9c179e\"],[0.4444444444444444,\"#bd3786\"],[0.5555555555555556,\"#d8576b\"],[0.6666666666666666,\"#ed7953\"],[0.7777777777777778,\"#fb9f3a\"],[0.8888888888888888,\"#fdca26\"],[1.0,\"#f0f921\"]],\"type\":\"histogram2d\"}],\"histogram\":[{\"marker\":{\"pattern\":{\"fillmode\":\"overlay\",\"size\":10,\"solidity\":0.2}},\"type\":\"histogram\"}],\"mesh3d\":[{\"colorbar\":{\"outlinewidth\":0,\"ticks\":\"\"},\"type\":\"mesh3d\"}],\"parcoords\":[{\"line\":{\"colorbar\":{\"outlinewidth\":0,\"ticks\":\"\"}},\"type\":\"parcoords\"}],\"pie\":[{\"automargin\":true,\"type\":\"pie\"}],\"scatter3d\":[{\"line\":{\"colorbar\":{\"outlinewidth\":0,\"ticks\":\"\"}},\"marker\":{\"colorbar\":{\"outlinewidth\":0,\"ticks\":\"\"}},\"type\":\"scatter3d\"}],\"scattercarpet\":[{\"marker\":{\"colorbar\":{\"outlinewidth\":0,\"ticks\":\"\"}},\"type\":\"scattercarpet\"}],\"scattergeo\":[{\"marker\":{\"colorbar\":{\"outlinewidth\":0,\"ticks\":\"\"}},\"type\":\"scattergeo\"}],\"scattergl\":[{\"marker\":{\"line\":{\"color\":\"#283442\"}},\"type\":\"scattergl\"}],\"scattermapbox\":[{\"marker\":{\"colorbar\":{\"outlinewidth\":0,\"ticks\":\"\"}},\"type\":\"scattermapbox\"}],\"scatterpolargl\":[{\"marker\":{\"colorbar\":{\"outlinewidth\":0,\"ticks\":\"\"}},\"type\":\"scatterpolargl\"}],\"scatterpolar\":[{\"marker\":{\"colorbar\":{\"outlinewidth\":0,\"ticks\":\"\"}},\"type\":\"scatterpolar\"}],\"scatter\":[{\"marker\":{\"line\":{\"color\":\"#283442\"}},\"type\":\"scatter\"}],\"scatterternary\":[{\"marker\":{\"colorbar\":{\"outlinewidth\":0,\"ticks\":\"\"}},\"type\":\"scatterternary\"}],\"surface\":[{\"colorbar\":{\"outlinewidth\":0,\"ticks\":\"\"},\"colorscale\":[[0.0,\"#0d0887\"],[0.1111111111111111,\"#46039f\"],[0.2222222222222222,\"#7201a8\"],[0.3333333333333333,\"#9c179e\"],[0.4444444444444444,\"#bd3786\"],[0.5555555555555556,\"#d8576b\"],[0.6666666666666666,\"#ed7953\"],[0.7777777777777778,\"#fb9f3a\"],[0.8888888888888888,\"#fdca26\"],[1.0,\"#f0f921\"]],\"type\":\"surface\"}],\"table\":[{\"cells\":{\"fill\":{\"color\":\"#506784\"},\"line\":{\"color\":\"rgb(17,17,17)\"}},\"header\":{\"fill\":{\"color\":\"#2a3f5f\"},\"line\":{\"color\":\"rgb(17,17,17)\"}},\"type\":\"table\"}]},\"layout\":{\"annotationdefaults\":{\"arrowcolor\":\"#f2f5fa\",\"arrowhead\":0,\"arrowwidth\":1},\"autotypenumbers\":\"strict\",\"coloraxis\":{\"colorbar\":{\"outlinewidth\":0,\"ticks\":\"\"}},\"colorscale\":{\"diverging\":[[0,\"#8e0152\"],[0.1,\"#c51b7d\"],[0.2,\"#de77ae\"],[0.3,\"#f1b6da\"],[0.4,\"#fde0ef\"],[0.5,\"#f7f7f7\"],[0.6,\"#e6f5d0\"],[0.7,\"#b8e186\"],[0.8,\"#7fbc41\"],[0.9,\"#4d9221\"],[1,\"#276419\"]],\"sequential\":[[0.0,\"#0d0887\"],[0.1111111111111111,\"#46039f\"],[0.2222222222222222,\"#7201a8\"],[0.3333333333333333,\"#9c179e\"],[0.4444444444444444,\"#bd3786\"],[0.5555555555555556,\"#d8576b\"],[0.6666666666666666,\"#ed7953\"],[0.7777777777777778,\"#fb9f3a\"],[0.8888888888888888,\"#fdca26\"],[1.0,\"#f0f921\"]],\"sequentialminus\":[[0.0,\"#0d0887\"],[0.1111111111111111,\"#46039f\"],[0.2222222222222222,\"#7201a8\"],[0.3333333333333333,\"#9c179e\"],[0.4444444444444444,\"#bd3786\"],[0.5555555555555556,\"#d8576b\"],[0.6666666666666666,\"#ed7953\"],[0.7777777777777778,\"#fb9f3a\"],[0.8888888888888888,\"#fdca26\"],[1.0,\"#f0f921\"]]},\"colorway\":[\"#636efa\",\"#EF553B\",\"#00cc96\",\"#ab63fa\",\"#FFA15A\",\"#19d3f3\",\"#FF6692\",\"#B6E880\",\"#FF97FF\",\"#FECB52\"],\"font\":{\"color\":\"#f2f5fa\"},\"geo\":{\"bgcolor\":\"rgb(17,17,17)\",\"lakecolor\":\"rgb(17,17,17)\",\"landcolor\":\"rgb(17,17,17)\",\"showlakes\":true,\"showland\":true,\"subunitcolor\":\"#506784\"},\"hoverlabel\":{\"align\":\"left\"},\"hovermode\":\"closest\",\"mapbox\":{\"style\":\"dark\"},\"paper_bgcolor\":\"rgb(17,17,17)\",\"plot_bgcolor\":\"rgb(17,17,17)\",\"polar\":{\"angularaxis\":{\"gridcolor\":\"#506784\",\"linecolor\":\"#506784\",\"ticks\":\"\"},\"bgcolor\":\"rgb(17,17,17)\",\"radialaxis\":{\"gridcolor\":\"#506784\",\"linecolor\":\"#506784\",\"ticks\":\"\"}},\"scene\":{\"xaxis\":{\"backgroundcolor\":\"rgb(17,17,17)\",\"gridcolor\":\"#506784\",\"gridwidth\":2,\"linecolor\":\"#506784\",\"showbackground\":true,\"ticks\":\"\",\"zerolinecolor\":\"#C8D4E3\"},\"yaxis\":{\"backgroundcolor\":\"rgb(17,17,17)\",\"gridcolor\":\"#506784\",\"gridwidth\":2,\"linecolor\":\"#506784\",\"showbackground\":true,\"ticks\":\"\",\"zerolinecolor\":\"#C8D4E3\"},\"zaxis\":{\"backgroundcolor\":\"rgb(17,17,17)\",\"gridcolor\":\"#506784\",\"gridwidth\":2,\"linecolor\":\"#506784\",\"showbackground\":true,\"ticks\":\"\",\"zerolinecolor\":\"#C8D4E3\"}},\"shapedefaults\":{\"line\":{\"color\":\"#f2f5fa\"}},\"sliderdefaults\":{\"bgcolor\":\"#C8D4E3\",\"bordercolor\":\"rgb(17,17,17)\",\"borderwidth\":1,\"tickwidth\":0},\"ternary\":{\"aaxis\":{\"gridcolor\":\"#506784\",\"linecolor\":\"#506784\",\"ticks\":\"\"},\"baxis\":{\"gridcolor\":\"#506784\",\"linecolor\":\"#506784\",\"ticks\":\"\"},\"bgcolor\":\"rgb(17,17,17)\",\"caxis\":{\"gridcolor\":\"#506784\",\"linecolor\":\"#506784\",\"ticks\":\"\"}},\"title\":{\"x\":0.05},\"updatemenudefaults\":{\"bgcolor\":\"#506784\",\"borderwidth\":0},\"xaxis\":{\"automargin\":true,\"gridcolor\":\"#283442\",\"linecolor\":\"#506784\",\"ticks\":\"\",\"title\":{\"standoff\":15},\"zerolinecolor\":\"#283442\",\"zerolinewidth\":2},\"yaxis\":{\"automargin\":true,\"gridcolor\":\"#283442\",\"linecolor\":\"#506784\",\"ticks\":\"\",\"title\":{\"standoff\":15},\"zerolinecolor\":\"#283442\",\"zerolinewidth\":2}}},\"title\":{\"text\":\"Average CO2 Emissions across Year\"}},                        {\"responsive\": true}                    ).then(function(){\n",
       "                            \n",
       "var gd = document.getElementById('5e2367b6-dfa3-425e-9e6a-3a3340f17a41');\n",
       "var x = new MutationObserver(function (mutations, observer) {{\n",
       "        var display = window.getComputedStyle(gd).display;\n",
       "        if (!display || display === 'none') {{\n",
       "            console.log([gd, 'removed!']);\n",
       "            Plotly.purge(gd);\n",
       "            observer.disconnect();\n",
       "        }}\n",
       "}});\n",
       "\n",
       "// Listen for the removal of the full notebook cells\n",
       "var notebookContainer = gd.closest('#notebook-container');\n",
       "if (notebookContainer) {{\n",
       "    x.observe(notebookContainer, {childList: true});\n",
       "}}\n",
       "\n",
       "// Listen for the clearing of the current output cell\n",
       "var outputEl = gd.closest('.output');\n",
       "if (outputEl) {{\n",
       "    x.observe(outputEl, {childList: true});\n",
       "}}\n",
       "\n",
       "                        })                };                            </script>        </div>\n",
       "</body>\n",
       "</html>"
      ]
     },
     "metadata": {},
     "output_type": "display_data"
    }
   ],
   "source": [
    "graph_emission_by_time(all_n, all_n.week_no)"
   ]
  },
  {
   "cell_type": "code",
   "execution_count": 575,
   "metadata": {
    "colab": {
     "base_uri": "https://localhost:8080/",
     "height": 542
    },
    "executionInfo": {
     "elapsed": 58,
     "status": "ok",
     "timestamp": 1692675880940,
     "user": {
      "displayName": "Lee Minjik",
      "userId": "03992121075759719709"
     },
     "user_tz": -540
    },
    "id": "pDAkaAyy78pX",
    "outputId": "df0628e3-8a72-4af0-f293-77893f98e3bb"
   },
   "outputs": [
    {
     "data": {
      "text/html": [
       "<html>\n",
       "<head><meta charset=\"utf-8\" /></head>\n",
       "<body>\n",
       "    <div>            <script src=\"https://cdnjs.cloudflare.com/ajax/libs/mathjax/2.7.5/MathJax.js?config=TeX-AMS-MML_SVG\"></script><script type=\"text/javascript\">if (window.MathJax && window.MathJax.Hub && window.MathJax.Hub.Config) {window.MathJax.Hub.Config({SVG: {font: \"STIX-Web\"}});}</script>                <script type=\"text/javascript\">window.PlotlyConfig = {MathJaxConfig: 'local'};</script>\n",
       "        <script charset=\"utf-8\" src=\"https://cdn.plot.ly/plotly-2.24.1.min.js\"></script>                <div id=\"71badadf-11bb-482f-bf41-536ffb5f1453\" class=\"plotly-graph-div\" style=\"height:525px; width:100%;\"></div>            <script type=\"text/javascript\">                                    window.PLOTLYENV=window.PLOTLYENV || {};                                    if (document.getElementById(\"71badadf-11bb-482f-bf41-536ffb5f1453\")) {                    Plotly.newPlot(                        \"71badadf-11bb-482f-bf41-536ffb5f1453\",                        [{\"line\":{\"color\":\"Green\"},\"mode\":\"lines\",\"name\":\"CO2 Emission in 2019\",\"x\":[\"1\",\"2\",\"3\",\"4\",\"5\",\"6\",\"7\",\"8\",\"9\",\"10\",\"11\",\"12\"],\"y\":[75.71126292580058,80.79534844992078,80.80748059578626,104.65597431057557,83.1777065294426,75.16680926924558,75.23574020756338,75.75241501841757,78.07458050379346,98.04560295635412,92.74059487169599,81.25343416373762],\"type\":\"scatter\"},{\"line\":{\"color\":\"Red\"},\"mode\":\"lines\",\"name\":\"CO2 Emission in 2020\",\"x\":[\"1\",\"2\",\"3\",\"4\",\"5\",\"6\",\"7\",\"8\",\"9\",\"10\",\"11\",\"12\"],\"y\":[75.56267329819158,78.56119209285458,69.93727248429195,87.79475388314157,52.25520675720563,57.839723292432815,63.81783428535395,65.05916750495429,73.03055073320911,92.97525428871651,78.26133350659342,71.18840453292192],\"type\":\"scatter\"},{\"line\":{\"color\":\"Yellow\"},\"mode\":\"lines\",\"name\":\"CO2 Emission in 2021\",\"x\":[\"1\",\"2\",\"3\",\"4\",\"5\",\"6\",\"7\",\"8\",\"9\",\"10\",\"11\",\"12\"],\"y\":[67.10237587203889,72.48169847226525,72.41605361137229,104.16843007337584,72.22331713442433,72.60358149244176,67.96690376296588,70.55249003143787,76.51247634220776,105.50749317133142,79.85263572040428,78.61823502881079],\"type\":\"scatter\"}],                        {\"template\":{\"data\":{\"barpolar\":[{\"marker\":{\"line\":{\"color\":\"rgb(17,17,17)\",\"width\":0.5},\"pattern\":{\"fillmode\":\"overlay\",\"size\":10,\"solidity\":0.2}},\"type\":\"barpolar\"}],\"bar\":[{\"error_x\":{\"color\":\"#f2f5fa\"},\"error_y\":{\"color\":\"#f2f5fa\"},\"marker\":{\"line\":{\"color\":\"rgb(17,17,17)\",\"width\":0.5},\"pattern\":{\"fillmode\":\"overlay\",\"size\":10,\"solidity\":0.2}},\"type\":\"bar\"}],\"carpet\":[{\"aaxis\":{\"endlinecolor\":\"#A2B1C6\",\"gridcolor\":\"#506784\",\"linecolor\":\"#506784\",\"minorgridcolor\":\"#506784\",\"startlinecolor\":\"#A2B1C6\"},\"baxis\":{\"endlinecolor\":\"#A2B1C6\",\"gridcolor\":\"#506784\",\"linecolor\":\"#506784\",\"minorgridcolor\":\"#506784\",\"startlinecolor\":\"#A2B1C6\"},\"type\":\"carpet\"}],\"choropleth\":[{\"colorbar\":{\"outlinewidth\":0,\"ticks\":\"\"},\"type\":\"choropleth\"}],\"contourcarpet\":[{\"colorbar\":{\"outlinewidth\":0,\"ticks\":\"\"},\"type\":\"contourcarpet\"}],\"contour\":[{\"colorbar\":{\"outlinewidth\":0,\"ticks\":\"\"},\"colorscale\":[[0.0,\"#0d0887\"],[0.1111111111111111,\"#46039f\"],[0.2222222222222222,\"#7201a8\"],[0.3333333333333333,\"#9c179e\"],[0.4444444444444444,\"#bd3786\"],[0.5555555555555556,\"#d8576b\"],[0.6666666666666666,\"#ed7953\"],[0.7777777777777778,\"#fb9f3a\"],[0.8888888888888888,\"#fdca26\"],[1.0,\"#f0f921\"]],\"type\":\"contour\"}],\"heatmapgl\":[{\"colorbar\":{\"outlinewidth\":0,\"ticks\":\"\"},\"colorscale\":[[0.0,\"#0d0887\"],[0.1111111111111111,\"#46039f\"],[0.2222222222222222,\"#7201a8\"],[0.3333333333333333,\"#9c179e\"],[0.4444444444444444,\"#bd3786\"],[0.5555555555555556,\"#d8576b\"],[0.6666666666666666,\"#ed7953\"],[0.7777777777777778,\"#fb9f3a\"],[0.8888888888888888,\"#fdca26\"],[1.0,\"#f0f921\"]],\"type\":\"heatmapgl\"}],\"heatmap\":[{\"colorbar\":{\"outlinewidth\":0,\"ticks\":\"\"},\"colorscale\":[[0.0,\"#0d0887\"],[0.1111111111111111,\"#46039f\"],[0.2222222222222222,\"#7201a8\"],[0.3333333333333333,\"#9c179e\"],[0.4444444444444444,\"#bd3786\"],[0.5555555555555556,\"#d8576b\"],[0.6666666666666666,\"#ed7953\"],[0.7777777777777778,\"#fb9f3a\"],[0.8888888888888888,\"#fdca26\"],[1.0,\"#f0f921\"]],\"type\":\"heatmap\"}],\"histogram2dcontour\":[{\"colorbar\":{\"outlinewidth\":0,\"ticks\":\"\"},\"colorscale\":[[0.0,\"#0d0887\"],[0.1111111111111111,\"#46039f\"],[0.2222222222222222,\"#7201a8\"],[0.3333333333333333,\"#9c179e\"],[0.4444444444444444,\"#bd3786\"],[0.5555555555555556,\"#d8576b\"],[0.6666666666666666,\"#ed7953\"],[0.7777777777777778,\"#fb9f3a\"],[0.8888888888888888,\"#fdca26\"],[1.0,\"#f0f921\"]],\"type\":\"histogram2dcontour\"}],\"histogram2d\":[{\"colorbar\":{\"outlinewidth\":0,\"ticks\":\"\"},\"colorscale\":[[0.0,\"#0d0887\"],[0.1111111111111111,\"#46039f\"],[0.2222222222222222,\"#7201a8\"],[0.3333333333333333,\"#9c179e\"],[0.4444444444444444,\"#bd3786\"],[0.5555555555555556,\"#d8576b\"],[0.6666666666666666,\"#ed7953\"],[0.7777777777777778,\"#fb9f3a\"],[0.8888888888888888,\"#fdca26\"],[1.0,\"#f0f921\"]],\"type\":\"histogram2d\"}],\"histogram\":[{\"marker\":{\"pattern\":{\"fillmode\":\"overlay\",\"size\":10,\"solidity\":0.2}},\"type\":\"histogram\"}],\"mesh3d\":[{\"colorbar\":{\"outlinewidth\":0,\"ticks\":\"\"},\"type\":\"mesh3d\"}],\"parcoords\":[{\"line\":{\"colorbar\":{\"outlinewidth\":0,\"ticks\":\"\"}},\"type\":\"parcoords\"}],\"pie\":[{\"automargin\":true,\"type\":\"pie\"}],\"scatter3d\":[{\"line\":{\"colorbar\":{\"outlinewidth\":0,\"ticks\":\"\"}},\"marker\":{\"colorbar\":{\"outlinewidth\":0,\"ticks\":\"\"}},\"type\":\"scatter3d\"}],\"scattercarpet\":[{\"marker\":{\"colorbar\":{\"outlinewidth\":0,\"ticks\":\"\"}},\"type\":\"scattercarpet\"}],\"scattergeo\":[{\"marker\":{\"colorbar\":{\"outlinewidth\":0,\"ticks\":\"\"}},\"type\":\"scattergeo\"}],\"scattergl\":[{\"marker\":{\"line\":{\"color\":\"#283442\"}},\"type\":\"scattergl\"}],\"scattermapbox\":[{\"marker\":{\"colorbar\":{\"outlinewidth\":0,\"ticks\":\"\"}},\"type\":\"scattermapbox\"}],\"scatterpolargl\":[{\"marker\":{\"colorbar\":{\"outlinewidth\":0,\"ticks\":\"\"}},\"type\":\"scatterpolargl\"}],\"scatterpolar\":[{\"marker\":{\"colorbar\":{\"outlinewidth\":0,\"ticks\":\"\"}},\"type\":\"scatterpolar\"}],\"scatter\":[{\"marker\":{\"line\":{\"color\":\"#283442\"}},\"type\":\"scatter\"}],\"scatterternary\":[{\"marker\":{\"colorbar\":{\"outlinewidth\":0,\"ticks\":\"\"}},\"type\":\"scatterternary\"}],\"surface\":[{\"colorbar\":{\"outlinewidth\":0,\"ticks\":\"\"},\"colorscale\":[[0.0,\"#0d0887\"],[0.1111111111111111,\"#46039f\"],[0.2222222222222222,\"#7201a8\"],[0.3333333333333333,\"#9c179e\"],[0.4444444444444444,\"#bd3786\"],[0.5555555555555556,\"#d8576b\"],[0.6666666666666666,\"#ed7953\"],[0.7777777777777778,\"#fb9f3a\"],[0.8888888888888888,\"#fdca26\"],[1.0,\"#f0f921\"]],\"type\":\"surface\"}],\"table\":[{\"cells\":{\"fill\":{\"color\":\"#506784\"},\"line\":{\"color\":\"rgb(17,17,17)\"}},\"header\":{\"fill\":{\"color\":\"#2a3f5f\"},\"line\":{\"color\":\"rgb(17,17,17)\"}},\"type\":\"table\"}]},\"layout\":{\"annotationdefaults\":{\"arrowcolor\":\"#f2f5fa\",\"arrowhead\":0,\"arrowwidth\":1},\"autotypenumbers\":\"strict\",\"coloraxis\":{\"colorbar\":{\"outlinewidth\":0,\"ticks\":\"\"}},\"colorscale\":{\"diverging\":[[0,\"#8e0152\"],[0.1,\"#c51b7d\"],[0.2,\"#de77ae\"],[0.3,\"#f1b6da\"],[0.4,\"#fde0ef\"],[0.5,\"#f7f7f7\"],[0.6,\"#e6f5d0\"],[0.7,\"#b8e186\"],[0.8,\"#7fbc41\"],[0.9,\"#4d9221\"],[1,\"#276419\"]],\"sequential\":[[0.0,\"#0d0887\"],[0.1111111111111111,\"#46039f\"],[0.2222222222222222,\"#7201a8\"],[0.3333333333333333,\"#9c179e\"],[0.4444444444444444,\"#bd3786\"],[0.5555555555555556,\"#d8576b\"],[0.6666666666666666,\"#ed7953\"],[0.7777777777777778,\"#fb9f3a\"],[0.8888888888888888,\"#fdca26\"],[1.0,\"#f0f921\"]],\"sequentialminus\":[[0.0,\"#0d0887\"],[0.1111111111111111,\"#46039f\"],[0.2222222222222222,\"#7201a8\"],[0.3333333333333333,\"#9c179e\"],[0.4444444444444444,\"#bd3786\"],[0.5555555555555556,\"#d8576b\"],[0.6666666666666666,\"#ed7953\"],[0.7777777777777778,\"#fb9f3a\"],[0.8888888888888888,\"#fdca26\"],[1.0,\"#f0f921\"]]},\"colorway\":[\"#636efa\",\"#EF553B\",\"#00cc96\",\"#ab63fa\",\"#FFA15A\",\"#19d3f3\",\"#FF6692\",\"#B6E880\",\"#FF97FF\",\"#FECB52\"],\"font\":{\"color\":\"#f2f5fa\"},\"geo\":{\"bgcolor\":\"rgb(17,17,17)\",\"lakecolor\":\"rgb(17,17,17)\",\"landcolor\":\"rgb(17,17,17)\",\"showlakes\":true,\"showland\":true,\"subunitcolor\":\"#506784\"},\"hoverlabel\":{\"align\":\"left\"},\"hovermode\":\"closest\",\"mapbox\":{\"style\":\"dark\"},\"paper_bgcolor\":\"rgb(17,17,17)\",\"plot_bgcolor\":\"rgb(17,17,17)\",\"polar\":{\"angularaxis\":{\"gridcolor\":\"#506784\",\"linecolor\":\"#506784\",\"ticks\":\"\"},\"bgcolor\":\"rgb(17,17,17)\",\"radialaxis\":{\"gridcolor\":\"#506784\",\"linecolor\":\"#506784\",\"ticks\":\"\"}},\"scene\":{\"xaxis\":{\"backgroundcolor\":\"rgb(17,17,17)\",\"gridcolor\":\"#506784\",\"gridwidth\":2,\"linecolor\":\"#506784\",\"showbackground\":true,\"ticks\":\"\",\"zerolinecolor\":\"#C8D4E3\"},\"yaxis\":{\"backgroundcolor\":\"rgb(17,17,17)\",\"gridcolor\":\"#506784\",\"gridwidth\":2,\"linecolor\":\"#506784\",\"showbackground\":true,\"ticks\":\"\",\"zerolinecolor\":\"#C8D4E3\"},\"zaxis\":{\"backgroundcolor\":\"rgb(17,17,17)\",\"gridcolor\":\"#506784\",\"gridwidth\":2,\"linecolor\":\"#506784\",\"showbackground\":true,\"ticks\":\"\",\"zerolinecolor\":\"#C8D4E3\"}},\"shapedefaults\":{\"line\":{\"color\":\"#f2f5fa\"}},\"sliderdefaults\":{\"bgcolor\":\"#C8D4E3\",\"bordercolor\":\"rgb(17,17,17)\",\"borderwidth\":1,\"tickwidth\":0},\"ternary\":{\"aaxis\":{\"gridcolor\":\"#506784\",\"linecolor\":\"#506784\",\"ticks\":\"\"},\"baxis\":{\"gridcolor\":\"#506784\",\"linecolor\":\"#506784\",\"ticks\":\"\"},\"bgcolor\":\"rgb(17,17,17)\",\"caxis\":{\"gridcolor\":\"#506784\",\"linecolor\":\"#506784\",\"ticks\":\"\"}},\"title\":{\"x\":0.05},\"updatemenudefaults\":{\"bgcolor\":\"#506784\",\"borderwidth\":0},\"xaxis\":{\"automargin\":true,\"gridcolor\":\"#283442\",\"linecolor\":\"#506784\",\"ticks\":\"\",\"title\":{\"standoff\":15},\"zerolinecolor\":\"#283442\",\"zerolinewidth\":2},\"yaxis\":{\"automargin\":true,\"gridcolor\":\"#283442\",\"linecolor\":\"#506784\",\"ticks\":\"\",\"title\":{\"standoff\":15},\"zerolinecolor\":\"#283442\",\"zerolinewidth\":2}}},\"title\":{\"text\":\"Average CO2 Emissions across Year\"}},                        {\"responsive\": true}                    ).then(function(){\n",
       "                            \n",
       "var gd = document.getElementById('71badadf-11bb-482f-bf41-536ffb5f1453');\n",
       "var x = new MutationObserver(function (mutations, observer) {{\n",
       "        var display = window.getComputedStyle(gd).display;\n",
       "        if (!display || display === 'none') {{\n",
       "            console.log([gd, 'removed!']);\n",
       "            Plotly.purge(gd);\n",
       "            observer.disconnect();\n",
       "        }}\n",
       "}});\n",
       "\n",
       "// Listen for the removal of the full notebook cells\n",
       "var notebookContainer = gd.closest('#notebook-container');\n",
       "if (notebookContainer) {{\n",
       "    x.observe(notebookContainer, {childList: true});\n",
       "}}\n",
       "\n",
       "// Listen for the clearing of the current output cell\n",
       "var outputEl = gd.closest('.output');\n",
       "if (outputEl) {{\n",
       "    x.observe(outputEl, {childList: true});\n",
       "}}\n",
       "\n",
       "                        })                };                            </script>        </div>\n",
       "</body>\n",
       "</html>"
      ]
     },
     "metadata": {},
     "output_type": "display_data"
    }
   ],
   "source": [
    "month = pd.to_datetime((all_n.year * 100 + all_n.week_no).astype('str') + '0', format='%Y%W%w').dt.month\n",
    "graph_emission_by_time(all_n, month)"
   ]
  },
  {
   "cell_type": "code",
   "execution_count": 576,
   "metadata": {
    "colab": {
     "base_uri": "https://localhost:8080/",
     "height": 542,
     "output_embedded_package_id": "1JL5VGEfLp4nzZhBEkrqaIOd6uFNpCaSX"
    },
    "executionInfo": {
     "elapsed": 6226,
     "status": "ok",
     "timestamp": 1692675887118,
     "user": {
      "displayName": "Lee Minjik",
      "userId": "03992121075759719709"
     },
     "user_tz": -540
    },
    "id": "Fa_zwd-jVTsx",
    "outputId": "b3e12106-2375-4936-f7aa-84104a7c3cb2"
   },
   "outputs": [
    {
     "data": {
      "text/plain": [
       "Output hidden; open in https://colab.research.google.com to view."
      ]
     },
     "metadata": {},
     "output_type": "display_data"
    }
   ],
   "source": [
    "fig = go.Figure()\n",
    "\n",
    "countries = ['Rwanda', 'Uganda', 'Tanzania', 'Burundi', 'Congo']\n",
    "colors = ['Red', 'Orange', 'Magenta', 'Green', 'LimeGreen']\n",
    "\n",
    "for i, country in enumerate(countries):\n",
    "    # if i==0:\n",
    "    #     country_data = all[(all.year<2022)].groupby('weekth').emission.mean().reset_index()\n",
    "    # else:\n",
    "    country_data = all_n[(all_n.year<2022) & (all_n.country==country)].groupby('weekth').emission.mean().reset_index()\n",
    "\n",
    "    fig.add_trace(go.Scatter(\n",
    "        x=year_week,\n",
    "        y=country_data.emission,\n",
    "        mode='lines',\n",
    "        name=country,\n",
    "        line=dict(color=colors[i])))\n",
    "\n",
    "fig.update_layout(\n",
    "    title='Average CO2 Emissions by Country',\n",
    "    template='plotly_dark')\n",
    "\n",
    "fig.show()"
   ]
  },
  {
   "cell_type": "code",
   "execution_count": 577,
   "metadata": {
    "colab": {
     "base_uri": "https://localhost:8080/",
     "height": 542,
     "output_embedded_package_id": "1yp-86VHn_10Jw51zdjX1IUwDLUYiAiTC"
    },
    "executionInfo": {
     "elapsed": 7686,
     "status": "ok",
     "timestamp": 1692675894788,
     "user": {
      "displayName": "Lee Minjik",
      "userId": "03992121075759719709"
     },
     "user_tz": -540
    },
    "id": "gaB0VNvjO5PY",
    "outputId": "f2ff8fb4-eb8c-490e-bca3-11996b267a74"
   },
   "outputs": [
    {
     "data": {
      "text/plain": [
       "Output hidden; open in https://colab.research.google.com to view."
      ]
     },
     "metadata": {},
     "output_type": "display_data"
    }
   ],
   "source": [
    "fig = make_subplots(rows=3, cols=2)\n",
    "\n",
    "countries = ['All Countries', 'Rwanda', 'Uganda', 'Tanzania', 'Burundi', 'Congo']\n",
    "colors = ['Yellow', 'Red', 'Orange', 'Magenta', 'Green', 'LimeGreen']\n",
    "\n",
    "for i, country in enumerate(countries):\n",
    "    if i==0:\n",
    "        country_data = all_n[(all_n.year<2022)].groupby('weekth').emission.mean().reset_index()\n",
    "    else:\n",
    "        country_data = all_n[(all.year<2022) & (all_n.country==country)].groupby('weekth').emission.mean().reset_index()\n",
    "\n",
    "    fig.add_trace(go.Scatter(\n",
    "        x=year_week,\n",
    "        y=country_data.emission,\n",
    "        mode='lines',\n",
    "        name=country,\n",
    "        line=dict(color=colors[i])),\n",
    "        row=i//2 + 1,\n",
    "        col=i%2 + 1)\n",
    "\n",
    "fig.update_layout(\n",
    "    title='Average CO2 Emissions by Country',\n",
    "    template='plotly_dark')\n",
    "\n",
    "fig.show()"
   ]
  },
  {
   "cell_type": "markdown",
   "metadata": {
    "id": "MbuJcVtaw2iM"
   },
   "source": [
    "# Modeling"
   ]
  },
  {
   "cell_type": "markdown",
   "metadata": {
    "id": "rGgcwCKqxbNC"
   },
   "source": [
    "## Functions"
   ]
  },
  {
   "cell_type": "code",
   "execution_count": 578,
   "metadata": {
    "executionInfo": {
     "elapsed": 27,
     "status": "ok",
     "timestamp": 1692675894789,
     "user": {
      "displayName": "Lee Minjik",
      "userId": "03992121075759719709"
     },
     "user_tz": -540
    },
    "id": "P1Bo6dm_b6bZ"
   },
   "outputs": [],
   "source": [
    "def separate(df):\n",
    "    drop_fts = ['emission', 'ID_LAT_LON_YEAR_WEEK', 'loc_group']\n",
    "\n",
    "    trn = df[~df.emission.isna()].reset_index(drop=True)\n",
    "    tst = df[df.emission.isna()].reset_index(drop=True)\n",
    "\n",
    "    X = trn.drop(drop_fts, axis=1)\n",
    "    X_tst = tst.drop(drop_fts, axis=1)\n",
    "    y = trn.emission\n",
    "    print(X.shape, y.shape, X_tst.shape)\n",
    "\n",
    "    return X, y, X_tst, trn, tst"
   ]
  },
  {
   "cell_type": "code",
   "execution_count": 579,
   "metadata": {
    "executionInfo": {
     "elapsed": 26,
     "status": "ok",
     "timestamp": 1692675894791,
     "user": {
      "displayName": "Lee Minjik",
      "userId": "03992121075759719709"
     },
     "user_tz": -540
    },
    "id": "bx063oN5xtLU"
   },
   "outputs": [],
   "source": [
    "def LGBM_Modeling(X, y, X_tst):\n",
    "    folds = KFold(n_splits=5, shuffle=True, random_state=42)\n",
    "    vld_pred = np.zeros(len(X))\n",
    "    tst_pred = np.zeros(len(X_tst))\n",
    "\n",
    "    params = {\n",
    "        'objective': 'regression',\n",
    "        'metric': 'rmse',\n",
    "        'force_row_wise': True,\n",
    "        'verbosity': -1,\n",
    "        'random_state': 42,\n",
    "    }\n",
    "\n",
    "    # params = {\n",
    "    #     'objective': 'regression',\n",
    "    #     'metric': 'rmse',\n",
    "    #     'learning_rate': 0.05,\n",
    "    #     'n_estimators': 1000,\n",
    "    #     'max_depth': -1,\n",
    "    #     'num_leaves': study.best_params['num_leaves'],\n",
    "    #     'subsample': study.best_params['subsample'],\n",
    "    #     'colsample_bytree': study.best_params['colsample_bytree'],\n",
    "    #     'force_row_wise': True,\n",
    "    #     'verbosity': -1,\n",
    "    #     'random_state': 42,\n",
    "    # }\n",
    "\n",
    "    for fold_id, (trn_idx, vld_idx) in enumerate(folds.split(X, y)):\n",
    "        print('\\n', '#'*40, f'Fold {fold_id+1} / Fold {folds.n_splits}', '#'*40)\n",
    "        X_trn = X.loc[trn_idx]\n",
    "        y_trn = y.loc[trn_idx]\n",
    "        X_vld = X.loc[vld_idx]\n",
    "        y_vld = y.loc[vld_idx]\n",
    "\n",
    "        model = LGBMRegressor(**params)\n",
    "        model.fit(X_trn, y_trn,\n",
    "                eval_set=[(X_trn, y_trn), (X_vld, y_vld)],\n",
    "#                early_stopping_rounds=100,\n",
    "#                verbose=10\n",
    "                )\n",
    "\n",
    "        vld_pred[vld_idx] = model.predict(X_vld)\n",
    "        tst_pred         += model.predict(X_tst) / folds.n_splits\n",
    "\n",
    "    return vld_pred, tst_pred"
   ]
  },
  {
   "cell_type": "code",
   "execution_count": 580,
   "metadata": {
    "executionInfo": {
     "elapsed": 26,
     "status": "ok",
     "timestamp": 1692675894792,
     "user": {
      "displayName": "Lee Minjik",
      "userId": "03992121075759719709"
     },
     "user_tz": -540
    },
    "id": "qf7ftwvyyGBu"
   },
   "outputs": [],
   "source": [
    "def XGB_Modeling(X, y, X_tst):\n",
    "    folds = KFold(n_splits=5, shuffle=True, random_state=42)\n",
    "    vld_pred = np.zeros(len(X))\n",
    "    tst_pred = np.zeros(len(X_tst))\n",
    "\n",
    "    params = {\n",
    "        'objective': 'reg:squarederror',\n",
    "        'random_state': 42,\n",
    "    }\n",
    "\n",
    "    # params = {\n",
    "    #     'objective': 'reg:squarederror',\n",
    "    #     'tree_method': 'exact',  #exact, approx, hist\n",
    "    #     'learning_rate': 0.05,\n",
    "    #     'n_estimators': 1000,\n",
    "    #     'max_depth': study.best_params['max_depth'],\n",
    "    #     'max_leaves': study.best_params['max_leaves'],\n",
    "    #     'subsample': study.best_params['subsample'],\n",
    "    #     'colsample_bytree': study.best_params['colsample_bytree'],\n",
    "    #     'random_state': 42\n",
    "    # }\n",
    "\n",
    "    for fold_id, (trn_idx, vld_idx) in enumerate(folds.split(X, y)):\n",
    "        print('\\n', '#'*40, f'Fold {fold_id+1} / Fold {folds.n_splits}', '#'*40)\n",
    "        X_trn = X.loc[trn_idx]\n",
    "        y_trn = y.loc[trn_idx]\n",
    "        X_vld = X.loc[vld_idx]\n",
    "        y_vld = y.loc[vld_idx]\n",
    "\n",
    "        model = XGBRegressor(**params)\n",
    "        model.fit(X_trn, y_trn,\n",
    "                eval_set=[(X_trn, y_trn), (X_vld, y_vld)],\n",
    "                eval_metric='rmse',\n",
    "    #             early_stopping_rounds=100,\n",
    "                 verbose=100\n",
    "                )\n",
    "\n",
    "        vld_pred[vld_idx] = model.predict(X_vld)\n",
    "        tst_pred         += model.predict(X_tst) / folds.n_splits\n",
    "\n",
    "    return vld_pred, tst_pred"
   ]
  },
  {
   "cell_type": "code",
   "execution_count": 581,
   "metadata": {
    "executionInfo": {
     "elapsed": 28,
     "status": "ok",
     "timestamp": 1692675894794,
     "user": {
      "displayName": "Lee Minjik",
      "userId": "03992121075759719709"
     },
     "user_tz": -540
    },
    "id": "AMVMmCN35E46"
   },
   "outputs": [],
   "source": [
    "def RF_Modeling(X, y, X_tst):\n",
    "    folds = KFold(n_splits=5, shuffle=True, random_state=42)\n",
    "    vld_pred = np.zeros(len(X))\n",
    "    tst_pred = np.zeros(len(X_tst))\n",
    "\n",
    "    params = {\n",
    "        'random_state': 42,\n",
    "    }\n",
    "\n",
    "    # params = {\n",
    "    #     'n_estimators': 1000,\n",
    "    #     'max_depth': study.best_params['max_depth'],\n",
    "    #     'min_samples_split': study.best_params['min_samples_split'],\n",
    "    #     'min_samples_leaf': study.best_params['min_samples_leaf'],\n",
    "    #     'random_state': 42\n",
    "    # }\n",
    "\n",
    "    for fold_id, (trn_idx, vld_idx) in enumerate(folds.split(X, y)):\n",
    "        print('\\n', '#'*40, f'Fold {fold_id+1} / Fold {folds.n_splits}', '#'*40)\n",
    "        X_trn = X.loc[trn_idx]\n",
    "        y_trn = y.loc[trn_idx]\n",
    "        X_vld = X.loc[vld_idx]\n",
    "        y_vld = y.loc[vld_idx]\n",
    "\n",
    "        model = RandomForestRegressor(**params)\n",
    "        model.fit(X_trn, y_trn)\n",
    "\n",
    "        vld_pred[vld_idx] = model.predict(X_vld)\n",
    "        tst_pred         += model.predict(X_tst) / folds.n_splits\n",
    "\n",
    "    return vld_pred, tst_pred"
   ]
  },
  {
   "cell_type": "code",
   "execution_count": 582,
   "metadata": {
    "executionInfo": {
     "elapsed": 29,
     "status": "ok",
     "timestamp": 1692675894796,
     "user": {
      "displayName": "Lee Minjik",
      "userId": "03992121075759719709"
     },
     "user_tz": -540
    },
    "id": "2LNJD8SEaYY1"
   },
   "outputs": [],
   "source": [
    "def calc_diffs(trn, pred):\n",
    "    fts = ['latitude', 'longitude', 'year', 'week_no', 'emission']\n",
    "    cmp = trn[fts]\n",
    "\n",
    "    cmp['pred'] = pred\n",
    "    cmp['diff'] = cmp.pred - cmp.emission\n",
    "    cmp['diff_abs'] = cmp['diff'].abs()\n",
    "    cmp['diff_sq'] = cmp['diff']**2\n",
    "\n",
    "    sq_sum = cmp.diff_sq.sum()\n",
    "    sq_cnt = cmp.diff_sq.count()\n",
    "    rmse2 = np.sqrt(sq_sum / sq_cnt)\n",
    "\n",
    "    return rmse2, sq_sum"
   ]
  },
  {
   "cell_type": "markdown",
   "metadata": {
    "id": "9gjMKAmq3RGe"
   },
   "source": [
    "## HP Optimization"
   ]
  },
  {
   "cell_type": "code",
   "execution_count": 583,
   "metadata": {
    "colab": {
     "base_uri": "https://localhost:8080/"
    },
    "executionInfo": {
     "elapsed": 1469,
     "status": "ok",
     "timestamp": 1692675896236,
     "user": {
      "displayName": "Lee Minjik",
      "userId": "03992121075759719709"
     },
     "user_tz": -540
    },
    "id": "Y1p5zTSt3VxP",
    "outputId": "5e33e609-3a5f-4ccc-e234-6ad02f077a1f"
   },
   "outputs": [
    {
     "name": "stdout",
     "output_type": "stream",
     "text": [
      "Requirement already satisfied: optuna in /usr/local/lib/python3.10/dist-packages (3.3.0)\n",
      "Requirement already satisfied: alembic>=1.5.0 in /usr/local/lib/python3.10/dist-packages (from optuna) (1.11.3)\n",
      "Requirement already satisfied: cmaes>=0.10.0 in /usr/local/lib/python3.10/dist-packages (from optuna) (0.10.0)\n",
      "Requirement already satisfied: colorlog in /usr/local/lib/python3.10/dist-packages (from optuna) (6.7.0)\n",
      "Requirement already satisfied: numpy in /usr/local/lib/python3.10/dist-packages (from optuna) (1.23.5)\n",
      "Requirement already satisfied: packaging>=20.0 in /usr/local/lib/python3.10/dist-packages (from optuna) (23.1)\n",
      "Requirement already satisfied: sqlalchemy>=1.3.0 in /usr/local/lib/python3.10/dist-packages (from optuna) (2.0.20)\n",
      "Requirement already satisfied: tqdm in /usr/local/lib/python3.10/dist-packages (from optuna) (4.66.1)\n",
      "Requirement already satisfied: PyYAML in /usr/local/lib/python3.10/dist-packages (from optuna) (6.0.1)\n",
      "Requirement already satisfied: Mako in /usr/local/lib/python3.10/dist-packages (from alembic>=1.5.0->optuna) (1.2.4)\n",
      "Requirement already satisfied: typing-extensions>=4 in /usr/local/lib/python3.10/dist-packages (from alembic>=1.5.0->optuna) (4.7.1)\n",
      "Requirement already satisfied: greenlet!=0.4.17 in /usr/local/lib/python3.10/dist-packages (from sqlalchemy>=1.3.0->optuna) (2.0.2)\n",
      "Requirement already satisfied: MarkupSafe>=0.9.2 in /usr/local/lib/python3.10/dist-packages (from Mako->alembic>=1.5.0->optuna) (2.1.3)\n"
     ]
    }
   ],
   "source": [
    "pip install optuna"
   ]
  },
  {
   "cell_type": "code",
   "execution_count": 584,
   "metadata": {
    "executionInfo": {
     "elapsed": 54,
     "status": "ok",
     "timestamp": 1692675896238,
     "user": {
      "displayName": "Lee Minjik",
      "userId": "03992121075759719709"
     },
     "user_tz": -540
    },
    "id": "vgVZGYFr3dPz"
   },
   "outputs": [],
   "source": [
    "import optuna\n",
    "from optuna.samplers import TPESampler"
   ]
  },
  {
   "cell_type": "code",
   "execution_count": 585,
   "metadata": {
    "executionInfo": {
     "elapsed": 54,
     "status": "ok",
     "timestamp": 1692675896240,
     "user": {
      "displayName": "Lee Minjik",
      "userId": "03992121075759719709"
     },
     "user_tz": -540
    },
    "id": "pDkP75eq3tTy"
   },
   "outputs": [],
   "source": [
    "def tuning(trial):\n",
    "    # lgbm_params = {\n",
    "    #     'objective': 'regression',\n",
    "    #     'metric': 'rmse',\n",
    "    #     'learning_rate': 0.1,\n",
    "    #     'n_estimators': 500,\n",
    "    #     'max_depth': -1,\n",
    "    #     'num_leaves': trial.suggest_int(\"num_leaves\", 8, 127),\n",
    "    #     'subsample': trial.suggest_float(\"subsample\", 0.6, 1.0),\n",
    "    #     \"colsample_bytree\": trial.suggest_float(\"colsample_bytree\", 0.6, 1.0),\n",
    "    #     'verbosity': -1,\n",
    "    #     'random_state': 42\n",
    "    # }\n",
    "\n",
    "    # xgb_params = {\n",
    "    #     'objective': 'reg:squarederror',\n",
    "    #     'tree_method': 'exact',   #exact, approx, hist\n",
    "    #     'learning_rate': 0.1,\n",
    "    #     'n_estimators': 300,\n",
    "    #     'max_depth': trial.suggest_int(\"max_depth\", 3, 12),\n",
    "    #     'max_leaves': trial.suggest_int(\"max_leaves\", 64, 1023),\n",
    "    #     'subsample': trial.suggest_float(\"subsample\", 0.6, 1.0),\n",
    "    #     'colsample_bytree': trial.suggest_float(\"colsample_bytree\", 0.6, 1.0),\n",
    "    #     'random_state': 42\n",
    "    # }\n",
    "\n",
    "    # rf_params = {\n",
    "    #     'max_depth': trial.suggest_int('max_depth', 3, 20),\n",
    "    #     'min_samples_split': trial.suggest_int('min_samples_split', 2, 10),\n",
    "    #     'min_samples_leaf': trial.suggest_int('min_samples_leaf', 1, 10),\n",
    "    #     'random_state': 42\n",
    "    # }\n",
    "\n",
    "    model = LGBMRegressor(**lgbm_params)\n",
    "    model = XGBRegressor(**xgb_params)\n",
    "    model = RandomForestRegressor(**rf_params)\n",
    "    score = cross_val_score(model, X, y, scoring=\"neg_root_mean_squared_error\")\n",
    "\n",
    "    return score.mean()"
   ]
  },
  {
   "cell_type": "markdown",
   "metadata": {
    "id": "vhXXMRzUw3sh"
   },
   "source": [
    "## category type"
   ]
  },
  {
   "cell_type": "code",
   "execution_count": 586,
   "metadata": {
    "executionInfo": {
     "elapsed": 56,
     "status": "ok",
     "timestamp": 1692675896243,
     "user": {
      "displayName": "Lee Minjik",
      "userId": "03992121075759719709"
     },
     "user_tz": -540
    },
    "id": "phlAXl6vw_O0"
   },
   "outputs": [],
   "source": [
    "# le = LabelEncoder()\n",
    "# all.country = le.fit_transform(all.country)\n",
    "# all.info()"
   ]
  },
  {
   "cell_type": "code",
   "execution_count": 587,
   "metadata": {
    "colab": {
     "base_uri": "https://localhost:8080/",
     "height": 443
    },
    "executionInfo": {
     "elapsed": 56,
     "status": "ok",
     "timestamp": 1692675896244,
     "user": {
      "displayName": "Lee Minjik",
      "userId": "03992121075759719709"
     },
     "user_tz": -540
    },
    "id": "tbQ7wugbxLbg",
    "outputId": "ea9cc153-6e1e-460f-9f73-d562069df118"
   },
   "outputs": [
    {
     "data": {
      "text/html": [
       "\n",
       "  <div id=\"df-c138d3c2-7973-4842-96bd-8b3b021738e6\" class=\"colab-df-container\">\n",
       "    <div>\n",
       "<style scoped>\n",
       "    .dataframe tbody tr th:only-of-type {\n",
       "        vertical-align: middle;\n",
       "    }\n",
       "\n",
       "    .dataframe tbody tr th {\n",
       "        vertical-align: top;\n",
       "    }\n",
       "\n",
       "    .dataframe thead th {\n",
       "        text-align: right;\n",
       "    }\n",
       "</style>\n",
       "<table border=\"1\" class=\"dataframe\">\n",
       "  <thead>\n",
       "    <tr style=\"text-align: right;\">\n",
       "      <th></th>\n",
       "      <th>ID_LAT_LON_YEAR_WEEK</th>\n",
       "      <th>latitude</th>\n",
       "      <th>longitude</th>\n",
       "      <th>year</th>\n",
       "      <th>week_no</th>\n",
       "      <th>emission</th>\n",
       "      <th>weekth</th>\n",
       "      <th>loc_group</th>\n",
       "      <th>loc_avg_all</th>\n",
       "      <th>loc_max_week</th>\n",
       "      <th>c_Congo</th>\n",
       "      <th>c_Rwanda</th>\n",
       "      <th>c_Tanzania</th>\n",
       "      <th>c_Uganda</th>\n",
       "    </tr>\n",
       "  </thead>\n",
       "  <tbody>\n",
       "    <tr>\n",
       "      <th>0</th>\n",
       "      <td>ID_-0.510_29.290_2019_00</td>\n",
       "      <td>-0.510</td>\n",
       "      <td>29.290</td>\n",
       "      <td>2019</td>\n",
       "      <td>0</td>\n",
       "      <td>3.750994</td>\n",
       "      <td>0</td>\n",
       "      <td>Normal</td>\n",
       "      <td>4.272966</td>\n",
       "      <td>3.753601</td>\n",
       "      <td>1</td>\n",
       "      <td>0</td>\n",
       "      <td>0</td>\n",
       "      <td>0</td>\n",
       "    </tr>\n",
       "    <tr>\n",
       "      <th>1</th>\n",
       "      <td>ID_-0.510_29.290_2019_01</td>\n",
       "      <td>-0.510</td>\n",
       "      <td>29.290</td>\n",
       "      <td>2019</td>\n",
       "      <td>1</td>\n",
       "      <td>4.025176</td>\n",
       "      <td>1</td>\n",
       "      <td>Normal</td>\n",
       "      <td>4.272966</td>\n",
       "      <td>4.051966</td>\n",
       "      <td>1</td>\n",
       "      <td>0</td>\n",
       "      <td>0</td>\n",
       "      <td>0</td>\n",
       "    </tr>\n",
       "    <tr>\n",
       "      <th>2</th>\n",
       "      <td>ID_-0.510_29.290_2019_02</td>\n",
       "      <td>-0.510</td>\n",
       "      <td>29.290</td>\n",
       "      <td>2019</td>\n",
       "      <td>2</td>\n",
       "      <td>4.231381</td>\n",
       "      <td>2</td>\n",
       "      <td>Normal</td>\n",
       "      <td>4.272966</td>\n",
       "      <td>4.231381</td>\n",
       "      <td>1</td>\n",
       "      <td>0</td>\n",
       "      <td>0</td>\n",
       "      <td>0</td>\n",
       "    </tr>\n",
       "    <tr>\n",
       "      <th>3</th>\n",
       "      <td>ID_-0.510_29.290_2019_03</td>\n",
       "      <td>-0.510</td>\n",
       "      <td>29.290</td>\n",
       "      <td>2019</td>\n",
       "      <td>3</td>\n",
       "      <td>4.305286</td>\n",
       "      <td>3</td>\n",
       "      <td>Normal</td>\n",
       "      <td>4.272966</td>\n",
       "      <td>4.305286</td>\n",
       "      <td>1</td>\n",
       "      <td>0</td>\n",
       "      <td>0</td>\n",
       "      <td>0</td>\n",
       "    </tr>\n",
       "    <tr>\n",
       "      <th>4</th>\n",
       "      <td>ID_-0.510_29.290_2019_04</td>\n",
       "      <td>-0.510</td>\n",
       "      <td>29.290</td>\n",
       "      <td>2019</td>\n",
       "      <td>4</td>\n",
       "      <td>4.347317</td>\n",
       "      <td>4</td>\n",
       "      <td>Normal</td>\n",
       "      <td>4.272966</td>\n",
       "      <td>4.347317</td>\n",
       "      <td>1</td>\n",
       "      <td>0</td>\n",
       "      <td>0</td>\n",
       "      <td>0</td>\n",
       "    </tr>\n",
       "    <tr>\n",
       "      <th>...</th>\n",
       "      <td>...</td>\n",
       "      <td>...</td>\n",
       "      <td>...</td>\n",
       "      <td>...</td>\n",
       "      <td>...</td>\n",
       "      <td>...</td>\n",
       "      <td>...</td>\n",
       "      <td>...</td>\n",
       "      <td>...</td>\n",
       "      <td>...</td>\n",
       "      <td>...</td>\n",
       "      <td>...</td>\n",
       "      <td>...</td>\n",
       "      <td>...</td>\n",
       "    </tr>\n",
       "    <tr>\n",
       "      <th>103371</th>\n",
       "      <td>ID_-3.299_30.301_2022_44</td>\n",
       "      <td>-3.299</td>\n",
       "      <td>30.301</td>\n",
       "      <td>2022</td>\n",
       "      <td>44</td>\n",
       "      <td>NaN</td>\n",
       "      <td>203</td>\n",
       "      <td>Normal</td>\n",
       "      <td>27.633301</td>\n",
       "      <td>30.327420</td>\n",
       "      <td>0</td>\n",
       "      <td>0</td>\n",
       "      <td>0</td>\n",
       "      <td>0</td>\n",
       "    </tr>\n",
       "    <tr>\n",
       "      <th>103372</th>\n",
       "      <td>ID_-3.299_30.301_2022_45</td>\n",
       "      <td>-3.299</td>\n",
       "      <td>30.301</td>\n",
       "      <td>2022</td>\n",
       "      <td>45</td>\n",
       "      <td>NaN</td>\n",
       "      <td>204</td>\n",
       "      <td>Normal</td>\n",
       "      <td>27.633301</td>\n",
       "      <td>30.811167</td>\n",
       "      <td>0</td>\n",
       "      <td>0</td>\n",
       "      <td>0</td>\n",
       "      <td>0</td>\n",
       "    </tr>\n",
       "    <tr>\n",
       "      <th>103373</th>\n",
       "      <td>ID_-3.299_30.301_2022_46</td>\n",
       "      <td>-3.299</td>\n",
       "      <td>30.301</td>\n",
       "      <td>2022</td>\n",
       "      <td>46</td>\n",
       "      <td>NaN</td>\n",
       "      <td>205</td>\n",
       "      <td>Normal</td>\n",
       "      <td>27.633301</td>\n",
       "      <td>31.162886</td>\n",
       "      <td>0</td>\n",
       "      <td>0</td>\n",
       "      <td>0</td>\n",
       "      <td>0</td>\n",
       "    </tr>\n",
       "    <tr>\n",
       "      <th>103374</th>\n",
       "      <td>ID_-3.299_30.301_2022_47</td>\n",
       "      <td>-3.299</td>\n",
       "      <td>30.301</td>\n",
       "      <td>2022</td>\n",
       "      <td>47</td>\n",
       "      <td>NaN</td>\n",
       "      <td>206</td>\n",
       "      <td>Normal</td>\n",
       "      <td>27.633301</td>\n",
       "      <td>31.439606</td>\n",
       "      <td>0</td>\n",
       "      <td>0</td>\n",
       "      <td>0</td>\n",
       "      <td>0</td>\n",
       "    </tr>\n",
       "    <tr>\n",
       "      <th>103375</th>\n",
       "      <td>ID_-3.299_30.301_2022_48</td>\n",
       "      <td>-3.299</td>\n",
       "      <td>30.301</td>\n",
       "      <td>2022</td>\n",
       "      <td>48</td>\n",
       "      <td>NaN</td>\n",
       "      <td>207</td>\n",
       "      <td>Normal</td>\n",
       "      <td>27.633301</td>\n",
       "      <td>29.944366</td>\n",
       "      <td>0</td>\n",
       "      <td>0</td>\n",
       "      <td>0</td>\n",
       "      <td>0</td>\n",
       "    </tr>\n",
       "  </tbody>\n",
       "</table>\n",
       "<p>103376 rows × 14 columns</p>\n",
       "</div>\n",
       "    <div class=\"colab-df-buttons\">\n",
       "\n",
       "  <div class=\"colab-df-container\">\n",
       "    <button class=\"colab-df-convert\" onclick=\"convertToInteractive('df-c138d3c2-7973-4842-96bd-8b3b021738e6')\"\n",
       "            title=\"Convert this dataframe to an interactive table.\"\n",
       "            style=\"display:none;\">\n",
       "\n",
       "  <svg xmlns=\"http://www.w3.org/2000/svg\" height=\"24px\" viewBox=\"0 -960 960 960\">\n",
       "    <path d=\"M120-120v-720h720v720H120Zm60-500h600v-160H180v160Zm220 220h160v-160H400v160Zm0 220h160v-160H400v160ZM180-400h160v-160H180v160Zm440 0h160v-160H620v160ZM180-180h160v-160H180v160Zm440 0h160v-160H620v160Z\"/>\n",
       "  </svg>\n",
       "    </button>\n",
       "\n",
       "  <style>\n",
       "    .colab-df-container {\n",
       "      display:flex;\n",
       "      gap: 12px;\n",
       "    }\n",
       "\n",
       "    .colab-df-convert {\n",
       "      background-color: #E8F0FE;\n",
       "      border: none;\n",
       "      border-radius: 50%;\n",
       "      cursor: pointer;\n",
       "      display: none;\n",
       "      fill: #1967D2;\n",
       "      height: 32px;\n",
       "      padding: 0 0 0 0;\n",
       "      width: 32px;\n",
       "    }\n",
       "\n",
       "    .colab-df-convert:hover {\n",
       "      background-color: #E2EBFA;\n",
       "      box-shadow: 0px 1px 2px rgba(60, 64, 67, 0.3), 0px 1px 3px 1px rgba(60, 64, 67, 0.15);\n",
       "      fill: #174EA6;\n",
       "    }\n",
       "\n",
       "    .colab-df-buttons div {\n",
       "      margin-bottom: 4px;\n",
       "    }\n",
       "\n",
       "    [theme=dark] .colab-df-convert {\n",
       "      background-color: #3B4455;\n",
       "      fill: #D2E3FC;\n",
       "    }\n",
       "\n",
       "    [theme=dark] .colab-df-convert:hover {\n",
       "      background-color: #434B5C;\n",
       "      box-shadow: 0px 1px 3px 1px rgba(0, 0, 0, 0.15);\n",
       "      filter: drop-shadow(0px 1px 2px rgba(0, 0, 0, 0.3));\n",
       "      fill: #FFFFFF;\n",
       "    }\n",
       "  </style>\n",
       "\n",
       "    <script>\n",
       "      const buttonEl =\n",
       "        document.querySelector('#df-c138d3c2-7973-4842-96bd-8b3b021738e6 button.colab-df-convert');\n",
       "      buttonEl.style.display =\n",
       "        google.colab.kernel.accessAllowed ? 'block' : 'none';\n",
       "\n",
       "      async function convertToInteractive(key) {\n",
       "        const element = document.querySelector('#df-c138d3c2-7973-4842-96bd-8b3b021738e6');\n",
       "        const dataTable =\n",
       "          await google.colab.kernel.invokeFunction('convertToInteractive',\n",
       "                                                    [key], {});\n",
       "        if (!dataTable) return;\n",
       "\n",
       "        const docLinkHtml = 'Like what you see? Visit the ' +\n",
       "          '<a target=\"_blank\" href=https://colab.research.google.com/notebooks/data_table.ipynb>data table notebook</a>'\n",
       "          + ' to learn more about interactive tables.';\n",
       "        element.innerHTML = '';\n",
       "        dataTable['output_type'] = 'display_data';\n",
       "        await google.colab.output.renderOutput(dataTable, element);\n",
       "        const docLink = document.createElement('div');\n",
       "        docLink.innerHTML = docLinkHtml;\n",
       "        element.appendChild(docLink);\n",
       "      }\n",
       "    </script>\n",
       "  </div>\n",
       "\n",
       "\n",
       "<div id=\"df-6e0181d3-6d16-493c-a870-d1fc00fbd5e9\">\n",
       "  <button class=\"colab-df-quickchart\" onclick=\"quickchart('df-6e0181d3-6d16-493c-a870-d1fc00fbd5e9')\"\n",
       "            title=\"Suggest charts.\"\n",
       "            style=\"display:none;\">\n",
       "\n",
       "<svg xmlns=\"http://www.w3.org/2000/svg\" height=\"24px\"viewBox=\"0 0 24 24\"\n",
       "     width=\"24px\">\n",
       "    <g>\n",
       "        <path d=\"M19 3H5c-1.1 0-2 .9-2 2v14c0 1.1.9 2 2 2h14c1.1 0 2-.9 2-2V5c0-1.1-.9-2-2-2zM9 17H7v-7h2v7zm4 0h-2V7h2v10zm4 0h-2v-4h2v4z\"/>\n",
       "    </g>\n",
       "</svg>\n",
       "  </button>\n",
       "\n",
       "<style>\n",
       "  .colab-df-quickchart {\n",
       "    background-color: #E8F0FE;\n",
       "    border: none;\n",
       "    border-radius: 50%;\n",
       "    cursor: pointer;\n",
       "    display: none;\n",
       "    fill: #1967D2;\n",
       "    height: 32px;\n",
       "    padding: 0 0 0 0;\n",
       "    width: 32px;\n",
       "  }\n",
       "\n",
       "  .colab-df-quickchart:hover {\n",
       "    background-color: #E2EBFA;\n",
       "    box-shadow: 0px 1px 2px rgba(60, 64, 67, 0.3), 0px 1px 3px 1px rgba(60, 64, 67, 0.15);\n",
       "    fill: #174EA6;\n",
       "  }\n",
       "\n",
       "  [theme=dark] .colab-df-quickchart {\n",
       "    background-color: #3B4455;\n",
       "    fill: #D2E3FC;\n",
       "  }\n",
       "\n",
       "  [theme=dark] .colab-df-quickchart:hover {\n",
       "    background-color: #434B5C;\n",
       "    box-shadow: 0px 1px 3px 1px rgba(0, 0, 0, 0.15);\n",
       "    filter: drop-shadow(0px 1px 2px rgba(0, 0, 0, 0.3));\n",
       "    fill: #FFFFFF;\n",
       "  }\n",
       "</style>\n",
       "\n",
       "  <script>\n",
       "    async function quickchart(key) {\n",
       "      const charts = await google.colab.kernel.invokeFunction(\n",
       "          'suggestCharts', [key], {});\n",
       "    }\n",
       "    (() => {\n",
       "      let quickchartButtonEl =\n",
       "        document.querySelector('#df-6e0181d3-6d16-493c-a870-d1fc00fbd5e9 button');\n",
       "      quickchartButtonEl.style.display =\n",
       "        google.colab.kernel.accessAllowed ? 'block' : 'none';\n",
       "    })();\n",
       "  </script>\n",
       "</div>\n",
       "    </div>\n",
       "  </div>\n"
      ],
      "text/plain": [
       "            ID_LAT_LON_YEAR_WEEK  latitude  longitude  year  week_no  \\\n",
       "0       ID_-0.510_29.290_2019_00    -0.510     29.290  2019        0   \n",
       "1       ID_-0.510_29.290_2019_01    -0.510     29.290  2019        1   \n",
       "2       ID_-0.510_29.290_2019_02    -0.510     29.290  2019        2   \n",
       "3       ID_-0.510_29.290_2019_03    -0.510     29.290  2019        3   \n",
       "4       ID_-0.510_29.290_2019_04    -0.510     29.290  2019        4   \n",
       "...                          ...       ...        ...   ...      ...   \n",
       "103371  ID_-3.299_30.301_2022_44    -3.299     30.301  2022       44   \n",
       "103372  ID_-3.299_30.301_2022_45    -3.299     30.301  2022       45   \n",
       "103373  ID_-3.299_30.301_2022_46    -3.299     30.301  2022       46   \n",
       "103374  ID_-3.299_30.301_2022_47    -3.299     30.301  2022       47   \n",
       "103375  ID_-3.299_30.301_2022_48    -3.299     30.301  2022       48   \n",
       "\n",
       "        emission  weekth loc_group  loc_avg_all  loc_max_week  c_Congo  \\\n",
       "0       3.750994       0    Normal     4.272966      3.753601        1   \n",
       "1       4.025176       1    Normal     4.272966      4.051966        1   \n",
       "2       4.231381       2    Normal     4.272966      4.231381        1   \n",
       "3       4.305286       3    Normal     4.272966      4.305286        1   \n",
       "4       4.347317       4    Normal     4.272966      4.347317        1   \n",
       "...          ...     ...       ...          ...           ...      ...   \n",
       "103371       NaN     203    Normal    27.633301     30.327420        0   \n",
       "103372       NaN     204    Normal    27.633301     30.811167        0   \n",
       "103373       NaN     205    Normal    27.633301     31.162886        0   \n",
       "103374       NaN     206    Normal    27.633301     31.439606        0   \n",
       "103375       NaN     207    Normal    27.633301     29.944366        0   \n",
       "\n",
       "        c_Rwanda  c_Tanzania  c_Uganda  \n",
       "0              0           0         0  \n",
       "1              0           0         0  \n",
       "2              0           0         0  \n",
       "3              0           0         0  \n",
       "4              0           0         0  \n",
       "...          ...         ...       ...  \n",
       "103371         0           0         0  \n",
       "103372         0           0         0  \n",
       "103373         0           0         0  \n",
       "103374         0           0         0  \n",
       "103375         0           0         0  \n",
       "\n",
       "[103376 rows x 14 columns]"
      ]
     },
     "execution_count": 587,
     "metadata": {},
     "output_type": "execute_result"
    }
   ],
   "source": [
    "all = pd.get_dummies(all, columns=['country'], prefix='c', drop_first=True)\n",
    "all"
   ]
  },
  {
   "cell_type": "markdown",
   "metadata": {
    "id": "duMyZ0wEaZlD"
   },
   "source": [
    "## Case 1: Normal"
   ]
  },
  {
   "cell_type": "code",
   "execution_count": 588,
   "metadata": {
    "colab": {
     "base_uri": "https://localhost:8080/"
    },
    "executionInfo": {
     "elapsed": 54,
     "status": "ok",
     "timestamp": 1692675896245,
     "user": {
      "displayName": "Lee Minjik",
      "userId": "03992121075759719709"
     },
     "user_tz": -540
    },
    "id": "2H6PGybGSoJC",
    "outputId": "ec30e733-5f0f-4613-c794-d5d20ad74a9d"
   },
   "outputs": [
    {
     "name": "stdout",
     "output_type": "stream",
     "text": [
      "(76320, 11) (76320,) (23520, 11)\n"
     ]
    }
   ],
   "source": [
    "X, y, X_tst, trn, tst = separate(all[all.loc_group=='Normal'])"
   ]
  },
  {
   "cell_type": "code",
   "execution_count": 589,
   "metadata": {
    "colab": {
     "base_uri": "https://localhost:8080/"
    },
    "executionInfo": {
     "elapsed": 47,
     "status": "ok",
     "timestamp": 1692675896248,
     "user": {
      "displayName": "Lee Minjik",
      "userId": "03992121075759719709"
     },
     "user_tz": -540
    },
    "id": "5dDeaPEaxl3j",
    "outputId": "ef4244e1-9c4b-41b4-f139-bcf2dcc48270"
   },
   "outputs": [
    {
     "name": "stdout",
     "output_type": "stream",
     "text": [
      "<class 'pandas.core.frame.DataFrame'>\n",
      "RangeIndex: 76320 entries, 0 to 76319\n",
      "Data columns (total 11 columns):\n",
      " #   Column        Non-Null Count  Dtype  \n",
      "---  ------        --------------  -----  \n",
      " 0   latitude      76320 non-null  float64\n",
      " 1   longitude     76320 non-null  float64\n",
      " 2   year          76320 non-null  int64  \n",
      " 3   week_no       76320 non-null  int64  \n",
      " 4   weekth        76320 non-null  int64  \n",
      " 5   loc_avg_all   76320 non-null  float64\n",
      " 6   loc_max_week  76320 non-null  float64\n",
      " 7   c_Congo       76320 non-null  uint8  \n",
      " 8   c_Rwanda      76320 non-null  uint8  \n",
      " 9   c_Tanzania    76320 non-null  uint8  \n",
      " 10  c_Uganda      76320 non-null  uint8  \n",
      "dtypes: float64(4), int64(3), uint8(4)\n",
      "memory usage: 4.4 MB\n"
     ]
    }
   ],
   "source": [
    "X.info()"
   ]
  },
  {
   "cell_type": "code",
   "execution_count": 590,
   "metadata": {
    "colab": {
     "base_uri": "https://localhost:8080/"
    },
    "executionInfo": {
     "elapsed": 45,
     "status": "ok",
     "timestamp": 1692675896249,
     "user": {
      "displayName": "Lee Minjik",
      "userId": "03992121075759719709"
     },
     "user_tz": -540
    },
    "id": "ADv387pq8m8c",
    "outputId": "1cba3732-ee1a-4e89-a1df-b4ddba254028"
   },
   "outputs": [
    {
     "data": {
      "text/plain": [
       "latitude        0\n",
       "longitude       0\n",
       "year            0\n",
       "week_no         0\n",
       "weekth          0\n",
       "loc_avg_all     0\n",
       "loc_max_week    0\n",
       "c_Congo         0\n",
       "c_Rwanda        0\n",
       "c_Tanzania      0\n",
       "c_Uganda        0\n",
       "dtype: int64"
      ]
     },
     "execution_count": 590,
     "metadata": {},
     "output_type": "execute_result"
    }
   ],
   "source": [
    "X_tst.isna().sum()"
   ]
  },
  {
   "cell_type": "code",
   "execution_count": 591,
   "metadata": {
    "executionInfo": {
     "elapsed": 43,
     "status": "ok",
     "timestamp": 1692675896251,
     "user": {
      "displayName": "Lee Minjik",
      "userId": "03992121075759719709"
     },
     "user_tz": -540
    },
    "id": "W6BD7SYsx2q0"
   },
   "outputs": [],
   "source": [
    "# %%time\n",
    "\n",
    "# sampler = TPESampler(seed=42)\n",
    "# study = optuna.create_study(\n",
    "#     study_name=\"parameter_opt\",\n",
    "#     direction=\"maximize\",\n",
    "#     sampler=sampler\n",
    "# )\n",
    "\n",
    "# study.optimize(tuning, n_trials=10)\n",
    "# #study.optimize(tuning, n_trials=10, timeout=6000)\n",
    "\n",
    "# print(\"Best Score:\", study.best_value)\n",
    "# print(study.best_params)"
   ]
  },
  {
   "cell_type": "code",
   "execution_count": 592,
   "metadata": {
    "colab": {
     "base_uri": "https://localhost:8080/"
    },
    "executionInfo": {
     "elapsed": 168347,
     "status": "ok",
     "timestamp": 1692676064556,
     "user": {
      "displayName": "Lee Minjik",
      "userId": "03992121075759719709"
     },
     "user_tz": -540
    },
    "id": "b3uW6iMFWxcz",
    "outputId": "7159541d-7ac4-4fce-81c2-f8dd83ac5ea2"
   },
   "outputs": [
    {
     "name": "stdout",
     "output_type": "stream",
     "text": [
      "\n",
      " ######################################## Fold 1 / Fold 5 ########################################\n",
      "\n",
      " ######################################## Fold 2 / Fold 5 ########################################\n",
      "\n",
      " ######################################## Fold 3 / Fold 5 ########################################\n",
      "\n",
      " ######################################## Fold 4 / Fold 5 ########################################\n",
      "\n",
      " ######################################## Fold 5 / Fold 5 ########################################\n",
      "\n",
      " ######################################## Fold 1 / Fold 5 ########################################\n",
      "[0]\tvalidation_0-rmse:81.91642\tvalidation_1-rmse:82.85721\n",
      "[99]\tvalidation_0-rmse:2.98469\tvalidation_1-rmse:4.73351\n",
      "\n",
      " ######################################## Fold 2 / Fold 5 ########################################\n",
      "[0]\tvalidation_0-rmse:82.27247\tvalidation_1-rmse:81.46524\n",
      "[99]\tvalidation_0-rmse:3.03092\tvalidation_1-rmse:4.61175\n",
      "\n",
      " ######################################## Fold 3 / Fold 5 ########################################\n",
      "[0]\tvalidation_0-rmse:82.14131\tvalidation_1-rmse:82.04684\n",
      "[99]\tvalidation_0-rmse:3.01040\tvalidation_1-rmse:4.87874\n",
      "\n",
      " ######################################## Fold 4 / Fold 5 ########################################\n",
      "[0]\tvalidation_0-rmse:82.23073\tvalidation_1-rmse:81.65622\n",
      "[99]\tvalidation_0-rmse:3.01267\tvalidation_1-rmse:4.39050\n",
      "\n",
      " ######################################## Fold 5 / Fold 5 ########################################\n",
      "[0]\tvalidation_0-rmse:82.03857\tvalidation_1-rmse:82.57678\n",
      "[99]\tvalidation_0-rmse:3.09759\tvalidation_1-rmse:4.29590\n",
      "\n",
      " ######################################## Fold 1 / Fold 5 ########################################\n",
      "\n",
      " ######################################## Fold 2 / Fold 5 ########################################\n",
      "\n",
      " ######################################## Fold 3 / Fold 5 ########################################\n",
      "\n",
      " ######################################## Fold 4 / Fold 5 ########################################\n",
      "\n",
      " ######################################## Fold 5 / Fold 5 ########################################\n",
      "CPU times: user 2min 55s, sys: 459 ms, total: 2min 56s\n",
      "Wall time: 2min 48s\n"
     ]
    }
   ],
   "source": [
    "%%time\n",
    "\n",
    "vld_pred_NL, tst_pred_NL = LGBM_Modeling(X, y, X_tst)\n",
    "vld_pred_NX, tst_pred_NX = XGB_Modeling(X, y, X_tst)\n",
    "vld_pred_NR, tst_pred_NR = RF_Modeling(X, y, X_tst)"
   ]
  },
  {
   "cell_type": "code",
   "execution_count": 593,
   "metadata": {
    "executionInfo": {
     "elapsed": 40,
     "status": "ok",
     "timestamp": 1692676064557,
     "user": {
      "displayName": "Lee Minjik",
      "userId": "03992121075759719709"
     },
     "user_tz": -540
    },
    "id": "VYymnGTTJMP0"
   },
   "outputs": [],
   "source": [
    "# vld_pred_N = vld_pred_NR\n",
    "# tst_pred_N = tst_pred_NR\n",
    "vld_pred_N = 0.5*vld_pred_NL + 0.5*vld_pred_NR\n",
    "tst_pred_N = 0.5*tst_pred_NL + 0.5*tst_pred_NR"
   ]
  },
  {
   "cell_type": "code",
   "execution_count": 594,
   "metadata": {
    "colab": {
     "base_uri": "https://localhost:8080/"
    },
    "executionInfo": {
     "elapsed": 40,
     "status": "ok",
     "timestamp": 1692676064558,
     "user": {
      "displayName": "Lee Minjik",
      "userId": "03992121075759719709"
     },
     "user_tz": -540
    },
    "id": "nP7_iPYZ1QwS",
    "outputId": "13559b11-1e15-4656-907b-46689792d3a9"
   },
   "outputs": [
    {
     "name": "stdout",
     "output_type": "stream",
     "text": [
      "rmse1: 5.33429\n",
      "rmse2: 5.33429\n",
      "sq_sum: 2171662.16789\n"
     ]
    }
   ],
   "source": [
    "rmse1 = np.sqrt(mean_squared_error(y, vld_pred_N))\n",
    "print(f'rmse1: {rmse1:.5f}')\n",
    "\n",
    "rmse2, sq_sum_N, = calc_diffs(trn, vld_pred_N)\n",
    "print(f'rmse2: {rmse2:.5f}')\n",
    "print(f'sq_sum: {sq_sum_N:.5f}')"
   ]
  },
  {
   "cell_type": "code",
   "execution_count": 595,
   "metadata": {
    "colab": {
     "base_uri": "https://localhost:8080/"
    },
    "executionInfo": {
     "elapsed": 37,
     "status": "ok",
     "timestamp": 1692676064559,
     "user": {
      "displayName": "Lee Minjik",
      "userId": "03992121075759719709"
     },
     "user_tz": -540
    },
    "id": "PjtX1yv-ZtLI",
    "outputId": "7d8cea7a-29f1-4dd7-9655-4102e08333e3"
   },
   "outputs": [
    {
     "name": "stdout",
     "output_type": "stream",
     "text": [
      "sub_df.emission counts: 23520\n"
     ]
    }
   ],
   "source": [
    "prd_df = pd.DataFrame({\n",
    "    'ID_LAT_LON_YEAR_WEEK': tst.ID_LAT_LON_YEAR_WEEK\n",
    "})\n",
    "prd_df['emission'] = tst_pred_N\n",
    "\n",
    "sub_df = pd.DataFrame({\n",
    "    'ID_LAT_LON_YEAR_WEEK': submission.ID_LAT_LON_YEAR_WEEK\n",
    "})\n",
    "sub_df = sub_df.merge(prd_df, on='ID_LAT_LON_YEAR_WEEK', how='left')\n",
    "\n",
    "print(f'sub_df.emission counts: {sub_df.emission.count()}')"
   ]
  },
  {
   "cell_type": "markdown",
   "metadata": {
    "id": "-GlewbSpYrSN"
   },
   "source": [
    "## Case 2: Power"
   ]
  },
  {
   "cell_type": "code",
   "execution_count": 596,
   "metadata": {
    "colab": {
     "base_uri": "https://localhost:8080/"
    },
    "executionInfo": {
     "elapsed": 34,
     "status": "ok",
     "timestamp": 1692676064560,
     "user": {
      "displayName": "Lee Minjik",
      "userId": "03992121075759719709"
     },
     "user_tz": -540
    },
    "id": "4fQNQLzNYuTR",
    "outputId": "ea0afa54-f2f2-4aba-f6cc-83ff514a8cdd"
   },
   "outputs": [
    {
     "name": "stdout",
     "output_type": "stream",
     "text": [
      "(159, 11) (159,) (49, 11)\n"
     ]
    }
   ],
   "source": [
    "X, y, X_tst, trn, tst = separate(all[all.loc_group=='Power'])"
   ]
  },
  {
   "cell_type": "code",
   "execution_count": 597,
   "metadata": {
    "colab": {
     "base_uri": "https://localhost:8080/"
    },
    "executionInfo": {
     "elapsed": 1063,
     "status": "ok",
     "timestamp": 1692676065592,
     "user": {
      "displayName": "Lee Minjik",
      "userId": "03992121075759719709"
     },
     "user_tz": -540
    },
    "id": "G925sXThAMHh",
    "outputId": "f4c7c974-6a5d-461f-ce2c-9c4bd442cdd7"
   },
   "outputs": [
    {
     "name": "stdout",
     "output_type": "stream",
     "text": [
      "\n",
      " ######################################## Fold 1 / Fold 5 ########################################\n",
      "\n",
      " ######################################## Fold 2 / Fold 5 ########################################\n",
      "\n",
      " ######################################## Fold 3 / Fold 5 ########################################\n",
      "\n",
      " ######################################## Fold 4 / Fold 5 ########################################\n",
      "\n",
      " ######################################## Fold 5 / Fold 5 ########################################\n",
      "\n",
      " ######################################## Fold 1 / Fold 5 ########################################\n",
      "[0]\tvalidation_0-rmse:1077.77558\tvalidation_1-rmse:891.96225\n",
      "[99]\tvalidation_0-rmse:0.12849\tvalidation_1-rmse:175.52295\n",
      "\n",
      " ######################################## Fold 2 / Fold 5 ########################################\n",
      "[0]\tvalidation_0-rmse:1066.17494\tvalidation_1-rmse:946.48899\n",
      "[99]\tvalidation_0-rmse:0.14255\tvalidation_1-rmse:27.84883\n",
      "\n",
      " ######################################## Fold 3 / Fold 5 ########################################\n",
      "[0]\tvalidation_0-rmse:1052.54185\tvalidation_1-rmse:1009.67259\n",
      "[99]\tvalidation_0-rmse:0.21425\tvalidation_1-rmse:315.44969\n",
      "\n",
      " ######################################## Fold 4 / Fold 5 ########################################\n",
      "[0]\tvalidation_0-rmse:971.67040\tvalidation_1-rmse:1317.61705\n",
      "[99]\tvalidation_0-rmse:0.30949\tvalidation_1-rmse:115.36153\n",
      "\n",
      " ######################################## Fold 5 / Fold 5 ########################################\n",
      "[0]\tvalidation_0-rmse:1045.52724\tvalidation_1-rmse:1015.21061\n",
      "[99]\tvalidation_0-rmse:0.12556\tvalidation_1-rmse:106.27457\n",
      "\n",
      " ######################################## Fold 1 / Fold 5 ########################################\n",
      "\n",
      " ######################################## Fold 2 / Fold 5 ########################################\n",
      "\n",
      " ######################################## Fold 3 / Fold 5 ########################################\n",
      "\n",
      " ######################################## Fold 4 / Fold 5 ########################################\n",
      "\n",
      " ######################################## Fold 5 / Fold 5 ########################################\n",
      "CPU times: user 1.19 s, sys: 28.9 ms, total: 1.22 s\n",
      "Wall time: 985 ms\n"
     ]
    }
   ],
   "source": [
    "%%time\n",
    "\n",
    "vld_pred_PL, tst_pred_PL = LGBM_Modeling(X, y, X_tst)\n",
    "vld_pred_PX, tst_pred_PX = XGB_Modeling(X, y, X_tst)\n",
    "vld_pred_PR, tst_pred_PR = RF_Modeling(X, y, X_tst)"
   ]
  },
  {
   "cell_type": "code",
   "execution_count": 598,
   "metadata": {
    "executionInfo": {
     "elapsed": 22,
     "status": "ok",
     "timestamp": 1692676065593,
     "user": {
      "displayName": "Lee Minjik",
      "userId": "03992121075759719709"
     },
     "user_tz": -540
    },
    "id": "oATfRTfDi2qf"
   },
   "outputs": [],
   "source": [
    "tmp = trn.copy()\n",
    "tmp.loc[tmp.year==2021, 'emission'] *= 1.07\n",
    "tst_pred_PN = tmp[tmp.week_no<49].groupby('week_no').emission.max()"
   ]
  },
  {
   "cell_type": "code",
   "execution_count": 599,
   "metadata": {
    "executionInfo": {
     "elapsed": 21,
     "status": "ok",
     "timestamp": 1692676065594,
     "user": {
      "displayName": "Lee Minjik",
      "userId": "03992121075759719709"
     },
     "user_tz": -540
    },
    "id": "2n3jO-UX4m4T"
   },
   "outputs": [],
   "source": [
    "# vld_pred_P = vld_pred_PR\n",
    "# tst_pred_P = tst_pred_PR\n",
    "vld_pred_P = vld_pred_PR\n",
    "tst_pred_P = 0.4*tst_pred_PR + 0.6*tst_pred_PN"
   ]
  },
  {
   "cell_type": "code",
   "execution_count": 600,
   "metadata": {
    "colab": {
     "base_uri": "https://localhost:8080/"
    },
    "executionInfo": {
     "elapsed": 21,
     "status": "ok",
     "timestamp": 1692676065595,
     "user": {
      "displayName": "Lee Minjik",
      "userId": "03992121075759719709"
     },
     "user_tz": -540
    },
    "id": "vYb8-FSSB8nr",
    "outputId": "a9ec1bd2-ead0-44bc-8812-fa5429926321"
   },
   "outputs": [
    {
     "name": "stdout",
     "output_type": "stream",
     "text": [
      "rmse1: 133.23500\n",
      "rmse2: 133.23500\n",
      "sq_sum: 2822498.78044\n"
     ]
    }
   ],
   "source": [
    "rmse1 = np.sqrt(mean_squared_error(y, vld_pred_P))\n",
    "print(f'rmse1: {rmse1:.5f}')\n",
    "\n",
    "rmse2, sq_sum_P, = calc_diffs(trn, vld_pred_P)\n",
    "print(f'rmse2: {rmse2:.5f}')\n",
    "print(f'sq_sum: {sq_sum_P:.5f}')"
   ]
  },
  {
   "cell_type": "code",
   "execution_count": 601,
   "metadata": {
    "colab": {
     "base_uri": "https://localhost:8080/"
    },
    "executionInfo": {
     "elapsed": 17,
     "status": "ok",
     "timestamp": 1692676065596,
     "user": {
      "displayName": "Lee Minjik",
      "userId": "03992121075759719709"
     },
     "user_tz": -540
    },
    "id": "Oh9aunHaCRI-",
    "outputId": "1a2b8a9c-4c8f-4561-b360-87237c97b407"
   },
   "outputs": [
    {
     "name": "stdout",
     "output_type": "stream",
     "text": [
      "sub_df.emission counts: 23569\n"
     ]
    }
   ],
   "source": [
    "prd_df = pd.DataFrame({\n",
    "    'ID_LAT_LON_YEAR_WEEK': tst.ID_LAT_LON_YEAR_WEEK\n",
    "})\n",
    "prd_df['emission'] = tst_pred_P\n",
    "\n",
    "for index, row in prd_df.iterrows():\n",
    "    mask = row.ID_LAT_LON_YEAR_WEEK==sub_df.ID_LAT_LON_YEAR_WEEK\n",
    "    sub_df.loc[mask, 'emission'] = row.emission\n",
    "\n",
    "print(f'sub_df.emission counts: {sub_df.emission.count()}')"
   ]
  },
  {
   "cell_type": "markdown",
   "metadata": {
    "id": "obd0uwACs5oA"
   },
   "source": [
    "## Case 3: Coffee"
   ]
  },
  {
   "cell_type": "code",
   "execution_count": 602,
   "metadata": {
    "colab": {
     "base_uri": "https://localhost:8080/"
    },
    "executionInfo": {
     "elapsed": 14,
     "status": "ok",
     "timestamp": 1692676065597,
     "user": {
      "displayName": "Lee Minjik",
      "userId": "03992121075759719709"
     },
     "user_tz": -540
    },
    "id": "4_gJAgZ3E12B",
    "outputId": "f55204d6-ff87-4696-82f7-510ff25b9824"
   },
   "outputs": [
    {
     "name": "stdout",
     "output_type": "stream",
     "text": [
      "(159, 11) (159,) (49, 11)\n"
     ]
    }
   ],
   "source": [
    "X, y, X_tst, trn, tst = separate(all[all.loc_group=='Coffee'])"
   ]
  },
  {
   "cell_type": "code",
   "execution_count": 603,
   "metadata": {
    "colab": {
     "base_uri": "https://localhost:8080/"
    },
    "executionInfo": {
     "elapsed": 1005,
     "status": "ok",
     "timestamp": 1692676066592,
     "user": {
      "displayName": "Lee Minjik",
      "userId": "03992121075759719709"
     },
     "user_tz": -540
    },
    "id": "0NqBVe3cE797",
    "outputId": "f003c6bf-70fb-47b1-a9db-0ec3afe50204"
   },
   "outputs": [
    {
     "name": "stdout",
     "output_type": "stream",
     "text": [
      "\n",
      " ######################################## Fold 1 / Fold 5 ########################################\n",
      "\n",
      " ######################################## Fold 2 / Fold 5 ########################################\n",
      "\n",
      " ######################################## Fold 3 / Fold 5 ########################################\n",
      "\n",
      " ######################################## Fold 4 / Fold 5 ########################################\n",
      "\n",
      " ######################################## Fold 5 / Fold 5 ########################################\n",
      "\n",
      " ######################################## Fold 1 / Fold 5 ########################################\n",
      "[0]\tvalidation_0-rmse:1570.73839\tvalidation_1-rmse:1628.93153\n",
      "[99]\tvalidation_0-rmse:0.29792\tvalidation_1-rmse:78.82887\n",
      "\n",
      " ######################################## Fold 2 / Fold 5 ########################################\n",
      "[0]\tvalidation_0-rmse:1583.71191\tvalidation_1-rmse:1548.01651\n",
      "[99]\tvalidation_0-rmse:0.38155\tvalidation_1-rmse:85.35715\n",
      "\n",
      " ######################################## Fold 3 / Fold 5 ########################################\n",
      "[0]\tvalidation_0-rmse:1579.97682\tvalidation_1-rmse:1571.83845\n",
      "[99]\tvalidation_0-rmse:0.21009\tvalidation_1-rmse:69.51978\n",
      "\n",
      " ######################################## Fold 4 / Fold 5 ########################################\n",
      "[0]\tvalidation_0-rmse:1582.24587\tvalidation_1-rmse:1556.35998\n",
      "[99]\tvalidation_0-rmse:0.39524\tvalidation_1-rmse:74.16351\n",
      "\n",
      " ######################################## Fold 5 / Fold 5 ########################################\n",
      "[0]\tvalidation_0-rmse:1577.06417\tvalidation_1-rmse:1587.82681\n",
      "[99]\tvalidation_0-rmse:0.39971\tvalidation_1-rmse:67.07880\n",
      "\n",
      " ######################################## Fold 1 / Fold 5 ########################################\n",
      "\n",
      " ######################################## Fold 2 / Fold 5 ########################################\n",
      "\n",
      " ######################################## Fold 3 / Fold 5 ########################################\n",
      "\n",
      " ######################################## Fold 4 / Fold 5 ########################################\n",
      "\n",
      " ######################################## Fold 5 / Fold 5 ########################################\n",
      "CPU times: user 1.17 s, sys: 43.8 ms, total: 1.21 s\n",
      "Wall time: 985 ms\n"
     ]
    }
   ],
   "source": [
    "%%time\n",
    "\n",
    "vld_pred_CL, tst_pred_CL = LGBM_Modeling(X, y, X_tst)\n",
    "vld_pred_CX, tst_pred_CX = XGB_Modeling(X, y, X_tst)\n",
    "vld_pred_CR, tst_pred_CR = RF_Modeling(X, y, X_tst)"
   ]
  },
  {
   "cell_type": "code",
   "execution_count": 604,
   "metadata": {
    "executionInfo": {
     "elapsed": 14,
     "status": "ok",
     "timestamp": 1692676066593,
     "user": {
      "displayName": "Lee Minjik",
      "userId": "03992121075759719709"
     },
     "user_tz": -540
    },
    "id": "JVaesbbo88i6"
   },
   "outputs": [],
   "source": [
    "tmp = trn.copy()\n",
    "tmp.loc[all.year==2021, 'emission'] *= 1.07\n",
    "tst_pred_CN = tmp[tmp.week_no<49].groupby('week_no').emission.max()"
   ]
  },
  {
   "cell_type": "code",
   "execution_count": 605,
   "metadata": {
    "executionInfo": {
     "elapsed": 14,
     "status": "ok",
     "timestamp": 1692676066594,
     "user": {
      "displayName": "Lee Minjik",
      "userId": "03992121075759719709"
     },
     "user_tz": -540
    },
    "id": "1mRhY79g8_C9"
   },
   "outputs": [],
   "source": [
    "# vld_pred_C = vld_pred_CR\n",
    "# tst_pred_C = tst_pred_CR\n",
    "vld_pred_C = vld_pred_CL\n",
    "tst_pred_C = 1.0*tst_pred_CN"
   ]
  },
  {
   "cell_type": "code",
   "execution_count": 606,
   "metadata": {
    "colab": {
     "base_uri": "https://localhost:8080/"
    },
    "executionInfo": {
     "elapsed": 621,
     "status": "ok",
     "timestamp": 1692676067202,
     "user": {
      "displayName": "Lee Minjik",
      "userId": "03992121075759719709"
     },
     "user_tz": -540
    },
    "id": "e1u8-LqAFAF2",
    "outputId": "da36dee9-b82d-49b3-9d3a-6e5f75de5449"
   },
   "outputs": [
    {
     "name": "stdout",
     "output_type": "stream",
     "text": [
      "rmse1: 89.15796\n",
      "rmse2: 89.15796\n",
      "sq_sum: 1263913.49552\n"
     ]
    }
   ],
   "source": [
    "rmse1 = np.sqrt(mean_squared_error(y, vld_pred_C))\n",
    "print(f'rmse1: {rmse1:.5f}')\n",
    "\n",
    "rmse2, sq_sum_C, = calc_diffs(trn, vld_pred_C)\n",
    "print(f'rmse2: {rmse2:.5f}')\n",
    "print(f'sq_sum: {sq_sum_C:.5f}')"
   ]
  },
  {
   "cell_type": "code",
   "execution_count": 607,
   "metadata": {
    "colab": {
     "base_uri": "https://localhost:8080/"
    },
    "executionInfo": {
     "elapsed": 50,
     "status": "ok",
     "timestamp": 1692676067205,
     "user": {
      "displayName": "Lee Minjik",
      "userId": "03992121075759719709"
     },
     "user_tz": -540
    },
    "id": "cxct4G8pFPSy",
    "outputId": "ee3694cb-644a-40e0-8dbc-3f9bcc845241"
   },
   "outputs": [
    {
     "name": "stdout",
     "output_type": "stream",
     "text": [
      "sub_df.emission counts: 23618\n"
     ]
    }
   ],
   "source": [
    "prd_df = pd.DataFrame({\n",
    "    'ID_LAT_LON_YEAR_WEEK': tst.ID_LAT_LON_YEAR_WEEK\n",
    "})\n",
    "prd_df['emission'] = tst_pred_C\n",
    "\n",
    "for index, row in prd_df.iterrows():\n",
    "    mask = row.ID_LAT_LON_YEAR_WEEK==sub_df.ID_LAT_LON_YEAR_WEEK\n",
    "    sub_df.loc[mask, 'emission'] = row.emission\n",
    "\n",
    "print(f'sub_df.emission counts: {sub_df.emission.count()}')"
   ]
  },
  {
   "cell_type": "markdown",
   "metadata": {
    "id": "EytYQc0QABlo"
   },
   "source": [
    "## Case 4: EMS_0"
   ]
  },
  {
   "cell_type": "code",
   "execution_count": 608,
   "metadata": {
    "colab": {
     "base_uri": "https://localhost:8080/"
    },
    "executionInfo": {
     "elapsed": 48,
     "status": "ok",
     "timestamp": 1692676067206,
     "user": {
      "displayName": "Lee Minjik",
      "userId": "03992121075759719709"
     },
     "user_tz": -540
    },
    "id": "bxh2deRcIHuv",
    "outputId": "f38469cc-9090-4b40-d935-6302f665e67e"
   },
   "outputs": [
    {
     "name": "stdout",
     "output_type": "stream",
     "text": [
      "sub.emission counts: 24353\n",
      "sub.emission NAN counts: 0\n"
     ]
    }
   ],
   "source": [
    "sub_df.emission = sub_df.emission.fillna(0)\n",
    "\n",
    "print(f'sub.emission counts: {sub_df.emission.count()}')\n",
    "print(f'sub.emission NAN counts: {sub_df.emission.isna().sum()}')"
   ]
  },
  {
   "cell_type": "markdown",
   "metadata": {
    "id": "vtQ59cJp2Daa"
   },
   "source": [
    "## submission"
   ]
  },
  {
   "cell_type": "code",
   "execution_count": 609,
   "metadata": {
    "colab": {
     "base_uri": "https://localhost:8080/"
    },
    "executionInfo": {
     "elapsed": 45,
     "status": "ok",
     "timestamp": 1692676067207,
     "user": {
      "displayName": "Lee Minjik",
      "userId": "03992121075759719709"
     },
     "user_tz": -540
    },
    "id": "YsvN5gu1mkuU",
    "outputId": "98ef0421-73b0-4262-b4a7-a3317cd8e998"
   },
   "outputs": [
    {
     "name": "stdout",
     "output_type": "stream",
     "text": [
      "RMSE(all): 8.89905\n"
     ]
    }
   ],
   "source": [
    "rmse_all = np.sqrt((sq_sum_N + sq_sum_P + sq_sum_C) / train.shape[0])\n",
    "print(f'RMSE(all): {rmse_all:.5f}')"
   ]
  },
  {
   "cell_type": "code",
   "execution_count": 610,
   "metadata": {
    "colab": {
     "base_uri": "https://localhost:8080/",
     "height": 423
    },
    "executionInfo": {
     "elapsed": 43,
     "status": "ok",
     "timestamp": 1692676067208,
     "user": {
      "displayName": "Lee Minjik",
      "userId": "03992121075759719709"
     },
     "user_tz": -540
    },
    "id": "rYgQJgWtLQSb",
    "outputId": "7b88c6b9-960b-44de-e55d-686ad6168e52"
   },
   "outputs": [
    {
     "data": {
      "text/html": [
       "\n",
       "  <div id=\"df-6fd5620d-b756-42ac-9253-00739854e8ce\" class=\"colab-df-container\">\n",
       "    <div>\n",
       "<style scoped>\n",
       "    .dataframe tbody tr th:only-of-type {\n",
       "        vertical-align: middle;\n",
       "    }\n",
       "\n",
       "    .dataframe tbody tr th {\n",
       "        vertical-align: top;\n",
       "    }\n",
       "\n",
       "    .dataframe thead th {\n",
       "        text-align: right;\n",
       "    }\n",
       "</style>\n",
       "<table border=\"1\" class=\"dataframe\">\n",
       "  <thead>\n",
       "    <tr style=\"text-align: right;\">\n",
       "      <th></th>\n",
       "      <th>ID_LAT_LON_YEAR_WEEK</th>\n",
       "      <th>emission</th>\n",
       "    </tr>\n",
       "  </thead>\n",
       "  <tbody>\n",
       "    <tr>\n",
       "      <th>0</th>\n",
       "      <td>ID_-0.510_29.290_2022_00</td>\n",
       "      <td>3.632366</td>\n",
       "    </tr>\n",
       "    <tr>\n",
       "      <th>1</th>\n",
       "      <td>ID_-0.510_29.290_2022_01</td>\n",
       "      <td>4.227810</td>\n",
       "    </tr>\n",
       "    <tr>\n",
       "      <th>2</th>\n",
       "      <td>ID_-0.510_29.290_2022_02</td>\n",
       "      <td>4.382336</td>\n",
       "    </tr>\n",
       "    <tr>\n",
       "      <th>3</th>\n",
       "      <td>ID_-0.510_29.290_2022_03</td>\n",
       "      <td>4.515998</td>\n",
       "    </tr>\n",
       "    <tr>\n",
       "      <th>4</th>\n",
       "      <td>ID_-0.510_29.290_2022_04</td>\n",
       "      <td>4.515350</td>\n",
       "    </tr>\n",
       "    <tr>\n",
       "      <th>...</th>\n",
       "      <td>...</td>\n",
       "      <td>...</td>\n",
       "    </tr>\n",
       "    <tr>\n",
       "      <th>24348</th>\n",
       "      <td>ID_-3.299_30.301_2022_44</td>\n",
       "      <td>29.136067</td>\n",
       "    </tr>\n",
       "    <tr>\n",
       "      <th>24349</th>\n",
       "      <td>ID_-3.299_30.301_2022_45</td>\n",
       "      <td>29.636183</td>\n",
       "    </tr>\n",
       "    <tr>\n",
       "      <th>24350</th>\n",
       "      <td>ID_-3.299_30.301_2022_46</td>\n",
       "      <td>29.643392</td>\n",
       "    </tr>\n",
       "    <tr>\n",
       "      <th>24351</th>\n",
       "      <td>ID_-3.299_30.301_2022_47</td>\n",
       "      <td>29.745833</td>\n",
       "    </tr>\n",
       "    <tr>\n",
       "      <th>24352</th>\n",
       "      <td>ID_-3.299_30.301_2022_48</td>\n",
       "      <td>28.859064</td>\n",
       "    </tr>\n",
       "  </tbody>\n",
       "</table>\n",
       "<p>24353 rows × 2 columns</p>\n",
       "</div>\n",
       "    <div class=\"colab-df-buttons\">\n",
       "\n",
       "  <div class=\"colab-df-container\">\n",
       "    <button class=\"colab-df-convert\" onclick=\"convertToInteractive('df-6fd5620d-b756-42ac-9253-00739854e8ce')\"\n",
       "            title=\"Convert this dataframe to an interactive table.\"\n",
       "            style=\"display:none;\">\n",
       "\n",
       "  <svg xmlns=\"http://www.w3.org/2000/svg\" height=\"24px\" viewBox=\"0 -960 960 960\">\n",
       "    <path d=\"M120-120v-720h720v720H120Zm60-500h600v-160H180v160Zm220 220h160v-160H400v160Zm0 220h160v-160H400v160ZM180-400h160v-160H180v160Zm440 0h160v-160H620v160ZM180-180h160v-160H180v160Zm440 0h160v-160H620v160Z\"/>\n",
       "  </svg>\n",
       "    </button>\n",
       "\n",
       "  <style>\n",
       "    .colab-df-container {\n",
       "      display:flex;\n",
       "      gap: 12px;\n",
       "    }\n",
       "\n",
       "    .colab-df-convert {\n",
       "      background-color: #E8F0FE;\n",
       "      border: none;\n",
       "      border-radius: 50%;\n",
       "      cursor: pointer;\n",
       "      display: none;\n",
       "      fill: #1967D2;\n",
       "      height: 32px;\n",
       "      padding: 0 0 0 0;\n",
       "      width: 32px;\n",
       "    }\n",
       "\n",
       "    .colab-df-convert:hover {\n",
       "      background-color: #E2EBFA;\n",
       "      box-shadow: 0px 1px 2px rgba(60, 64, 67, 0.3), 0px 1px 3px 1px rgba(60, 64, 67, 0.15);\n",
       "      fill: #174EA6;\n",
       "    }\n",
       "\n",
       "    .colab-df-buttons div {\n",
       "      margin-bottom: 4px;\n",
       "    }\n",
       "\n",
       "    [theme=dark] .colab-df-convert {\n",
       "      background-color: #3B4455;\n",
       "      fill: #D2E3FC;\n",
       "    }\n",
       "\n",
       "    [theme=dark] .colab-df-convert:hover {\n",
       "      background-color: #434B5C;\n",
       "      box-shadow: 0px 1px 3px 1px rgba(0, 0, 0, 0.15);\n",
       "      filter: drop-shadow(0px 1px 2px rgba(0, 0, 0, 0.3));\n",
       "      fill: #FFFFFF;\n",
       "    }\n",
       "  </style>\n",
       "\n",
       "    <script>\n",
       "      const buttonEl =\n",
       "        document.querySelector('#df-6fd5620d-b756-42ac-9253-00739854e8ce button.colab-df-convert');\n",
       "      buttonEl.style.display =\n",
       "        google.colab.kernel.accessAllowed ? 'block' : 'none';\n",
       "\n",
       "      async function convertToInteractive(key) {\n",
       "        const element = document.querySelector('#df-6fd5620d-b756-42ac-9253-00739854e8ce');\n",
       "        const dataTable =\n",
       "          await google.colab.kernel.invokeFunction('convertToInteractive',\n",
       "                                                    [key], {});\n",
       "        if (!dataTable) return;\n",
       "\n",
       "        const docLinkHtml = 'Like what you see? Visit the ' +\n",
       "          '<a target=\"_blank\" href=https://colab.research.google.com/notebooks/data_table.ipynb>data table notebook</a>'\n",
       "          + ' to learn more about interactive tables.';\n",
       "        element.innerHTML = '';\n",
       "        dataTable['output_type'] = 'display_data';\n",
       "        await google.colab.output.renderOutput(dataTable, element);\n",
       "        const docLink = document.createElement('div');\n",
       "        docLink.innerHTML = docLinkHtml;\n",
       "        element.appendChild(docLink);\n",
       "      }\n",
       "    </script>\n",
       "  </div>\n",
       "\n",
       "\n",
       "<div id=\"df-9cf85ccd-583a-4a8d-b2f8-3ff11bae6a26\">\n",
       "  <button class=\"colab-df-quickchart\" onclick=\"quickchart('df-9cf85ccd-583a-4a8d-b2f8-3ff11bae6a26')\"\n",
       "            title=\"Suggest charts.\"\n",
       "            style=\"display:none;\">\n",
       "\n",
       "<svg xmlns=\"http://www.w3.org/2000/svg\" height=\"24px\"viewBox=\"0 0 24 24\"\n",
       "     width=\"24px\">\n",
       "    <g>\n",
       "        <path d=\"M19 3H5c-1.1 0-2 .9-2 2v14c0 1.1.9 2 2 2h14c1.1 0 2-.9 2-2V5c0-1.1-.9-2-2-2zM9 17H7v-7h2v7zm4 0h-2V7h2v10zm4 0h-2v-4h2v4z\"/>\n",
       "    </g>\n",
       "</svg>\n",
       "  </button>\n",
       "\n",
       "<style>\n",
       "  .colab-df-quickchart {\n",
       "    background-color: #E8F0FE;\n",
       "    border: none;\n",
       "    border-radius: 50%;\n",
       "    cursor: pointer;\n",
       "    display: none;\n",
       "    fill: #1967D2;\n",
       "    height: 32px;\n",
       "    padding: 0 0 0 0;\n",
       "    width: 32px;\n",
       "  }\n",
       "\n",
       "  .colab-df-quickchart:hover {\n",
       "    background-color: #E2EBFA;\n",
       "    box-shadow: 0px 1px 2px rgba(60, 64, 67, 0.3), 0px 1px 3px 1px rgba(60, 64, 67, 0.15);\n",
       "    fill: #174EA6;\n",
       "  }\n",
       "\n",
       "  [theme=dark] .colab-df-quickchart {\n",
       "    background-color: #3B4455;\n",
       "    fill: #D2E3FC;\n",
       "  }\n",
       "\n",
       "  [theme=dark] .colab-df-quickchart:hover {\n",
       "    background-color: #434B5C;\n",
       "    box-shadow: 0px 1px 3px 1px rgba(0, 0, 0, 0.15);\n",
       "    filter: drop-shadow(0px 1px 2px rgba(0, 0, 0, 0.3));\n",
       "    fill: #FFFFFF;\n",
       "  }\n",
       "</style>\n",
       "\n",
       "  <script>\n",
       "    async function quickchart(key) {\n",
       "      const charts = await google.colab.kernel.invokeFunction(\n",
       "          'suggestCharts', [key], {});\n",
       "    }\n",
       "    (() => {\n",
       "      let quickchartButtonEl =\n",
       "        document.querySelector('#df-9cf85ccd-583a-4a8d-b2f8-3ff11bae6a26 button');\n",
       "      quickchartButtonEl.style.display =\n",
       "        google.colab.kernel.accessAllowed ? 'block' : 'none';\n",
       "    })();\n",
       "  </script>\n",
       "</div>\n",
       "    </div>\n",
       "  </div>\n"
      ],
      "text/plain": [
       "           ID_LAT_LON_YEAR_WEEK   emission\n",
       "0      ID_-0.510_29.290_2022_00   3.632366\n",
       "1      ID_-0.510_29.290_2022_01   4.227810\n",
       "2      ID_-0.510_29.290_2022_02   4.382336\n",
       "3      ID_-0.510_29.290_2022_03   4.515998\n",
       "4      ID_-0.510_29.290_2022_04   4.515350\n",
       "...                         ...        ...\n",
       "24348  ID_-3.299_30.301_2022_44  29.136067\n",
       "24349  ID_-3.299_30.301_2022_45  29.636183\n",
       "24350  ID_-3.299_30.301_2022_46  29.643392\n",
       "24351  ID_-3.299_30.301_2022_47  29.745833\n",
       "24352  ID_-3.299_30.301_2022_48  28.859064\n",
       "\n",
       "[24353 rows x 2 columns]"
      ]
     },
     "execution_count": 610,
     "metadata": {},
     "output_type": "execute_result"
    }
   ],
   "source": [
    "oupt_path = '/content/drive/MyDrive/DS/CO2/oupt/'\n",
    "\n",
    "sub_df.emission = np.maximum(0, sub_df.emission)\n",
    "sub_df.to_csv(oupt_path + 'Ensemble_1.3.csv', index=False)\n",
    "\n",
    "sub_df"
   ]
  },
  {
   "cell_type": "markdown",
   "metadata": {
    "id": "gMVOU31WooXy"
   },
   "source": [
    "# Analysis"
   ]
  },
  {
   "cell_type": "markdown",
   "metadata": {
    "id": "LpZHMWmnyGVn"
   },
   "source": [
    "## Feature Importance"
   ]
  },
  {
   "cell_type": "code",
   "execution_count": 611,
   "metadata": {
    "executionInfo": {
     "elapsed": 42,
     "status": "ok",
     "timestamp": 1692676067209,
     "user": {
      "displayName": "Lee Minjik",
      "userId": "03992121075759719709"
     },
     "user_tz": -540
    },
    "id": "4u-TlOVRor0_"
   },
   "outputs": [],
   "source": [
    "# import lightgbm as lgb\n",
    "\n",
    "# params = {\n",
    "#     'objective': 'regression',\n",
    "#     'metric': 'rmse',\n",
    "#     'random_state': 42,\n",
    "# }\n",
    "# model = LGBMRegressor(**params)\n",
    "# model.fit(X_trn, y_trn,\n",
    "#           eval_set=[(X_trn, y_trn), (X_vld, y_vld)])\n",
    "\n",
    "# lgb.plot_importance(model, importance_type='gain', title='Feature Importance: loss reduction', xlabel='', max_num_features=12)\n",
    "# plt.show\n",
    "\n",
    "# lgb.plot_importance(model, importance_type='split', title='Feature Importance: split contribution count', xlabel='', max_num_features=12)\n",
    "# plt.show"
   ]
  },
  {
   "cell_type": "markdown",
   "metadata": {
    "id": "zMnfcTzcyLyy"
   },
   "source": [
    "## Compare Actual-Valid."
   ]
  },
  {
   "cell_type": "code",
   "execution_count": 612,
   "metadata": {
    "executionInfo": {
     "elapsed": 43,
     "status": "ok",
     "timestamp": 1692676067210,
     "user": {
      "displayName": "Lee Minjik",
      "userId": "03992121075759719709"
     },
     "user_tz": -540
    },
    "id": "PIfGCR6RNfM0"
   },
   "outputs": [],
   "source": [
    "# fts = ['latitude', 'longitude', 'year', 'week_no', 'emission']\n",
    "# cmp = trn[fts]\n",
    "\n",
    "# cmp['pred'] = vld_pred\n",
    "# cmp['diff'] = cmp.pred - cmp.emission\n",
    "# cmp['diff_abs'] = cmp['diff'].abs()\n",
    "# cmp['diff_sq'] = cmp['diff']**2\n",
    "\n",
    "# sq_sum = cmp.diff_sq.sum()\n",
    "# print(f'sq_sum: {sq_sum:.5f}')\n",
    "\n",
    "# sq_cnt = cmp.diff_sq.count()\n",
    "# rmse2 = np.sqrt(sq_sum / sq_cnt)\n",
    "# print(f'rmse2: {rmse2:.5f}')"
   ]
  },
  {
   "cell_type": "code",
   "execution_count": 613,
   "metadata": {
    "executionInfo": {
     "elapsed": 42,
     "status": "ok",
     "timestamp": 1692676067211,
     "user": {
      "displayName": "Lee Minjik",
      "userId": "03992121075759719709"
     },
     "user_tz": -540
    },
    "id": "GkXTHH53Ovvo"
   },
   "outputs": [],
   "source": [
    "# sorted = cmp.sort_values(by='diff_sq')\n",
    "# sorted"
   ]
  },
  {
   "cell_type": "code",
   "execution_count": 614,
   "metadata": {
    "executionInfo": {
     "elapsed": 43,
     "status": "ok",
     "timestamp": 1692676067213,
     "user": {
      "displayName": "Lee Minjik",
      "userId": "03992121075759719709"
     },
     "user_tz": -540
    },
    "id": "YOIML8IyROrf"
   },
   "outputs": [],
   "source": [
    "# df = cmp.groupby(['latitude', 'longitude']).diff_sq.sum().reset_index()\n",
    "# df['ratio'] = df.diff_sq / sq_sum\n",
    "# df = df.sort_values(by='ratio', ascending=False)\n",
    "# df\n",
    "\n",
    "# #print(f'sq_sum: {df.diff_sq.sum():.5f}')\n",
    "# #print(f'ratio_sum: {df.ratio.sum():.5f}')"
   ]
  },
  {
   "cell_type": "markdown",
   "metadata": {
    "id": "BaGUmalTRQIZ"
   },
   "source": [
    "## 2 Special Locations"
   ]
  },
  {
   "cell_type": "code",
   "execution_count": 615,
   "metadata": {
    "executionInfo": {
     "elapsed": 43,
     "status": "ok",
     "timestamp": 1692676067214,
     "user": {
      "displayName": "Lee Minjik",
      "userId": "03992121075759719709"
     },
     "user_tz": -540
    },
    "id": "2la2-mvaPFC-"
   },
   "outputs": [],
   "source": [
    "# cmp['year_week'] = pd.to_datetime((cmp.year * 100 + cmp.week_no).astype('str') + '0', format='%Y%W%w')\n",
    "# cmp1 = cmp[(cmp.latitude==-2.378) & (cmp.longitude==29.222)]\n",
    "# cmp2 = cmp[(cmp.latitude==-2.079) & (cmp.longitude==29.321)]\n",
    "\n",
    "# cmp1"
   ]
  },
  {
   "cell_type": "code",
   "execution_count": 616,
   "metadata": {
    "executionInfo": {
     "elapsed": 44,
     "status": "ok",
     "timestamp": 1692676067215,
     "user": {
      "displayName": "Lee Minjik",
      "userId": "03992121075759719709"
     },
     "user_tz": -540
    },
    "id": "rm4eQLPaQ8y2"
   },
   "outputs": [],
   "source": [
    "# plt.figure(figsize = (10, 5))\n",
    "# plt.title('Emission over Time')\n",
    "# sns.lineplot(x=year_week, y='emission', data=cmp1, label='actual')\n",
    "# sns.lineplot(x=year_week, y='pred', data=cmp1, label='pred')\n",
    "\n",
    "# plt.show()"
   ]
  },
  {
   "cell_type": "code",
   "execution_count": 617,
   "metadata": {
    "executionInfo": {
     "elapsed": 48,
     "status": "ok",
     "timestamp": 1692676067220,
     "user": {
      "displayName": "Lee Minjik",
      "userId": "03992121075759719709"
     },
     "user_tz": -540
    },
    "id": "kq4UnZ_1UuJp"
   },
   "outputs": [],
   "source": [
    "# cmp1.sort_values(by='diff_abs').tail(10)"
   ]
  },
  {
   "cell_type": "code",
   "execution_count": 618,
   "metadata": {
    "executionInfo": {
     "elapsed": 50,
     "status": "ok",
     "timestamp": 1692676067222,
     "user": {
      "displayName": "Lee Minjik",
      "userId": "03992121075759719709"
     },
     "user_tz": -540
    },
    "id": "302KtOOuRvjO"
   },
   "outputs": [],
   "source": [
    "# plt.figure(figsize = (10, 5))\n",
    "# plt.title('Emission over Time')\n",
    "# sns.lineplot(x=year_week, y='emission', data=cmp2, label='actual')\n",
    "# sns.lineplot(x=year_week, y='pred', data=cmp2, label='pred')\n",
    "\n",
    "# plt.show()"
   ]
  },
  {
   "cell_type": "code",
   "execution_count": 619,
   "metadata": {
    "executionInfo": {
     "elapsed": 50,
     "status": "ok",
     "timestamp": 1692676067223,
     "user": {
      "displayName": "Lee Minjik",
      "userId": "03992121075759719709"
     },
     "user_tz": -540
    },
    "id": "X2VQvJLkSrhC"
   },
   "outputs": [],
   "source": [
    "# cmp2.sort_values(by='diff_abs').tail(10)"
   ]
  },
  {
   "cell_type": "markdown",
   "metadata": {
    "id": "EJUAg6nXGHA2"
   },
   "source": [
    "## 추가"
   ]
  },
  {
   "cell_type": "code",
   "execution_count": 620,
   "metadata": {
    "executionInfo": {
     "elapsed": 52,
     "status": "ok",
     "timestamp": 1692676067225,
     "user": {
      "displayName": "Lee Minjik",
      "userId": "03992121075759719709"
     },
     "user_tz": -540
    },
    "id": "l9CTY9GaveXZ"
   },
   "outputs": [],
   "source": [
    "# fig = go.Figure()\n",
    "\n",
    "# models = ['Actual', 'LGBM', 'XGB', 'RF']\n",
    "# colors = ['Yellow', 'Red', 'Orange', 'LimeGreen']\n",
    "\n",
    "# for i, models in enumerate(countries):\n",
    "#     country_data = all_n[(all_n.year<2022) & (all_n.country==country)].groupby('weekth').emission.mean().reset_index()\n",
    "\n",
    "#     fig.add_trace(go.Scatter(\n",
    "#         x=year_week,\n",
    "#         y=country_data.emission,\n",
    "#         mode='lines',\n",
    "#         name=country,\n",
    "#         line=dict(color=colors[i])))\n",
    "\n",
    "# fig.update_layout(\n",
    "#     title='Average CO2 Emissions by Country',\n",
    "#     template='plotly_dark')\n",
    "\n",
    "# fig.show()"
   ]
  },
  {
   "cell_type": "code",
   "execution_count": 621,
   "metadata": {
    "executionInfo": {
     "elapsed": 52,
     "status": "ok",
     "timestamp": 1692676067226,
     "user": {
      "displayName": "Lee Minjik",
      "userId": "03992121075759719709"
     },
     "user_tz": -540
    },
    "id": "eCqd9F3fxFJt"
   },
   "outputs": [],
   "source": [
    "# def graph_emission_by_time(df, time):\n",
    "#     fig = go.Figure()\n",
    "\n",
    "#     ems = df.groupby(['year', time]).emission.mean()\n",
    "#     years = [2019, 2020, 2021]\n",
    "#     colors = ['Green', 'Red', 'Yellow']\n",
    "\n",
    "#     for year, color in zip(years, colors):\n",
    "#         fig.add_trace(go.Scatter(\n",
    "#             x=ems.loc[year].index.astype('str'),\n",
    "#             y=ems.loc[year],\n",
    "#             mode='lines',\n",
    "#             name=f'CO2 Emission in {year}',\n",
    "#             line=dict(color=color)))\n",
    "\n",
    "#     fig.update_layout(\n",
    "#         title_text='Average CO2 Emissions across Year',\n",
    "#         template='plotly_dark')\n",
    "\n",
    "#     fig.show()"
   ]
  },
  {
   "cell_type": "code",
   "execution_count": 622,
   "metadata": {
    "executionInfo": {
     "elapsed": 54,
     "status": "ok",
     "timestamp": 1692676067228,
     "user": {
      "displayName": "Lee Minjik",
      "userId": "03992121075759719709"
     },
     "user_tz": -540
    },
    "id": "oH4BQX0rx1kp"
   },
   "outputs": [],
   "source": [
    "# year_week = pd.to_datetime((train.year * 100 + train.week_no).astype('str') + '0', format='%Y%W%w')\n",
    "\n",
    "# plt.figure(figsize=(10,5))\n",
    "# plt.title('Emission over Time')\n",
    "# sns.lineplot(x=year_week, y='emission', data=train, errorbar=None)\n",
    "\n",
    "# plt.show()"
   ]
  },
  {
   "cell_type": "code",
   "execution_count": 623,
   "metadata": {
    "executionInfo": {
     "elapsed": 54,
     "status": "ok",
     "timestamp": 1692676067229,
     "user": {
      "displayName": "Lee Minjik",
      "userId": "03992121075759719709"
     },
     "user_tz": -540
    },
    "id": "4hQ7BIuUx7Ko"
   },
   "outputs": [],
   "source": [
    "# cmp = trn[['year', 'week_no']]\n",
    "# yw = pd.to_datetime((cmp.year * 100 + cmp.week_no).astype('str') + '0', format='%Y%W%w')\n",
    "# cmp['year_week'] = yw\n",
    "\n",
    "# cmp['emission'] = trn.emission\n",
    "# cmp['lgbm'] = vld_pred_l\n",
    "# cmp['xgb'] = vld_pred_x\n",
    "# cmp['rf'] = vld_pred_r\n",
    "\n",
    "# cmp"
   ]
  },
  {
   "cell_type": "code",
   "execution_count": 624,
   "metadata": {
    "executionInfo": {
     "elapsed": 55,
     "status": "ok",
     "timestamp": 1692676067230,
     "user": {
      "displayName": "Lee Minjik",
      "userId": "03992121075759719709"
     },
     "user_tz": -540
    },
    "id": "xbl9rI52zqeP"
   },
   "outputs": [],
   "source": [
    "# plt.figure(figsize=(10,5))\n",
    "# plt.title('Emission over Time')\n",
    "# sns.lineplot(x='year_week', y='emission', data=cmp, errorbar=None)\n",
    "# sns.lineplot(x='year_week', y='lgbm', data=cmp, errorbar=None)\n",
    "# sns.lineplot(x='year_week', y='xgb', data=cmp, errorbar=None)\n",
    "# sns.lineplot(x='year_week', y='rf', data=cmp, errorbar=None)\n",
    "\n",
    "# plt.show()"
   ]
  },
  {
   "cell_type": "code",
   "execution_count": 625,
   "metadata": {
    "executionInfo": {
     "elapsed": 57,
     "status": "ok",
     "timestamp": 1692676067233,
     "user": {
      "displayName": "Lee Minjik",
      "userId": "03992121075759719709"
     },
     "user_tz": -540
    },
    "id": "pwiGVsFy3T-O"
   },
   "outputs": [],
   "source": [
    "# import plotly.express as px\n",
    "# import pandas as pd\n",
    "\n",
    "# # Calculate the mean values by year_week\n",
    "# mean_values = cmp.groupby('year_week', as_index=False).mean()\n",
    "\n",
    "# # Create a figure\n",
    "# fig = px.line(mean_values, x='year_week', y=['emission', 'lgbm', 'xgb', 'rf'])\n",
    "\n",
    "# # Customize the figure layout\n",
    "# fig.update_layout(\n",
    "#     title='Average Emission over Time',\n",
    "#     xaxis_title='Year Week',\n",
    "#     yaxis_title='Average Value',\n",
    "#     template='plotly',\n",
    "#     width=800,\n",
    "#     height=400\n",
    "# )\n",
    "\n",
    "# # Show the figure\n",
    "# fig.show()"
   ]
  }
 ],
 "metadata": {
  "colab": {
   "collapsed_sections": [
    "rWGRVx_ewvV8",
    "C-lLcyxR75n0"
   ],
   "provenance": [
    {
     "file_id": "1w95tkuBYlCO0zH9eGWzhh_TiddGu7hgl",
     "timestamp": 1690187677232
    }
   ],
   "toc_visible": true
  },
  "kernelspec": {
   "display_name": "Python 3 (ipykernel)",
   "language": "python",
   "name": "python3"
  },
  "language_info": {
   "codemirror_mode": {
    "name": "ipython",
    "version": 3
   },
   "file_extension": ".py",
   "mimetype": "text/x-python",
   "name": "python",
   "nbconvert_exporter": "python",
   "pygments_lexer": "ipython3",
   "version": "3.9.13"
  }
 },
 "nbformat": 4,
 "nbformat_minor": 4
}
