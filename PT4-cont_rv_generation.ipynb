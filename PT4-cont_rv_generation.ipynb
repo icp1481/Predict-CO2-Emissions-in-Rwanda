{
 "cells": [
  {
   "cell_type": "markdown",
   "metadata": {
    "id": "_qbZry82AaUt"
   },
   "source": [
    "Import modules"
   ]
  },
  {
   "cell_type": "code",
   "execution_count": 2,
   "metadata": {
    "executionInfo": {
     "elapsed": 1461,
     "status": "ok",
     "timestamp": 1663041851754,
     "user": {
      "displayName": "Seungki Min",
      "userId": "14525492506736966203"
     },
     "user_tz": -540
    },
    "id": "-s4-AcOUAQhH"
   },
   "outputs": [],
   "source": [
    "import numpy as np\n",
    "import scipy.stats\n",
    "from matplotlib import pyplot"
   ]
  },
  {
   "cell_type": "markdown",
   "metadata": {
    "id": "DSQIEEqUAf98"
   },
   "source": [
    "# 1. Uniform random variable"
   ]
  },
  {
   "cell_type": "markdown",
   "metadata": {
    "id": "rdxH7do6A0eL"
   },
   "source": [
    "Generate $\\text{Uniform}(0,1)$ random variables:"
   ]
  },
  {
   "cell_type": "code",
   "execution_count": null,
   "metadata": {
    "colab": {
     "base_uri": "https://localhost:8080/"
    },
    "executionInfo": {
     "elapsed": 439,
     "status": "ok",
     "timestamp": 1662995852955,
     "user": {
      "displayName": "Seungki Min",
      "userId": "14525492506736966203"
     },
     "user_tz": -540
    },
    "id": "uS-pHyXAAz8c",
    "outputId": "50eded6a-8595-455f-b94a-fd9e26addb4c"
   },
   "outputs": [
    {
     "data": {
      "text/plain": [
       "array([0.39947886, 0.44263175, 0.1666673 , 0.60608292, 0.08129213,\n",
       "       0.29164871, 0.04763335, 0.25659916, 0.89474312, 0.24376516])"
      ]
     },
     "execution_count": 6,
     "metadata": {},
     "output_type": "execute_result"
    }
   ],
   "source": [
    "scipy.stats.uniform.rvs(size=10)"
   ]
  },
  {
   "cell_type": "markdown",
   "metadata": {
    "id": "44jiDmHfA8Ua"
   },
   "source": [
    "Generate $\\text{Uniform}(a,b)$ using $\\text{Uniform}(0,1)$:"
   ]
  },
  {
   "cell_type": "code",
   "execution_count": null,
   "metadata": {
    "colab": {
     "base_uri": "https://localhost:8080/"
    },
    "executionInfo": {
     "elapsed": 355,
     "status": "ok",
     "timestamp": 1662995857433,
     "user": {
      "displayName": "Seungki Min",
      "userId": "14525492506736966203"
     },
     "user_tz": -540
    },
    "id": "hgty4ryxAZ4I",
    "outputId": "b9fccc2a-2a2b-4796-c680-995e70c33f76"
   },
   "outputs": [
    {
     "data": {
      "text/plain": [
       "array([7.03600635, 7.33394999, 7.82803098, 4.1776628 , 7.90794073,\n",
       "       5.04070438, 7.66171485, 7.62156055, 4.68929616, 6.2876807 ])"
      ]
     },
     "execution_count": 7,
     "metadata": {},
     "output_type": "execute_result"
    }
   ],
   "source": [
    "a, b = 4, 8\n",
    "a + (b-a) * scipy.stats.uniform.rvs(size=10)"
   ]
  },
  {
   "cell_type": "markdown",
   "metadata": {
    "id": "P5S3cTH9Q_xO"
   },
   "source": [
    "Generate $\\text{Uniform}(a,b)$ using location & scale parameters"
   ]
  },
  {
   "cell_type": "code",
   "execution_count": null,
   "metadata": {
    "colab": {
     "base_uri": "https://localhost:8080/"
    },
    "executionInfo": {
     "elapsed": 1,
     "status": "ok",
     "timestamp": 1662996068701,
     "user": {
      "displayName": "Seungki Min",
      "userId": "14525492506736966203"
     },
     "user_tz": -540
    },
    "id": "HjZLPx07RQzs",
    "outputId": "6d88f346-0c2a-46ce-c87c-af0cb3cffbed"
   },
   "outputs": [
    {
     "data": {
      "text/plain": [
       "array([6.97279011, 7.94256165, 7.86172312, 6.83662972, 5.06726613,\n",
       "       4.36448781, 6.0984731 , 7.48334644, 7.21005135, 7.03790431])"
      ]
     },
     "execution_count": 13,
     "metadata": {},
     "output_type": "execute_result"
    }
   ],
   "source": [
    "scipy.stats.uniform.rvs(a, b-a, size=10)"
   ]
  },
  {
   "cell_type": "markdown",
   "metadata": {
    "id": "HaHyhnvpRn9V"
   },
   "source": [
    "Compute mean and variance of $\\text{Uniform}(a,b)$"
   ]
  },
  {
   "cell_type": "code",
   "execution_count": null,
   "metadata": {
    "colab": {
     "base_uri": "https://localhost:8080/"
    },
    "executionInfo": {
     "elapsed": 550,
     "status": "ok",
     "timestamp": 1662996064837,
     "user": {
      "displayName": "Seungki Min",
      "userId": "14525492506736966203"
     },
     "user_tz": -540
    },
    "id": "rBqxl-IrSBs5",
    "outputId": "e9ecb936-9dd8-4583-b1c6-5346438d4243"
   },
   "outputs": [
    {
     "name": "stdout",
     "output_type": "stream",
     "text": [
      "sample minimum = 4.000433, minimum = 4.000000\n",
      "sample maximum = 7.999751, maximum = 8.000000\n",
      "sample average = 5.996541, mean = 6.000000\n",
      "sample variance = 1.339258, variance = 1.333333\n"
     ]
    }
   ],
   "source": [
    "Xs = scipy.stats.uniform.rvs(a, b-a, size=10000 )\n",
    "print( \"sample minimum = %f, minimum = %f\" % ( Xs.min(), a ) )\n",
    "print( \"sample maximum = %f, maximum = %f\" % ( Xs.max(), b ) )\n",
    "print( \"sample average = %f, mean = %f\" % ( Xs.mean(), (a+b)/2 ) )\n",
    "print( \"sample variance = %f, variance = %f\" % ( Xs.var(), (b-a)**2/12) )"
   ]
  },
  {
   "cell_type": "markdown",
   "metadata": {
    "id": "DvnGSxOiS0Dv"
   },
   "source": [
    "Plot histogram and pdf:"
   ]
  },
  {
   "cell_type": "code",
   "execution_count": null,
   "metadata": {
    "colab": {
     "base_uri": "https://localhost:8080/",
     "height": 283
    },
    "executionInfo": {
     "elapsed": 739,
     "status": "ok",
     "timestamp": 1662996212213,
     "user": {
      "displayName": "Seungki Min",
      "userId": "14525492506736966203"
     },
     "user_tz": -540
    },
    "id": "kRvMbN_YSuWn",
    "outputId": "e5ba5b77-7724-4331-eb45-a90febf692b0"
   },
   "outputs": [
    {
     "data": {
      "text/plain": [
       "[<matplotlib.lines.Line2D at 0x7f7f735c0d50>]"
      ]
     },
     "execution_count": 15,
     "metadata": {},
     "output_type": "execute_result"
    },
    {
     "data": {
      "image/png": "[encoded data removed]",
      "text/plain": [
       "<Figure size 432x288 with 1 Axes>"
      ]
     },
     "metadata": {
      "needs_background": "light"
     },
     "output_type": "display_data"
    }
   ],
   "source": [
    "pyplot.hist( Xs, density=True )\n",
    "\n",
    "values = np.linspace( 0, 20, 1000 )\n",
    "pdfs = scipy.stats.uniform.pdf(values, a, b-a)\n",
    "pyplot.plot( values, pdfs )"
   ]
  },
  {
   "cell_type": "markdown",
   "metadata": {
    "id": "NlT9fvTNSo7f"
   },
   "source": [
    "# 2. Exponential random variable"
   ]
  },
  {
   "cell_type": "markdown",
   "metadata": {
    "id": "2-GVFhTdI9Nk"
   },
   "source": [
    "Generate exponential random variables $\\text{Exponential}(\\lambda)$, calculate mean and variance, and plot histogram:"
   ]
  },
  {
   "cell_type": "code",
   "execution_count": null,
   "metadata": {
    "colab": {
     "base_uri": "https://localhost:8080/",
     "height": 336
    },
    "executionInfo": {
     "elapsed": 811,
     "status": "ok",
     "timestamp": 1662997265506,
     "user": {
      "displayName": "Seungki Min",
      "userId": "14525492506736966203"
     },
     "user_tz": -540
    },
    "id": "C6YCOOSPJCsR",
    "outputId": "7023fb60-3cae-4364-92ae-0f4ff1b02de5"
   },
   "outputs": [
    {
     "name": "stdout",
     "output_type": "stream",
     "text": [
      "generated random variables = [0.02675638 0.0493566  0.41455144 ... 1.0195984  1.31809435 0.08195579]\n",
      "sample average = 0.336617, mean = 0.333333\n",
      "sample variance = 0.110718, variance = 0.111111\n"
     ]
    },
    {
     "data": {
      "text/plain": [
       "[<matplotlib.lines.Line2D at 0x7f7f722b1cd0>]"
      ]
     },
     "execution_count": 34,
     "metadata": {},
     "output_type": "execute_result"
    },
    {
     "data": {
      "image/png": "[encoded data removed]",
      "text/plain": [
       "<Figure size 432x288 with 1 Axes>"
      ]
     },
     "metadata": {
      "needs_background": "light"
     },
     "output_type": "display_data"
    }
   ],
   "source": [
    "lambda_ = 3\n",
    "Xs = scipy.stats.expon.rvs(scale=1/lambda_, size=10000)\n",
    "print( \"generated random variables =\", Xs )\n",
    "print( \"sample average = %f, mean = %f\" % ( Xs.mean(), 1/lambda_ ) )\n",
    "print( \"sample variance = %f, variance = %f\" % ( Xs.var(), 1/lambda_**2 ) )\n",
    "\n",
    "values = np.linspace( 0, 5, 200 )\n",
    "pyplot.hist( Xs, bins=values, density=True )\n",
    "pdfs = scipy.stats.expon.pdf(values, scale=1/lambda_)\n",
    "pyplot.plot( values, pdfs )"
   ]
  },
  {
   "cell_type": "markdown",
   "metadata": {
    "id": "1XJ7TfXvWymQ"
   },
   "source": [
    "Numerical verification of Exercise (1) in p.12:"
   ]
  },
  {
   "cell_type": "code",
   "execution_count": null,
   "metadata": {
    "colab": {
     "base_uri": "https://localhost:8080/"
    },
    "executionInfo": {
     "elapsed": 2,
     "status": "ok",
     "timestamp": 1662997452493,
     "user": {
      "displayName": "Seungki Min",
      "userId": "14525492506736966203"
     },
     "user_tz": -540
    },
    "id": "YyWYxac-W5iv",
    "outputId": "82970165-ed70-4c53-eeab-16ae0f3b50a8"
   },
   "outputs": [
    {
     "name": "stdout",
     "output_type": "stream",
     "text": [
      "E[(X-t)+] = 8.137266 vs 8.187308\n",
      "E[max(X,t)] = 10.137266 vs 10.187308\n",
      "E[min(X,t)] = 1.809203 vs 1.812692\n"
     ]
    }
   ],
   "source": [
    "lambda_, t = 0.1, 2\n",
    "\n",
    "Xs = scipy.stats.expon.rvs(scale=1/lambda_, size=10000)\n",
    "print( \"E[(X-t)+] = %f vs %f\" % (np.maximum(Xs-t,0).mean(), np.exp(-lambda_*t)/lambda_) )\n",
    "print( \"E[max(X,t)] = %f vs %f\" % (np.maximum(Xs,t).mean(), t+np.exp(-lambda_*t)/lambda_) )\n",
    "print( \"E[min(X,t)] = %f vs %f\" % (np.minimum(Xs,t).mean(), 1/lambda_-np.exp(-lambda_*t)/lambda_) )"
   ]
  },
  {
   "cell_type": "markdown",
   "metadata": {
    "id": "zrsFDyOSX5pf"
   },
   "source": [
    "Numerical verification of Exercise (2) in p.13:"
   ]
  },
  {
   "cell_type": "code",
   "execution_count": null,
   "metadata": {
    "colab": {
     "base_uri": "https://localhost:8080/",
     "height": 283
    },
    "executionInfo": {
     "elapsed": 1149,
     "status": "ok",
     "timestamp": 1662997634654,
     "user": {
      "displayName": "Seungki Min",
      "userId": "14525492506736966203"
     },
     "user_tz": -540
    },
    "id": "5XF8N5mpX9of",
    "outputId": "3720a083-200f-4cd6-f542-9b0afaafaf90"
   },
   "outputs": [
    {
     "data": {
      "text/plain": [
       "[<matplotlib.lines.Line2D at 0x7f7f71a8fa50>]"
      ]
     },
     "execution_count": 45,
     "metadata": {},
     "output_type": "execute_result"
    },
    {
     "data": {
      "image/png": "[encoded data removed]",
      "text/plain": [
       "<Figure size 432x288 with 1 Axes>"
      ]
     },
     "metadata": {
      "needs_background": "light"
     },
     "output_type": "display_data"
    }
   ],
   "source": [
    "lambdax, lambday = 1, 0.5\n",
    "Xs = scipy.stats.expon.rvs(scale=1/lambdax, size=10000)\n",
    "Ys = scipy.stats.expon.rvs(scale=1/lambday, size=10000)\n",
    "\n",
    "values = np.linspace( 0, 5, 200 )\n",
    "pyplot.hist( np.minimum(Xs, Ys), bins=values, density=True )\n",
    "pdfs = scipy.stats.expon.pdf(values, scale=1/(lambdax+lambday))\n",
    "pyplot.plot( values, pdfs )"
   ]
  },
  {
   "cell_type": "markdown",
   "metadata": {
    "id": "kwjVET_ZNehs"
   },
   "source": [
    "# 3. Normal random variable"
   ]
  },
  {
   "cell_type": "code",
   "execution_count": null,
   "metadata": {
    "colab": {
     "base_uri": "https://localhost:8080/",
     "height": 283
    },
    "executionInfo": {
     "elapsed": 1220,
     "status": "ok",
     "timestamp": 1662998572782,
     "user": {
      "displayName": "Seungki Min",
      "userId": "14525492506736966203"
     },
     "user_tz": -540
    },
    "id": "oNnnETFMbqoR",
    "outputId": "86f7984b-c871-48ed-a355-c6afb8b8f40d"
   },
   "outputs": [
    {
     "data": {
      "text/plain": [
       "[<matplotlib.lines.Line2D at 0x7f7f71b6ed10>]"
      ]
     },
     "execution_count": 49,
     "metadata": {},
     "output_type": "execute_result"
    },
    {
     "data": {
      "image/png": "[encoded data removed]",
      "text/plain": [
       "<Figure size 432x288 with 1 Axes>"
      ]
     },
     "metadata": {
      "needs_background": "light"
     },
     "output_type": "display_data"
    }
   ],
   "source": [
    "mu, sigma = 2, 1\n",
    "Xs = scipy.stats.norm.rvs(mu, sigma, size=10000)\n",
    "\n",
    "values = np.linspace( mu-5*sigma, mu+5*sigma, 200 )\n",
    "pyplot.hist( Xs, bins=values, density=True )\n",
    "\n",
    "pdfs = scipy.stats.norm.pdf( values, mu, sigma )\n",
    "pyplot.plot( values, pdfs )"
   ]
  },
  {
   "cell_type": "markdown",
   "metadata": {
    "id": "6sWZ-v6lYt7E"
   },
   "source": [
    "# 4. Inverse Transformation Method"
   ]
  },
  {
   "cell_type": "markdown",
   "metadata": {
    "id": "_7tBxA3_U6K2"
   },
   "source": [
    "Generate exponential random variables using inverse transformation method: $X = -\\log(1-U)/\\lambda$"
   ]
  },
  {
   "cell_type": "code",
   "execution_count": null,
   "metadata": {
    "colab": {
     "base_uri": "https://localhost:8080/",
     "height": 283
    },
    "executionInfo": {
     "elapsed": 518,
     "status": "ok",
     "timestamp": 1662997254290,
     "user": {
      "displayName": "Seungki Min",
      "userId": "14525492506736966203"
     },
     "user_tz": -540
    },
    "id": "4DFvr6i8VEKD",
    "outputId": "e8004b97-d511-44c3-fa93-373b7c8b595a"
   },
   "outputs": [
    {
     "data": {
      "text/plain": [
       "[<matplotlib.lines.Line2D at 0x7f7f724f7d50>]"
      ]
     },
     "execution_count": 33,
     "metadata": {},
     "output_type": "execute_result"
    },
    {
     "data": {
      "image/png": "[encoded data removed]",
      "text/plain": [
       "<Figure size 432x288 with 1 Axes>"
      ]
     },
     "metadata": {
      "needs_background": "light"
     },
     "output_type": "display_data"
    }
   ],
   "source": [
    "Us = scipy.stats.uniform.rvs(size=10000)\n",
    "Xs = -np.log(1-Us)/lambda_\n",
    "\n",
    "values = np.linspace( 0, 5, 200 )\n",
    "pyplot.hist( Xs, bins=values, density=True )\n",
    "pdfs = scipy.stats.expon.pdf(values, scale=1/lambda_)\n",
    "pyplot.plot( values, pdfs )"
   ]
  },
  {
   "cell_type": "markdown",
   "metadata": {
    "id": "FGfWCOZ8AvOz"
   },
   "source": [
    "Generate normal random variables using inverse transformation method: we can compute $F^{-1}(x)$ using scipy.stats.norm.ppf()"
   ]
  },
  {
   "cell_type": "code",
   "execution_count": 6,
   "metadata": {
    "colab": {
     "base_uri": "https://localhost:8080/",
     "height": 283
    },
    "executionInfo": {
     "elapsed": 1240,
     "status": "ok",
     "timestamp": 1663041916157,
     "user": {
      "displayName": "Seungki Min",
      "userId": "14525492506736966203"
     },
     "user_tz": -540
    },
    "id": "745mKGDTAxSE",
    "outputId": "f625a756-9e71-45f2-8b91-bf2497d827cc"
   },
   "outputs": [
    {
     "data": {
      "text/plain": [
       "[<matplotlib.lines.Line2D at 0x7f6c5ea43910>]"
      ]
     },
     "execution_count": 6,
     "metadata": {},
     "output_type": "execute_result"
    },
    {
     "data": {
      "image/png": "[encoded data removed]",
      "text/plain": [
       "<Figure size 432x288 with 1 Axes>"
      ]
     },
     "metadata": {
      "needs_background": "light"
     },
     "output_type": "display_data"
    }
   ],
   "source": [
    "mu, sigma = 2, 1\n",
    "Us = scipy.stats.uniform.rvs(size=10000)\n",
    "Xs = scipy.stats.norm.ppf( Us, loc=mu, scale=sigma )\n",
    "\n",
    "values = np.linspace( mu-5*sigma, mu+5*sigma, 200 )\n",
    "pyplot.hist( Xs, bins=values, density=True )\n",
    "pdfs = scipy.stats.norm.pdf(values, loc=mu, scale=sigma )\n",
    "pyplot.plot( values, pdfs )"
   ]
  }
 ],
 "metadata": {
  "colab": {
   "authorship_tag": "ABX9TyO0L9rSIZJx/bpg5BZRTHLx",
   "collapsed_sections": [],
   "provenance": []
  },
  "kernelspec": {
   "display_name": "Python 3 (ipykernel)",
   "language": "python",
   "name": "python3"
  },
  "language_info": {
   "codemirror_mode": {
    "name": "ipython",
    "version": 3
   },
   "file_extension": ".py",
   "mimetype": "text/x-python",
   "name": "python",
   "nbconvert_exporter": "python",
   "pygments_lexer": "ipython3",
   "version": "3.9.13"
  }
 },
 "nbformat": 4,
 "nbformat_minor": 4
}
